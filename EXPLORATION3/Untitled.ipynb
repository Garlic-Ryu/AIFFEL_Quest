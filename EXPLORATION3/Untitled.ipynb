{
 "cells": [
  {
   "cell_type": "markdown",
   "id": "fed09136",
   "metadata": {},
   "source": [
    "평가문항\t상세기준\n",
    "1. 자기만의 카메라앱 기능 구현을 완수하였다.\t얼굴 영역과 랜드마크를 정확하게 검출하고, 스티커 사진을 합성시키는 데 성공하였다.\n",
    "2. 스티커 이미지를 정확한 원본 위치에 반영하였다.\t정확한 좌표계산을 통해 고양이 수염의 위치가 원본 얼굴에 잘 어울리게 출력되었다.\n",
    "3. 카메라 스티커앱을 다양한 원본이미지에 적용했을 때의 문제점을 체계적으로 분석하였다.\t얼굴각도, 이미지 밝기, 촬영거리 등 다양한 변수에 따른 영향도를 보고서에 체계적으로 분석하였다."
   ]
  },
  {
   "cell_type": "code",
   "execution_count": null,
   "id": "63e15237",
   "metadata": {},
   "outputs": [],
   "source": [
    "#패키지 로딩하기\n",
    "import matplotlib.pyplot as pit\n",
    "import numpy as np\n",
    "import cv2\n",
    "import dlib\n",
    "import os"
   ]
  },
  {
   "cell_type": "markdown",
   "id": "cc4b4f54",
   "metadata": {},
   "source": [
    "Step 1. 스티커 구하기 or 만들기\n",
    "스티커를 만들거나 구해야합니다. PPT, 포토샵 등을 이용해서 직접 만드셔도 좋습니다. 보다 간단한 방법은 픽토그램 아이콘을 이용하면 쉽게 만들 수 있습니다.\n",
    "\n",
    "고양이는 사랑스럽기 때문에 고양이 수염 스티커를 붙여보겠습니다."
   ]
  },
  {
   "cell_type": "code",
   "execution_count": 1,
   "id": "d4e6f9a0",
   "metadata": {},
   "outputs": [
    {
     "ename": "SyntaxError",
     "evalue": "invalid syntax (2619062263.py, line 1)",
     "output_type": "error",
     "traceback": [
      "\u001b[0;36m  File \u001b[0;32m\"/tmp/ipykernel_50/2619062263.py\"\u001b[0;36m, line \u001b[0;32m1\u001b[0m\n\u001b[0;31m    img_path = os.getenv(\"Home\") +\u001b[0m\n\u001b[0m                                   ^\u001b[0m\n\u001b[0;31mSyntaxError\u001b[0m\u001b[0;31m:\u001b[0m invalid syntax\n"
     ]
    }
   ],
   "source": [
    "img_path = os.getenv(\"Home\") + \"/aiffel/camera_sticker/images/cat-whiskers.png\"\n",
    "img_read = cv2.imread(img_path)\n",
    "img_resize = cv2.resize(img_read, (640, 360))\n",
    "img_rgb = cv2.cvtColor(img_resize, cv2.COLOR_BGR2RGB)\n",
    "img_show = img_rgb.copy()"
   ]
  },
  {
   "cell_type": "markdown",
   "id": "4407366d",
   "metadata": {},
   "source": [
    "Step 2. 얼굴 검출 & 랜드마크 검출 하기\n",
    "오늘 배운 dlib을 이용해서 얼굴의 bounding box 위치와 landmark의 위치를 찾아주세요."
   ]
  },
  {
   "cell_type": "code",
   "execution_count": null,
   "id": "a7eaa46d",
   "metadata": {},
   "outputs": [],
   "source": []
  },
  {
   "cell_type": "code",
   "execution_count": null,
   "id": "26d0fe23",
   "metadata": {},
   "outputs": [],
   "source": []
  },
  {
   "cell_type": "code",
   "execution_count": null,
   "id": "eb190399",
   "metadata": {},
   "outputs": [],
   "source": [
    "Step 3. 스티커 적용 위치 확인하기\n",
    "고양이 수염이 적용 될 위치를 landmark를 사용해서 계산해 주세요."
   ]
  },
  {
   "cell_type": "code",
   "execution_count": null,
   "id": "c86eb750",
   "metadata": {},
   "outputs": [],
   "source": []
  },
  {
   "cell_type": "code",
   "execution_count": null,
   "id": "6563b7ea",
   "metadata": {},
   "outputs": [],
   "source": []
  },
  {
   "cell_type": "code",
   "execution_count": null,
   "id": "b72247f3",
   "metadata": {},
   "outputs": [],
   "source": [
    "Step 4. 스티커 적용하기\n",
    "(1) 오늘 배운 np.where 를 사용해서 스티커를 적용해 주세요.\n",
    "\n",
    "(2) 스티커를 조금 더 자연스럽게 보이게 하려면 어떻게 해야 할까요? 스티커 뒤로 원본 이미지가 같이 보이도록 만들어 봅시다. opencv 의 cv2.addWeighted() 를 참고하세요."
   ]
  },
  {
   "cell_type": "code",
   "execution_count": null,
   "id": "b3176bfb",
   "metadata": {},
   "outputs": [],
   "source": []
  },
  {
   "cell_type": "code",
   "execution_count": null,
   "id": "db091df3",
   "metadata": {},
   "outputs": [],
   "source": []
  },
  {
   "cell_type": "code",
   "execution_count": null,
   "id": "12ef59d1",
   "metadata": {},
   "outputs": [],
   "source": [
    "Step 5. 문제점 찾아보기\n",
    "(1) 셀프 카메라를 다양한 각도에서 촬영하면서 스티커를 반복해서 적용해 보세요.\n",
    "\n",
    "(2) 문제점이 무엇인지 최대한 자세하게 기록해 보세요. 여러분이 생각한 문제점을 해결하기 위한 방법은 분명 존재합니다!\n",
    "\n",
    "얼굴 각도에 따라 스티커가 어떻게 변해야할까요?\n",
    "멀리서 촬영하면 왜 안될까요? 옆으로 누워서 촬영하면 왜 안될까요?\n",
    "실행 속도가 중요할까요?\n",
    "스티커앱을 만들 때 정확도가 얼마나 중요할까요?"
   ]
  }
 ],
 "metadata": {
  "kernelspec": {
   "display_name": "Python 3 (ipykernel)",
   "language": "python",
   "name": "python3"
  },
  "language_info": {
   "codemirror_mode": {
    "name": "ipython",
    "version": 3
   },
   "file_extension": ".py",
   "mimetype": "text/x-python",
   "name": "python",
   "nbconvert_exporter": "python",
   "pygments_lexer": "ipython3",
   "version": "3.9.7"
  }
 },
 "nbformat": 4,
 "nbformat_minor": 5
}
