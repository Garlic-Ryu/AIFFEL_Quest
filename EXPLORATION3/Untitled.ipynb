{
 "cells": [
  {
   "cell_type": "markdown",
   "id": "77cba79f",
   "metadata": {},
   "source": [
    "평가문항\t상세기준\n",
    "1. 자기만의 카메라앱 기능 구현을 완수하였다.\t얼굴 영역과 랜드마크를 정확하게 검출하고, 스티커 사진을 합성시키는 데 성공하였다.\n",
    "2. 스티커 이미지를 정확한 원본 위치에 반영하였다.\t정확한 좌표계산을 통해 고양이 수염의 위치가 원본 얼굴에 잘 어울리게 출력되었다.\n",
    "3. 카메라 스티커앱을 다양한 원본이미지에 적용했을 때의 문제점을 체계적으로 분석하였다.\t얼굴각도, 이미지 밝기, 촬영거리 등 다양한 변수에 따른 영향도를 보고서에 체계적으로 분석하였다."
   ]
  },
  {
   "cell_type": "code",
   "execution_count": null,
   "id": "1a9309ee",
   "metadata": {},
   "outputs": [],
   "source": [
    "#패키지 로딩하기\n",
    "import matplotlib.pyplot as pit\n",
    "import numpy as np\n",
    "import cv2\n",
    "import dlib\n",
    "import os"
   ]
  },
  {
   "cell_type": "markdown",
   "id": "9069e520",
   "metadata": {},
   "source": [
    "# Step 1. 스티커 구하기 or 만들기\n",
    "스티커를 만들거나 구해야합니다. PPT, 포토샵 등을 이용해서 직접 만드셔도 좋습니다. 보다 간단한 방법은 픽토그램 아이콘을 이용하면 쉽게 만들 수 있습니다.\n",
    "\n",
    "고양이는 사랑스럽기 때문에 고양이 수염 스티커를 붙여보겠습니다."
   ]
  },
  {
   "cell_type": "code",
   "execution_count": null,
   "id": "b414e339",
   "metadata": {},
   "outputs": [],
   "source": [
    "img_path = os.getenv(\"HOME\") + \"/aiffel/camera_sticker/images/myface.jpg\"\n",
    "img_bgr = cv2.imread(img_path)\n",
    "img_resize = cv2.resize(img_bgr, (640, 360))\n",
    "img_rgb = cv2.cvtColor(img_resize, cv2.COLOR_BGR2RGB)\n",
    "img_show = img_rgb.copy()\n",
    "plt.imshow(img_show)\n",
    "plt.show()"
   ]
  },
  {
   "cell_type": "code",
   "execution_count": null,
   "id": "69750cc4",
   "metadata": {},
   "outputs": [],
   "source": [
    "img_path = os.getenv(\"Home\") + \"/aiffel/camera_sticker/images/cat-whiskers.png\"\n",
    "img_bgr = cv2.imread(img_path)\n",
    "img_resize = cv2.resize(img_bgr, (640, 360))\n",
    "img_rgb = cv2.cvtColor(img_resize, cv2.COLOR_BGR2RGB)\n",
    "img_show = img_rgb.copy()\n",
    "plt.imshow(img_show)\n",
    "plt.show()"
   ]
  },
  {
   "cell_type": "markdown",
   "id": "a7162fa3",
   "metadata": {},
   "source": [
    "# Step 2. 얼굴 검출 & 랜드마크 검출 하기\n",
    "오늘 배운 dlib을 이용해서 얼굴의 bounding box 위치와 landmark의 위치를 찾아주세요."
   ]
  },
  {
   "cell_type": "markdown",
   "id": "6cde7216",
   "metadata": {},
   "source": [
    "## 얼굴 검출"
   ]
  },
  {
   "cell_type": "code",
   "execution_count": null,
   "id": "3f093953",
   "metadata": {},
   "outputs": [],
   "source": [
    "# detector를 선언합니다\n",
    "detector_hog = dlib.get_frontal_face_detector()\n",
    "dlib_rects = detector_hog(img_rgb, 1)\n",
    "print(dlib_rects)   # 얼굴 영역을 잡아서 영역 출력\n",
    "\n",
    "for dlib_rect in dlib_rects:\n",
    "    l = dlib_rect.left()\n",
    "    t = dlib_rect.top()\n",
    "    r = dlib_rect.right()\n",
    "    b = dlib_rect.bottom()\n",
    "\n",
    "cv2.rectangle(img_show, (l,t), (r,b), (0,255,0), 2, lineType=cv2.LINE_AA)\n",
    "\n",
    "img_show_rgb =  cv2.cvtColor(img_show, cv2.COLOR_BGR2RGB)\n",
    "plt.imshow(img_show_rgb)\n",
    "plt.show()"
   ]
  },
  {
   "cell_type": "markdown",
   "id": "75e49dfb",
   "metadata": {},
   "source": [
    "## 랜드마크 검출"
   ]
  },
  {
   "cell_type": "code",
   "execution_count": null,
   "id": "be64d43f",
   "metadata": {},
   "outputs": [],
   "source": [
    "model_path = os.getenv('HOME')+\\\n",
    "'/aiffel/camera_sticker/models/shape_predictor_68_face_landmarks.dat'\n",
    "# 저장한 landmark 모델의 주소를 model_path 변수에 저장\n",
    "landmark_predictor = dlib.shape_predictor(model_path)\n",
    "\n",
    "list_landmarks = []\n",
    "for dlib_rect in dlib_rects:\n",
    "    points = landmark_predictor(img_rgb, dlib_rect)\n",
    "    list_points = list(map(lambda p: (p.x, p.y), points.parts()))\n",
    "    list_landmarks.append(list_points)\n",
    "\n",
    "print(len(list_landmarks[0])) # 얼굴에서 68개의 랜드마크를 모두 검출하면 68 출력\n",
    "\n",
    "for landmark in list_landmarks:\n",
    "    for idx, point in enumerate(list_points):\n",
    "        cv2.circle(img_show, point, 2, (0, 255, 255), -1)\n",
    "\n",
    "img_show_rgb = cv2.cvtColor(img_show, cv2.COLOR_BGR2RGB)\n",
    "plt.imshow(img_show_rgb)\n",
    "plt.show()"
   ]
  },
  {
   "cell_type": "markdown",
   "id": "b0b1c3e2",
   "metadata": {},
   "source": [
    "## Step 3. 스티커 적용 위치 확인하기\n",
    "고양이 수염이 적용 될 위치를 landmark를 사용해서 계산해 주세요."
   ]
  },
  {
   "cell_type": "code",
   "execution_count": null,
   "id": "ecf0ce8b",
   "metadata": {},
   "outputs": [],
   "source": [
    "for dlib_rect, landmark in zip(dlib_rects, list_landmarks):\n",
    "    x = landmark[37][0] - 5\n",
    "    y = landmark[37][1] - 8\n",
    "    \n",
    "    w = dlib_rect.width()\n",
    "    h = dlib_rect.width()\n",
    "    \n",
    "    print ('(x,y) : (%d,%d)'%(x,y))\n",
    "    print ('(w,h) : (%d,%d)'%(w,h))\n",
    "\n",
    "sticker_path = os.getenv('HOME')+\\\n",
    "'/aiffel/camera_sticker/images/cat-whiskers.png' # 스티커 이미지 경로\n",
    "img_sticker = cv2.imread(sticker_path)\n",
    "img_sticker = cv2.resize(img_sticker, (w // 2,h // 2))\n",
    "print (img_sticker.shape)\n",
    "\n",
    "sticker_area = img_show[y:y+img_sticker.shape[0], x:x+img_sticker.shape[1]]\n",
    "print(sticker_area.shape)\n",
    "\n",
    "img_show[y:y+img_sticker.shape[0], x:x+img_sticker.shape[1]] = \\\n",
    "    np.where(img_sticker==0,img_sticker, sticker_area).astype(np.uint8)\n",
    "\n",
    "plt.imshow(cv2.cvtColor(img_show, cv2.COLOR_BGR2RGB))\n",
    "plt.show()"
   ]
  },
  {
   "cell_type": "code",
   "execution_count": null,
   "id": "fbb085c8",
   "metadata": {},
   "outputs": [],
   "source": [
    "sticker_area = img_bgr[y:y+img_sticker.shape[0], x:x+img_sticker.shape[1]]\n",
    "img_bgr[y:y+img_sticker.shape[0], x:x+img_sticker.shape[1]] = \\\n",
    "    np.where(img_sticker==0,img_sticker,sticker_area).astype(np.uint8)\n",
    "plt.imshow(cv2.cvtColor(img_bgr, cv2.COLOR_BGR2RGB))\n",
    "plt.show()"
   ]
  },
  {
   "cell_type": "markdown",
   "id": "5e0691eb",
   "metadata": {},
   "source": [
    "## Step 4. 스티커 적용하기\n",
    "(1) 오늘 배운 np.where 를 사용해서 스티커를 적용해 주세요.\n",
    "\n",
    "(2) 스티커를 조금 더 자연스럽게 보이게 하려면 어떻게 해야 할까요? 스티커 뒤로 원본 이미지가 같이 보이도록 만들어 봅시다. opencv 의 cv2.addWeighted() 를 참고하세요."
   ]
  },
  {
   "cell_type": "code",
   "execution_count": null,
   "id": "7c7cb7df",
   "metadata": {},
   "outputs": [],
   "source": []
  },
  {
   "cell_type": "code",
   "execution_count": null,
   "id": "2cd8ebb7",
   "metadata": {},
   "outputs": [],
   "source": []
  },
  {
   "cell_type": "code",
   "execution_count": null,
   "id": "7d71f36a",
   "metadata": {},
   "outputs": [],
   "source": [
    "Step 5. 문제점 찾아보기\n",
    "(1) 셀프 카메라를 다양한 각도에서 촬영하면서 스티커를 반복해서 적용해 보세요.\n",
    "\n",
    "(2) 문제점이 무엇인지 최대한 자세하게 기록해 보세요. 여러분이 생각한 문제점을 해결하기 위한 방법은 분명 존재합니다!\n",
    "\n",
    "얼굴 각도에 따라 스티커가 어떻게 변해야할까요?\n",
    "멀리서 촬영하면 왜 안될까요? 옆으로 누워서 촬영하면 왜 안될까요?\n",
    "실행 속도가 중요할까요?\n",
    "스티커앱을 만들 때 정확도가 얼마나 중요할까요?"
   ]
  }
 ],
 "metadata": {
  "kernelspec": {
   "display_name": "Python 3 (ipykernel)",
   "language": "python",
   "name": "python3"
  },
  "language_info": {
   "codemirror_mode": {
    "name": "ipython",
    "version": 3
   },
   "file_extension": ".py",
   "mimetype": "text/x-python",
   "name": "python",
   "nbconvert_exporter": "python",
   "pygments_lexer": "ipython3",
   "version": "3.9.7"
  }
 },
 "nbformat": 4,
 "nbformat_minor": 5
}
