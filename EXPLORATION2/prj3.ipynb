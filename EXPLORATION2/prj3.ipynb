{
 "cells": [
  {
   "cell_type": "markdown",
   "metadata": {
    "id": "DeHpGYy2c54f"
   },
   "source": [
    "# **4-1. 프로젝트 : This is your playground! Leaderboard를 정복해 주세요!**\n",
    "\n",
    "여기서 잠깐, 물론 캐글에서의 성적 또는 모델의 성능을 최대화 하기 위한 방법에는 하이퍼 파라미터 튜닝만 있는 것은 절대 아닙니다.\n",
    "앞선 과정에서 배웠거나 앞으로 배울 내용에서도 다루듯 모델의 성능을 최적화하는 방법은 매우 많고 지금도 끊임없이 연구되고 있습니다.\n",
    "\n",
    "예를 들면 가장 기본적으로는 데이터를 깊게 탐색하는 **EDA** 과정을 통해 불필요한 피처를 골라내거나 적절하게 피처를 수정하는 등의 피처 엔지니어링을 진행함으로써 데이터를 정제하는 것이 매우 중요합니다. 데이터가 무엇이냐에 따라, 그리고 그 데이터를 어떻게 정제하느냐에 따라 모델의 파라미터를 튜닝하는 것만으로는 절대 얻을 수 없는 성능 향상이 이루어질 수 있습니다.\n",
    "\n",
    "오늘은 이렇게 다양한 방법론 중 하이퍼 파라미터 튜닝에 집중해서 모델의 성능을 최대한 끌어올려보지만, 튜닝은 최적화 방법 중 하나일 뿐이라는 것을 잊지 마세요!"
   ]
  },
  {
   "cell_type": "code",
   "execution_count": 1,
   "metadata": {
    "colab": {
     "base_uri": "https://localhost:8080/"
    },
    "id": "GG1X2dL6csKp",
    "outputId": "5bd75775-0b20-452a-d1a3-4a16348fb51c"
   },
   "outputs": [
    {
     "name": "stderr",
     "output_type": "stream",
     "text": [
      "/opt/conda/lib/python3.9/site-packages/pkg_resources/__init__.py:122: PkgResourcesDeprecationWarning: 0.996-ko-0.9.2 is an invalid version and will not be supported in a future release\n",
      "  warnings.warn(\n"
     ]
    },
    {
     "name": "stdout",
     "output_type": "stream",
     "text": [
      "1.4.2\n",
      "3.3.0\n",
      "0.5.0\n",
      "1.0\n"
     ]
    }
   ],
   "source": [
    "import xgboost\n",
    "import lightgbm\n",
    "import missingno\n",
    "import sklearn\n",
    "\n",
    "print(xgboost.__version__)\n",
    "print(lightgbm.__version__)\n",
    "print(missingno.__version__)\n",
    "print(sklearn.__version__)"
   ]
  },
  {
   "cell_type": "markdown",
   "metadata": {
    "id": "zX2y2BaZdJlm"
   },
   "source": [
    "# ✓ 튜닝해볼 수 있는 모델 클래스 인자\n",
    "---\n",
    "대표적으로 자주 튜닝하는 lightgbm 라이브러리의 인자는 다음과 같습니다.\n",
    "\n",
    "- max_depth : 의사 결정 나무의 깊이, 정수 사용\n",
    "- learning_rate : 한 스텝에 이동하는 양을 결정하는 파라미터, 보통 0.0001~0.1 사이의 실수 사용\n",
    "- n_estimators : 사용하는 개별 모델의 개수, 보통 50~100 이상의 정수 사용\n",
    "- num_leaves : 하나의 LightGBM 트리가 가질 수 있는 최대 잎의 수\n",
    "- boosting_type : 부스팅 방식, gbdt, rf 등의 문자열 입력\n",
    "\n",
    "위에서 저는 `n_estimators`와 `max_depth` 에 대해서만 아주 간단하게 실험했지만, 훨씬 더 다양하게 실험을 하며 최적의 조합을 찾아볼 수 있습니다.\n",
    "실제로 `lightgbm`에 넣을 수 있는 인자는 아래 자료들에서 설명하는 것처럼 매우 다양합니다.\n",
    "\n",
    "- [lightGBM / XGBoost 파라미터 설명](http://machinelearningkorea.com/2019/09/29/lightgbm-%ED%8C%8C%EB%9D%BC%EB%AF%B8%ED%84%B0/)\n",
    "- [Chapter 4. 분류 - LightGBM](https://injo.tistory.com/48)\n",
    "\n",
    "실험 과정에서는 물론 위에서 만들었던 my_GridSearch(), save_submission() 등의 함수를 사용해도 되고, 혹은 여러분이 원하는 새로운 함수를 만들어서 사용해도 됩니다!\n",
    "\n",
    "# ✓ 시도해볼 수 있는 방법\n",
    "---\n",
    "여러분이 시도해볼 수 있는 방법은 다음과 같은 것들이 있습니다.\n",
    "\n",
    "- 기존에 있는 데이터의 피처를 모델을 보다 잘 표현할 수 있는 형태로 처리하기 (피처 엔지니어링)\n",
    "- LGBMRegressor, XGBRegressor, RandomForestRegressor 세 가지 이상의 다양한 모델에 대해 하이퍼 파라미터 튜닝하기\n",
    "- 다양한 하이퍼 파라미터에 대해 그리드 탐색을 시도해서 최적의 조합을 찾아보기\n",
    "- Baseline 커널에서 활용했던 블렌딩 방법 활용하기\n",
    "\n",
    "물론 이 외에도 좋은 아이디어가 있다면 당연히 시도해보는 것도 좋습니다. 자유롭게 여러 가지 방법을 활용해서 점수를 끌어올려 보세요!\n",
    "참고로, 진행하면서 도움이 될 수 있는 가장 좋은 자료는 이미 대회를 진행한 사람들이 올려둔 커널입니다.\n",
    "\n",
    "- https://www.kaggle.com/c/2019-2nd-ml-month-with-kakr/notebooks\n",
    "\n",
    "아주 다양하게 데이터를 탐색해 본 커널도 있고, 상위권을 달성한 커널은 오늘 다루지 않은 스태킹 앙상블(stacking ensemble) 등의 기법을 활용한 커널을 활용하기도 합니다. 한 번씩 구경해보고 다른 사람들은 어떤 전략으로 성능을 끌어올렸는지 공부해보는 것도 매우 좋을 겁니다!\n",
    "\n",
    "여러 가지 실험을 해보고 결과 csv는 캐글에, 사용한 노트북은 깃허브(GitHub)를 통해 이곳에 제출해 주세요. 제출한 노트북에는 본인의 캐글 Submission 스코어를 기재해 주시기 바랍니다.\n",
    "\n",
    "# 프로젝트 루브릭\n",
    "---\n",
    "- 데이터 전처리, 모델학습, 예측의 전체 과정을 거쳐 캐글 submission까지 전과정이 성공적으로 진행되었는가?\n",
    "- 제출된 노트북이 캐글 커널로 사용될 수 있을 만큼 전처리, 학습, 최적화 진행 과정이 체계적으로 기술되었는가?\n",
    "- 다양한 피처 엔지니어링과 하이퍼 파라미터 튜닝 등의 최적화 기법을 통해 캐글 리더보드의 Private score 기준 110000 이하의 점수를 얻었는가?"
   ]
  },
  {
   "cell_type": "markdown",
   "metadata": {
    "id": "D1HeMMWombN5"
   },
   "source": [
    "# 1. 데이터 호출 및 EDA"
   ]
  },
  {
   "cell_type": "code",
   "execution_count": 6,
   "metadata": {
    "id": "ExLZ4VdzfswW"
   },
   "outputs": [],
   "source": [
    "#라이브러리 갖고오기\n",
    "\n",
    "import warnings\n",
    "warnings.filterwarnings(\"ignore\")\n",
    "\n",
    "import os\n",
    "from os.path import join\n",
    "\n",
    "import pandas as pd\n",
    "import numpy as np\n",
    "\n",
    "import missingno as msno\n",
    "\n",
    "from sklearn.ensemble import GradientBoostingRegressor\n",
    "from sklearn.model_selection import KFold, cross_val_score\n",
    "import xgboost as xgb\n",
    "import lightgbm as lgb\n",
    "\n",
    "import matplotlib.pyplot as plt\n",
    "import seaborn as sns\n",
    "\n",
    "from scipy.stats import norm #Analysis\n",
    "from sklearn.preprocessing import StandardScaler #Analysis\n",
    "from scipy import stats #Analysis"
   ]
  },
  {
   "cell_type": "code",
   "execution_count": 7,
   "metadata": {
    "colab": {
     "base_uri": "https://localhost:8080/"
    },
    "id": "iVGEYmH0fnKo",
    "outputId": "12fd518f-6a18-4a1d-bc77-8a77ad18d392"
   },
   "outputs": [
    {
     "name": "stdout",
     "output_type": "stream",
     "text": [
      "/aiffel/aiffel/kaggle_kakr_housing/data/train.csv\n",
      "/aiffel/aiffel/kaggle_kakr_housing/data/test.csv\n"
     ]
    }
   ],
   "source": [
    "data_dir = os.getenv(\"HOME\") + '/aiffel/kaggle_kakr_housing/data'\n",
    "# hint : os.getenv를 사용하거나 직접 경로를 작성\n",
    "\n",
    "train_data_path = join(data_dir, 'train.csv')\n",
    "sub_data_path = join(data_dir, 'test.csv')      # 테스트, 즉 submission 시 사용할 데이터 경로\n",
    "\n",
    "print(train_data_path)\n",
    "print(sub_data_path)"
   ]
  },
  {
   "cell_type": "code",
   "execution_count": 8,
   "metadata": {
    "id": "cT2Zw_0fgBI9"
   },
   "outputs": [],
   "source": [
    "#데이터 호출\n",
    "df_train = pd.read_csv(train_data_path)\n",
    "df_test = pd.read_csv(sub_data_path)"
   ]
  },
  {
   "cell_type": "code",
   "execution_count": 9,
   "metadata": {
    "colab": {
     "base_uri": "https://localhost:8080/"
    },
    "id": "HNTXVUffgDqF",
    "outputId": "f3a34107-9ce9-40d4-f304-e991f57f4aa2"
   },
   "outputs": [
    {
     "name": "stdout",
     "output_type": "stream",
     "text": [
      "(15035, 21)\n",
      "(6468, 20)\n"
     ]
    }
   ],
   "source": [
    "# 데이터 shape확인\n",
    "print(df_train.shape)\n",
    "print(df_test.shape)"
   ]
  },
  {
   "cell_type": "code",
   "execution_count": 10,
   "metadata": {
    "colab": {
     "base_uri": "https://localhost:8080/",
     "height": 256
    },
    "id": "rykQPlz5mOC2",
    "outputId": "bd665616-53b1-4166-843a-5ceced55e167"
   },
   "outputs": [
    {
     "data": {
      "text/html": [
       "<div>\n",
       "<style scoped>\n",
       "    .dataframe tbody tr th:only-of-type {\n",
       "        vertical-align: middle;\n",
       "    }\n",
       "\n",
       "    .dataframe tbody tr th {\n",
       "        vertical-align: top;\n",
       "    }\n",
       "\n",
       "    .dataframe thead th {\n",
       "        text-align: right;\n",
       "    }\n",
       "</style>\n",
       "<table border=\"1\" class=\"dataframe\">\n",
       "  <thead>\n",
       "    <tr style=\"text-align: right;\">\n",
       "      <th></th>\n",
       "      <th>id</th>\n",
       "      <th>date</th>\n",
       "      <th>price</th>\n",
       "      <th>bedrooms</th>\n",
       "      <th>bathrooms</th>\n",
       "      <th>sqft_living</th>\n",
       "      <th>sqft_lot</th>\n",
       "      <th>floors</th>\n",
       "      <th>waterfront</th>\n",
       "      <th>view</th>\n",
       "      <th>...</th>\n",
       "      <th>grade</th>\n",
       "      <th>sqft_above</th>\n",
       "      <th>sqft_basement</th>\n",
       "      <th>yr_built</th>\n",
       "      <th>yr_renovated</th>\n",
       "      <th>zipcode</th>\n",
       "      <th>lat</th>\n",
       "      <th>long</th>\n",
       "      <th>sqft_living15</th>\n",
       "      <th>sqft_lot15</th>\n",
       "    </tr>\n",
       "  </thead>\n",
       "  <tbody>\n",
       "    <tr>\n",
       "      <th>0</th>\n",
       "      <td>0</td>\n",
       "      <td>20141013T000000</td>\n",
       "      <td>221900.0</td>\n",
       "      <td>3</td>\n",
       "      <td>1.00</td>\n",
       "      <td>1180</td>\n",
       "      <td>5650</td>\n",
       "      <td>1.0</td>\n",
       "      <td>0</td>\n",
       "      <td>0</td>\n",
       "      <td>...</td>\n",
       "      <td>7</td>\n",
       "      <td>1180</td>\n",
       "      <td>0</td>\n",
       "      <td>1955</td>\n",
       "      <td>0</td>\n",
       "      <td>98178</td>\n",
       "      <td>47.5112</td>\n",
       "      <td>-122.257</td>\n",
       "      <td>1340</td>\n",
       "      <td>5650</td>\n",
       "    </tr>\n",
       "    <tr>\n",
       "      <th>1</th>\n",
       "      <td>1</td>\n",
       "      <td>20150225T000000</td>\n",
       "      <td>180000.0</td>\n",
       "      <td>2</td>\n",
       "      <td>1.00</td>\n",
       "      <td>770</td>\n",
       "      <td>10000</td>\n",
       "      <td>1.0</td>\n",
       "      <td>0</td>\n",
       "      <td>0</td>\n",
       "      <td>...</td>\n",
       "      <td>6</td>\n",
       "      <td>770</td>\n",
       "      <td>0</td>\n",
       "      <td>1933</td>\n",
       "      <td>0</td>\n",
       "      <td>98028</td>\n",
       "      <td>47.7379</td>\n",
       "      <td>-122.233</td>\n",
       "      <td>2720</td>\n",
       "      <td>8062</td>\n",
       "    </tr>\n",
       "    <tr>\n",
       "      <th>2</th>\n",
       "      <td>2</td>\n",
       "      <td>20150218T000000</td>\n",
       "      <td>510000.0</td>\n",
       "      <td>3</td>\n",
       "      <td>2.00</td>\n",
       "      <td>1680</td>\n",
       "      <td>8080</td>\n",
       "      <td>1.0</td>\n",
       "      <td>0</td>\n",
       "      <td>0</td>\n",
       "      <td>...</td>\n",
       "      <td>8</td>\n",
       "      <td>1680</td>\n",
       "      <td>0</td>\n",
       "      <td>1987</td>\n",
       "      <td>0</td>\n",
       "      <td>98074</td>\n",
       "      <td>47.6168</td>\n",
       "      <td>-122.045</td>\n",
       "      <td>1800</td>\n",
       "      <td>7503</td>\n",
       "    </tr>\n",
       "    <tr>\n",
       "      <th>3</th>\n",
       "      <td>3</td>\n",
       "      <td>20140627T000000</td>\n",
       "      <td>257500.0</td>\n",
       "      <td>3</td>\n",
       "      <td>2.25</td>\n",
       "      <td>1715</td>\n",
       "      <td>6819</td>\n",
       "      <td>2.0</td>\n",
       "      <td>0</td>\n",
       "      <td>0</td>\n",
       "      <td>...</td>\n",
       "      <td>7</td>\n",
       "      <td>1715</td>\n",
       "      <td>0</td>\n",
       "      <td>1995</td>\n",
       "      <td>0</td>\n",
       "      <td>98003</td>\n",
       "      <td>47.3097</td>\n",
       "      <td>-122.327</td>\n",
       "      <td>2238</td>\n",
       "      <td>6819</td>\n",
       "    </tr>\n",
       "    <tr>\n",
       "      <th>4</th>\n",
       "      <td>4</td>\n",
       "      <td>20150115T000000</td>\n",
       "      <td>291850.0</td>\n",
       "      <td>3</td>\n",
       "      <td>1.50</td>\n",
       "      <td>1060</td>\n",
       "      <td>9711</td>\n",
       "      <td>1.0</td>\n",
       "      <td>0</td>\n",
       "      <td>0</td>\n",
       "      <td>...</td>\n",
       "      <td>7</td>\n",
       "      <td>1060</td>\n",
       "      <td>0</td>\n",
       "      <td>1963</td>\n",
       "      <td>0</td>\n",
       "      <td>98198</td>\n",
       "      <td>47.4095</td>\n",
       "      <td>-122.315</td>\n",
       "      <td>1650</td>\n",
       "      <td>9711</td>\n",
       "    </tr>\n",
       "  </tbody>\n",
       "</table>\n",
       "<p>5 rows × 21 columns</p>\n",
       "</div>"
      ],
      "text/plain": [
       "   id             date     price  bedrooms  bathrooms  sqft_living  sqft_lot  \\\n",
       "0   0  20141013T000000  221900.0         3       1.00         1180      5650   \n",
       "1   1  20150225T000000  180000.0         2       1.00          770     10000   \n",
       "2   2  20150218T000000  510000.0         3       2.00         1680      8080   \n",
       "3   3  20140627T000000  257500.0         3       2.25         1715      6819   \n",
       "4   4  20150115T000000  291850.0         3       1.50         1060      9711   \n",
       "\n",
       "   floors  waterfront  view  ...  grade  sqft_above  sqft_basement  yr_built  \\\n",
       "0     1.0           0     0  ...      7        1180              0      1955   \n",
       "1     1.0           0     0  ...      6         770              0      1933   \n",
       "2     1.0           0     0  ...      8        1680              0      1987   \n",
       "3     2.0           0     0  ...      7        1715              0      1995   \n",
       "4     1.0           0     0  ...      7        1060              0      1963   \n",
       "\n",
       "   yr_renovated  zipcode      lat     long  sqft_living15  sqft_lot15  \n",
       "0             0    98178  47.5112 -122.257           1340        5650  \n",
       "1             0    98028  47.7379 -122.233           2720        8062  \n",
       "2             0    98074  47.6168 -122.045           1800        7503  \n",
       "3             0    98003  47.3097 -122.327           2238        6819  \n",
       "4             0    98198  47.4095 -122.315           1650        9711  \n",
       "\n",
       "[5 rows x 21 columns]"
      ]
     },
     "execution_count": 10,
     "metadata": {},
     "output_type": "execute_result"
    }
   ],
   "source": [
    "# date의 경우 yyyymmdd+T000000의 형태로 T000000은 의미 없는 데이터므로 이후에 삭제해주는 것이 좋을듯.\n",
    "df_train.head()"
   ]
  },
  {
   "cell_type": "markdown",
   "metadata": {
    "id": "89aJoYqElDTR"
   },
   "source": [
    "변수 설명\n",
    "변수 설명은 SANGEUN KIM님의 [커널](https://www.kaggle.com/code/tichangel/gdg-gwangju-a-to-z-cheetsheet)을 참고 하였습니다.\n",
    "\n",
    "- ID : 집을 구분하는 번호\n",
    "  - 고유번호로 이뤄져 있음.\n",
    "- date : 집을 구매한 날짜\n",
    "  - 뒤에 쓸모 없는 값이 있는데 T000000 부분은 제외 해주는게 좋음.\n",
    "- price : 집의 가격(Target variable)\n",
    "- bedrooms : 침실의 수\n",
    "- bathrooms : 화장실의 수\n",
    "  - bathroom의 소수점 의미\n",
    "- sqft_living : 주거 공간의 평방 피트(면적)\n",
    "  - 1sqft=0.0281평이고 sqft_living은 전물 공급면적 인것 같다.\n",
    "- sqft_lot : 부지의 평방 피트(면적)\n",
    "  - sqft는 부지의 평방 피트. 대지규모. 우리나라 단독주택으로 치면 땅 크기다.\n",
    "- floors : 집의 층 수\n",
    "  - 소수점이 존재하는데 온전한 층이 아니라 다락방 수준일때 0.5가 붙음.\n",
    "- waterfront : 집의 전방에 강이 흐르는지 유무 (a.k.a. 리버뷰)\n",
    "  - 0은 없는 것이고 1은 있는것. 벨뷰/시애틀 지역에 강 조망이 가능한 곳은 집값이 조금 높은편\n",
    "- view : Has been viewed\n",
    "  - 1~5로 이뤄져있으며, 집 외관에 대한 평가\n",
    "- condition : 집의 전반적인 상태\n",
    "  - 1~5로 이뤄져있으며, 집의 전반적 상태\n",
    "- grade : King County grading 시스템 기준으로 매긴 집의 등급\n",
    "  - 1~13 값으로 이뤄져있으며, 1~3은 건물 건축 및 디자인이 낮음, 7은 평균수준의 건축및 디자인, 11~13은 높은 수준의 디자인. 높을 수록 좋은 등급임.\n",
    "- sqft_above : 지하실을 제외한 평방 피트(면적)\n",
    "  - 지하실을 제외한 지상의 평방 미터. 국내 주택 면적 산정시에도 지하면적은 제외됨.\n",
    "- sqft_basement : 지하실의 평방 피트(면적)\n",
    "  - 지하실 면적\n",
    "- yr_built : 지어진 년도\n",
    "  - 1900 ~ 2015\n",
    "- yr_renovated : 집을 재건축한 년도\n",
    "  - 1940 ~ 2015 , 0은 한번도 재건축 된 적이 없는 집\n",
    "- zipcode : 우편번호\n",
    "  - 실제 값을 나타냄, 위도 경도와 일치(google map으로 조회하면됨)\n",
    "- lat : 위도\n",
    "- long : 경도\n",
    "- sqft_living15 : 2015년 기준 주거 공간의 평방 피트(면적, 집을 재건축했다면, 변화가 있을 수 있음\n",
    "- sqft_lot15 : 2015년 기준 주차 공간의 평방 피트(면적, 집을 재건축했다면, 변화가 있을 수 있음)\n",
    "  - sqft_living15 / lot15는 가까운 주변 15개 평균 평방 피트라는 말도 있어서 사용하실때 감안하고 쓰셔야할것 같네요."
   ]
  },
  {
   "cell_type": "code",
   "execution_count": 11,
   "metadata": {
    "colab": {
     "base_uri": "https://localhost:8080/"
    },
    "id": "FMVun0xEg0C0",
    "outputId": "e377a7b2-a064-4dab-bc76-01c0d0a6e6f1"
   },
   "outputs": [
    {
     "data": {
      "text/plain": [
       "count    1.503500e+04\n",
       "mean     5.406827e+05\n",
       "std      3.715247e+05\n",
       "min      7.800000e+04\n",
       "25%      3.220000e+05\n",
       "50%      4.500000e+05\n",
       "75%      6.450000e+05\n",
       "max      7.700000e+06\n",
       "Name: price, dtype: float64"
      ]
     },
     "execution_count": 11,
     "metadata": {},
     "output_type": "execute_result"
    }
   ],
   "source": [
    "#descriptive statistics summary\n",
    "df_train['price'].describe()"
   ]
  },
  {
   "cell_type": "code",
   "execution_count": 12,
   "metadata": {
    "colab": {
     "base_uri": "https://localhost:8080/",
     "height": 320
    },
    "id": "G8nfUitihX5l",
    "outputId": "cc717605-b1da-4597-80d1-b25641d7707d"
   },
   "outputs": [
    {
     "data": {
      "text/html": [
       "<div>\n",
       "<style scoped>\n",
       "    .dataframe tbody tr th:only-of-type {\n",
       "        vertical-align: middle;\n",
       "    }\n",
       "\n",
       "    .dataframe tbody tr th {\n",
       "        vertical-align: top;\n",
       "    }\n",
       "\n",
       "    .dataframe thead th {\n",
       "        text-align: right;\n",
       "    }\n",
       "</style>\n",
       "<table border=\"1\" class=\"dataframe\">\n",
       "  <thead>\n",
       "    <tr style=\"text-align: right;\">\n",
       "      <th></th>\n",
       "      <th>id</th>\n",
       "      <th>price</th>\n",
       "      <th>bedrooms</th>\n",
       "      <th>bathrooms</th>\n",
       "      <th>sqft_living</th>\n",
       "      <th>sqft_lot</th>\n",
       "      <th>floors</th>\n",
       "      <th>waterfront</th>\n",
       "      <th>view</th>\n",
       "      <th>condition</th>\n",
       "      <th>grade</th>\n",
       "      <th>sqft_above</th>\n",
       "      <th>sqft_basement</th>\n",
       "      <th>yr_built</th>\n",
       "      <th>yr_renovated</th>\n",
       "      <th>zipcode</th>\n",
       "      <th>lat</th>\n",
       "      <th>long</th>\n",
       "      <th>sqft_living15</th>\n",
       "      <th>sqft_lot15</th>\n",
       "    </tr>\n",
       "  </thead>\n",
       "  <tbody>\n",
       "    <tr>\n",
       "      <th>count</th>\n",
       "      <td>15035.000000</td>\n",
       "      <td>1.503500e+04</td>\n",
       "      <td>15035.000000</td>\n",
       "      <td>15035.000000</td>\n",
       "      <td>15035.000000</td>\n",
       "      <td>1.503500e+04</td>\n",
       "      <td>15035.000000</td>\n",
       "      <td>15035.000000</td>\n",
       "      <td>15035.000000</td>\n",
       "      <td>15035.000000</td>\n",
       "      <td>15035.000000</td>\n",
       "      <td>15035.000000</td>\n",
       "      <td>15035.000000</td>\n",
       "      <td>15035.000000</td>\n",
       "      <td>15035.000000</td>\n",
       "      <td>15035.000000</td>\n",
       "      <td>15035.000000</td>\n",
       "      <td>15035.000000</td>\n",
       "      <td>15035.000000</td>\n",
       "      <td>15035.000000</td>\n",
       "    </tr>\n",
       "    <tr>\n",
       "      <th>mean</th>\n",
       "      <td>7517.000000</td>\n",
       "      <td>5.406827e+05</td>\n",
       "      <td>3.369139</td>\n",
       "      <td>2.115065</td>\n",
       "      <td>2083.790223</td>\n",
       "      <td>1.529697e+04</td>\n",
       "      <td>1.498071</td>\n",
       "      <td>0.007117</td>\n",
       "      <td>0.234253</td>\n",
       "      <td>3.406651</td>\n",
       "      <td>7.660725</td>\n",
       "      <td>1794.158164</td>\n",
       "      <td>289.632059</td>\n",
       "      <td>1971.100432</td>\n",
       "      <td>83.798936</td>\n",
       "      <td>98078.031726</td>\n",
       "      <td>47.560721</td>\n",
       "      <td>-122.213677</td>\n",
       "      <td>1992.754772</td>\n",
       "      <td>12823.884935</td>\n",
       "    </tr>\n",
       "    <tr>\n",
       "      <th>std</th>\n",
       "      <td>4340.374984</td>\n",
       "      <td>3.715247e+05</td>\n",
       "      <td>0.902721</td>\n",
       "      <td>0.767519</td>\n",
       "      <td>922.134087</td>\n",
       "      <td>4.261282e+04</td>\n",
       "      <td>0.538522</td>\n",
       "      <td>0.084063</td>\n",
       "      <td>0.763376</td>\n",
       "      <td>0.646505</td>\n",
       "      <td>1.179803</td>\n",
       "      <td>831.738609</td>\n",
       "      <td>440.663284</td>\n",
       "      <td>29.407612</td>\n",
       "      <td>400.398498</td>\n",
       "      <td>53.297815</td>\n",
       "      <td>0.138164</td>\n",
       "      <td>0.141294</td>\n",
       "      <td>691.456442</td>\n",
       "      <td>27736.259787</td>\n",
       "    </tr>\n",
       "    <tr>\n",
       "      <th>min</th>\n",
       "      <td>0.000000</td>\n",
       "      <td>7.800000e+04</td>\n",
       "      <td>0.000000</td>\n",
       "      <td>0.000000</td>\n",
       "      <td>290.000000</td>\n",
       "      <td>5.200000e+02</td>\n",
       "      <td>1.000000</td>\n",
       "      <td>0.000000</td>\n",
       "      <td>0.000000</td>\n",
       "      <td>1.000000</td>\n",
       "      <td>1.000000</td>\n",
       "      <td>290.000000</td>\n",
       "      <td>0.000000</td>\n",
       "      <td>1900.000000</td>\n",
       "      <td>0.000000</td>\n",
       "      <td>98001.000000</td>\n",
       "      <td>47.155900</td>\n",
       "      <td>-122.519000</td>\n",
       "      <td>399.000000</td>\n",
       "      <td>651.000000</td>\n",
       "    </tr>\n",
       "    <tr>\n",
       "      <th>25%</th>\n",
       "      <td>3758.500000</td>\n",
       "      <td>3.220000e+05</td>\n",
       "      <td>3.000000</td>\n",
       "      <td>1.750000</td>\n",
       "      <td>1430.000000</td>\n",
       "      <td>5.027500e+03</td>\n",
       "      <td>1.000000</td>\n",
       "      <td>0.000000</td>\n",
       "      <td>0.000000</td>\n",
       "      <td>3.000000</td>\n",
       "      <td>7.000000</td>\n",
       "      <td>1190.000000</td>\n",
       "      <td>0.000000</td>\n",
       "      <td>1951.000000</td>\n",
       "      <td>0.000000</td>\n",
       "      <td>98033.000000</td>\n",
       "      <td>47.472700</td>\n",
       "      <td>-122.328000</td>\n",
       "      <td>1490.000000</td>\n",
       "      <td>5100.000000</td>\n",
       "    </tr>\n",
       "    <tr>\n",
       "      <th>50%</th>\n",
       "      <td>7517.000000</td>\n",
       "      <td>4.500000e+05</td>\n",
       "      <td>3.000000</td>\n",
       "      <td>2.250000</td>\n",
       "      <td>1910.000000</td>\n",
       "      <td>7.620000e+03</td>\n",
       "      <td>1.500000</td>\n",
       "      <td>0.000000</td>\n",
       "      <td>0.000000</td>\n",
       "      <td>3.000000</td>\n",
       "      <td>7.000000</td>\n",
       "      <td>1570.000000</td>\n",
       "      <td>0.000000</td>\n",
       "      <td>1975.000000</td>\n",
       "      <td>0.000000</td>\n",
       "      <td>98065.000000</td>\n",
       "      <td>47.571900</td>\n",
       "      <td>-122.231000</td>\n",
       "      <td>1850.000000</td>\n",
       "      <td>7610.000000</td>\n",
       "    </tr>\n",
       "    <tr>\n",
       "      <th>75%</th>\n",
       "      <td>11275.500000</td>\n",
       "      <td>6.450000e+05</td>\n",
       "      <td>4.000000</td>\n",
       "      <td>2.500000</td>\n",
       "      <td>2560.000000</td>\n",
       "      <td>1.069550e+04</td>\n",
       "      <td>2.000000</td>\n",
       "      <td>0.000000</td>\n",
       "      <td>0.000000</td>\n",
       "      <td>4.000000</td>\n",
       "      <td>8.000000</td>\n",
       "      <td>2230.000000</td>\n",
       "      <td>550.000000</td>\n",
       "      <td>1997.000000</td>\n",
       "      <td>0.000000</td>\n",
       "      <td>98117.000000</td>\n",
       "      <td>47.678300</td>\n",
       "      <td>-122.126000</td>\n",
       "      <td>2360.000000</td>\n",
       "      <td>10076.000000</td>\n",
       "    </tr>\n",
       "    <tr>\n",
       "      <th>max</th>\n",
       "      <td>15034.000000</td>\n",
       "      <td>7.700000e+06</td>\n",
       "      <td>10.000000</td>\n",
       "      <td>8.000000</td>\n",
       "      <td>13540.000000</td>\n",
       "      <td>1.651359e+06</td>\n",
       "      <td>3.500000</td>\n",
       "      <td>1.000000</td>\n",
       "      <td>4.000000</td>\n",
       "      <td>5.000000</td>\n",
       "      <td>13.000000</td>\n",
       "      <td>9410.000000</td>\n",
       "      <td>4130.000000</td>\n",
       "      <td>2015.000000</td>\n",
       "      <td>2015.000000</td>\n",
       "      <td>98199.000000</td>\n",
       "      <td>47.777600</td>\n",
       "      <td>-121.315000</td>\n",
       "      <td>6210.000000</td>\n",
       "      <td>871200.000000</td>\n",
       "    </tr>\n",
       "  </tbody>\n",
       "</table>\n",
       "</div>"
      ],
      "text/plain": [
       "                 id         price      bedrooms     bathrooms   sqft_living  \\\n",
       "count  15035.000000  1.503500e+04  15035.000000  15035.000000  15035.000000   \n",
       "mean    7517.000000  5.406827e+05      3.369139      2.115065   2083.790223   \n",
       "std     4340.374984  3.715247e+05      0.902721      0.767519    922.134087   \n",
       "min        0.000000  7.800000e+04      0.000000      0.000000    290.000000   \n",
       "25%     3758.500000  3.220000e+05      3.000000      1.750000   1430.000000   \n",
       "50%     7517.000000  4.500000e+05      3.000000      2.250000   1910.000000   \n",
       "75%    11275.500000  6.450000e+05      4.000000      2.500000   2560.000000   \n",
       "max    15034.000000  7.700000e+06     10.000000      8.000000  13540.000000   \n",
       "\n",
       "           sqft_lot        floors    waterfront          view     condition  \\\n",
       "count  1.503500e+04  15035.000000  15035.000000  15035.000000  15035.000000   \n",
       "mean   1.529697e+04      1.498071      0.007117      0.234253      3.406651   \n",
       "std    4.261282e+04      0.538522      0.084063      0.763376      0.646505   \n",
       "min    5.200000e+02      1.000000      0.000000      0.000000      1.000000   \n",
       "25%    5.027500e+03      1.000000      0.000000      0.000000      3.000000   \n",
       "50%    7.620000e+03      1.500000      0.000000      0.000000      3.000000   \n",
       "75%    1.069550e+04      2.000000      0.000000      0.000000      4.000000   \n",
       "max    1.651359e+06      3.500000      1.000000      4.000000      5.000000   \n",
       "\n",
       "              grade    sqft_above  sqft_basement      yr_built  yr_renovated  \\\n",
       "count  15035.000000  15035.000000   15035.000000  15035.000000  15035.000000   \n",
       "mean       7.660725   1794.158164     289.632059   1971.100432     83.798936   \n",
       "std        1.179803    831.738609     440.663284     29.407612    400.398498   \n",
       "min        1.000000    290.000000       0.000000   1900.000000      0.000000   \n",
       "25%        7.000000   1190.000000       0.000000   1951.000000      0.000000   \n",
       "50%        7.000000   1570.000000       0.000000   1975.000000      0.000000   \n",
       "75%        8.000000   2230.000000     550.000000   1997.000000      0.000000   \n",
       "max       13.000000   9410.000000    4130.000000   2015.000000   2015.000000   \n",
       "\n",
       "            zipcode           lat          long  sqft_living15     sqft_lot15  \n",
       "count  15035.000000  15035.000000  15035.000000   15035.000000   15035.000000  \n",
       "mean   98078.031726     47.560721   -122.213677    1992.754772   12823.884935  \n",
       "std       53.297815      0.138164      0.141294     691.456442   27736.259787  \n",
       "min    98001.000000     47.155900   -122.519000     399.000000     651.000000  \n",
       "25%    98033.000000     47.472700   -122.328000    1490.000000    5100.000000  \n",
       "50%    98065.000000     47.571900   -122.231000    1850.000000    7610.000000  \n",
       "75%    98117.000000     47.678300   -122.126000    2360.000000   10076.000000  \n",
       "max    98199.000000     47.777600   -121.315000    6210.000000  871200.000000  "
      ]
     },
     "execution_count": 12,
     "metadata": {},
     "output_type": "execute_result"
    }
   ],
   "source": [
    "#데이터 통계량 확인\n",
    "df_train.describe()"
   ]
  },
  {
   "cell_type": "code",
   "execution_count": 13,
   "metadata": {
    "colab": {
     "base_uri": "https://localhost:8080/"
    },
    "id": "nZ-TMSXbhgfd",
    "outputId": "07d14395-aafa-4071-9206-685ab36725f5"
   },
   "outputs": [
    {
     "data": {
      "text/plain": [
       "id               0\n",
       "date             0\n",
       "bedrooms         0\n",
       "bathrooms        0\n",
       "sqft_living      0\n",
       "sqft_lot         0\n",
       "floors           0\n",
       "waterfront       0\n",
       "view             0\n",
       "condition        0\n",
       "grade            0\n",
       "sqft_above       0\n",
       "sqft_basement    0\n",
       "yr_built         0\n",
       "yr_renovated     0\n",
       "zipcode          0\n",
       "lat              0\n",
       "long             0\n",
       "sqft_living15    0\n",
       "sqft_lot15       0\n",
       "dtype: int64"
      ]
     },
     "execution_count": 13,
     "metadata": {},
     "output_type": "execute_result"
    }
   ],
   "source": [
    "# 결측치 확인\n",
    "# 확인상 데이터 결측치는 존재하지 않음\n",
    "df_train.isnull().sum()\n",
    "df_test.isnull().sum()"
   ]
  },
  {
   "cell_type": "code",
   "execution_count": 14,
   "metadata": {
    "colab": {
     "base_uri": "https://localhost:8080/"
    },
    "id": "9LDqjwTJn7iA",
    "outputId": "7734296a-be73-493c-bba2-d3f6e843ed01"
   },
   "outputs": [
    {
     "data": {
      "text/plain": [
       "price            1.000000\n",
       "sqft_living      0.702899\n",
       "grade            0.667211\n",
       "sqft_above       0.608577\n",
       "sqft_living15    0.586419\n",
       "bathrooms        0.525479\n",
       "view             0.400806\n",
       "bedrooms         0.323672\n",
       "sqft_basement    0.322218\n",
       "lat              0.301604\n",
       "waterfront       0.265738\n",
       "floors           0.262588\n",
       "yr_renovated     0.140808\n",
       "sqft_lot         0.096793\n",
       "sqft_lot15       0.086384\n",
       "yr_built         0.047290\n",
       "condition        0.039740\n",
       "long             0.023547\n",
       "id               0.020899\n",
       "zipcode         -0.051498\n",
       "Name: price, dtype: float64"
      ]
     },
     "execution_count": 14,
     "metadata": {},
     "output_type": "execute_result"
    }
   ],
   "source": [
    "#train 데이터에서 price 변수와의 관계분석을 진행\n",
    "cor_mat = df_train.corr()\n",
    "cor_mat[\"price\"].sort_values(ascending = False)"
   ]
  },
  {
   "cell_type": "markdown",
   "metadata": {
    "id": "BwQ7Q3U3owgz"
   },
   "source": [
    "`sqft_living`, `grade`, `sqft_above`, `sqft_living15` 정도가 `price`과 상관관계를 어느정도 가진다고 볼 수 있겠으며, `sqft_living`의 경우 강한 상관관계를 가짐.\n",
    "\n",
    "### 상관관계가 높은 변수\n",
    "- sqft_living : 주거 공간의 평방 피트(면적)\n",
    "- grade : King County grading 시스템 기준으로 매긴 집의 등급\n",
    "- sqft_above : 지하실을 제외한 평방 피트(면적)\n",
    "- sqft_living15 : 2015년 기준 주거 공간의 평방 피트(면적, 집을 재건축했다면, 변화가 있을 수 있음)\n",
    "\n",
    "### 상관관계가 낮은 변수\n",
    "- ID : 집을 구분하는 번호 #제거\n",
    "- zipcode : 우편번호 #제거\n",
    "- long : 경도\n",
    "- condition : 집의 전반적인 상태\n",
    "- yr_built : 지어진 년도"
   ]
  },
  {
   "cell_type": "code",
   "execution_count": 15,
   "metadata": {
    "colab": {
     "base_uri": "https://localhost:8080/",
     "height": 574
    },
    "id": "iFd8YVN8ovxs",
    "outputId": "2fc696a2-c63f-494d-bc25-7f1bd2dbaad2"
   },
   "outputs": [
    {
     "data": {
      "text/plain": [
       "<AxesSubplot:xlabel='price', ylabel='Density'>"
      ]
     },
     "execution_count": 15,
     "metadata": {},
     "output_type": "execute_result"
    },
    {
     "data": {
      "image/png": "[encoded data removed]",
      "text/plain": [
       "<Figure size 576x432 with 1 Axes>"
      ]
     },
     "metadata": {
      "needs_background": "light"
     },
     "output_type": "display_data"
    }
   ],
   "source": [
    "# price 데이터 시각화결과 치우쳐져 있으며 왜도와 첨도를 통하여 수치화\n",
    "\n",
    "f, ax = plt.subplots(figsize=(8,6))\n",
    "sns.distplot(df_train['price'])"
   ]
  },
  {
   "cell_type": "code",
   "execution_count": 16,
   "metadata": {
    "colab": {
     "base_uri": "https://localhost:8080/"
    },
    "id": "PjkCsfZCqrXF",
    "outputId": "625175e4-ae26-4760-eca6-065ac3e51440"
   },
   "outputs": [
    {
     "name": "stdout",
     "output_type": "stream",
     "text": [
      "왜도: 4.290252\n",
      "첨도: 40.154919\n"
     ]
    }
   ],
   "source": [
    "print(\"왜도: %f\" % df_train['price'].skew())\n",
    "print(\"첨도: %f\" % df_train['price'].kurt())"
   ]
  },
  {
   "cell_type": "code",
   "execution_count": 17,
   "metadata": {
    "colab": {
     "base_uri": "https://localhost:8080/",
     "height": 487
    },
    "id": "VF8KQcIYq2Fh",
    "outputId": "242917ac-b1e1-4fd2-cfde-69dfdb66ec3d"
   },
   "outputs": [
    {
     "data": {
      "image/png": "[encoded data removed]",
      "text/plain": [
       "<Figure size 720x360 with 2 Axes>"
      ]
     },
     "metadata": {
      "needs_background": "light"
     },
     "output_type": "display_data"
    }
   ],
   "source": [
    "#price함수에 log를 취해준 결과 정규성이 기존보다 더 높아진 것을 확인\n",
    "fig = plt.figure(figsize = (10, 5))\n",
    "fig.add_subplot(1,2,1)\n",
    "res = stats.probplot(df_train['price'], plot=plt)\n",
    "\n",
    "fig.add_subplot(1,2,2)\n",
    "res = stats.probplot(np.log1p(df_train['price']), plot=plt) #기존 price에 로그를 취함"
   ]
  },
  {
   "cell_type": "code",
   "execution_count": 18,
   "metadata": {
    "colab": {
     "base_uri": "https://localhost:8080/"
    },
    "id": "rQrqeRU6q2OH",
    "outputId": "f82fa9da-37be-4481-b2aa-258bba5b68a2"
   },
   "outputs": [
    {
     "name": "stdout",
     "output_type": "stream",
     "text": [
      "왜도: 0.433095\n",
      "첨도: 0.731602\n"
     ]
    },
    {
     "data": {
      "text/plain": [
       "count    15035.000000\n",
       "mean        13.048120\n",
       "std          0.527472\n",
       "min         11.264464\n",
       "25%         12.682307\n",
       "50%         13.017003\n",
       "75%         13.377006\n",
       "max         15.856731\n",
       "Name: price, dtype: float64"
      ]
     },
     "execution_count": 18,
     "metadata": {},
     "output_type": "execute_result"
    }
   ],
   "source": [
    "#변경 후 왜도 첨도 확인\n",
    "df_train['price'] = np.log(df_train['price'])\n",
    "\n",
    "print(\"왜도: %f\" % df_train['price'].skew())\n",
    "print(\"첨도: %f\" % df_train['price'].kurt())\n",
    "df_train['price'].describe()"
   ]
  },
  {
   "cell_type": "code",
   "execution_count": 19,
   "metadata": {
    "colab": {
     "base_uri": "https://localhost:8080/",
     "height": 482
    },
    "id": "-8D7CzKir0HQ",
    "outputId": "3f65268d-788c-4377-b6bc-478331228a51"
   },
   "outputs": [
    {
     "data": {
      "text/plain": [
       "<AxesSubplot:xlabel='price', ylabel='Density'>"
      ]
     },
     "execution_count": 19,
     "metadata": {},
     "output_type": "execute_result"
    },
    {
     "data": {
      "image/png": "[encoded data removed]",
      "text/plain": [
       "<Figure size 360x360 with 1 Axes>"
      ]
     },
     "metadata": {
      "needs_background": "light"
     },
     "output_type": "display_data"
    }
   ],
   "source": [
    "#histogram\n",
    "plt.subplots(figsize=(5, 5))\n",
    "sns.distplot(df_train['price'])"
   ]
  },
  {
   "cell_type": "code",
   "execution_count": 20,
   "metadata": {
    "colab": {
     "base_uri": "https://localhost:8080/",
     "height": 1000
    },
    "id": "T_o2ZU8TsKpp",
    "outputId": "4c361ca5-f630-495b-ea77-b72e583c136a"
   },
   "outputs": [
    {
     "name": "stdout",
     "output_type": "stream",
     "text": [
      "Index(['id', 'date', 'price', 'bedrooms', 'bathrooms', 'sqft_living',\n",
      "       'sqft_lot', 'floors', 'waterfront', 'view', 'condition', 'grade',\n",
      "       'sqft_above', 'sqft_basement', 'yr_built', 'yr_renovated', 'zipcode',\n",
      "       'lat', 'long', 'sqft_living15', 'sqft_lot15'],\n",
      "      dtype='object')\n"
     ]
    },
    {
     "data": {
      "image/png": "[encoded data removed]",
      "text/plain": [
       "<Figure size 720x3600 with 18 Axes>"
      ]
     },
     "metadata": {
      "needs_background": "light"
     },
     "output_type": "display_data"
    }
   ],
   "source": [
    "# 다른 칼럼의 분포도 확인\n",
    "fig, ax = plt.subplots(9, 2, figsize=(10, 50))   # 가로스크롤 때문에 그래프 확인이 불편하다면 figsize의 x값을 조절해 보세요.\n",
    "\n",
    "# id 변수(count==0인 경우)는 제외하고 분포를 확인합니다.\n",
    "count = 3\n",
    "columns = df_train.columns\n",
    "print(columns)\n",
    "for row in range(9):\n",
    "    for col in range(2):\n",
    "        sns.kdeplot(data=df_train[columns[count]], ax=ax[row][col])\n",
    "        ax[row][col].set_title(columns[count], fontsize=15)\n",
    "        count += 1\n",
    "        if count == 19 :\n",
    "            break\n",
    "\n",
    "# 아래 그래프 중에서는 bedrooms, sqft_living, sqft_lot, ,view, yr_renovated ,waterfront, sqft_above, sqft_basement, sqft_living15, sqft_lot15 변수가 한쪽으로 치우친 경향을 보이는군요."
   ]
  },
  {
   "cell_type": "code",
   "execution_count": 21,
   "metadata": {
    "colab": {
     "base_uri": "https://localhost:8080/"
    },
    "id": "dhoxyh8o-2kC",
    "outputId": "14419135-affe-430f-a950-4e534c52a7c9"
   },
   "outputs": [
    {
     "name": "stdout",
     "output_type": "stream",
     "text": [
      "2014    10229\n",
      "2015     4806\n",
      "Name: year, dtype: int64\n",
      "5     1700\n",
      "7     1582\n",
      "4     1525\n",
      "6     1500\n",
      "8     1361\n",
      "10    1322\n",
      "3     1300\n",
      "9     1227\n",
      "12    1004\n",
      "11     981\n",
      "2      842\n",
      "1      691\n",
      "Name: month, dtype: int64\n",
      "23    630\n",
      "9     590\n",
      "5     572\n",
      "20    570\n",
      "24    547\n",
      "16    527\n",
      "27    524\n",
      "2     524\n",
      "22    522\n",
      "8     517\n",
      "10    511\n",
      "25    508\n",
      "18    508\n",
      "17    500\n",
      "13    496\n",
      "6     494\n",
      "12    493\n",
      "11    492\n",
      "4     476\n",
      "26    475\n",
      "21    460\n",
      "14    456\n",
      "29    456\n",
      "3     455\n",
      "7     453\n",
      "19    437\n",
      "28    434\n",
      "30    420\n",
      "15    411\n",
      "1     394\n",
      "31    183\n",
      "Name: day, dtype: int64\n"
     ]
    }
   ],
   "source": [
    "# date 변수를 년월일로 분류하여 신규 데이터 생성\n",
    "df_train['year'] = df_train['date'].apply(lambda i : i[:4])\n",
    "df_train['month'] = df_train['date'].apply(lambda i : i[4:6]).astype(int)\n",
    "df_train['day'] = df_train['date'].apply(lambda i : i[6:8]).astype(int)\n",
    "\n",
    "#신규 변수 데이터 확인\n",
    "print(df_train['year'].value_counts()) #14, 15년도 2가지\n",
    "print(df_train['month'].value_counts()) #1~12월\n",
    "print(df_train['day'].value_counts()) #1일부터 31일인데 1일의 경우 31일을 제외하고 가장 수가 적음\n"
   ]
  },
  {
   "cell_type": "markdown",
   "metadata": {
    "id": "4wURlHv9DOgC"
   },
   "source": [
    "# 1-2 학습진행"
   ]
  },
  {
   "cell_type": "code",
   "execution_count": 22,
   "metadata": {
    "colab": {
     "base_uri": "https://localhost:8080/",
     "height": 424
    },
    "id": "DT1djaD6BMHW",
    "outputId": "aec7d47c-0011-4e9b-c6e9-51f6775d0ce9"
   },
   "outputs": [
    {
     "data": {
      "text/html": [
       "<div>\n",
       "<style scoped>\n",
       "    .dataframe tbody tr th:only-of-type {\n",
       "        vertical-align: middle;\n",
       "    }\n",
       "\n",
       "    .dataframe tbody tr th {\n",
       "        vertical-align: top;\n",
       "    }\n",
       "\n",
       "    .dataframe thead th {\n",
       "        text-align: right;\n",
       "    }\n",
       "</style>\n",
       "<table border=\"1\" class=\"dataframe\">\n",
       "  <thead>\n",
       "    <tr style=\"text-align: right;\">\n",
       "      <th></th>\n",
       "      <th>bedrooms</th>\n",
       "      <th>bathrooms</th>\n",
       "      <th>sqft_living</th>\n",
       "      <th>floors</th>\n",
       "      <th>view</th>\n",
       "      <th>grade</th>\n",
       "      <th>sqft_above</th>\n",
       "      <th>lat</th>\n",
       "      <th>sqft_living15</th>\n",
       "      <th>sqft_lot15</th>\n",
       "      <th>year</th>\n",
       "      <th>month</th>\n",
       "      <th>day</th>\n",
       "    </tr>\n",
       "  </thead>\n",
       "  <tbody>\n",
       "    <tr>\n",
       "      <th>0</th>\n",
       "      <td>3</td>\n",
       "      <td>2.25</td>\n",
       "      <td>2570</td>\n",
       "      <td>2.0</td>\n",
       "      <td>0</td>\n",
       "      <td>7</td>\n",
       "      <td>2170</td>\n",
       "      <td>47.7210</td>\n",
       "      <td>1690</td>\n",
       "      <td>7639</td>\n",
       "      <td>2014</td>\n",
       "      <td>12</td>\n",
       "      <td>9</td>\n",
       "    </tr>\n",
       "    <tr>\n",
       "      <th>1</th>\n",
       "      <td>4</td>\n",
       "      <td>3.00</td>\n",
       "      <td>1960</td>\n",
       "      <td>1.0</td>\n",
       "      <td>0</td>\n",
       "      <td>7</td>\n",
       "      <td>1050</td>\n",
       "      <td>47.5208</td>\n",
       "      <td>1360</td>\n",
       "      <td>5000</td>\n",
       "      <td>2014</td>\n",
       "      <td>12</td>\n",
       "      <td>9</td>\n",
       "    </tr>\n",
       "    <tr>\n",
       "      <th>2</th>\n",
       "      <td>4</td>\n",
       "      <td>4.50</td>\n",
       "      <td>5420</td>\n",
       "      <td>1.0</td>\n",
       "      <td>0</td>\n",
       "      <td>11</td>\n",
       "      <td>3890</td>\n",
       "      <td>47.6561</td>\n",
       "      <td>4760</td>\n",
       "      <td>101930</td>\n",
       "      <td>2014</td>\n",
       "      <td>5</td>\n",
       "      <td>12</td>\n",
       "    </tr>\n",
       "    <tr>\n",
       "      <th>3</th>\n",
       "      <td>3</td>\n",
       "      <td>1.00</td>\n",
       "      <td>1780</td>\n",
       "      <td>1.0</td>\n",
       "      <td>0</td>\n",
       "      <td>7</td>\n",
       "      <td>1050</td>\n",
       "      <td>47.5123</td>\n",
       "      <td>1780</td>\n",
       "      <td>8113</td>\n",
       "      <td>2015</td>\n",
       "      <td>4</td>\n",
       "      <td>15</td>\n",
       "    </tr>\n",
       "    <tr>\n",
       "      <th>4</th>\n",
       "      <td>3</td>\n",
       "      <td>2.50</td>\n",
       "      <td>1890</td>\n",
       "      <td>2.0</td>\n",
       "      <td>0</td>\n",
       "      <td>7</td>\n",
       "      <td>1890</td>\n",
       "      <td>47.3684</td>\n",
       "      <td>2390</td>\n",
       "      <td>7570</td>\n",
       "      <td>2015</td>\n",
       "      <td>3</td>\n",
       "      <td>12</td>\n",
       "    </tr>\n",
       "    <tr>\n",
       "      <th>...</th>\n",
       "      <td>...</td>\n",
       "      <td>...</td>\n",
       "      <td>...</td>\n",
       "      <td>...</td>\n",
       "      <td>...</td>\n",
       "      <td>...</td>\n",
       "      <td>...</td>\n",
       "      <td>...</td>\n",
       "      <td>...</td>\n",
       "      <td>...</td>\n",
       "      <td>...</td>\n",
       "      <td>...</td>\n",
       "      <td>...</td>\n",
       "    </tr>\n",
       "    <tr>\n",
       "      <th>6463</th>\n",
       "      <td>3</td>\n",
       "      <td>1.75</td>\n",
       "      <td>1500</td>\n",
       "      <td>1.0</td>\n",
       "      <td>0</td>\n",
       "      <td>6</td>\n",
       "      <td>1500</td>\n",
       "      <td>47.3095</td>\n",
       "      <td>1320</td>\n",
       "      <td>11303</td>\n",
       "      <td>2014</td>\n",
       "      <td>6</td>\n",
       "      <td>26</td>\n",
       "    </tr>\n",
       "    <tr>\n",
       "      <th>6464</th>\n",
       "      <td>3</td>\n",
       "      <td>2.00</td>\n",
       "      <td>1490</td>\n",
       "      <td>3.0</td>\n",
       "      <td>0</td>\n",
       "      <td>8</td>\n",
       "      <td>1490</td>\n",
       "      <td>47.5699</td>\n",
       "      <td>1400</td>\n",
       "      <td>1230</td>\n",
       "      <td>2015</td>\n",
       "      <td>1</td>\n",
       "      <td>26</td>\n",
       "    </tr>\n",
       "    <tr>\n",
       "      <th>6465</th>\n",
       "      <td>3</td>\n",
       "      <td>2.50</td>\n",
       "      <td>1310</td>\n",
       "      <td>2.0</td>\n",
       "      <td>0</td>\n",
       "      <td>8</td>\n",
       "      <td>1180</td>\n",
       "      <td>47.5773</td>\n",
       "      <td>1330</td>\n",
       "      <td>1265</td>\n",
       "      <td>2015</td>\n",
       "      <td>2</td>\n",
       "      <td>19</td>\n",
       "    </tr>\n",
       "    <tr>\n",
       "      <th>6466</th>\n",
       "      <td>2</td>\n",
       "      <td>0.75</td>\n",
       "      <td>1020</td>\n",
       "      <td>2.0</td>\n",
       "      <td>0</td>\n",
       "      <td>7</td>\n",
       "      <td>1020</td>\n",
       "      <td>47.5944</td>\n",
       "      <td>1020</td>\n",
       "      <td>2007</td>\n",
       "      <td>2014</td>\n",
       "      <td>6</td>\n",
       "      <td>23</td>\n",
       "    </tr>\n",
       "    <tr>\n",
       "      <th>6467</th>\n",
       "      <td>3</td>\n",
       "      <td>2.50</td>\n",
       "      <td>1600</td>\n",
       "      <td>2.0</td>\n",
       "      <td>0</td>\n",
       "      <td>8</td>\n",
       "      <td>1600</td>\n",
       "      <td>47.5345</td>\n",
       "      <td>1410</td>\n",
       "      <td>1287</td>\n",
       "      <td>2015</td>\n",
       "      <td>1</td>\n",
       "      <td>16</td>\n",
       "    </tr>\n",
       "  </tbody>\n",
       "</table>\n",
       "<p>6468 rows × 13 columns</p>\n",
       "</div>"
      ],
      "text/plain": [
       "      bedrooms  bathrooms  sqft_living  floors  view  grade  sqft_above  \\\n",
       "0            3       2.25         2570     2.0     0      7        2170   \n",
       "1            4       3.00         1960     1.0     0      7        1050   \n",
       "2            4       4.50         5420     1.0     0     11        3890   \n",
       "3            3       1.00         1780     1.0     0      7        1050   \n",
       "4            3       2.50         1890     2.0     0      7        1890   \n",
       "...        ...        ...          ...     ...   ...    ...         ...   \n",
       "6463         3       1.75         1500     1.0     0      6        1500   \n",
       "6464         3       2.00         1490     3.0     0      8        1490   \n",
       "6465         3       2.50         1310     2.0     0      8        1180   \n",
       "6466         2       0.75         1020     2.0     0      7        1020   \n",
       "6467         3       2.50         1600     2.0     0      8        1600   \n",
       "\n",
       "          lat  sqft_living15  sqft_lot15  year  month  day  \n",
       "0     47.7210           1690        7639  2014     12    9  \n",
       "1     47.5208           1360        5000  2014     12    9  \n",
       "2     47.6561           4760      101930  2014      5   12  \n",
       "3     47.5123           1780        8113  2015      4   15  \n",
       "4     47.3684           2390        7570  2015      3   12  \n",
       "...       ...            ...         ...   ...    ...  ...  \n",
       "6463  47.3095           1320       11303  2014      6   26  \n",
       "6464  47.5699           1400        1230  2015      1   26  \n",
       "6465  47.5773           1330        1265  2015      2   19  \n",
       "6466  47.5944           1020        2007  2014      6   23  \n",
       "6467  47.5345           1410        1287  2015      1   16  \n",
       "\n",
       "[6468 rows x 13 columns]"
      ]
     },
     "execution_count": 22,
     "metadata": {},
     "output_type": "execute_result"
    }
   ],
   "source": [
    "# 신규 columns를 추가하고 상관도가 0.3이하인 변수를 제외하고 학습 진행\n",
    "# 신규 추가 columns : month, year, day\n",
    "# 삭제 columns : zipcode, id, condition, long, yr_built, sqft_lot15, yr_renovated, sqft_lot, waterfront, sqft_basement\n",
    "# 최종 데이터 셋 생성\n",
    "\n",
    "train_data_path = join(data_dir, 'train.csv')\n",
    "test_data_path = join(data_dir, 'test.csv')\n",
    "train = pd.read_csv(train_data_path)\n",
    "test = pd.read_csv(test_data_path)\n",
    "\n",
    "# y 변수에 price를 넣어두고, train에서는 삭제\n",
    "y = train['price']\n",
    "del train['price']\n",
    "\n",
    "col_nm = ['zipcode', 'id', 'condition', 'long', 'yr_built',  'yr_renovated', 'sqft_lot', 'waterfront', 'sqft_basement', 'date']\n",
    "# col_nm = ['zipcode', 'id','date']\n",
    "\n",
    "def dataset(a):\n",
    "  # 생성\n",
    "  a['year'] = a['date'].apply(lambda i : i[:4]).astype(int)\n",
    "  a['month'] = a['date'].apply(lambda i : i[4:6]).astype(int)\n",
    "  a['day'] = a['date'].apply(lambda i : i[6:8]).astype(int)\n",
    "  # 제거\n",
    "  for i in col_nm:\n",
    "    del a[i]\n",
    "  return a\n",
    "\n",
    "df_train = dataset(train)\n",
    "df_test = dataset(test)\n",
    "df_test"
   ]
  },
  {
   "cell_type": "code",
   "execution_count": 23,
   "metadata": {
    "colab": {
     "base_uri": "https://localhost:8080/"
    },
    "id": "C9_-uEMaEy12",
    "outputId": "d33780ab-e2c9-4847-c3d1-947fc152df90"
   },
   "outputs": [
    {
     "data": {
      "text/plain": [
       "0        12.309987\n",
       "1        12.100718\n",
       "2        13.142168\n",
       "3        12.458779\n",
       "4        12.583999\n",
       "           ...    \n",
       "15030    13.322338\n",
       "15031    13.822984\n",
       "15032    12.793862\n",
       "15033    12.899222\n",
       "15034    12.691584\n",
       "Name: price, Length: 15035, dtype: float64"
      ]
     },
     "execution_count": 23,
     "metadata": {},
     "output_type": "execute_result"
    }
   ],
   "source": [
    "y = np.log1p(y)\n",
    "y"
   ]
  },
  {
   "cell_type": "code",
   "execution_count": 24,
   "metadata": {
    "id": "2VWmSptkEy4H"
   },
   "outputs": [],
   "source": [
    "# 먼저 필요한 라이브러리를 가져오겠습니다.\n",
    "# 데이터셋을 훈련 데이터셋과 검증 데이터셋으로 나누기 위한 train_test_split 함수와, RMSE 점수를 계산하기 위한 mean_squared_error를 가져옵니다.\n",
    "\n",
    "from sklearn.model_selection import train_test_split\n",
    "from sklearn.metrics import mean_squared_error"
   ]
  },
  {
   "cell_type": "code",
   "execution_count": 25,
   "metadata": {
    "id": "40wVO0BpEy67"
   },
   "outputs": [],
   "source": [
    "# 대회에서 점수를 매기는 것과 같은 평가 척도인 RMSE를 계산하기 위해 다음과 같은 함수를 만들어놓겠습니다.\n",
    "# 한 가지 주의해야 할 것은, y_test나 y_pred는 위에서 np.log1p()로 변환이 된 값이기 때문에 원래 데이터의 단위에 맞게 되돌리기 위해 np.expm1()을 추가해야 한다는 점입니다.\n",
    "# exp로 다시 변환해서 mean_squared_error를 계산한 값에 np.sqrt를 취하면 RMSE 값을 얻을 수 있겠죠!\n",
    "\n",
    "def rmse(y_test, y_pred):\n",
    "    return np.sqrt(mean_squared_error(np.expm1(y_test), np.expm1(y_pred)))"
   ]
  },
  {
   "cell_type": "code",
   "execution_count": 26,
   "metadata": {
    "id": "IbnHZLaXEy9v"
   },
   "outputs": [],
   "source": [
    "from xgboost import XGBRegressor\n",
    "from lightgbm import LGBMRegressor\n",
    "from sklearn.ensemble import GradientBoostingRegressor, RandomForestRegressor"
   ]
  },
  {
   "cell_type": "code",
   "execution_count": 27,
   "metadata": {
    "id": "byR-FMycEzAB"
   },
   "outputs": [],
   "source": [
    "# 같이 모델 인스턴스를 생성한 후 models라는 리스트에 넣어줍니다.\n",
    "# random_state는 모델초기화나 데이터셋 구성에 사용되는 랜덤 시드값입니다.\n",
    "#random_state=None    # 이게 초기값입니다. 아무것도 지정하지 않고 None을 넘겨주면 모델 내부에서 임의로 선택합니다.\n",
    "random_state=2020        # 하지만 우리는 이렇게 고정값을 세팅해 두겠습니다.\n",
    "\n",
    "gboost = GradientBoostingRegressor(random_state=random_state)\n",
    "xgboost = XGBRegressor(random_state=random_state)\n",
    "lightgbm = LGBMRegressor(random_state=random_state)\n",
    "rdforest = RandomForestRegressor(random_state=random_state)\n",
    "\n",
    "models = [gboost, xgboost, lightgbm, rdforest]"
   ]
  },
  {
   "cell_type": "code",
   "execution_count": 28,
   "metadata": {
    "colab": {
     "base_uri": "https://localhost:8080/",
     "height": 279
    },
    "id": "NpmwnbL-EzC4",
    "outputId": "172d6a4f-cb40-48ad-f79b-d7ed3a320c1b"
   },
   "outputs": [
    {
     "data": {
      "text/html": [
       "<div>\n",
       "<style scoped>\n",
       "    .dataframe tbody tr th:only-of-type {\n",
       "        vertical-align: middle;\n",
       "    }\n",
       "\n",
       "    .dataframe tbody tr th {\n",
       "        vertical-align: top;\n",
       "    }\n",
       "\n",
       "    .dataframe thead th {\n",
       "        text-align: right;\n",
       "    }\n",
       "</style>\n",
       "<table border=\"1\" class=\"dataframe\">\n",
       "  <thead>\n",
       "    <tr style=\"text-align: right;\">\n",
       "      <th></th>\n",
       "      <th>RMSE</th>\n",
       "    </tr>\n",
       "  </thead>\n",
       "  <tbody>\n",
       "    <tr>\n",
       "      <th>GradientBoostingRegressor</th>\n",
       "      <td>161941.794255</td>\n",
       "    </tr>\n",
       "    <tr>\n",
       "      <th>RandomForestRegressor</th>\n",
       "      <td>160413.916949</td>\n",
       "    </tr>\n",
       "    <tr>\n",
       "      <th>XGBRegressor</th>\n",
       "      <td>154878.829205</td>\n",
       "    </tr>\n",
       "    <tr>\n",
       "      <th>LGBMRegressor</th>\n",
       "      <td>154222.251482</td>\n",
       "    </tr>\n",
       "  </tbody>\n",
       "</table>\n",
       "</div>"
      ],
      "text/plain": [
       "                                    RMSE\n",
       "GradientBoostingRegressor  161941.794255\n",
       "RandomForestRegressor      160413.916949\n",
       "XGBRegressor               154878.829205\n",
       "LGBMRegressor              154222.251482"
      ]
     },
     "execution_count": 28,
     "metadata": {},
     "output_type": "execute_result"
    }
   ],
   "source": [
    "# 모델이 주어지면 rmse를 구하는 함수를 만들어봅시다.\n",
    "def get_scores(models, train, y):\n",
    "    df = {}\n",
    "\n",
    "    for model in models:\n",
    "        model_name = model.__class__.__name__\n",
    "\n",
    "        X_train, X_test, y_train, y_test = train_test_split(\n",
    "            train, y, random_state=random_state,\n",
    "            test_size = 0.2\n",
    "        )\n",
    "        model.fit(X_train, y_train)\n",
    "        y_pred = model.predict(X_test)\n",
    "\n",
    "        df[model_name] = rmse(y_pred, y_test)\n",
    "        score_df = pd.DataFrame(df, index=['RMSE']).T.sort_values('RMSE', ascending=False)\n",
    "\n",
    "    return score_df\n",
    "\n",
    "get_scores(models, train, y)"
   ]
  },
  {
   "cell_type": "markdown",
   "metadata": {
    "id": "gfgbS3kaFvWA"
   },
   "source": [
    "![스크린샷 2023-09-26 오후 7.44.14.png](data:image/png;base64,iVBORw0KGgoAAAANSUhEUgAAAc0AAAB2CAYAAACqP8gfAAABV2lDQ1BJQ0MgUHJvZmlsZQAAKJFtkM9LAkEUx79rkiQaFV2Kgj1qmMRaF6GDeZCgQjQpu62zugr+GNYNi44d89gf0B/RKfDeOSm6d8hL0EU9FE1v3Eqt3vDmfXh8Z3jvC7jcOudlN4BK1bZSiS31MHukep4xhUV4MYmozuo8lkzukATfdTx6D1Bkba/Kv6LdQLbTfpptGfeh8F2h/1c/Fl4jX2dU3ylXGLdsQAkQJxs2l3xCPG/RUMRNyabDV5JzDl8PNPupOPEt8Qwr6gbxI3EoN9I3R7hSPmZfM8jpfflqJk11mnIJacSwS3cGe0iQN/9r1wfaOGrgOIWFEkwUYUOl15xOGXnibVTBEEaIWMMaZUR6/Nu7Yc8IAhrt5JoY9koN4OaA1lwe9oIbwFwXaPm5buk/jio9d70Q0Rxe8JHF50J0aFb/GfDxIkT/VYi3S8CzCTQvPgFotGC9jfykMQAAAFZlWElmTU0AKgAAAAgAAYdpAAQAAAABAAAAGgAAAAAAA5KGAAcAAAASAAAARKACAAQAAAABAAABzaADAAQAAAABAAAAdgAAAABBU0NJSQAAAFNjcmVlbnNob3R8/n10AAAB1mlUWHRYTUw6Y29tLmFkb2JlLnhtcAAAAAAAPHg6eG1wbWV0YSB4bWxuczp4PSJhZG9iZTpuczptZXRhLyIgeDp4bXB0az0iWE1QIENvcmUgNi4wLjAiPgogICA8cmRmOlJERiB4bWxuczpyZGY9Imh0dHA6Ly93d3cudzMub3JnLzE5OTkvMDIvMjItcmRmLXN5bnRheC1ucyMiPgogICAgICA8cmRmOkRlc2NyaXB0aW9uIHJkZjphYm91dD0iIgogICAgICAgICAgICB4bWxuczpleGlmPSJodHRwOi8vbnMuYWRvYmUuY29tL2V4aWYvMS4wLyI+CiAgICAgICAgIDxleGlmOlBpeGVsWURpbWVuc2lvbj4xMTg8L2V4aWY6UGl4ZWxZRGltZW5zaW9uPgogICAgICAgICA8ZXhpZjpQaXhlbFhEaW1lbnNpb24+NDYxPC9leGlmOlBpeGVsWERpbWVuc2lvbj4KICAgICAgICAgPGV4aWY6VXNlckNvbW1lbnQ+U2NyZWVuc2hvdDwvZXhpZjpVc2VyQ29tbWVudD4KICAgICAgPC9yZGY6RGVzY3JpcHRpb24+CiAgIDwvcmRmOlJERj4KPC94OnhtcG1ldGE+CmFVqFYAAEAASURBVHgB7d0HvD1HVTjwC8QuGhQbIsaCREVUBISgECxoNCoWLCGaJhFFQVBaFAkBoyhWij2JHcWIYK/BXlBUbBBL7L33fv/nO3L2P2/ftnvffe33m/P5vLd7d2ennCmnzZyzWh8R/MIv/ML6bne72/p3f/d31//xH//Rlfo///M/65/7uZ9bf/qnf/r6Qz7kQ9Y/+ZM/uf7zP//z7v0ub5T/8pe/vGT53//934NZf/RHf/T6G7/xGwff/fqv/3ppw1Of+tT1P//zP69/53d+Z/3u7/7u5c8Hf/RHf7T+2I/92PUnfdInlXbI5z3f8z3XF154YcnvX//1X9cf//EfX/L4nu/5nvLsxhtvLL8f//jHr+s6SZs4+73f+72SdtN/6vJZn/VZ67/927/d9+mv/MqvlDpK88mf/Mnl/tZbb92XzgN9NAZPetKT1ldeeeXY6+75VB7btvWv//qv1/pCvz7hCU8oZelfOL7mmmvW//Vf/9WVv+Qm06tr3Re//du/Xcqon43lJ82SdL5fmm6orCl8Lu2ToXyHnj3iEY9Yf9M3fdO+V//7v/87Ojam5lGd0UFwUOczda+eu4Chunpm/L3yla+cLWLo+9mPtkiwbTlf/uVfvv6UT/mU0RKta1/1VV9V3s+VUa/xoxkOvNgEn/n5WF2mxmd+u+Taz//2qyOGO9/5zqvXfM3X7Eq9/e1vvwrCsnqbt3mb1Zu92Zut3uu93qtcuwSvvvmJn/iJ1fu93/uVvy/7si/rvy6/f+iHfmj1CZ/wCauHPexhq+jccv+BH/iBqyBmXfoXv/jFq/vf//6r+973vquv+7qv657/8R//8erbvu3bVn/6p3+6+tmf/dnVN3/zN5e/IOhdmuc973mrN37jN15de+21q9d7vddbvd3bvd0qBtrqTd/0TUuau971rqu73OUuq/POO6+049JLL10FMVwF0Vv927/92+p1Xud1Vq//+q+/ikm2+sEf/MHyzfd///ev3uIt3mL1hm/4hqs73OEOXVnSKuugoLw73elO+7J513d911LHur53v/vdS7p/+Zd/WX3oh37oCu7g+p73vGe5/7Ef+7Eunz/5kz9ZfeZnfubqpS99aWnfZ3zGZ6z8+Z3w93//96sg2qt73/vepX8/8iM/cvWLv/iL+bq7bttW+NEH+kLfwXMwMau3equ3WumLc845Z/WUpzyljJlgEkp5l112WfmtL//93/+9a+cHf/AHl7y+8Au/cHWf+9xnFYzO6pd/+Ze7Orq55ZZbVo985CNX2vFFX/RFpU8zwW233baS99u+7duWv6uuumoFRwnPfOYzS7mxKK1+//d/f3XFFVeUdMZIEMBMNnmdw+eSPpksIF7GIrL69m//9pV6aedXf/VX76vfT//0T5d3xjlcPfvZz+7SLJlH6mDuGV/w5fqiF71ormrd+1/6pV8quDS2brjhhlKXj/u4j1u94AUvKPXPhMHslD5Rz3d6p3dawX3dJ3/xF3+x0u/WFX3Xh8c97nHl3Zd8yZd0a4Z1JcH4sE6A7/7u7+7WDGMhIYjHSt+/93u/d9dWdbEeLIWD1nOunGBaVzfffPMqGM5VCDVdO77ru75r36e/+qu/WuaMfnva0562slYk/NM//dMqmNiCa2sJ3Abjn69nr0vwuWQeTY1PlTgoPo+caM5ibiSBhdui/PZv//Zl0ekn+5Ef+ZGyoN3udrcrA9zg/vEf//HVB33QB3VEzTcveclLViFZlUXhuuuuK0TScwuugf83f/M3q1e84hUrxMzfy172Mq8LIAjyQ+gTEPnv/d7vzZ/lGpzJ6j//8z9XIYmufviHf7gQRYQBmEQf8REfsUK8dd6v/dqvlTw9PymACH3Mx3zM6rd+67cKDp7xjGesTAJE0qIKXvu1X7u0Kwk7hsffHe94x/IeIcDAwCF8f83XfE0hbhbikNhLml39+4AP+IDVQx/60JXFrQ8WU4xQSNvlFaL3Du/wDisLqjaEVFra+T7v8z6rD/uwD1s997nPXV188cVlnFlIakAIMTfGImbp8ssvL/hAzLTL4oMYaGtoS8oYy8XRe4uzsaL/3/It37IsOm/yJm9SFzF6vwSfc30ymnn1QvtDai99hbH80i/90tXP/MzPVClWZVy/27u92+rrv/7rC1P0nOc8Z4WQgSXzSDpzA54ROngJTdNiQmIsYrRD+i0EW3+8xmu8xiok7NIv8v+zP/uz0p9/93d/V55Z4I1n/RBaIklWGHjlmtPmYR8QUuNEf1599dWlv6+//vpu/UEQjG+Aqc81A+FJ+IZv+IbVd37nd66+4iu+ojCU559/fiE0GLalcNB6zpXzj//4j2U9gp8//MM/7NrxAz/wAx0zlHmEhqwwAJ/3eZ+3euELX7j60R/90fLKuvDoRz+6rHeECkwsZuXhD3/4KjRY+fnkdQk+l8wjY2tsfKrAgfG5RDzdRZpUNf7DP/zDYHYh0aw/8RM/cfBd/TAWxqLKrZ+5pw761E/91O4x1Sm1SRDO7pnfMdG730Hw1sFVd7/djKmVYvKV/FKtKm1wVt1fivDUrMqp/z7ncz5nnSoiqq4gmOuYqOtP+7RPWwchWod0sw6GQJZ7gCpbPrEQ7Xm+9AfVawzuyeTq+6xnPWtfmsRfcJbl3V/+5V+WurzqVa/akzYI6mDdg9sr6WNSdenhiDq77qd8uW1bb7rppjIesr6/8Ru/UVSzz3/+8zProiKv60EN9djHPra8j0Wi1JOKmJkAvvWrccFcAFI9Gwt8+e3fT/3UT5W0QVDKmPJdcMrrWKzLXyyg+9qvDtKFVNXls/RmE3yO9clcWXCgfiE5dkmz7bV61liOBXYN99R15tEXfMEXdN+4GZtHmSiYymJ+CGKyDmm2lFvP1Uw3dv2Wb/mW8k1tUjDW1V87rBPugwnussgxEtJh98wN3BqXQ/CO7/iO6yCa3avQQOxRVRvTyhlTz6qnvJUBl0wK1pBcD7qMF9wcpJ4Lsl8vUc8y5SQwgVg/wG/+5m8WPDBJ5RzIOT23BmV+rnP4lGZuHi0Zn/LZFp//X2Sa5AGO5yXJMjnYuRr8wR/8QZEwM12q7fJ3Xt/lXd4lb4u6hHSwBFKCwpUBasZ3fud37v5w6AlB/At3Rc1LIonFZfV93/d95TXJA1eMyyZtkpL8JpmeRNBGkBLRUnwlt00ST6B+prLBve8a9DfJlnp1W2A2IGVTab/BG7xBkRzrvKhsE6j4gXbGYlzuSaokIH9h/ynP+hoEai3mg03hKPBJygCk7gSanSAK+bNISRdddFGRlkmg5h0VXUpvXcKJGypS5oFgGstYCEanpK5VfROfd6/UK00KHppLQDtINxdccMHqjd7ojcoz/4wR35CGN4F73eteXXL4WDoHfPThH/7hpY40Hu/7vu9bTBWksFjYuzx3dXOQei6tAwkuAS6z31MlTWWec+AhD3lISRqEMD/Z2XVsHhlDBx2fWckxfJ6TCU7i1eJKXboEDGZ2QoOT+hSx3XQSKse3qVKry7Xgm+hULcpgywnuqlP5WAASEMHXeq3XKvZNCylVBvUPghGbTYqt7ZJLLlmde+65KwMrpLeits3vz4Qr9SPQ7vd4j/fomoSRYHM8DNAHVIpsxLWNSn8Eh98Vyaa4DVDbv//7v3/5NAk/ezZGCrE15lINv03+U98cBT6NR2Bcsw0DeEti6jcbPzVebNjriCn1dx/G5pF0VNhU+UwX7M6IkP0Im4J6qR91G0gbNEJpQacKN5ezT0JbUtqi7F3DmLqVDdD8p9ZXV8wPcwXTUc2c7Lo+2+THtLUJQ1CXkThlB82xU7/f9H4Mn3P5LB2fc/lMvT92ohlScrE/sDnhWuoFre5AGwxwLP10FmAEjZEfMXvwgx9cDNH08TWwO4G/+qu/Ktfkjg1k+Zq8gETFPmpAszna/ELyYPt44hOfuAr16oqN7zGPeUx5nguKRUKeFlD10Q7f//zP/3xpHw6NodyfOrA/qS9JxDPt8r3F9yhAHbK+JCz11c5cgOAFuJoQaRPUJsDGpu1sRtpsMTDp9AcihdtEvOCKjcwiZtMEYmNz1C4At65flW+zl7JpJ2zSqeFBD3pQsb+wfZFAvuM7vqP0r/bX7fSNZzlW9I0xmWnYwLVXH7GZs+eSZthuQsW9+tzP/dyywQc+MQc2t7DzkLbZ2Ng5LeJwDeAazpfAEnzO9clcORgAzCD8Gc8ItY1AAA7kn5veEE54t0fAHCFR+U1CB1PzSL5hpinE2dj/2q/92oJ3RA3OMZxLgUR/ediW9T9tz4WhDVB2qNaLHdHGFPZIeE9tkI1HQJv0r76xSPf7RR2BfrNOyUN6jDzm1zg3140HeMB0wIu1B4OMwUK4bSBj06S1SQlTPkthF/VcUha8Wa9smrMestNiRNh0td16bB3QduPDXDBftEXbzPHP//zPL3sfSIKYSPtE7CGohYqpuszhc24eLRmfB8WnwXAkMGbTDGJYdOGB8MErm1Gocwbf+aa2gzhu4IgFO2FInWv2CEdYAPtUluFISyyA3e/gcjscxOJfbDSZlm2G7juBrYqNIt+7OuIA2Orq5+6lZSsAMXC692lL9S6/6ev+1cW7Xds02Q3gJsvNa6i3Sj1jEnTvYhEqz9hgM50+Cwmy+53PXWPxKOn9Y+cJSbtLp8zaptwljJtt2pp2lCzfkR91h/Ov/Mqv7LJna9Q26YL4dMd+gjh0dfMN+5g0+jEWj3Ifmxq6NLW9Gj6UnxDq9z3jQluNMTb8WHC6PLKurv3+zrzGrnP4XNInY3nn81C37pkrbFhsluqbc8n8ynbEpqZiQ/bbsbGEqXnEzui7zANezTO/Q3WZWUxe2Qr1AbsaXPtTfm3DtAbUc1U7rCcJxnbWob7aYwA+6qM+qntvbOmvTBfEMLNZB5HcM58c24BHEIxU941v1dORIHNwKeyqnnPlmTth4ujqq9ycr2zW2XZrINzmbzZ0YD7U64T35lIwynNF73k/hs+l82hufB4Un8dONPdga4c/EBqdlucyN806pI2y2A19F9ziOlRShZgZaIcF2xCSui5LNgLV6Q/rHuGAr5BURos4aFvrjPWJjSZ9sJlL3x0E5BsS1WAW8saQhRQ/2dbBjzd4uASfG2Q3mNTGr5ACB9956J05MgdT8wieLITbAKJpfC+B0I6UDThL0m6bRt+HBLOPGGpfSGilnebAJsRy27oc9LuQHkfH+JK8zTOCzkHaOobPJeVLs3R8Ls2vTnfk6tnYXbW63/3uV2xPU2L6Nu+CE1/RqVMfUItQn9nivQ2wQYwBNSTV42HCS+N4C1XJQYF6xdEAR0iohI8DqOxSbTdU/q7amnmPqbjTZpfptrlSyfkbAuMibTtD73f1bA6fuyiHqm4KlqqVp+ZRmgKmyhl6Rz3qTCG1qWMP5vmUfTBVdkN57eqZvs/jV3We9Zw77DWjLvcg96/7uq97kM+Lmvqgc20Mn0srtnR8Ls2vTnf7+sdh3tuow96EoAX3dShFQTR9tUllJ2VsTe42ARxKgYeYKRyx7bAHvvmbv/lWJTlA/4AHPKDYmoJz2yqPo/hoF209inq2Mk4GBhBLtjV2M/ZDTFeDhoGjwsDtiJ1HVVgrp2GgYaBhoGGgYeA0Y+DIJM3TjKRW94aBhoGGgYaBhgEYaESzjYOGgYaBhoGGgYaBhRg4dUTTWaE8P7WwjS1Zw0DDQA8Du5hHu8ijV632s2HgxGPg1Nk0OTGIIwUrjpA3AQ6bHV5++tOfvjovDqOPgbx5EHHIdgyYgR2ydbVJx8HosR2bY3mcKc/hILb/l52+mBkOBGxeOmpw8J5LN7s+HZAX2aXuQw4LDrqjb65NuyhjF3nM1dP7bedRnfcu8qjz2+bemLsp3FRyKmBDGYfeIvQ02D0GzDEnFLgQtYOcV7M+2PHvz5rIuQOnLjZobgI8pDkFwUlInJUd9SDGqYayOJ5Jr0/K4Wmq76XKRtQHPvCBXTWW1jMdPNh8ZnNpnLM9OvUs/5Jv/dZvXf6Ed0nQuHye13Bwnq/3XXn8iQO0+57PPXDkwi47XiymwELAu8cYyINbOLtSeYPhy5arPCAMVbYhr/LLqB52+nkuVBZPKIAfTqGCPK/DZvE4lHnosG1A2ZmHHcUJdtJmmfneVbSJTYG3kzhgXoglPEwxJGN5H7StvJBwn8clIaKtf2qfxSY7F4i8xhwW7KKMXeSxtH3bzqM6/13kUee3zT1POxZYdeHpp/Y1u01+7ZtxDDjGJ2oJnKcv7Tp1BDEoHrEwMrQQfCxvEvJNXryM8S7FOxQCbU3BSPYBgxSOE1bhxKScDqjf8wKF2PFs5I/Hqbq+S+ppLiLGj3rUo0rW/BrzbFQgJIUjgfQI5BB7SAJdmVG5FoQ6nDDwilIfBo5B14JQd6Nk/CY4xuLEIlwflqDTPMpwalF7eYJXz3jUmYO6D6bS9tNtUsZYvtvk0a9H5j32PN8vuZqbB4Vd1GOqDjw8xaI4lWTPu7H6TLU1jsl1eYx93yWYuJn71nuH+qdgqp71d2NleT72rv5+7N63otKI1tQH6zoHDwm8PPEItAmEq8M1jz3KsQbyoJTe0+p8RMcRGcq8DqGiflWiyNTOTXiD42UoYUk9efgac45z5DZNB5qJ3Ql8GPKr2YJQtyDUOSY2ueJ+OcsQQYK/zJioRaWTzhQ4d5gLFEzad6aVBsDZPz6Ga+me/0xSOEmGWl4kBxoGkU5oSpaUMdemuTxoBzKWIH+wNB7UkOpbxxGdC+6MA9cWf/1g7vyIzgUf146pPLQDnmg5cOrqJw5pOrhPPPABzC8vH61MJ7RL6iTowhIQYcW5b/1Bg+M+3KcVFb3vgzkv9ZAnP8D8pwoErd8ymDoJRl8OBUn/1m/91lIf/qFFRyE1MTtoj2+WAlPBXBBqUVeo/uTNhyu8qTdpCkzV0/u58SnNbTNB0qVZArXJo5/eul47eOAkYc5JRj8PUqDxoxwqVxIeJ+w10BaKHpVSYP3OvTGVDkhIrpzm16rZJfUknRov4Yaxn/3RqWf3lbzhA2o3E4Numm2yDy0IdR8j2/9mnz0tQagxXILXUtGlCprDcc+Bd4IDA4u9e38W1QQEkucazuVvvPHGEnicp5kERNkCz26GKFPzUsV7zlnHkjIyr7HrXB6YS+OfGv2GG24oRMnCGnFBuwVC3sKUTQV3nppHS/pdGVN5mJ/U45gZi74g1vDLwX0CQsfepQ8wO+xLvFYhTgjYEhCqj/cldbY4u7e/ID3w3OUudylE1B4FTBC7u5B9VH8hcRTn8wiVsTAUJN2CiQAIFKENmAGRXYwRwa9rpmqqvnNBqDlp0F+I2pOf/ORi6hDxBZPBhBOSZSGoY/VU9tz4RHQxXFSmY0HSp9qw6TsqUcHeESvq3E0AXkPC6z5h7skgEfmQSjZcKC7yyoYJo7of8hA0Vk84ZyrD8CDAcIfx6iBF1sO+xqJQxN3Qdw8W1YJQtyDU1CGbOqenagnOvIwt31PXxcJQVLU50Kh6vJtSz/KVefPNN6+f85znrCNqRheAOvMwbuXx2Z/92YN+ZZeUkXmNXZfkwWk4lVXtLL7Oj1rKXKO+mgruPBbMPQM1zwUfV+ZYHiGllTpSr4FY8Mvv8iP+CVLAkbr2Ale/01F6ebjwH0f8EbVmNDUH4oIGBOHYk0YQBv1ZByfPeqRKMSTLNaf+gKoxA22ra9jyy/O5f3zkSq88jsupL+sg1IJ4q4cgCAmxmJdn6ryknr6bGp+crisjCH8XIFqf9Nuf5c9dx9Sz+Z0gGvBunKaT/3w3d4WrCL/YJYOfDAbvYQb4CMarBGfQhiC0Xfr+jXoE49J/XH6P1VPe8vVnrAZzVdoSTGD57sjVsx21XnCDs643dEx9YudkBgaWDtc6tKO1BaGewuL+dyc9CDU1DPUkX6QveMELimrWDulUwe1v0f4nJBEbu0iXNiCQhHKjVj+1TUukvuME3LtdfH2gZt5FcGf5btvvWSf1yB2NQrZR/SaQ1OE7VX2udbDyTLerq/BhfR+4qWmoy1UPkkVflaweXFqm71ibjYI5WVS9uSDUNANwlfFSZeo3la06b1rPofG5SZD0RY2aSSQUXzAGZRNPMHkzqfe+5ie4nnvCzdUq37BvFkmUSprGBdgI2JdGPUcTbMK88MIL/dwHY/VkCgGPe9zjSkgzkq3xS1MFjnf2lyqM/zN4U+U2nur/3lALEcWzwYhtPVHnvs/3FsS0JeQzVxPKYBaEGmQQ6pBOyu86XpyFvA5CbbIJxgyo89jebNfW2XZ8+k0VcCZBLgLZ7mwbNUcuPvnsIFdqGoPZxLIQs2tx3k1d34ehwLZUV7F5qNj32LHEzKSO2RaGytg0r23zyODO7EJU1Ndff/0g47hpfXadnsotJLVydEze5ulQf+263Dq/oxqfGYQaU0ftauepANT+gHpIQ41cQx6Z2EU9qa0JEHajIiT130UXXVQXu7N7x0zs0Ee0ck3OzDGlGF12+T6w6+ZpA++sH54lsJEirOzYjpYAqu0hJ/Pwffe73330yIpvh+qZQRccWwOYP2uWeoNjJ5oh75bNFHT7Bg57Zf7RwSewLXjeT0f/DGw8MBDpr3GWEa8vPy1XiyMQfBmYqMrj4D3UMuWZfzrFBMbh2WzAiM+mAUgkbE/sGrZVs58MBaFWR3Vlq2GwhuyxINTKxln5ZhsiXyq2xT94UEecHMO6e7hIyPu8qh9Ijg7eDVbfwgV84Y4xBYBN0UCDq1AxFTsgJgEjtKmdo2Q48i9tVuoPHG0iZSKgCRgei4ajRBYME85mC5POhPAON65uovDoc/1C6gTa6Dugv5WV46g8jH9TZWSauetUHvCtDvoBvtXBXz12LbDeheq24Jwd1pjSjmTK5uZR9nde+/2uDVN5qGeOZWMLJK4Sn+zlIG1xjgttOvYxtsab78wv4w8+Erz32xpizLqvjxzNjU/4Mrb0fTIx2pUEYCkzz7Z72WWXlTo6smDDI5A3ECwbYPbYTbXJOkMChr+5evp2bnyyfcOTIOnwBA8kNpucMFhLgXRt/Gu7+sNp9rE8Qr1epD/rAqGFnTpiDe/TzNiAZk2Fl36/24iGiVVPeSCs9RHDSy+9dEVQUf+UYmmW2Lj7YJ8DzUEf5uppHjofqgxzjlRrjMFjgUFl7yE8HLNppo46dcj9awtCfbeN7XzZfWPxNGOhLTr6Pq7Zh0BMiE6nH6qN8oxtINPrsyUBj9kQ2ZPyOzYO9pUhiElS0sWiMfR69JkA4Jm/qzIEItfGGmw59y7TBpPVBQoOQtm9YxONCV3Ssa8A2+vzu7zCRx+myuinHfs9lsfLXvayfXVQl9omF4vZZHBndtusf//KvrOk3+fyMF8zb/3ALpe/cyxpe0hSJaizwOw33njjWn88+9nPHkPLvufh0KDLN/N3NTbB8573vMH3wQx0eU2NTzbhzNcxpgwg75scD3VeXaa9myVBqNlHjbUsz7zVHwlT9ZQm65Pfu/bH51SQ9Cxn7ho7kLs6ZlmClCekLbt+l/2RaVyDGJV8BCIPJqt+VeZtHeydDX8I2EqzHFdjt4akK0PxlJfUk520XvOM5YQWhDox0bua7Gn47b0qZ6lMegt8v7P6aQ/ye1tCkmWOEc18f1TXkH4OLQh1cLtlc4VBHrtb9xHLuo0hJQwGCpbGWbypDQV1PlP3U2VMfVe/O2geIdmNjt26nJNyr72IRtiOjqVKS8bnthWzhtgQ5WrN6DNzdb7GX26eqp/n/UHrCc/KMD76xCrLOOhVGeZkSKCTWYX0PvlePZcwJWOZwPPUfF5ST2luu+22ffmc0xddD/t3C0K9DMPUEtS7BwUqH2qSMzUItSMYCWmLyN/9K/tFvamgfs+uPPd9nX7sfqqMsW/6zw+ax7bBnfv1OMzf1Ho2WNhDwL5J5VdvyjnMsvt5H2ZQ7zwCo8w5W/7c+DtoPY2ruTL6uNn0tzLqOTn2vT0fU3DQelKxTuWxpJ7SnBf29z4cmU3TRh27Ydm82BsOAzSSLcYEdAarBaFuQagPY5y1PA+OAcTSXGXDsxmOfTl37B4895ZDw8DhYeDUOWw/PFS0nBsGGgYaBhoGGgamMXBkkuZ0NdrbhoGGgYaBhoGGgZOPgUY0T34ftRo2DDQMNAw0DJwQDDSieUI6olWjYaBhoGGgYeDkY+DEEU0HoZe6qDpO9NaHno+zHqehbAfe0ynCaajv2VBHThDiuNTZ0NTWxoaBnWLgDtcG7DTHmcx4lncEAsSh1D2pLa520NmyPLaTDrGyAHObZBduHWZsT2YH/GFXH68xvErwLtP3ki+Sg7J5M9k1xNmj4mmj3q6+6zJ2kd/SeooKwW3gkF/MXdSj5bE5BkT8EMnhoQ996OYfL/iC1xmemV784hcPHiXhXYenFV5X7KIVlSR91dbZ88zD84uxNrT9X1rl8DvMtWWGhPLcN1yycY/Ijd255547eOQIo26eh+P3kp4XnqXgNIBv03uMYyX1WsELkny5yqv/nCbItSvOFBYXoNKJpONYlLomwKUy6u+5eKvTZNo4V1hcQlpb0w1cvnvVq15VopyEo4zVXe96133+eK2tvHepB89FfS87PPTY5Zz1gFvtqHEuj3BWUbxu8bSlX4eA60ttMj54suqHEFvS70P5HsWzI5U0HQURiZtLIsjuQ7oR6ztXli4OzBaXSNzRcZXHpyDCKs/DAJ199dVXr5yXrF1FZVmIgEl6GICxEEduCAw0TEX95wwmd11HDVP1rOvCubhQQfp3l8DXcI0H90JLhbeYXRZzRuZljg3Ns100luN4Zy7DK0/xtRqHxPdlazxwl8aPqLBh3KelC8Y6MWIotuGYA36Mc0QlKWc++/MUsRR2y/EWUjU3aJjhGrjFtJ4IvRUOFsr6VL+fu3e0jXs6REgdHZ9Jt3u+RYT4mzVX/Dl7LXZoXVeuNvkJJgh4rz51PcWTfNaznlXcenLtyX/zmOaGq0pEC/Gtgfs7zuMR8fAwVNqZrkUznT4Ir0yl39L3bb5zFV7N3FIHf+paaysIPVzzOern+B8fzgh0DdIQRjIWpnWOe8E+zPV7P/2R/g5u7MggONvi+ii4kdEyY7KtY5Dsec9LBo8hXLIFwS2eIi6P8E3cJ/E+MQZj3jfGnvfz4RFCGcGh9V/N/lbGXDkxgAbz0X4u34aAV5Dw57qGJ66kglNbh5/EUk+46cNYGZlOG+dgrB1T9ZzLc+j9WDlDaT3jZUX79RG3fvCR7s6CC9732ZI+2ffRyIOxui4pY+zbLGruvXRz/TqXlxBnwh4dFmhDEInSN0N15R0nIYhASReBqfNRuQZhKfNenz71qU/d8y5/cHcX57/L930PMFwsepfgdxCV/FlwGPE811deeeXsXO0+6t3IM8eadcpYDGauSxVS4tq6l8BlnjJrCMa/8+CUeUTg9C4Jt3PCU82BcrjC5P5N+LEanvvc5665MdQvyrC+yLeGHHfawG1jH7i3E6prDNLVY/ZtaDP24N933PnJf8i9Xea7pN8z7XFcj1TSzJAvQ2qF5BRwKunUOJ8J2USi5Bmfx37qCxyVa6p0ONnGSXLcTiq94oorind8Dn5j0pas5qLa41pFhxClnTPh9KKf9XCNeIulHGWRQvtAPeJbnvn9iVqP8wacE+PmRCbntFgwX/c1F80zvz9pY+KUPxxzcnS8gtzjHvdYueLm5Rdx/kr+GQLID3lyVgyXpC8qrpgsJZ1/nJOrJ5WXaATwlvX0nnpkKuL8XD3lgRtWB7hSVh+E3vFOvwrrRtVN6qgBN/y0pz2t5MMB+fOf//zyjTZTXwsBB2gd4IMzZkD1mDDVJ9IYHxEjsHDGxguvVfrFWATUiOrpGS1J+KFcCTGnzsmRz5Uxh0/lkEpy3OoTUgtpLQEulK0/9StOvm7nknpmXoIsT5kWeJIyx/oSS34/d53TKtTecdIMIeRWDearuUiKGwKqQFJaSi1DaWrPM9SItWaKxGYeCEI9V9+hvD0TZDpNSdSt1qQg/l1ydWfKSQiisepHFtHuxEFq2+TTB9IpVfIY6C9zaqgtHLMbv95ZM0l4JNgahr6r3+e9OuRans9c5WdNy74VaLxe26ShNTD2SPVjMNfvY98d1fMjJZomPT33FFi8qWxq0BnBnewhplwkEf0zrQXEwkZNKcIJPbnFttaVIypjUe2DYykqRJNQCDCuyKiQ+hBcXPFsZBHMqA2ZRvvUA3HS8eHguER4txAjyNpOlWohog4SAYSaWYQD5QNx6HIwS+NPVA52nxos9NRZwV2X6B3ewREwUC2+1JXsxwgWQmBCAQs/NXkuOvCkTuqexHku4vySesIhVQyc9UOEqYd6WbTgiSo8tAdFTYXpAdoYzqgL0TLR1I2aCu6pmoZAhA+g7WCuT6TBUFCxIcDU8iGFFXyIlgMyGgccRTDiEiXiKU95SnmuD5aUMYdPbTLeEGOqL4wEpkMfAbigCjQeLPJwZjzpM7YlMFfPkujV/9gy6/iz9Tv3yqBWhIvDAm0KCajYuzGXNaEwtzAyxsUYcMMnNFwu0v105hp7+hd/8RcXBlD0Ikxmgog4QN9gUGzvME+3BWpJRHkosoY8bXA0b4SuGwJMj/pRV2IAa8CgGxtMQvI3h2sw540VhGoIrBO5PniPWR5T8Q59n8/ME3VAHM3tWqWOmCYTK704qvChn4ErJs9Y1wZjF+NSw5J+r9Mfy/1Ribe8zvNqT8W6KVA5UCclUC8Ep1P+ogPycYn4QPR/0Yte1D2rb2LQjka1D0JV1AZ1pHFR1+U3pJ7VFtEPahDBQ/qpCOlBuEuaMKaXT2OQ7CtDXcbUsz6iVlFO/Se6eUinJU91o6KpgWd/6anAYkEu9zGguyRZr1QLzUWc9+FcPTPzkKCKmi1/11ftFD0hgQopFrryM/ukVttR1dVjiGpMu4wRKnz3oj7kuJjrE46jfZPtVnDiKvHpGbW4dMZhTH6POpgrQ8I5fBqb6i+qgzZR6wWR7lR/cKj8WJi7cqnTfBM2ve7ZVD27RAtunvCEJ5TyanXmgs/2JJlSz0poHqdqVRtqJ97UscHMlfyCUdqnns0oFkwSwUyVuvbVs7GIr0WtgTd/5oh1I0HkCs+pWKmqjcVtncYH81e+ZzoZA6pZZaQatJ/OPFBfYzlskN1rpgdRW8xR6xPTjOgpCfKj8g2GqjzSzr561jiJWMD5SVGzSjcEcDKkno39FGXtMTZzDQpGpMuC+ta4SaCClVfiXF/57Q++qZzhg5klYa7fM91xXo9E0sRtXHDBBYXLIFVtCiQWW+RBDJDV+eefX1Qi1CKpQss8qUSpdPpA9UiCjEW3SDfJZVKDAhIPqOMwjnGEJeHAP5IsIMXZgecvpRXcVQ2p0klJuFad1unG7mOwlTpTo9lQEYtIF1+OREQVUwNOGogPR32kP2p1GA4xBnO3AWEu4nyd90Hv73Wve3VZ2CCWuKD6JE2RxhPUewie/OQnF02Dd9dcc023M3GuT1LdVW/qmlJbDu0AnitDnebwSXVI0iH1kMwf+MAHFo1JSgPiC4JaAqFOw7Hn2C0JXv1vqJ71+7l76m9S+5Oe9KS5pFu/pya08SQIQdGWpNRhTtKQ2EBEorZr0yaaG264oSsrFu0yXkln+Zx6MvElIfMCc46ds8GAFUmMZJsQC2+5JVFbF0jXTEGbAumINsm4oYEYA1owmq4xNagdzUFYyxrHNJNAqqOBM0f1vzWFBJ0SnLYZA+Y2fFkL7IC1QzWBRq5WqVL11pJ9ppu6WtfEwqVydtWWIMTdJ/JLTZWHWV5qF3NDGI0XfNMU6Ous55J+7wo7xptzjqJsizMEmYg3xs6ueuIvKd+iatcWwmnHn63TBgy7z1L1EXUplS47pYgWFmZ2uYTcnm1xyt1ctlZvAhkh3SRPW+sm32dau/2SmOez/tXEY0OBW2o2qmmLA2DvorquAXEFiDTiaAJTRWU9TXw77DIygLZTW8I31TC8WFQE+k5mYkk96zpseq+e8KAtFiSTjnpyCOw4pMK1cCCgoW0oi9Ncn6R6yVjIfrcrdxOYK0Nec/g0njFWr3jFK4r615EMY5aNHb6ZGwA1d20jQ2iowXYNiJS5Ql3Ihn6YoG0WVgt/aBpKUVTNGFt/7MV2pJq3CcYxQsB0kX0onR2oCXBucU/iQCVtbiZQxSs37YmIAUZNX9SEjSrUbs6Q1rr6ZR76iRrYGGB/rr/LNK761pzLgPb1u/refDQOrXFjAA/mRdZTmzF9uZ4RUjBySazkQ5hINb7fxtHQCQbvloK21kyKcSjQewLmHcNrJy3ItSXXWm2lWq9VzXP9XufNPmx/DNX+kcJRirlEemqCTSEW7SLGiw+Zu2VjghUxnyoU2LFFxUa9EZOn/KVawPswQJeyYyKtwyi+DvtZ+T6IcVELZRlUf7FYFFUGNQhVQgaEjcnZ5U39GZuCym/qCkCNKz21TwzaomKhwlXvVPumyjFVSVSkvhF8OCHjaFKHuI8JW+qrHGq82AxTdsJpZyyyRVVCzZHqrFQX2llIJaI91DfUPtqQKk2qMXWmRrPTTT1SLURNov1UQ3bYhtRR3tutmjBVT2mox9QxuN7Sf+79Zb+ELbA8l6cyYiEouKKi1E7PwoZYylW/7I9Uz2qLnYp1veHdb2o26r8lfZJBp6m1/fnen/qAWBgLnj2zQ1EbqNUTlpQxh0/jQf5hfyvqRiqrIP6lzcqhgjS2td341U/w5JtYjEtV5uqZ9V1yVZa84WNTiMW8BINWL3kYJ7G4dtnAl7FnToQGqKjqpKNy7YN5CQ/U8tkfdRqqyRzPxnENcEkFaW2wbhg/YSftksSxjlI/a4B5Yqwpqw8hbZd06qgfEpStPzy3KzRs0SWAOVVqH6jV+99Lw4ygbeaAeloHpAvi02XhXRzvKO2PIzJl7lMpDwEcmuvapH4JVLfyNT+MYfeuNeR89c7aY73Rl0A9mU2sA/oh+9Yak5Bj2Lf6zRiyVtVAhWvt1B/aqKxt+t1a59spdXhd7i7vbUA5MqDT19BtQGdBtu/zL7jSMuksMPmsvlpUEhCnekHUebkgp23SJEbUM4+nP/3p3T1bUQ6UfF9fEQBg8tR5IGbXXXddsYml7cV36g7qNtWDJxdEaTMP7cQY1OXm+3pRMdDZDOp07HxJEJWL2NT1tKCY9AlsJvX36mDxqCeitGP19E4b6zzyPna4et0dlfHcBK3zSkKA8CGA2heaisKoJNHMhSDzteiAZBpCq1F+T/VJSRD/THQLOeJmkZKnsgHcZRl51W81zJUxh0/jR97wXJdR90mcr+sW6UyrrQlL6plp565JKNgTNwXEK9uQV+3KsYO45zEp74292Kg2WEw9ZzE3fTBnswzXmqgZD8kcexdqzXXO08wnx4r35oN1pg9pv1OXJCLSmK912Xk/VE/EeOzYSOLa9/AU5zg7XCmHHT3zdsUI1GuFNKBeX6RjB0+Ae2te5lOvjdJ4X4+9TIchAeaCcvO5a2wE6vYOlETxr16frK85h/I9wlqveQSMIZjr91xbhvAwlN8unx1paDCqkUBGUUFte7A6Bn1RF1K5pJi/iWgeHFDx2JEqmf63VIDRsUWNWXu66Keb+h0dVHbWUl9Qn1JjbgMxkMshaO1MFccm+cQEL22hwqhVNXUe1LLqmSqsfEcdph3KtSuPKmxM9XTQemaZS67sIVRisdgtSd6l2aRP2MtiQ8MquOGN8D5VxhJ8Gtv6inoNrseOZrFHBbdf1F3bjq0OMRM3VIr1kY2JpFu90gbqParDwwRz3lweW3PUIwhsMVuMtfeguNBn+nRsHppDTAt2fddq6MQLU4rx6KgZtfI264G84Fv+/fme5cxdrQVwRa1a74mov9NWprQxs4F5oq3Us6myrb+fuzc/HLsKotwdMZv7Zpfvj5RoQiT7ZHA0xV4WnN0u29LyOkMx4OxmcKyF2bK13gaPUE/ttLXsQeyJGKaQGlfByZYzoTstpGXWMNAwcGAMOM/MI5sjPge1y25Tmf9vWd/m6w2/wek5g2bH25jUsmGWLflZgAFSGtdfJJLL4mwngrZrsJnE5glSfdhLVqE+3HURLb+GgYaBHWDAznIb4EjcxwFHKmkeRwNbmQ0DDQMNAw0DDQO7wsB2xrZdld7yaRhoGGgYaBhoGDhFGGhE8xR1Vqtqw0DDQMNAw8DxYuDEEU0eWuKM3vFipZW+EQZan22Erpa4YaBh4BRj4ETZNB2RsNmDay2ePLYBecSZv3KsxMYjR0jGtpFvk3/7Zi8GdtFne3Pc+0v+NgFx9OzYgF1zfYjD8iWIr93ZPCPxKjK00YyHEtEebN2Ps4FdtAmeUmpPMfLnZWVoDIZjg3LchfP0+qiEbfTysaOPpyaOs2v3f/06D/127IAXHt54HAngwYZj7RrEMPRnc5QyxJetjx/Yjs8bEu9Ocbi8OCKvveRkXo5Q8NDFi1K9scoRpCGvS5xr18GVeeqxoc8zW/8zcIL8zb9+dAtlpBN9fcr1o81XNeiTdPi9BJ/6m4cq+OIVy/dDbR3r97rsdt8wsBQDJ0rSzHNM/fNU/CmacP64g7Ow5O84lF7aijjyIWkh41KNqzG+Zi0MwOKQ37g65xMH2btQQeGAYM97aSzAdvs2GMfAWJ+Nf7HZm3ByUIiXvnUUpA8ICOJi56txw6WW8EN9cK6TP14E0+47C2wCf68333xzWXwtwFyBiXYzBPybhtOEfSGzlgQ8HsqvfqbMqWDECL7oNYiFIzh8LCOQCXx9Gufq74wc5pPrwyEYC/JrOz9cw4M/+O0HTYbLOKBezooisPAaB+u7YvhCnQqazG0aH61Zhqsy0h+0jObwqf3h4aqk4zaST1k+h/sw1e/9tO13w8AiDARHd6IgFrN9Qai5LOMayjuu07hx4r3j8nCFly7ZuI3ipYLLNi6fuI7zm5cXwLMFjxe8dXCLl67TeN8AvJRwycTrhbSiBPA84xv59SHdvPWfb/M7JIzBz+bKCI59j4eSoUzG8s60XNUthbG8hvpsaZ5L0imX+zMeb/rA6wlvQQk8IRkrNXCRZiyMBdANwlA8S+U3InvwBtUHbse4IuTRpB9FgluzHGu+83vTCCG8VvH6BHhSUWceVhKMQ+7JEnhcqSOc8AijfnG4vCTRLnlwj1aD9+YPvPGAVAPPTLV7NV68+vjU/oxmYS4qQxSXBB50xrzfSKMdNf7SG1Jdzzl8pjvKYIJKseqsHuZxwly/Z7p2bRjYBAMnStJE5YeCUHPOjGumcqL2iQlX1FO4fuohNlBBnXkbokaiHiMl8h7DgwYQVYQXIDHpHvSgB60e+9jHlvScOgPn8zhsll5a0SOc1+MthBSTwCM/ztqhWunExOStI4FXF9/5vh80WZolwbLnyoAHbRP9AJetLOrCGkhPnG2TvEkfJGsqzgTOsZ15pP4bCkK9pJ6Z11Cf5TvXcEtXHFVTHW4DQ6rWzEfUk1oqpCbUtliYM0mRRvwYc4hAnZtnvmLyFOktndJ3mcSN8QbvY/WpzQBUyZu2l4eV9FSVEnztuSWDHGedqCIzSo5nvM1wYH7HO96xJBEdCFAp18AR/Fhw5yVBk+WXUXrUwTjMgAB1OTzDsHf3QTuM2QRzmqOTrG8+n8Jnes3JNPIE5msCaRWM9Xuma9eGgU0wcKTODZZUTAicIWC7ERInfDgWghmSQOeCKRxClwWqv9AJkkptW0NILYXIsYM5IIuADgG7S9q5MsKE3yagqAbKD4fPhWhy6yZosG9CGipe+9l52FKoqYID7oImI+omPBUYNRY1FyIr6gCYK0Ma6QF1JbdWIr2wRSVgBKieqbUtblScgsdKC6jHQoouhB/BYR8ThUbdBOrFiMzVM8tyHesz74RkE6YKIEiIzmEB/GMWME+5mCqL+g/zcOWVV5ZFXB9iGIaAVyD46YcHs7DDHzuiaBZ9MCbgAZGjOoTHkBL7yRb9ZitUxlAwYhloj/f6+YlPfOJonspXHwxTgnEiuLP2wNUUYEYxqP12XHTRRWXuwCGVMFtuTdzl+dJXB012j6hSmY8Fi6ZO7oeym8NnehYLabmEqEIgMT+IfsIm/Z7ftGvDwBwGThzRnKowyY1LNRPUop5gYQYmDbB41tJfvYHhkY98ZEmT//qENhxAlwlMmsO1WvDTxopDRwBJqSQBdk8EG3FCRBFJC4gFMzeB+F5e+ZsLQYsyosmO04/9OVcGSZgkwa5lESchiyeo7ITcDAEHFjUEkjSpbGAThraFSrvzHym0EFxYwGy2matnljV3JQkhWBgMi+dhAmaCFAS3NShbH5C4ESJ4t+gOuXFkoyMF1UTXeGJrFAt2zNerTTeIAo0HYE/H6G0D/IOmH1oMWd9fKQmO/0/Mzpg0qx8RKn+1ZMz2h6ETymoO0p4PVzXwlhSRe8rYhVeQc8S9sRNOyIvN0Vhnv2QHHrI5aicCLn0Nc/gkyYtRql8i8kf5NCJq1FmUMbe03/d82H40DExhYBNd7nGnZYdki2G7EC4rIe0ZwoWBWBhKGun8pbd/3wq9w24kbUbViIldvouJXWxC4Ye0REQR2qaOmhA7APfkm/nHIlGiDoiM7r6G4ICLbbR+JkyQvIZgrgzfCK3Ejpjlu/YjK7DP1u/ly14FYnNICcFVflT/5FmH2pmqZ/XZ7G0QncGwTrMfVgnGbJqZRAgi7WXr6oN2iZqQIFSbyDN9YN/V53WEe2mE4pK3aCvqYRyxp2fIOGmCkSr9zOYouoYy+5EkpFsKbJpsiWN5qKvIGeyLfUh7n3lQQ0bBYMfUDjZRNvxg1Opk3X0wCZ3tsnv46hs4gUNzxpjPyDX9dH6LYCLNkE08NmAVnPe/m8NnHZaO7V979BH7aMLSfs/07dowsAQDJ86mOUbgqaIiPl6RIkgU1FJ2QoLcpk4NCR71qEeVqPM42wfHTlp2rwQcKrsRm2TaOiIcUL4udhUqOBItjj4lBwmoaYP4FA/9vPTnn++9i0lbJLgMAE01PLR9vyts4GauDJ+QKtmu7HSkoo2QPwU3KXWQvKmd1QsXn+o10d6BepIiammc2g5Xvk3UgZLpxD84IEFn/SaSbvUqFuVib4z4puWYRT8TGoHaXmZnaYQU6icr6k6SUV9lT3LPIL/wrh3s3LUEaHzaxUsLQuLsBzzOwqgMg8BMBhmWdi4YsWMmtAc0G7UJgm2RJEl1OqQ2p42xS1U72H61I+2DWUdXNmHzyd6AIbADmQmA5E5rEQR+KFl5Jn9pSOx9oIqu7Zv5fg6fzCvg4osvLkeRUvNUz+Wl/W43vmDfNEQNGgZmMbCEsh53mlBDFslMPDzcaqilym+7W1MSjEFfOE0790iSOHUcNYkA2JmH2w0CUoLi2hVo9yDuVIw3+YjXKE+7dUHG0SOpKpd0K31sYy9BdWPxWYcqsHDrJAzcP+5dmqGgyfIkhagDiea2CGbsL3cAez9XhjSkxrDPlXqrl3igyszYcnYm+h0Etew2tqPQrspgInzeBe2125PUGgv5viDUc/UsGS34p07q4i/svgu+2JvETstgTorEpW/gK1TTXSLSsLxJJsEIFK0C6atOk/0YzEyJl2gciJ/ZB1JdLZH23/utPSTAUG3vkZzmAh5nXvpdffvlaKfxOBWM2PgkFQqeTLuiHnU8QgGdtc34IAnCRxDOPXFSsx7GK0lVmUHQ8nF3Tbzm/OpeVDdwqLyrr766eroubbBzV75TQZPNa7hQ1z7M4VP/+tZ8MdfNQ3Vxn7C03+FLXjRMDRoG5jBgc8aJB4u7Qe3PQkB9lr8tJMBRlJAKu+f53hEEYELls7yaLMFdlvchvXbvPQfUirb0Sx8bRMpvkzm/d5XWQiYtMGnHgiYj5vW3eV+r4OQzVwYCWLfHQmwRT9CmzDuvIVUXIptppoJQL6ln5jN3RQwOsiiFvXhfW6iXE/oBerO99WJPfSdgbr6jkqwZlcwLHseOpUgjz8zDNdX+3mEyMGj5fijgsXQZcHgouHO+k4f+dRyqVmlS9df9Dg/JKMk77Jhd+VkPV3OmD4h2pumr9qWdCppcm0kwppjYGvp9At91PTMtoqsOxkgfluAT85rmGqrYOLO6J5sl/Y6ZVgdjNOfwnkzaj4aBHgZOlEegWbF4QYIY+MUjic0PVI25FX3Bp4uTKIMaz6acPNIy9rHdojZzOGS9CUyVQW1MNRgEuvz1VarUdTYA2QAVEkXZOJSbg/p1oJaFq/7ux366g/yOMVe8vxxGX2xSL8cfqAmpZ+vNMZkHXOnPg9RTHkwA9caYzD+vQST2bDTK565BJCeDEcMlNbrjKXm0pP5+V/fGGBzVKujMW8xR48txpyHVrnRU/8wn8DkWNNlGJmN4LJixfObwmfOdKrb2jOTbhKl+D+ZxFZJy2f0ejER+0q4NA6MYOOOI5mhLj/AFe6jFwPEFNsXDCJp8hM1pRTUMnLEYcFSMTZznI8xOg4aBOQw0ojmHoS3e2zxkQ4IzY445hOpni1zaJw0DDQOHjQGSqo1dte/cwy6z5X+6MdCI5unuv1b7hoGGgYaBhoEjxMCpOXJyhDhpRTUMNAw0DDQMNAwMYqARzUG0tIcNAw0DDQMNAw0D+zFw4oimnW58XjY4czBgJ+VhOTY4c7DUWtIw0DBwGjBwomyajPL8lLYg1Kdh6CyvI5+gfKC+/OUvX/7RBin54OXoXv6XXnppF7EksxDsmC9WTvEdk+AcvH9Mx+5Jf45BDAV3lhcn5P5s8OKYn9eeBF5l4mxh/ixXXqd4zkmYq2emW3Ll79jRGJ5/hkCkHN6BHA8RASfOd3bJpgJIO4I05MWKx5304bwEnxmI2tEsPo3Ft62P+Zjr/DzDJzxx0F7vXl2CT/6Xp4JQO57DY1I4aii40q/pA7pDRtxg1MOxQfHSxFcyJ/ANGgbGMHCiJM08F9Y/4/aQhzxkT4BoO1L74GwiR92I7oMPEIS6XoQsHs5/+YvD2d19PuPGjDs/Z+sajGPAWb2ps3jjXy57IwQaRkvkjz7hkgOiIcoLYucIkPGEOCaER5rJ4M7ScTtnbDgbGTFbS8Sd/N6VSzmEips8f5iEftDsuXrW+U3dI3qOMYVDi33JECPRfbiSBOEIo7i6y4TOC4us47yq8d0PIM01o3mU7cBIcHDv3GbCHD5f+cpXliDfrs7/qguc1SD4Ajd/CH848+jqm2nm8OlIl7aJbjIWhNo7bvY42Q/HFMUlIOf9NXD2br2Ai3CUUIIb1O/bfcPAPgz0nB0c+0+ePfpOt7mr42WH547gTtcxGffVMxaQ8n7bINRxiLrztsKtHuAKT5kC7HKRx+Wc39zWcWPGLZzfyu4DTy61N5f++01+T+Uz5E2lznvqW+nm3ksTC7HLLIzlxa0f94KHBVmuvuAqrw+8IYXEUR7HYlv6jEekBDjU/wnqWgd39lwAbJ5ugLyUxaVfgjbyQJPAC04Q2vxZrnP13JN44of28JLFi00fuE5Ut5C6+6/Kby4GpwJILwlCPYdPzvN5VzJngN/wkcCpujqmY3yelfzOgAvSzeEzndKHA4WSbQZt4DIyIfFU/64DgxvXXBFySZl9k2nbtWFgDAMnStJE0YcCGpPohFoCQVRX97jHPcp9/mMDdTaSRw9qJNzrpkGo0yNOTN7VLbfcUjya4Lo9JyXxNsI5NeAgnroJR+8MZrgpy6qU0FQkEhKvv6uuuqrElOwSxA1VEG5dWDCOENzj+Km0OLBWd7+ptsK3aAmcff/737+TonhjwYnDC3UTh9cZHinLmQtCrW1XXHFFqaN8SF91nEgSS0SOKOdMcfLeCykWA6kUsaSeWReqQVLWGHAwz4k5Ndo2UKv9hr6HiwyabGzo01tvvbVLms/yAe9JdXBnuKBKTKfk8pJHjXN9kOpFHns4HK9Vs/Keq2eWP3XhtN8hAAAaQklEQVQ11qhQSVBDQMKliSE1DUEQ+g4X2tkPIE0aN7YTSMviZ9Ywh09p4SI99MCvOiekfTvnk8DwIGPKup/DZ3oiyhBuygAk6BryvWfqlGX7LZ4up/XhjnAnfSPPBmc+Bk4c0aSy2fSg8VQQagGaawiOshBE6ieTJieuNCYcwsu1lncWPREruD0bAhMw7WTeiw2IaFMdierB7sSmxM5mMwwQSUFMTwsKQohosstQmWm3KBRUVyKZiFaBkIpH6DlbEqLlPZvPtddeWwjZeeedt3r4wx/eEQILNqIa0lIh6MFxl8WCTQ1ojzpYrCzCvKKI4ZjvpQmfvkWlKVoHjykixVBFZ+DiuXrKIwHzwAY4BqKTiPMoSHR/0Rv7ZtvnCLN+G4qsYUzAC/zBZwI3iABBScA4sYUNgfFD5Zc2wKE02zxjgghJaTSQN+IeElfpX+0zFo3jGjKAtGeYLzY/Y3QIMKMh8RWb5NB7z4bwSW0Kx+KPUvVixjDDCcYrpkNdAXyDsXoM4bMOQk3lHNLzviDU7KQi+1D/UmebezXzRs0NjGlMofmU87S8aP8aBgYwcM7As1P3aBdBqC1IAJEIh9QrXLgFxoRCrGogYeJ02UdIwIgisNnEYiEodAb5takgnHeXxcuGCITUxEUogMXZcwGLccU2qKREQ4oV3JpNBuEDiCkiy0aXIaxCVVcWt1B3rcLRdqm7tBYAC2M/CLX8hEezKCL0JCffWnTzu1CHFzsTgg2UJa9wNF5se3P1LB8t/EeyYX8iHdWbaxZ+vjiZMFj6DmEkPfeB3Y5NlL1TPyYkIYezBOODnWwIwhF5CdI89O4gz9hVMWQ2tLCf9iGJOAkYwUKUaDpskMq6zwWQrvNMDUo/CHWmGcMnbQ1p94UvfGEmXYV6trs3/mhj2EoRXeMZ9Pcy5AdD+CQ1zgWhDhXxZGBwGgFgDmCWEXhMsvnaoGFgDAMnTtIcq+jQcwstInSnO92pvLaoAws+QpB/Ofm9o3IUi89kpZYxQXC4SRhJe6QEHPaFQbRMTsSlBurUSy65pDwSwT4lEIsIQKRMWH85AVNaFYOThJlAYhlyiu39Yx7zmEIwM60r9Rqgts0ycMmAFA2obBEG3+P6SYUkz+SitQlXjSEg4ZKoLRqkTaCOIIl3+RH/5IWAWGRqGKpn/X7uHuPA7aDF0YJ6GEA9iLm5733vWyT3oTIwBvpd/0XkmS5Jf3x5Yefm0OYmuCO9GTu7BtoL8VZdqU31l35MSMZPkADMmnmgv2oC+4AHPGAVNvqigtVvxp6NbUMgniY18JBaeQqfEVi6bJwyx/SrPPo7Uv22eYsWggYD5Dyq6zKGTwzr9ddfv4ooRiUmKI0SLZV+SSBdYl4xDWEDLZoUGo2ENDUglupjPagJfaZr14aBGgOHs0LVJRzivR2tCN4uglAn0SRBIkiIsUWR9Ncnmve+970LUSK1kMRSrWSCWoTsGjTZ67+0C9leT92UC5yjEinJLEFVHpVAYOr83acqei4INYkSEedQ/qWx5Z+UaZEXiBeISgHUrYYMrr3r6Bpst5gZdTkMoF6lqtM/VIVDRCDLpTZn40X4so/s/s1+lc54cJxjiNiwV2NaRFLZBjA27JJU4in5Zz7GOemWxKkvjBuSZ0KOjSTypHaSE/zWgEnCRE0FkDY+xoJQz+EToSRpGuvwhgmBz2Qc1QVzhFlC9M096WpbatZ3DJ9LglBT+04FBjfOlZtSOKJN09DHOw0EE4b5MaZdyPq265mPgVNBNKnKcuILN5R/KfGce+65qwhCXGwXOEWT0KREPHKBFGKI2g2Bw6VaoKkaAYk08zdpLCYmG67VIuYbUlyqgaVRBs6UKuq6664rXKwNPBYyqlN2VvbICIRb7DmONQDcMHUUaZYUSsKrgV0RAQTUR9qaajfP1FWZbFsWTrixsOCUU+XLNkedS8KwsPsG8U9JHC6o76QnWXtPNZbHChAJNjGMQ8QoLJs4InB2aQu1GpzO1VNdl4JNXFTi8t6Egcj8tQeegD7CTCXBswCylepz+GaDVp6zowk2IVGpk+IxCmxk8JdSL0LKvoyYwWHadYeOPmFmhuylypqqZ9YFQ/WMZzyjMECOe9TAzkyKU75jHAgidXyCfqF+NeaMIZu1jGvjsg8R7HoVu8PLhrOhTUM2iumL/mamJfg0d2ycgmtzCE6YIOpNOeqDiCJECFLEEi0ErF/PMXxmvRxlMUe1GQFk5khgBsFgwAF8mCfqlpBHb9g9zfEIaF0IfK4ZmY6myvi0j0AZDc5yDIxtqz1Jzx1DCUIx+BcLYKlqELEDBaGug/sGwSt5OnqQ5Qpwm/euca6rpLHV3beOpwBb/mMR6tJ6F0R1HYtHee+f4wAhza6DcK1jkSzfO0oDHG2oy3HvmEANwcmXZ3U6RyRyy/5cEOpgNkoZdZuVEYtDV0wQxXUwInvqEtJJCbIt0ZJ6dpnN3MSCV8oJBmLx8ZbM0lGBuh2Jk5BsShLBj/NZfRVIOSHU/HvyCGZoX9BkRxlCPd3lFQtwft5ds6yh4x5z9cxMwmZd6mIMyW8IgtB09QgiuSdJLP57xoZxVoN25/jUn8FI1q+7+7Eg1NnGGpfua3wGYS1BrDONfhXEPSEk9XLMQ7/5g/8hyLKG8Cl9MDddW4aCUAdzOxsYXB5ZT3gxt/qQAeodg2nQMHCiPALtgn/BCZPwcIvUVbkVfRd5L80jhlWRztSBijcllqHvSTdUozjqmLRDSUafkbSp57Sz5o5JWSSiqSDUviWhk1R9634ISAMkXWWwhR4WKKcviRxWWUP56rO54M7SkFhI5zYC9cHYI02mmrT/fulv+YC6T5d+K13Wk3q2XxcSlbFhI1Qe2xjKm9ZB+QeRrEiANBKp7q/LoYkxnqix82hK/d79EnzmfKdRGctHnyhrbKMRiZr2KIjn4BgkqRuftFPb9km/be336cXAGUc0T0NXsHkiklS87EZsZNRhh7lz9DTgpdWxYeCkYQDhP//884spx6a/Bg0D5zQUHD0GcMS4X3ZSO3GdYWsE8+j7oZXYMDCHAfPS3gHnShs0DMBAkzTbOGgYaBhoGGgYaBhYiIFTsXt2YVtasoaBhoGGgYaBhoFDxUAjmoeK3pZ5w0DDQMNAw8CZhIFGNM+k3mxtaRhoGGgYaBg4VAycOKLpeEPfA8+hYqBl3jBwhBhwRIL7O8dCGjQMNAycPgzcIdxYXXtSqm1B4Z0mvdgcZ714kOEmz9EQ/jp3HbHiONu2tGxHYpxPO8zzmUvrcqak437PuT/OxsfOxh6krbxe8Wpk3NqdPebOT7/yr4t4n3feeXuKdLbSESjedpznHHObOJUHb1R8Q3Maz63fne985z1l5A/p1JWHIn5165BsmWbsytsQLz9C1qkLD0n1WDV+5Z0ekrwfmscYdem0l7s/Pp0T8jgYt4bOcjqjW59dhWNenHwrmIJdtmP9KgA6r0P3uc999tRTWSKu8ErFm5f+qMvwXp/ceOONxcORd/2zrwftd76EtYHrwfqPK8Q86659IsY4dz4U8EA9zwY4UZJmHqbuH0K2yCCk+cc3qGMaBvFhgUF59dVXlwPN6V7uoGVx8ZZt6F9rJ+4HLWdX33MMPsRTkZT69dcnHG9bRBqMYyAX7TFCNP7lsjdc8HHvyE0gAj0GFm9uAS3kfeB+jjN1fnqn5thYHpyic0OIgPFTy3Vdvy4YZEwpd4BAMIA6TF+/Tv3fnHr4BmG2gCvzmmuu2ZPMcS4uLfmU1U6BDRCXGkSE4dIyPHwV5yL85NagjnxRYz64BhTnVt0TOIznOJ6zC24P5YXh7oPznkL1caLfX0+4bUyXfuqhjNrHrfKsdxzgO64m5Fv6gc5yDtrvmCSO6xFtf9oiCk1dV0wHgi0Obx37NOtw1lyD0zxRwB2WqOw1cKfFXRi3X9xxpfusdF1Xp3UfC3f/0b7fS9KEZ53iYiucQ+/7Pgbyvmf5QN6Zf169cx/xDUueotlznecvOOXyLL/P61QZmSavdTn5zJXLMu0Yg7HvpI8FYR2+cvd9Kj844X5M3bkSDP+h5fdNN920L70HIQkMPt/m4Vid58oY+y7rAN9zOJ97n3m5DpXHzR28Db2rv932Xr765/LLL18HIRnMJhbC4n4u/BWXOdVPlHVTz1ic+6/L76k8jIWIpNJ9F04BiivJ7kHccDcp/zEXeXXaoXtrhO/D53B5bQz6zd1hQhDudbpTDCJb3nNbmaAvI5JPcemXbc53rsaTPEMCK4+D8JXft9xyS/ntX3jUWnsOsozw01x+1/+CIK0jhF/53hiogQvLiAdaHoV3opKmxp8+UI9gYEoa6568ajhov4cXtTKPM09thJsh4PqQW9GzFU6UpIlTwVH1RX9qGyoPUSoETsZBcr5NNZMQg6ZIOpxoCzfE+XfN3QqXRGLlHJpUJ0SUANA14AY5kH7Ywx5WvueguQ84Vg651VG0EyouXK+IIThE0TTU0R9H4OqiTZwZkKRTouRYOhiEovrKZ1nWWBnex4JYOE1tycggJAPlaFsCtZf6UK9QeeNEtS8BZ4lj9B0pERdOsgDawzF4LGjF8Txn7f6osABuN6UCkTdEp8CRcwdYh2Hjrk00DfmL/AFvOPsabr311hJU27vw8Vm4W22j8uJqTRv8FkyZA3n9C7cpIcXCV9RacKgMV6Gvaphqq3Tc5xkf97znPUu/qosxVsNUnyypZ+ZFTclR+pg7Nn1kXJI+tG1TkO+YO7nMiwbBGB8KxSXNWN3ye9epPIwFYz6BKz+RT2og5erLTV1HZh7pAjBdL6YKsXb4z7G9sQ+8pzo13hKMqfDXXCTzqTanypdakqRFVZrATWZGSZGH931HCNKTSFOqzm/zelu40sx6kliNw3rtEtbMM5IeEE81x3/mcdB+NxbqKDNCz2Vkpiwjr/rT3D5b4cQRTVFA2A2mwMJC724gJZgsbBwGJrWRgSwqRAIiaoJYeKldL7/88qJWyegYwTWVcF8Gt8DSFjcxKWswUBEaqkmLmjzZOiy4iIcF2wCn0gzOsKiMEAKTwgStgX1A5BOLC6YAUQJTZXhv4go6rQ5sIPCFqIjykpObTYt6TPBg9hyEixor1VfsP9qG+CByiC2Vay4GVDJsTOqIoFAZ+RMxYmwh58OWyiYZHvh89KMfXSJDwAe7E1uNcFC5cIk+YQFAdMTupBKCV7jEkFCRi8ZCVUX1ixgiOOyB8gcYB4G69YUQZ5gW4dq0G8y1VRp9xBevhSIZAzaehLk+WVLPzMvipj/GALNA3Uc1ZiztGrQLzsyBbWGTPPi6FSlHnyUYQ2yd+gaDQt3Ynx+ZduxqbIfEU6L7GDMhqZW4sWOMANWmMaq8BHZEgLhiGo3TmrFEaI0r/YHIiyRkXckIK5mPq4gymFfMJGa4BipZLviS6NXv3CNO2X7EiF0V3hLYXM2JBKpibRmbi5muvm7SZ+y44sqKTDMETAu5Vgy9P9OfnXOaGmjgWhgRP4DbTWAHJdmRZExIUqlF3oLLjkSywwU+/vGPL6GifGcyk0Is5r5js0C8ctAz2Nehl0hiCHWGlSJZ4bqENbK4I7a+EUYKETLphKXCZSNAdfR6xDbtWhbSLHOqDO0mTV1wwQUl7JeJRiK0eNQAL4g2QipvBBZhwjAgMFyDmfwmB2KBy4XXnIRwZyEROoyf3JRA6zLynlSB62fH0X6BnoHvhEBjUxLcGSD2JqOy4NXGA1w5/7vqqb40ANqYG0IwBIg6hsDiWNu7EU51tCDnoowJUa60+gGTMdVW9dIPGC4LgU0rmBH9lbCkT6bqmfksufJzapwC43LXwPYHL/p4W1iaB0b2qquu2mcrRASAOWfemK/S0WzoqyVgPOhzBC21Fzkv+98LDm+cYhSTqZMGQwjMASH62PQQtgwc7x0bp7FEUwNoIIY2NZnvGQSBHTf70D4GRLMf5q1k9up/wrkhqqT/rFM9zq1hNV7yHoFPG3md39D90j7zbWqLMCZDgDGwdiL25urZBidO0pzqAJxPRpvXYRaqBKpUkpMFFpeWEmTNOUpbDwSqS6pIkITYTtmEPqdlIaUurAGHCjIGZr4zqXPnoviUuOoaTHYDD5GtYZMySG19gikveZh8iKudgP4QTBMZJ6tuuGqE0QYEnLNFw8TfFCwil1xySfnMxE9On3QNbKLIOiSuqNKBaDTwjWCCmnkoD6p/FrJ6IfHK4mthhscsw5VqKxmAJW21QQPRt2jZyHG/+92vaDKy+E36ZKiemc+SK6Kp/tT9NBC7BLhCAKj4jQcaCZs+MAlLYWke+thcpU1QVqpRlaN8QENDekNU5MuksBT0lzlEM4QoCsBO64L5qYGEhZHDjNFA1JDaCsRSPWygEo83wXuElnZJ0GvMnjnz0oh20gcakLADlo1wqTWShsYDA0sSTTyLhVvPNXOAFoV6NNc3jG4CxrLeGJSq0STMmW7surTP8ntM7MUXX9zNy3yeV3iGf+svjd/ZBqdK0mR/owIxiCzUVC7UekBAaVKGAQl05tDgLi8H/mW0exJZ2uv6AwKX2t+1lrYHklEO5oHsBx8hEiZhDXNl1GnH7i22JqoFcggQFETcwoxw4YxJp+y5NaPANpZMxVA+nlGjmuwmtUXJ96SYDElF3TlmtyJJ4YBTG2ByRyzQThMwVmY+Z08C1M61dJDvXZe0FVGklSBpWnTVwdZ6i62xtos+qes0dY/Js+giMsZ4MhRT32zyDkNALekPY2M3adoHl+Yzlwec0+jQhOj/1Bpk/jk2cs7RfJDwENgapnCBiIFc3Kl4n/nMZxatTjK+xjV1vfFIW9DHJbU6wpOSG4bPbmH1l9Y+BGpQGiJpjHOSFTNEPU+yztph7ci6ea7tzE3GlyMwAN77oeUwrv5IeeZBrmvSY75f8pKXuC1gvKrHnO0607vO9VmmtS4gmoJuj4Gg3fDGhGC/wtkGp0LSNHgtrCaBq8FFpUGKsegDnBnujcSo06ljQOy8Lfav5EBJoThIxEBeJoXBzB5pILCdWTRJL6mSSfuCCUj1hzP2TDpb80l7JAR5GfBJPOWfkq7yqUPVB5icpGETtIapMqhRpSfVwoU85eEvpTd5meQYBgQZp009rM4YDnWET2oxqk0TWr6kuHp7uXxMeGol0gg7C/VX2nmpnYB2wB8uHaGOgNuF+MjTb0wMRkO5Nm7h6JULtBWY0OyfpAH4S4A7bdNX+tZ99rc0FnsqOhtn5I3osQNaPKn7wJK2WiBw+KRS/Zi2pzyeMNcnc/UsFVn4j03TuCM5Tan0xrIz5uDJ1RgxVrIdxjdJikqfXdORDdKCuVQDnMkD6GdjNqXDJXmYE2ziJEn97j77Q54IkjLz/CQpDMGsNUfSTeHCGgCo+OFfXurGDAPME6YREhGGCqGLgPWdaUWaPOaBCJjP9kJQxyZxNf5pgpQBn5gA6wttBDCfjRsETf3V19pDa5OA8YJv9bNpEDCRpGkm07nCE4mVNqtmNB3Zkb/38HljnNfEJNSwi36XH3OVOZj4rcvIe7jE0NEsmTNnHQQBOfEQtsOy5ToW4XVs2ij1jYldtkQHwSrb923LDrtgl85xCe98E+qbcmTFvb9YeNcxgLu0MdBLno5/xGDtnsfg7u6DQJXjCPLNfFwf8YhHrEMVWrZr5/Mg2GXLvd8hNZSt/+7zaEmmc80t8dkJMdnLUY86TZYhTW4/r9+7D6k7syj1DElpTz3hMKTJ8i5sL+Vd4sf3tr0Hl9vl4SYm4jrUr10+8gjpdR0LTPfMt7FJqHxn2788Y+KX30GsS751XUMVuo6Fp7z3L4hu6YsgputYDMoRl1h0y/uQDvaUk/no+4QgDOsg2HvSxYK8tmUeLGlrEI9urCgjVLzrm6qjM3N9sqSepTIL/oUUUepiHDpqtSkEodiDC+3RZ32Ihb1LF0xD9zqYrz24SJz3x6kPxvKo52t+r09qMIaMuXwfDHD9utzP4UK7cr6a+8HodnnAXeZdX+u2SiyPfC8vY7YGcyLraWyHSrh+vY79DN333of0NXicyNqS5biaWwnqlO1wrC6YnHzVXa0j+X3YpMvxlu5l3By03zOv2GtQ5nz+HrrmOjD07mx4dsaFBsORkZ6SW9yUC8JR4zpxmWNcFC5WGsdgcLeHAbsoQx7wwabqr4bctIBzhasxLya+IenJa4g7rvMcu1eWPKjlpvolJlxRgZEMxtStY2WQNkhINmlQk9Uw11YStn5Ux6xn/X3e76JPMq+pq3LAFK6mvj8t7/Q3SVh/pcq2X/c5XHhP+0DTtIm6si6HZEVjEkRpj+21TmOPAA3E0JpAy6Md6rCpqlsZ1hLaKWaAqe+NU9ql3CtR129X98ow7qbWNSpZG/xy892uyj4t+ZxxRPO0IL7V8/8wYJJSHdvlaiMFNbCjH9S7DRoGGgZODgYwJ2zVdivbT2Ij5dkIp8KmeTZ2zNnSZsSShMj2ZHetXdCNYJ4tvd/aedow4NSC8+VnK8HUX03SPG2jttW3YaBhoGGgYeDYMNAkzWNDfSu4YaBhoGGgYeC0YaARzdPWY62+DQMNAw0DDQPHhoFGNI8N9a3ghoGGgYaBhoHThoFGNE9bj7X6Ngw0DDQMNAwcGwYa0Tw21LeCGwYaBhoGGgZOGwYa0TxtPdbq2zDQMNAw0DBwbBhoRPPYUN8KbhhoGGgYaBg4bRhoRPO09Virb8NAw0DDQMPAsWGgEc1jQ30ruGGgYaBhoGHgtGGgEc3T1mOtvg0DDQMNAw0Dx4aBRjSPDfWt4IaBhoGGgYaB04aBRjRPW4+1+jYMNAw0DDQMHBsGGtE8NtS3ghsGGgYaBhoGThsGGtE8bT3W6tsw0DDQMNAwcGwYaETz2FDfCm4YaBhoGGgYOG0YaETztPVYq2/DQMNAw0DDwLFhoBHNY0N9K7hhoGGgYaBh4LRhoBHN09Zjrb4NAw0DDQMNA8eGgUY0jw31reCGgYaBhoGGgdOGgf8HFrdTwJlPIUIAAAAASUVORK5CYII=)"
   ]
  },
  {
   "cell_type": "code",
   "execution_count": 45,
   "metadata": {
    "id": "IeQxvnf_FMnj"
   },
   "outputs": [],
   "source": [
    "from sklearn.model_selection import GridSearchCV"
   ]
  },
  {
   "cell_type": "code",
   "execution_count": 46,
   "metadata": {
    "id": "a9YzlEcIFMp_"
   },
   "outputs": [],
   "source": [
    "param_grid = {\n",
    "    'n_estimators': [50, 100],\n",
    "    'max_depth': [1, 20],\n",
    "}"
   ]
  },
  {
   "cell_type": "code",
   "execution_count": 47,
   "metadata": {
    "colab": {
     "base_uri": "https://localhost:8080/"
    },
    "id": "bq4bdVstFMsn",
    "outputId": "20153e28-845e-494e-f0b4-3738987db20f"
   },
   "outputs": [
    {
     "name": "stdout",
     "output_type": "stream",
     "text": [
      "얍💢\n"
     ]
    }
   ],
   "source": [
    "model = LGBMRegressor(random_state=random_state)\n",
    "\n",
    "print('얍💢')"
   ]
  },
  {
   "cell_type": "code",
   "execution_count": 48,
   "metadata": {
    "colab": {
     "base_uri": "https://localhost:8080/",
     "height": 274
    },
    "id": "V9UtGb_KFMvQ",
    "outputId": "d69fb34a-06f5-40ea-a83c-dd42d79fc006"
   },
   "outputs": [
    {
     "name": "stdout",
     "output_type": "stream",
     "text": [
      "Fitting 5 folds for each of 4 candidates, totalling 20 fits\n"
     ]
    },
    {
     "data": {
      "text/plain": [
       "GridSearchCV(cv=5, estimator=LGBMRegressor(random_state=2020), n_jobs=5,\n",
       "             param_grid={'max_depth': [1, 20], 'n_estimators': [50, 100]},\n",
       "             scoring='neg_mean_squared_error', verbose=1)"
      ]
     },
     "execution_count": 48,
     "metadata": {},
     "output_type": "execute_result"
    }
   ],
   "source": [
    "grid_model = GridSearchCV(model, param_grid=param_grid, \\\n",
    "                        scoring='neg_mean_squared_error', \\\n",
    "                        cv=5, verbose=1, n_jobs=5)\n",
    "\n",
    "grid_model.fit(train, y)"
   ]
  },
  {
   "cell_type": "code",
   "execution_count": 49,
   "metadata": {
    "colab": {
     "base_uri": "https://localhost:8080/"
    },
    "id": "Koyd6SCHFMyD",
    "outputId": "717c01f1-5d32-40c4-bc37-658ca442d36a"
   },
   "outputs": [
    {
     "data": {
      "text/plain": [
       "{'mean_fit_time': array([0.284407  , 0.45548697, 0.65990553, 0.86822648]),\n",
       " 'std_fit_time': array([0.07752897, 0.09872895, 0.13035569, 0.29241842]),\n",
       " 'mean_score_time': array([0.01951189, 0.0499002 , 0.05377297, 0.06520777]),\n",
       " 'std_score_time': array([0.00395967, 0.02003124, 0.01457879, 0.02753962]),\n",
       " 'param_max_depth': masked_array(data=[1, 1, 20, 20],\n",
       "              mask=[False, False, False, False],\n",
       "        fill_value='?',\n",
       "             dtype=object),\n",
       " 'param_n_estimators': masked_array(data=[50, 100, 50, 100],\n",
       "              mask=[False, False, False, False],\n",
       "        fill_value='?',\n",
       "             dtype=object),\n",
       " 'params': [{'max_depth': 1, 'n_estimators': 50},\n",
       "  {'max_depth': 1, 'n_estimators': 100},\n",
       "  {'max_depth': 20, 'n_estimators': 50},\n",
       "  {'max_depth': 20, 'n_estimators': 100}],\n",
       " 'split0_test_score': array([-0.0756974 , -0.05707062, -0.04043544, -0.03952575]),\n",
       " 'split1_test_score': array([-0.07666447, -0.05893677, -0.04199212, -0.04114193]),\n",
       " 'split2_test_score': array([-0.07354904, -0.05654705, -0.04225619, -0.04144678]),\n",
       " 'split3_test_score': array([-0.0749741 , -0.0565563 , -0.04142579, -0.0405665 ]),\n",
       " 'split4_test_score': array([-0.06589492, -0.05057052, -0.03577811, -0.03524313]),\n",
       " 'mean_test_score': array([-0.07335599, -0.05593625, -0.04037753, -0.03958482]),\n",
       " 'std_test_score': array([0.00386656, 0.00282271, 0.00238299, 0.00226755]),\n",
       " 'rank_test_score': array([4, 3, 2, 1], dtype=int32)}"
      ]
     },
     "execution_count": 49,
     "metadata": {},
     "output_type": "execute_result"
    }
   ],
   "source": [
    "# 자, grid_model.fit 함수를 통해서 4가지 조합에 대한 실험을 모두 마쳤습니다.\n",
    "# 실험에 대한 결과는 다음과 같이 grid_model.cv_results_ 안에 저장됩니다.\n",
    "\n",
    "grid_model.cv_results_"
   ]
  },
  {
   "cell_type": "code",
   "execution_count": 34,
   "metadata": {
    "colab": {
     "base_uri": "https://localhost:8080/"
    },
    "id": "UvcFvK7rIK6m",
    "outputId": "f0478a49-521f-4d5d-e5e6-00b643aad070"
   },
   "outputs": [
    {
     "data": {
      "text/plain": [
       "[{'max_depth': 1, 'n_estimators': 50},\n",
       " {'max_depth': 1, 'n_estimators': 100},\n",
       " {'max_depth': 20, 'n_estimators': 50},\n",
       " {'max_depth': 20, 'n_estimators': 100}]"
      ]
     },
     "execution_count": 34,
     "metadata": {},
     "output_type": "execute_result"
    }
   ],
   "source": [
    "params = grid_model.cv_results_['params']\n",
    "params"
   ]
  },
  {
   "cell_type": "code",
   "execution_count": 35,
   "metadata": {
    "colab": {
     "base_uri": "https://localhost:8080/"
    },
    "id": "qPSOXG8bIK8_",
    "outputId": "8c711a18-fe79-4001-8579-a75211e59f3e"
   },
   "outputs": [
    {
     "data": {
      "text/plain": [
       "array([-0.07335599, -0.05593625, -0.04037753, -0.03958482])"
      ]
     },
     "execution_count": 35,
     "metadata": {},
     "output_type": "execute_result"
    }
   ],
   "source": [
    "score = grid_model.cv_results_['mean_test_score']\n",
    "score"
   ]
  },
  {
   "cell_type": "code",
   "execution_count": 36,
   "metadata": {
    "colab": {
     "base_uri": "https://localhost:8080/",
     "height": 175
    },
    "id": "KLInPdGSIK_e",
    "outputId": "b1ef4a31-b42c-43e3-c26f-5b6233ce6f90"
   },
   "outputs": [
    {
     "data": {
      "text/html": [
       "<div>\n",
       "<style scoped>\n",
       "    .dataframe tbody tr th:only-of-type {\n",
       "        vertical-align: middle;\n",
       "    }\n",
       "\n",
       "    .dataframe tbody tr th {\n",
       "        vertical-align: top;\n",
       "    }\n",
       "\n",
       "    .dataframe thead th {\n",
       "        text-align: right;\n",
       "    }\n",
       "</style>\n",
       "<table border=\"1\" class=\"dataframe\">\n",
       "  <thead>\n",
       "    <tr style=\"text-align: right;\">\n",
       "      <th></th>\n",
       "      <th>max_depth</th>\n",
       "      <th>n_estimators</th>\n",
       "      <th>score</th>\n",
       "    </tr>\n",
       "  </thead>\n",
       "  <tbody>\n",
       "    <tr>\n",
       "      <th>0</th>\n",
       "      <td>1</td>\n",
       "      <td>50</td>\n",
       "      <td>-0.073356</td>\n",
       "    </tr>\n",
       "    <tr>\n",
       "      <th>1</th>\n",
       "      <td>1</td>\n",
       "      <td>100</td>\n",
       "      <td>-0.055936</td>\n",
       "    </tr>\n",
       "    <tr>\n",
       "      <th>2</th>\n",
       "      <td>20</td>\n",
       "      <td>50</td>\n",
       "      <td>-0.040378</td>\n",
       "    </tr>\n",
       "    <tr>\n",
       "      <th>3</th>\n",
       "      <td>20</td>\n",
       "      <td>100</td>\n",
       "      <td>-0.039585</td>\n",
       "    </tr>\n",
       "  </tbody>\n",
       "</table>\n",
       "</div>"
      ],
      "text/plain": [
       "   max_depth  n_estimators     score\n",
       "0          1            50 -0.073356\n",
       "1          1           100 -0.055936\n",
       "2         20            50 -0.040378\n",
       "3         20           100 -0.039585"
      ]
     },
     "execution_count": 36,
     "metadata": {},
     "output_type": "execute_result"
    }
   ],
   "source": [
    "results = pd.DataFrame(params)\n",
    "results['score'] = score\n",
    "\n",
    "results"
   ]
  },
  {
   "cell_type": "code",
   "execution_count": 37,
   "metadata": {
    "colab": {
     "base_uri": "https://localhost:8080/",
     "height": 175
    },
    "id": "9c48m2x-ILB8",
    "outputId": "f15af872-d1c6-4c95-dee9-fdb2792eaf39"
   },
   "outputs": [
    {
     "data": {
      "text/html": [
       "<div>\n",
       "<style scoped>\n",
       "    .dataframe tbody tr th:only-of-type {\n",
       "        vertical-align: middle;\n",
       "    }\n",
       "\n",
       "    .dataframe tbody tr th {\n",
       "        vertical-align: top;\n",
       "    }\n",
       "\n",
       "    .dataframe thead th {\n",
       "        text-align: right;\n",
       "    }\n",
       "</style>\n",
       "<table border=\"1\" class=\"dataframe\">\n",
       "  <thead>\n",
       "    <tr style=\"text-align: right;\">\n",
       "      <th></th>\n",
       "      <th>max_depth</th>\n",
       "      <th>n_estimators</th>\n",
       "      <th>score</th>\n",
       "      <th>RMSE</th>\n",
       "    </tr>\n",
       "  </thead>\n",
       "  <tbody>\n",
       "    <tr>\n",
       "      <th>0</th>\n",
       "      <td>1</td>\n",
       "      <td>50</td>\n",
       "      <td>-0.073356</td>\n",
       "      <td>0.270843</td>\n",
       "    </tr>\n",
       "    <tr>\n",
       "      <th>1</th>\n",
       "      <td>1</td>\n",
       "      <td>100</td>\n",
       "      <td>-0.055936</td>\n",
       "      <td>0.236508</td>\n",
       "    </tr>\n",
       "    <tr>\n",
       "      <th>2</th>\n",
       "      <td>20</td>\n",
       "      <td>50</td>\n",
       "      <td>-0.040378</td>\n",
       "      <td>0.200942</td>\n",
       "    </tr>\n",
       "    <tr>\n",
       "      <th>3</th>\n",
       "      <td>20</td>\n",
       "      <td>100</td>\n",
       "      <td>-0.039585</td>\n",
       "      <td>0.198959</td>\n",
       "    </tr>\n",
       "  </tbody>\n",
       "</table>\n",
       "</div>"
      ],
      "text/plain": [
       "   max_depth  n_estimators     score      RMSE\n",
       "0          1            50 -0.073356  0.270843\n",
       "1          1           100 -0.055936  0.236508\n",
       "2         20            50 -0.040378  0.200942\n",
       "3         20           100 -0.039585  0.198959"
      ]
     },
     "execution_count": 37,
     "metadata": {},
     "output_type": "execute_result"
    }
   ],
   "source": [
    "results['RMSE'] = np.sqrt(-1 * results['score'])\n",
    "results"
   ]
  },
  {
   "cell_type": "code",
   "execution_count": 38,
   "metadata": {
    "colab": {
     "base_uri": "https://localhost:8080/",
     "height": 175
    },
    "id": "IDEktb6jIV2K",
    "outputId": "256dfec7-3187-4669-904b-8dc265e19a88"
   },
   "outputs": [
    {
     "data": {
      "text/html": [
       "<div>\n",
       "<style scoped>\n",
       "    .dataframe tbody tr th:only-of-type {\n",
       "        vertical-align: middle;\n",
       "    }\n",
       "\n",
       "    .dataframe tbody tr th {\n",
       "        vertical-align: top;\n",
       "    }\n",
       "\n",
       "    .dataframe thead th {\n",
       "        text-align: right;\n",
       "    }\n",
       "</style>\n",
       "<table border=\"1\" class=\"dataframe\">\n",
       "  <thead>\n",
       "    <tr style=\"text-align: right;\">\n",
       "      <th></th>\n",
       "      <th>max_depth</th>\n",
       "      <th>n_estimators</th>\n",
       "      <th>score</th>\n",
       "      <th>RMSLE</th>\n",
       "    </tr>\n",
       "  </thead>\n",
       "  <tbody>\n",
       "    <tr>\n",
       "      <th>0</th>\n",
       "      <td>1</td>\n",
       "      <td>50</td>\n",
       "      <td>-0.073356</td>\n",
       "      <td>0.270843</td>\n",
       "    </tr>\n",
       "    <tr>\n",
       "      <th>1</th>\n",
       "      <td>1</td>\n",
       "      <td>100</td>\n",
       "      <td>-0.055936</td>\n",
       "      <td>0.236508</td>\n",
       "    </tr>\n",
       "    <tr>\n",
       "      <th>2</th>\n",
       "      <td>20</td>\n",
       "      <td>50</td>\n",
       "      <td>-0.040378</td>\n",
       "      <td>0.200942</td>\n",
       "    </tr>\n",
       "    <tr>\n",
       "      <th>3</th>\n",
       "      <td>20</td>\n",
       "      <td>100</td>\n",
       "      <td>-0.039585</td>\n",
       "      <td>0.198959</td>\n",
       "    </tr>\n",
       "  </tbody>\n",
       "</table>\n",
       "</div>"
      ],
      "text/plain": [
       "   max_depth  n_estimators     score     RMSLE\n",
       "0          1            50 -0.073356  0.270843\n",
       "1          1           100 -0.055936  0.236508\n",
       "2         20            50 -0.040378  0.200942\n",
       "3         20           100 -0.039585  0.198959"
      ]
     },
     "execution_count": 38,
     "metadata": {},
     "output_type": "execute_result"
    }
   ],
   "source": [
    "results = results.rename(columns={'RMSE': 'RMSLE'})\n",
    "results"
   ]
  },
  {
   "cell_type": "code",
   "execution_count": 39,
   "metadata": {
    "colab": {
     "base_uri": "https://localhost:8080/",
     "height": 175
    },
    "id": "rsPvKUAgIV4z",
    "outputId": "6cbb41d7-4adb-45a4-b744-cebdd5c1677d"
   },
   "outputs": [
    {
     "data": {
      "text/html": [
       "<div>\n",
       "<style scoped>\n",
       "    .dataframe tbody tr th:only-of-type {\n",
       "        vertical-align: middle;\n",
       "    }\n",
       "\n",
       "    .dataframe tbody tr th {\n",
       "        vertical-align: top;\n",
       "    }\n",
       "\n",
       "    .dataframe thead th {\n",
       "        text-align: right;\n",
       "    }\n",
       "</style>\n",
       "<table border=\"1\" class=\"dataframe\">\n",
       "  <thead>\n",
       "    <tr style=\"text-align: right;\">\n",
       "      <th></th>\n",
       "      <th>max_depth</th>\n",
       "      <th>n_estimators</th>\n",
       "      <th>score</th>\n",
       "      <th>RMSLE</th>\n",
       "    </tr>\n",
       "  </thead>\n",
       "  <tbody>\n",
       "    <tr>\n",
       "      <th>3</th>\n",
       "      <td>20</td>\n",
       "      <td>100</td>\n",
       "      <td>-0.039585</td>\n",
       "      <td>0.198959</td>\n",
       "    </tr>\n",
       "    <tr>\n",
       "      <th>2</th>\n",
       "      <td>20</td>\n",
       "      <td>50</td>\n",
       "      <td>-0.040378</td>\n",
       "      <td>0.200942</td>\n",
       "    </tr>\n",
       "    <tr>\n",
       "      <th>1</th>\n",
       "      <td>1</td>\n",
       "      <td>100</td>\n",
       "      <td>-0.055936</td>\n",
       "      <td>0.236508</td>\n",
       "    </tr>\n",
       "    <tr>\n",
       "      <th>0</th>\n",
       "      <td>1</td>\n",
       "      <td>50</td>\n",
       "      <td>-0.073356</td>\n",
       "      <td>0.270843</td>\n",
       "    </tr>\n",
       "  </tbody>\n",
       "</table>\n",
       "</div>"
      ],
      "text/plain": [
       "   max_depth  n_estimators     score     RMSLE\n",
       "3         20           100 -0.039585  0.198959\n",
       "2         20            50 -0.040378  0.200942\n",
       "1          1           100 -0.055936  0.236508\n",
       "0          1            50 -0.073356  0.270843"
      ]
     },
     "execution_count": 39,
     "metadata": {},
     "output_type": "execute_result"
    }
   ],
   "source": [
    "# 위의 표를 `RMSLE`가 낮은 순서대로 정렬해주세요.\n",
    "results.sort_values(by=['RMSLE'])"
   ]
  },
  {
   "cell_type": "code",
   "execution_count": 40,
   "metadata": {
    "id": "sgqvj5nTIV71"
   },
   "outputs": [],
   "source": [
    "def my_GridSearch(model, train, y, param_grid, verbose=2, n_jobs=5):\n",
    "    # GridSearchCV 모델로 초기화\n",
    "    grid_model = GridSearchCV(model, param_grid=param_grid, scoring='neg_mean_squared_error', \\\n",
    "                              cv=5, verbose=verbose, n_jobs=n_jobs)\n",
    "\n",
    "    # 모델 fitting\n",
    "    grid_model.fit(train, y)\n",
    "\n",
    "    # 결과값 저장\n",
    "    params = grid_model.cv_results_['params']\n",
    "    score = grid_model.cv_results_['mean_test_score']\n",
    "\n",
    "    # 데이터 프레임 생성\n",
    "    results = pd.DataFrame(params)\n",
    "    results['score'] = score\n",
    "\n",
    "    # RMSLE 값 계산 후 정렬\n",
    "    results['RMSLE'] = np.sqrt(-1 * results['score'])\n",
    "    results = results.sort_values('RMSLE')\n",
    "\n",
    "    return results"
   ]
  },
  {
   "cell_type": "code",
   "execution_count": 41,
   "metadata": {
    "colab": {
     "base_uri": "https://localhost:8080/",
     "height": 331
    },
    "id": "c55QvNciIV-P",
    "outputId": "6e61882b-995b-4913-ee67-3caae64d4b00"
   },
   "outputs": [
    {
     "name": "stdout",
     "output_type": "stream",
     "text": [
      "Fitting 5 folds for each of 4 candidates, totalling 20 fits\n"
     ]
    },
    {
     "data": {
      "text/html": [
       "<div>\n",
       "<style scoped>\n",
       "    .dataframe tbody tr th:only-of-type {\n",
       "        vertical-align: middle;\n",
       "    }\n",
       "\n",
       "    .dataframe tbody tr th {\n",
       "        vertical-align: top;\n",
       "    }\n",
       "\n",
       "    .dataframe thead th {\n",
       "        text-align: right;\n",
       "    }\n",
       "</style>\n",
       "<table border=\"1\" class=\"dataframe\">\n",
       "  <thead>\n",
       "    <tr style=\"text-align: right;\">\n",
       "      <th></th>\n",
       "      <th>max_depth</th>\n",
       "      <th>n_estimators</th>\n",
       "      <th>score</th>\n",
       "      <th>RMSLE</th>\n",
       "    </tr>\n",
       "  </thead>\n",
       "  <tbody>\n",
       "    <tr>\n",
       "      <th>3</th>\n",
       "      <td>10</td>\n",
       "      <td>100</td>\n",
       "      <td>-0.039556</td>\n",
       "      <td>0.198888</td>\n",
       "    </tr>\n",
       "    <tr>\n",
       "      <th>2</th>\n",
       "      <td>10</td>\n",
       "      <td>50</td>\n",
       "      <td>-0.040433</td>\n",
       "      <td>0.201081</td>\n",
       "    </tr>\n",
       "    <tr>\n",
       "      <th>1</th>\n",
       "      <td>1</td>\n",
       "      <td>100</td>\n",
       "      <td>-0.055936</td>\n",
       "      <td>0.236508</td>\n",
       "    </tr>\n",
       "    <tr>\n",
       "      <th>0</th>\n",
       "      <td>1</td>\n",
       "      <td>50</td>\n",
       "      <td>-0.073356</td>\n",
       "      <td>0.270843</td>\n",
       "    </tr>\n",
       "  </tbody>\n",
       "</table>\n",
       "</div>"
      ],
      "text/plain": [
       "   max_depth  n_estimators     score     RMSLE\n",
       "3         10           100 -0.039556  0.198888\n",
       "2         10            50 -0.040433  0.201081\n",
       "1          1           100 -0.055936  0.236508\n",
       "0          1            50 -0.073356  0.270843"
      ]
     },
     "execution_count": 41,
     "metadata": {},
     "output_type": "execute_result"
    }
   ],
   "source": [
    "# 먼저 위에서 만들어놓은 my_GridSearch() 함수로 간단한 그리드 탐색을 해보겠습니다.\n",
    "param_grid = {\n",
    "    'n_estimators': [50, 100],\n",
    "    'max_depth': [1, 10],\n",
    "}\n",
    "\n",
    "model = LGBMRegressor(random_state=random_state)\n",
    "my_GridSearch(model, train, y, param_grid, verbose=2, n_jobs=5)"
   ]
  },
  {
   "cell_type": "code",
   "execution_count": 42,
   "metadata": {
    "colab": {
     "base_uri": "https://localhost:8080/"
    },
    "id": "F2L0B6U-IWBD",
    "outputId": "4cb69b5f-9ec8-497c-ce23-cb818d7efd2c"
   },
   "outputs": [
    {
     "data": {
      "text/plain": [
       "array([13.11871414, 12.79761406, 14.14434216, ..., 12.92965555,\n",
       "       12.62996916, 12.93342701])"
      ]
     },
     "execution_count": 42,
     "metadata": {},
     "output_type": "execute_result"
    }
   ],
   "source": [
    "# 가장 좋은 조합은 max_depth=10, n_estimators=100 이군요.\n",
    "# 해당 모델로 학습을 해서 예측값인 submission.csv 파일을 만들어서 제출해보겠습니다.\n",
    "# 먼저 해당 파라미터로 구성된 모델을 준비하고, 학습 후 예측 결과를 생성합니다.\n",
    "\n",
    "model = LGBMRegressor(max_depth=20, n_estimators=100, random_state=random_state)\n",
    "model.fit(train, y)\n",
    "prediction = model.predict(test)\n",
    "prediction"
   ]
  },
  {
   "cell_type": "code",
   "execution_count": 43,
   "metadata": {
    "colab": {
     "base_uri": "https://localhost:8080/"
    },
    "id": "BnrrQABuIlKI",
    "outputId": "2f5be5c8-ec47-4649-c311-e4a1251b4248"
   },
   "outputs": [
    {
     "data": {
      "text/plain": [
       "array([ 498177.70474913,  361353.2497334 , 1389342.87033435, ...,\n",
       "        412360.45098503,  305579.69467559,  413918.58931821])"
      ]
     },
     "execution_count": 43,
     "metadata": {},
     "output_type": "execute_result"
    }
   ],
   "source": [
    "prediction = np.expm1(prediction)\n",
    "prediction"
   ]
  },
  {
   "cell_type": "code",
   "execution_count": 51,
   "metadata": {},
   "outputs": [
    {
     "data": {
      "text/html": [
       "<div>\n",
       "<style scoped>\n",
       "    .dataframe tbody tr th:only-of-type {\n",
       "        vertical-align: middle;\n",
       "    }\n",
       "\n",
       "    .dataframe tbody tr th {\n",
       "        vertical-align: top;\n",
       "    }\n",
       "\n",
       "    .dataframe thead th {\n",
       "        text-align: right;\n",
       "    }\n",
       "</style>\n",
       "<table border=\"1\" class=\"dataframe\">\n",
       "  <thead>\n",
       "    <tr style=\"text-align: right;\">\n",
       "      <th></th>\n",
       "      <th>id</th>\n",
       "      <th>price</th>\n",
       "    </tr>\n",
       "  </thead>\n",
       "  <tbody>\n",
       "    <tr>\n",
       "      <th>0</th>\n",
       "      <td>15035</td>\n",
       "      <td>100000</td>\n",
       "    </tr>\n",
       "    <tr>\n",
       "      <th>1</th>\n",
       "      <td>15036</td>\n",
       "      <td>100000</td>\n",
       "    </tr>\n",
       "    <tr>\n",
       "      <th>2</th>\n",
       "      <td>15037</td>\n",
       "      <td>100000</td>\n",
       "    </tr>\n",
       "    <tr>\n",
       "      <th>3</th>\n",
       "      <td>15038</td>\n",
       "      <td>100000</td>\n",
       "    </tr>\n",
       "    <tr>\n",
       "      <th>4</th>\n",
       "      <td>15039</td>\n",
       "      <td>100000</td>\n",
       "    </tr>\n",
       "  </tbody>\n",
       "</table>\n",
       "</div>"
      ],
      "text/plain": [
       "      id   price\n",
       "0  15035  100000\n",
       "1  15036  100000\n",
       "2  15037  100000\n",
       "3  15038  100000\n",
       "4  15039  100000"
      ]
     },
     "execution_count": 51,
     "metadata": {},
     "output_type": "execute_result"
    }
   ],
   "source": [
    "data_dir = os.getenv('HOME')+'/aiffel/kaggle_kakr_housing/data'\n",
    "\n",
    "submission_path = join(data_dir, 'sample_submission.csv')\n",
    "submission = pd.read_csv(submission_path)\n",
    "submission.head()"
   ]
  },
  {
   "cell_type": "code",
   "execution_count": 52,
   "metadata": {},
   "outputs": [
    {
     "data": {
      "text/html": [
       "<div>\n",
       "<style scoped>\n",
       "    .dataframe tbody tr th:only-of-type {\n",
       "        vertical-align: middle;\n",
       "    }\n",
       "\n",
       "    .dataframe tbody tr th {\n",
       "        vertical-align: top;\n",
       "    }\n",
       "\n",
       "    .dataframe thead th {\n",
       "        text-align: right;\n",
       "    }\n",
       "</style>\n",
       "<table border=\"1\" class=\"dataframe\">\n",
       "  <thead>\n",
       "    <tr style=\"text-align: right;\">\n",
       "      <th></th>\n",
       "      <th>id</th>\n",
       "      <th>price</th>\n",
       "    </tr>\n",
       "  </thead>\n",
       "  <tbody>\n",
       "    <tr>\n",
       "      <th>0</th>\n",
       "      <td>15035</td>\n",
       "      <td>4.981777e+05</td>\n",
       "    </tr>\n",
       "    <tr>\n",
       "      <th>1</th>\n",
       "      <td>15036</td>\n",
       "      <td>3.613532e+05</td>\n",
       "    </tr>\n",
       "    <tr>\n",
       "      <th>2</th>\n",
       "      <td>15037</td>\n",
       "      <td>1.389343e+06</td>\n",
       "    </tr>\n",
       "    <tr>\n",
       "      <th>3</th>\n",
       "      <td>15038</td>\n",
       "      <td>3.442980e+05</td>\n",
       "    </tr>\n",
       "    <tr>\n",
       "      <th>4</th>\n",
       "      <td>15039</td>\n",
       "      <td>3.058403e+05</td>\n",
       "    </tr>\n",
       "  </tbody>\n",
       "</table>\n",
       "</div>"
      ],
      "text/plain": [
       "      id         price\n",
       "0  15035  4.981777e+05\n",
       "1  15036  3.613532e+05\n",
       "2  15037  1.389343e+06\n",
       "3  15038  3.442980e+05\n",
       "4  15039  3.058403e+05"
      ]
     },
     "execution_count": 52,
     "metadata": {},
     "output_type": "execute_result"
    }
   ],
   "source": [
    "submission['price'] = prediction\n",
    "submission.head()"
   ]
  },
  {
   "cell_type": "code",
   "execution_count": 53,
   "metadata": {
    "colab": {
     "base_uri": "https://localhost:8080/"
    },
    "id": "bRvaeCINIlNS",
    "outputId": "239a8a3a-3879-4d9d-d5da-01f7eb792a37"
   },
   "outputs": [
    {
     "name": "stdout",
     "output_type": "stream",
     "text": [
      "/aiffel/aiffel/kaggle_kakr_housing/data/submission_lgbm_RMSLE_0.164399.csv\n"
     ]
    }
   ],
   "source": [
    "submission_csv_path = '{}/submission_{}_RMSLE_{}.csv'.format(data_dir, 'lgbm', '0.164399')\n",
    "submission.to_csv(submission_csv_path, index=False)\n",
    "print(submission_csv_path)"
   ]
  },
  {
   "cell_type": "code",
   "execution_count": 55,
   "metadata": {
    "id": "hRHSL9DqIlSy"
   },
   "outputs": [
    {
     "name": "stdout",
     "output_type": "stream",
     "text": [
      "/aiffel/aiffel/kaggle_kakr_housing/data/submission_lgbm_RMSLE_0.164399.csv\n"
     ]
    }
   ],
   "source": [
    "submission_csv_path = '{}/submission_{}_RMSLE_{}.csv'.format(data_dir, 'lgbm', '0.164399')\n",
    "submission.to_csv(submission_csv_path, index=False)\n",
    "print(submission_csv_path)"
   ]
  },
  {
   "cell_type": "code",
   "execution_count": 56,
   "metadata": {
    "id": "PPlW4fz5IlVj"
   },
   "outputs": [],
   "source": [
    "\"\"\"\n",
    "아래의 과정을 수행하는 `save_submission(model, train, y, test, model_name, rmsle)` 함수를 구현해 주세요.\n",
    "1. 모델을 `train`, `y`로 학습시킵니다.\n",
    "2. `test`에 대해 예측합니다.\n",
    "3. 예측값을 `np.expm1`으로 변환하고, `submission_model_name_RMSLE_100000.csv` 형태의 `csv` 파일을 저장합니다.\n",
    "\"\"\"\n",
    "\n",
    "def save_submission(model, train, y, test, model_name, rmsle=None):\n",
    "    model.fit(train, y)\n",
    "    prediction = model.predict(test)\n",
    "    prediction = np.expm1(prediction)\n",
    "    data_dir = os.getenv('HOME')+'/aiffel/kaggle_kakr_housing/data'\n",
    "    submission_path = join(data_dir, 'sample_submission.csv')\n",
    "    submission = pd.read_csv(submission_path)\n",
    "    submission['price'] = prediction\n",
    "    submission_csv_path = '{}/submission_{}_RMSLE_{}.csv'.format(data_dir, model_name, rmsle)\n",
    "    submission.to_csv(submission_csv_path, index=False)\n",
    "    print('{} saved!'.format(submission_csv_path))"
   ]
  },
  {
   "cell_type": "code",
   "execution_count": null,
   "metadata": {
    "id": "eYmJemqzM0p_"
   },
   "outputs": [],
   "source": []
  },
  {
   "cell_type": "markdown",
   "metadata": {
    "id": "WcmNOePmE_6z"
   },
   "source": [
    "# 성능 향상 시작\n",
    "캐글 리더보드의 Private score 기준 110000 이하의 점수를 얻어야 함"
   ]
  },
  {
   "cell_type": "code",
   "execution_count": 57,
   "metadata": {
    "colab": {
     "base_uri": "https://localhost:8080/"
    },
    "id": "jc9iYQ48HOhK",
    "outputId": "864926b5-846f-4f81-cdb8-bddc4cc21a96"
   },
   "outputs": [
    {
     "data": {
      "text/plain": [
       "0        12.309987\n",
       "1        12.100718\n",
       "2        13.142168\n",
       "3        12.458779\n",
       "4        12.583999\n",
       "           ...    \n",
       "15030    13.322338\n",
       "15031    13.822984\n",
       "15032    12.793862\n",
       "15033    12.899222\n",
       "15034    12.691584\n",
       "Name: price, Length: 15035, dtype: float64"
      ]
     },
     "execution_count": 57,
     "metadata": {},
     "output_type": "execute_result"
    }
   ],
   "source": [
    "train\n",
    "y"
   ]
  },
  {
   "cell_type": "code",
   "execution_count": 58,
   "metadata": {
    "id": "pimrBys4GUGs"
   },
   "outputs": [],
   "source": [
    "from sklearn.model_selection import RandomizedSearchCV\n",
    "\n",
    "def my_RandomSearch(model, train, y, param, n_iter= 5, verbose=1, n_jobs=5):\n",
    "\n",
    "    # 1. GridSearchCV 모델로 `model`을 초기화합니다.\n",
    "    random_model = RandomizedSearchCV(model, param_distributions=param, \\\n",
    "                        scoring='neg_mean_squared_error', \\\n",
    "                              n_iter =  n_iter, \\\n",
    "                        cv=10, verbose=1, n_jobs=-1)\n",
    "\n",
    "    # 2. 모델을 fitting 합니다.\n",
    "    random_model.fit(train, y)\n",
    "\n",
    "    # 3. params, score에 각 조합에 대한 결과를 저장합니다.\n",
    "    params = random_model.cv_results_['params']\n",
    "    score = random_model.cv_results_['mean_test_score']\n",
    "\n",
    "    # 4. 데이터 프레임을 생성\n",
    "    results = pd.DataFrame(params)\n",
    "    results[\"score\"] = score\n",
    "\n",
    "    # 5. RMSLE 값을 추가한 후 점수가 높은 순서로 정렬한 `results`를 반환합니다.\n",
    "    results['RMSLE'] = np.sqrt(-1 * results['score'])\n",
    "\n",
    "    results = results.sort_values(\"RMSLE\")\n",
    "    return results"
   ]
  },
  {
   "cell_type": "code",
   "execution_count": null,
   "metadata": {
    "colab": {
     "base_uri": "https://localhost:8080/",
     "height": 1000
    },
    "id": "6F38ynSKHAm-",
    "outputId": "c444d2a6-2c77-4b48-88bf-5c77f3d3171f"
   },
   "outputs": [
    {
     "name": "stdout",
     "output_type": "stream",
     "text": [
      "[CV] END .......................max_depth=1, n_estimators=50; total time=   0.3s\n",
      "[CV] END ......................max_depth=1, n_estimators=100; total time=   0.4s\n",
      "[CV] END ......................max_depth=10, n_estimators=50; total time=   0.7s\n",
      "[CV] END .....................max_depth=10, n_estimators=100; total time=   1.3s\n",
      "[CV] END .......................max_depth=1, n_estimators=50; total time=   0.3s\n",
      "[CV] END ......................max_depth=1, n_estimators=100; total time=   0.5s\n",
      "[CV] END ......................max_depth=10, n_estimators=50; total time=   1.0s\n",
      "[CV] END .....................max_depth=10, n_estimators=100; total time=   1.0s\n",
      "[CV] END .......................max_depth=1, n_estimators=50; total time=   0.4s\n",
      "[CV] END ......................max_depth=1, n_estimators=100; total time=   0.6s\n",
      "[CV] END ......................max_depth=10, n_estimators=50; total time=   1.0s\n",
      "[CV] END .....................max_depth=10, n_estimators=100; total time=   1.0s\n",
      "Fitting 10 folds for each of 100 candidates, totalling 1000 fits\n"
     ]
    }
   ],
   "source": [
    "#try after getting score which is lower 110000\n",
    "param = {\n",
    "    'n_estimators': [int(x) for x in range(400,500,2)],\n",
    "    'max_depth': [int(x) for x in range(0,15)],\n",
    "}\n",
    "n_iter = 100\n",
    "\n",
    "model = LGBMRegressor(random_state=random_state)\n",
    "my_RandomSearch(model, train, y, param, n_iter, verbose=1) #n_job은 안에 넣음\n",
    "\n",
    "#range(0,200,2) 진행결과 estimator : 166, max_depth : 9 가 rmsle 0.197547\n",
    "#range(200,400,2) 진행결과 estimator : 210, max_depth : 12 가 rmsle 0.197587\n",
    "#range(400,500,2) 진행결과 estimator : 404, max_depth : 4 가 rmsle 0.198614"
   ]
  },
  {
   "cell_type": "markdown",
   "metadata": {
    "id": "VKEXS3mpNvHc"
   },
   "source": [
    "- 기존 노드와 달리 date 칼럼을 년/월/일로 세분화 하여 진행하였는데(노드는 'date'칼럼을 년월만 인트로 변경) score가 더 낮게 형성되었는 것으로 확인됨.\n",
    "- 기존 노드와 같이 date 칼럼을 수정하고 다시 randomsearch를 진행하고자 함. 시간분배를 위하여 150부터 300까지 진행\n"
   ]
  },
  {
   "cell_type": "code",
   "execution_count": null,
   "metadata": {
    "id": "aO8VH-qVHEJc"
   },
   "outputs": [],
   "source": [
    "train = pd.read_csv(train_data_path)\n",
    "test = pd.read_csv(test_data_path)"
   ]
  },
  {
   "cell_type": "code",
   "execution_count": null,
   "metadata": {
    "id": "ZDaS-ONwPA53"
   },
   "outputs": [],
   "source": [
    "# 타켓, id 데이터 삭제 for trianing\n",
    "# date change\n",
    "# train['year'] = train['date'].apply(lambda i : i[:4]).astype(int)\n",
    "# train['month'] = train['date'].apply(lambda i : i[4:6]).astype(int)\n",
    "# train['day'] = train['date'].apply(lambda i : i[6:8]).astype(int)\n",
    "train['date'] = train['date'].apply(lambda i: i[:6]).astype(int)\n",
    "\n",
    "\n",
    "y = train['price']\n",
    "del train['price']\n",
    "del train['id']\n",
    "\n",
    "# test의 id 컬럼 삭제\n",
    "# test['year'] = test['date'].apply(lambda i : i[:4]).astype(int)\n",
    "# test['month'] = test['date'].apply(lambda i : i[4:6]).astype(int)\n",
    "# test['day'] = test['date'].apply(lambda i : i[6:8]).astype(int)\n",
    "test['date'] = test['date'].apply(lambda i: i[:6]).astype(int)\n",
    "\n",
    "del test['id']\n",
    "\n",
    "# y log change\n",
    "y = np.log1p(y)"
   ]
  },
  {
   "cell_type": "code",
   "execution_count": null,
   "metadata": {
    "colab": {
     "base_uri": "https://localhost:8080/",
     "height": 1000
    },
    "id": "4vFouCQUPErW",
    "outputId": "29e3de1d-1ac1-4f72-ef49-a0a6ded37b61"
   },
   "outputs": [],
   "source": [
    "#try after getting score which is lower 110000\n",
    "param = {\n",
    "    'n_estimators': [int(x) for x in range(500,600,2)],\n",
    "    'max_depth': [int(x) for x in range(0,15)],\n",
    "}\n",
    "n_iter = 50\n",
    "\n",
    "model = LGBMRegressor(random_state=random_state)\n",
    "my_RandomSearch(model, train, y, param, n_iter, verbose=1)\n",
    "\n",
    "#range(150,300,2) 진행결과 estimator : 288, max_depth : 10 가 rmsle 0.161052\n",
    "#range(300,400,2) 진행결과 estimator : 380, max_depth : 8 가 rmsle 0.160893\n",
    "#range(400,450,2) 진행결과 estimator : 404, max_depth : 0 가 rmsle 0.160915\n",
    "#range(400,450,2) 진행결과 estimator : 402, max_depth : 8 가 rmsle 0.160941\n",
    "#range(400,450,2) 진행결과 estimator : 402, max_depth : 8 가 rmsle 0.160941"
   ]
  },
  {
   "cell_type": "code",
   "execution_count": null,
   "metadata": {
    "colab": {
     "base_uri": "https://localhost:8080/"
    },
    "id": "LsDh5S1SbQ7n",
    "outputId": "cd45da94-b06d-4301-f7f1-2becd2b213fd"
   },
   "outputs": [],
   "source": [
    "random_state"
   ]
  },
  {
   "cell_type": "code",
   "execution_count": null,
   "metadata": {
    "colab": {
     "base_uri": "https://localhost:8080/"
    },
    "id": "k8J9XfUuPOgS",
    "outputId": "786e5980-307f-4136-cd2e-051b84e2682b"
   },
   "outputs": [],
   "source": [
    "model = LGBMRegressor(max_depth=10, n_estimators=558, random_state=random_state)\n",
    "model.fit(train, y)\n",
    "\n",
    "prediction = model.predict(test)\n",
    "prediction = np.expm1(prediction)\n",
    "prediction"
   ]
  },
  {
   "cell_type": "code",
   "execution_count": null,
   "metadata": {
    "id": "AuOPM6GeQ1ZX"
   },
   "outputs": [],
   "source": [
    "def save_submission(model, train, y, test, model_name, rmsle=None):\n",
    "    model.fit(train, y)\n",
    "    prediction = model.predict(test)\n",
    "    prediction = np.expm1(prediction)\n",
    "    data_dir = '/content/drive/MyDrive/아이펠/EXPLORATION_RS6/data/exp_2_kaggle'\n",
    "    submission_path = join(data_dir, 'sample_submission.csv')\n",
    "    submission = pd.read_csv(submission_path)\n",
    "    submission['price'] = prediction\n",
    "    submission_csv_path = '{}/submission_{}_RMSLE_{}.csv'.format(data_dir, model_name, rmsle)\n",
    "    submission.to_csv(submission_csv_path, index=False)\n",
    "    print('{} saved!'.format(submission_csv_path))"
   ]
  },
  {
   "cell_type": "code",
   "execution_count": null,
   "metadata": {
    "colab": {
     "base_uri": "https://localhost:8080/"
    },
    "id": "RbqX_3swQ_eX",
    "outputId": "1d323e3c-eae4-4fdd-e12a-fb126fbfac79"
   },
   "outputs": [],
   "source": [
    "# save_submission(model, train, y, test, 'sample_submission_288_10', rmsle=None) #private score 111,047\n",
    "# save_submission(model, train, y, test, 'sample_submission_350_0', rmsle=None) #private score 111,295\n",
    "# save_submission(model, train, y, test, 'sample_submission_404_0', rmsle=None) #private score 111,408\n",
    "# save_submission(model, train, y, test, 'sample_submission_402_8', rmsle=None) #private score 111,951\n",
    "# save_submission(model, train, y, test, 'sample_submission_380_10', rmsle=None) #private score 110,864\n",
    "# save_submission(model, train, y, test, 'sample_submission_380_15', rmsle=None) #private score 111,637\n",
    "# save_submission(model, train, y, test, 'sample_submission_379_8', rmsle=None) #private score 111,907\n",
    "# save_submission(model, train, y, test, 'sample_submission_380_8', rmsle=None) #private score 111,884\n",
    "# save_submission(model, train, y, test, 'sample_submission_394_9', rmsle=None) #private score 110,657\n",
    "# save_submission(model, train, y, test, 'sample_submission_394_11', rmsle=None) #private score 110,957\n",
    "# save_submission(model, train, y, test, 'sample_submission_380_8_2', rmsle=None) #private score 110,957\n",
    "# save_submission(model, train, y, test, 'sample_submission_380_8_3', rmsle=None) #private score 110,957\n",
    "save_submission(model, train, y, test, 'sample_submission_558_10', rmsle=None) #private score 109,921"
   ]
  },
  {
   "cell_type": "markdown",
   "metadata": {
    "id": "GipjsBZ1jMUN"
   },
   "source": [
    "# 회고\n",
    "- EDA를 진행하고 거기서 신규 변수 생성 및 탈락을 진행해서 학습을 진행해 보았지만, 기존 노드학습보다 rmse값이 개선되지 않았음."
   ]
  },
  {
   "cell_type": "code",
   "execution_count": null,
   "metadata": {
    "id": "q3_bq0kWlREU"
   },
   "outputs": [],
   "source": []
  },
  {
   "cell_type": "code",
   "execution_count": null,
   "metadata": {
    "id": "clzGBLoORzZ8"
   },
   "outputs": [],
   "source": []
  }
 ],
 "metadata": {
  "colab": {
   "provenance": []
  },
  "kernelspec": {
   "display_name": "Python 3 (ipykernel)",
   "language": "python",
   "name": "python3"
  },
  "language_info": {
   "codemirror_mode": {
    "name": "ipython",
    "version": 3
   },
   "file_extension": ".py",
   "mimetype": "text/x-python",
   "name": "python",
   "nbconvert_exporter": "python",
   "pygments_lexer": "ipython3",
   "version": "3.9.7"
  }
 },
 "nbformat": 4,
 "nbformat_minor": 1
}
