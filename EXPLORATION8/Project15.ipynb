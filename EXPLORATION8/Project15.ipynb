{
 "cells": [
  {
   "cell_type": "markdown",
   "id": "2c420472",
   "metadata": {},
   "source": [
    "# 15. 트랜스포머로 만드는 대화형 챗봇"
   ]
  },
  {
   "cell_type": "markdown",
   "id": "3041a1b8",
   "metadata": {},
   "source": [
    "## 학습 목표"
   ]
  },
  {
   "cell_type": "markdown",
   "id": "4b94cf8b",
   "metadata": {},
   "source": [
    "- 트랜스포머의 인코더 디코더 구조 이해할 수 있습니다.\n",
    "- 내부 단어 토크나이저 사용할 수 있습니다.\n",
    "- 셀프 어텐션 이해할 수 있습니다.\n",
    "- 한국어에도 적용할 수 있습니다."
   ]
  },
  {
   "cell_type": "markdown",
   "id": "19d34bc9",
   "metadata": {},
   "source": [
    "## 2. 트랜스포머와 인코더 디코더\n",
    "트랜스포머에서 사용되는 인코더와 디코더를 알아보고, 전체적인 구조를 파악합니다."
   ]
  },
  {
   "cell_type": "markdown",
   "id": "1862fdd1",
   "metadata": {},
   "source": [
    "Q. 트랜스포머에서 인코더와 디코더는 어떤 역할을 수행하나요?"
   ]
  },
  {
   "cell_type": "markdown",
   "id": "073a0512",
   "metadata": {},
   "source": [
    "인코더는 입력 문장을 임베딩하고 문장의 의미를 파악하여 디코더에 전달합니다. 디코더는 인코더에서 전달 받은 정보를 기반으로 문장을 생성합니다."
   ]
  },
  {
   "cell_type": "markdown",
   "id": "a5f67de2",
   "metadata": {},
   "source": [
    "## 3.트랜스포머의 입력 이해하기\n",
    "트랜스포머의 입력 방식을 알아보고, PositionalEncoding Layer의 코드를 학습합니다."
   ]
  },
  {
   "cell_type": "code",
   "execution_count": 3,
   "id": "c0460a8d",
   "metadata": {},
   "outputs": [
    {
     "name": "stdout",
     "output_type": "stream",
     "text": [
      "슝=3\n"
     ]
    }
   ],
   "source": [
    "import tensorflow as tf\n",
    "import tensorflow_datasets as tfds\n",
    "import os\n",
    "import re\n",
    "import numpy as np\n",
    "import matplotlib.pyplot as plt\n",
    "print(\"슝=3\")"
   ]
  },
  {
   "cell_type": "markdown",
   "id": "5f3d4d2d",
   "metadata": {},
   "source": [
    "## 4. 어텐션? 어텐션!\n",
    "어텐션 메커니즘에 대해서 알아보고, 트랜스포머에서 사용되는 3가지 어텐션을 파악합니다."
   ]
  },
  {
   "cell_type": "markdown",
   "id": "df59a5b3",
   "metadata": {},
   "source": [
    "## 5. 스케일드 닷 프로덕트 어텐션\n",
    "스케일드 닷 프로덕트 어텐션을 알아보고, 함수 코드로 구현하며 학습합니다."
   ]
  },
  {
   "cell_type": "markdown",
   "id": "8fd88cbb",
   "metadata": {},
   "source": [
    "## 6. 머리가 여러 개인 어텐션\n",
    "멀티 헤드 어텐션을 알아보고, 코드로 구현하며 학습합니다."
   ]
  },
  {
   "cell_type": "markdown",
   "id": "f33fec84",
   "metadata": {},
   "source": [
    "## 7. 마스킹\n",
    "트랜스포머에서 사용하는 2가지 마스킹(Padding Masking, Look ahead Masking)에 대해서 알아보고, 코드를 통해 어떻게 사용되는지 학습합니다."
   ]
  },
  {
   "cell_type": "markdown",
   "id": "d835a5c6",
   "metadata": {},
   "source": [
    "## 8. 인코더\n",
    "인코더를 설계하고, 코드로 구현해보며 학습합니다."
   ]
  },
  {
   "cell_type": "markdown",
   "id": "83d21970",
   "metadata": {},
   "source": [
    "## 9. 디코더\n",
    "디코더를 설계하고, 코드로 구현해보며 학습합니다."
   ]
  },
  {
   "cell_type": "markdown",
   "id": "0cfcc397",
   "metadata": {},
   "source": [
    "## 10. 챗봇의 병렬 데이터 받아오기\n",
    "학습에 사용할 데이터셋을 준비하는 과정을 수행합니다."
   ]
  },
  {
   "cell_type": "markdown",
   "id": "13c88e5a",
   "metadata": {},
   "source": [
    "## 11. 병렬 데이터 전처리하기\n",
    "준비된 데이터를 학습시키기 위해 전처리과정을 수행하며, 교사 강요에 대해서 학습니다."
   ]
  },
  {
   "cell_type": "markdown",
   "id": "fbeaf226",
   "metadata": {},
   "source": [
    "## 12. 모델 정의 및 학습하기\n",
    "트랜스포머 모델을 정의하고 훈련까지 수행합니다."
   ]
  },
  {
   "cell_type": "markdown",
   "id": "22b91dfa",
   "metadata": {},
   "source": [
    "## 13. 챗봇 테스트하기\n",
    "학습된 트랜스포머를 사용하여 테스트를 진행합니다."
   ]
  },
  {
   "cell_type": "code",
   "execution_count": null,
   "id": "1ca503aa",
   "metadata": {},
   "outputs": [],
   "source": []
  }
 ],
 "metadata": {
  "kernelspec": {
   "display_name": "Python 3 (ipykernel)",
   "language": "python",
   "name": "python3"
  },
  "language_info": {
   "codemirror_mode": {
    "name": "ipython",
    "version": 3
   },
   "file_extension": ".py",
   "mimetype": "text/x-python",
   "name": "python",
   "nbconvert_exporter": "python",
   "pygments_lexer": "ipython3",
   "version": "3.9.7"
  }
 },
 "nbformat": 4,
 "nbformat_minor": 5
}
