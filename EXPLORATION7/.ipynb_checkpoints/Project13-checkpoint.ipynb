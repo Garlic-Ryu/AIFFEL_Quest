{
 "cells": [
  {
   "cell_type": "markdown",
   "id": "d97dcc35",
   "metadata": {},
   "source": [
    "# 13. 난 스케치를 할 테니 너는 채색을 하거라"
   ]
  },
  {
   "cell_type": "markdown",
   "id": "f2497b3c",
   "metadata": {},
   "source": [
    "## 학습 목표\n",
    "- 조건을 부여하여 생성 모델을 다루는 방법에 대해 이해할 수 있습니다.\n",
    "- cGAN 및 Pix2Pix의 구조와 학습 방법을 이해하고 잘 활용할 수 있습니다.\n",
    "- CNN 기반의 모델을 구현하는데 자신감을 갖을 수 있습니다."
   ]
  },
  {
   "cell_type": "markdown",
   "id": "65ed6862",
   "metadata": {},
   "source": [
    "## 2. 조건 없는 생성 모델(Unconditional Generative Model), GAN\n",
    "GAN 생성 모델의 문제점을 파악합니다."
   ]
  },
  {
   "cell_type": "markdown",
   "id": "1df8148e",
   "metadata": {},
   "source": [
    "- 일반적인 GAN과 같은 unconditioned generative model은 내가 생성하고자 하는 데이터에 대해 제어하기 힘들었습니다.\n",
    "- GAN의 생성자와 판별자가 경쟁하는 과정에서 균형을 유지하기 어려워 학습이 불안정해지는 경향이 있고, 생성자가 판별자를 속이기 어려워지면서 동일하거나 유사한 이미지를 반복적으로 생성하는 Model collapsing 문제 등이 있습니다"
   ]
  },
  {
   "cell_type": "markdown",
   "id": "ed10298c",
   "metadata": {},
   "source": [
    "## 3. 건 있는 생성 모델(Conditional Generative Model), cGAN\n",
    "cGAN 모델의 구조를 파악하고, GAN과 차이점이 무엇인지 학습합니다.\n"
   ]
  },
  {
   "cell_type": "markdown",
   "id": "1628369a",
   "metadata": {},
   "source": [
    "D(x)와 G(z)가 각각 D(x∣y), G(z∣y)로 바뀌었습니다. 즉 G와 D의 입력에 특정 조건을 나타내는 정보인 y를 같이 입력한다."
   ]
  },
  {
   "cell_type": "markdown",
   "id": "9f71f0c3",
   "metadata": {},
   "source": [
    "## 4 ~ 6. 내가 원하는 숫자 이미지 만들기\n",
    "GAN과 cGAN의 Generator와 Discriminator를 각각 구현하고, 학습 및 테스트를 진행합니다. y가 임의 노이즈 입력인 z의 가이드이다."
   ]
  },
  {
   "cell_type": "markdown",
   "id": "f8634ab9",
   "metadata": {},
   "source": [
    "## 4. Generator 구성하기"
   ]
  },
  {
   "cell_type": "markdown",
   "id": "c0659336",
   "metadata": {},
   "source": [
    "### 라이브러리 설치"
   ]
  },
  {
   "cell_type": "code",
   "execution_count": null,
   "id": "79c5c4b8",
   "metadata": {},
   "outputs": [],
   "source": [
    "pip install tensorflow-datasets\n",
    "pip list | grep tensorflow-datasets"
   ]
  },
  {
   "cell_type": "code",
   "execution_count": 2,
   "id": "391f2f29",
   "metadata": {},
   "outputs": [
    {
     "data": {
      "image/png": "[encoded data removed]",
      "text/plain": [
       "<Figure size 648x648 with 9 Axes>"
      ]
     },
     "metadata": {},
     "output_type": "display_data"
    }
   ],
   "source": [
    "import tensorflow_datasets as tfds\n",
    "\n",
    "mnist, info =  tfds.load(\n",
    "    \"mnist\", split=\"train\", with_info=True\n",
    ")\n",
    "\n",
    "fig = tfds.show_examples(mnist, info)"
   ]
  },
  {
   "cell_type": "code",
   "execution_count": 3,
   "id": "8298828b",
   "metadata": {},
   "outputs": [
    {
     "name": "stdout",
     "output_type": "stream",
     "text": [
      "✅\n"
     ]
    }
   ],
   "source": [
    "import tensorflow as tf\n",
    "\n",
    "BATCH_SIZE = 128\n",
    "\n",
    "def gan_preprocessing(data):\n",
    "    image = data[\"image\"]\n",
    "    image = tf.cast(image, tf.float32)\n",
    "    image = (image / 127.5) - 1\n",
    "    return image\n",
    "\n",
    "def cgan_preprocessing(data):\n",
    "    image = data[\"image\"]\n",
    "    image = tf.cast(image, tf.float32)\n",
    "    image = (image / 127.5) - 1\n",
    "    \n",
    "    label = tf.one_hot(data[\"label\"], 10)\n",
    "    return image, label\n",
    "\n",
    "gan_datasets = mnist.map(gan_preprocessing).shuffle(1000).batch(BATCH_SIZE)\n",
    "cgan_datasets = mnist.map(cgan_preprocessing).shuffle(100).batch(BATCH_SIZE)\n",
    "print(\"✅\")"
   ]
  },
  {
   "cell_type": "code",
   "execution_count": 53,
   "id": "dcb48bf4",
   "metadata": {},
   "outputs": [
    {
     "name": "stdout",
     "output_type": "stream",
     "text": [
      "Label : tf.Tensor([0. 0. 0. 0. 0. 0. 0. 1. 0. 0.], shape=(10,), dtype=float32)\n",
      "Image Min/Max : -1.0 1.0\n"
     ]
    },
    {
     "data": {
      "text/plain": [
       "<matplotlib.image.AxesImage at 0x7fe114c8ca00>"
      ]
     },
     "execution_count": 53,
     "metadata": {},
     "output_type": "execute_result"
    },
    {
     "data": {
      "image/png": "[encoded data removed]",
      "text/plain": [
       "<Figure size 432x288 with 1 Axes>"
      ]
     },
     "metadata": {
      "needs_background": "light"
     },
     "output_type": "display_data"
    }
   ],
   "source": [
    "import matplotlib.pyplot as plt\n",
    "\n",
    "for i,j in cgan_datasets : break\n",
    "\n",
    "# 이미지 i와 라벨 j가 일치하는지 확인해 봅니다.     \n",
    "print(\"Label :\", j[0])\n",
    "print(\"Image Min/Max :\", i.numpy().min(), i.numpy().max())\n",
    "plt.imshow(i.numpy()[0,...,0], plt.cm.gray)"
   ]
  },
  {
   "cell_type": "markdown",
   "id": "e3a50772",
   "metadata": {},
   "source": [
    "### GAN Generator 구성하기"
   ]
  },
  {
   "cell_type": "code",
   "execution_count": 107,
   "id": "1a9f3eb4",
   "metadata": {},
   "outputs": [
    {
     "name": "stdout",
     "output_type": "stream",
     "text": [
      "✅\n"
     ]
    }
   ],
   "source": [
    "#주석에 맞춰 Generator를 만들어주세요.\n",
    "\n",
    "from tensorflow.keras import layers, Input, Model\n",
    "\n",
    "class GeneratorGAN(Model):\n",
    "    def __init__(self):\n",
    "        super(GeneratorGAN, self).__init__()\n",
    "\n",
    "        # 활성화함수를 'relu'를 사용하고 unit이 128인 Dense Layer를 정의해주세요,.\n",
    "        self.dense_1 = layer.Dense(128, activation = 'relu')\n",
    "        # 활성화함수를 'relu'를 사용하고 unit이 256인 Dense Layer를 정의해주세요.\n",
    "        self.dense_2 = layer.Dense(256, activation = 'relu')\n",
    "        # 활성화함수를 'relu'를 사용하고 unit이 512인 Dense Layer를 정의해주세요.\n",
    "        self.dense_3 = layer.Dense(512, activation = 'relu')\n",
    "        # 활성화함수를 하이퍼볼릭 탄젠트를 사용하고 unit이 256인 Dense Layer를 정의해주세요.\n",
    "        self.dense_4 = layer.Dense(28*28, activation = 'tanh')\n",
    "        # 모양일 (28,28,1)로 변경해주세요.\n",
    "        self.reshape = layers.Reshape((28,28,1))\n",
    "\n",
    "    def call(self, noise):\n",
    "        out = self.dense_1(noise)\n",
    "        out = self.dense_2(out)\n",
    "        out = self.dense_3(out)\n",
    "        out = self.dense_4(out)\n",
    "        return self.reshape(out)\n",
    "\n",
    "print(\"✅\")"
   ]
  },
  {
   "cell_type": "markdown",
   "id": "af742a20",
   "metadata": {},
   "source": [
    "### cGAN Generator 구성하기"
   ]
  },
  {
   "cell_type": "code",
   "execution_count": 128,
   "id": "bb2d2138",
   "metadata": {},
   "outputs": [
    {
     "name": "stdout",
     "output_type": "stream",
     "text": [
      "✅\n"
     ]
    }
   ],
   "source": [
    "#주석에 맞춰 Generator를 만들어주세요.\n",
    "\n",
    "class GeneratorCGAN(Model):\n",
    "    def __init__(self):\n",
    "        super(GeneratorCGAN, self).__init__()\n",
    "        \n",
    "        self.dense_z = layers.Dense(256, activation='relu')\n",
    "        self.dense_y = layers.Dense(256, activation='relu')\n",
    "        self.combined_dense = layers.Dense(512, activation='relu')\n",
    "        self.final_dense = layers.Dense(28 * 28 * 1, activation='tanh')\n",
    "        self.reshape = layers.Reshape((28, 28, 1))\n",
    "\n",
    "    def call(self, noise, label):\n",
    "        # 노이즈에 Dense layer를 적용시킵니다.\n",
    "        noise = self.dense_z(noise)\n",
    "         # 라벨에 Dense layer를 적용시킵니다.\n",
    "        label = self.dense_y(label)\n",
    "        # 노이즈와 라벨을 pair가 되게 합친 다음 combined_dense를 적용시킵니다. (힌트 : https://www.tensorflow.org/api_docs/python/tf/concat)\n",
    "        out = self.combined_dense(tf.concat([noise, label], axis=1))\n",
    "        # 마지막 Dense Layer를 적용시킵니다.\n",
    "        out = self.final_dense(out)\n",
    "        return self.reshape(out)\n",
    "    \n",
    "print(\"✅\")"
   ]
  },
  {
   "cell_type": "markdown",
   "id": "59b198ce",
   "metadata": {},
   "source": [
    "Q. 위 코드로 생성한 모델에 대해 입력부터 출력까지 어떤 연산이 이루어지는지 설명해주세요.(init() 메서드에서는 노이즈 및 레이블 입력 각각에 적용할 레이어를 생성했습니다)"
   ]
  },
  {
   "cell_type": "markdown",
   "id": "fe05cade",
   "metadata": {},
   "source": [
    "노이즈 입력 및 레이블 입력은 각각 1개의 fully-connected 레이어와 ReLU 활성화를 통과합니다. (dense_z, dense_y)\n",
    "1번 문항의 각 결과가 서로 연결되어 다시 한번 1개의 fully-connected 레이어와 ReLU 활성화를 통과합니다 (tf.concat, conbined_dense)\n",
    "2번 문항의 결과가 1개의 fully-connected 레이어 및 Hyperbolic tangent 활성화를 거쳐 28x28 차원의 결과가 생성되고 (28,28,1) 크기의 이미지 형태로 변환되어 출력됩니다 (final_dense, reshape)"
   ]
  },
  {
   "cell_type": "markdown",
   "id": "5be81121",
   "metadata": {},
   "source": [
    "## 5. Discriminator 구성하기"
   ]
  },
  {
   "cell_type": "markdown",
   "id": "5ec543d3",
   "metadata": {},
   "source": [
    "### GAN Discriminator 구성하기"
   ]
  },
  {
   "cell_type": "code",
   "execution_count": 120,
   "id": "244b9ce5",
   "metadata": {},
   "outputs": [
    {
     "name": "stdout",
     "output_type": "stream",
     "text": [
      "✅\n"
     ]
    }
   ],
   "source": [
    "class DiscriminatorGAN(Model):\n",
    "    def __init__(self):\n",
    "        super(DiscriminatorGAN, self).__init__()\n",
    "        self.flatten = layers.Flatten()\n",
    "        \n",
    "        #해당 방식은 반복문을 활용해 layer를 쌓기 때문에 좋은 테크닉중 하나입니다,.\n",
    "        self.blocks = []\n",
    "        for f in [512, 256, 128, 1]:\n",
    "            self.blocks.append(\n",
    "                layers.Dense(f, activation=None if f==1 else \"relu\")\n",
    "            )\n",
    "        \n",
    "    def call(self, x):\n",
    "        x = self.flatten(x)\n",
    "        for block in self.blocks:\n",
    "            x = block(x)\n",
    "        return x\n",
    "    \n",
    "print(\"✅\")"
   ]
  },
  {
   "cell_type": "markdown",
   "id": "d95b9817",
   "metadata": {},
   "source": [
    "## cGAN Discriminator 구성하기"
   ]
  },
  {
   "cell_type": "code",
   "execution_count": 121,
   "id": "6d2c9319",
   "metadata": {},
   "outputs": [
    {
     "name": "stdout",
     "output_type": "stream",
     "text": [
      "✅\n"
     ]
    }
   ],
   "source": [
    "class Maxout(layers.Layer):\n",
    "    def __init__(self, units, pieces):\n",
    "        super(Maxout, self).__init__()\n",
    "        self.dense = layers.Dense(units*pieces, activation=\"relu\")\n",
    "        self.dropout = layers.Dropout(.5)    \n",
    "        self.reshape = layers.Reshape((-1, pieces, units))\n",
    "    \n",
    "    def call(self, x):\n",
    "        x = self.dense(x)\n",
    "        x = self.dropout(x)\n",
    "        x = self.reshape(x)\n",
    "        return tf.math.reduce_max(x, axis=2)\n",
    "\n",
    "print(\"✅\")"
   ]
  },
  {
   "cell_type": "code",
   "execution_count": 122,
   "id": "4a37b0b6",
   "metadata": {},
   "outputs": [
    {
     "name": "stdout",
     "output_type": "stream",
     "text": [
      "✅\n"
     ]
    }
   ],
   "source": [
    "class DiscriminatorCGAN(Model):\n",
    "    def __init__(self):\n",
    "        super(DiscriminatorCGAN, self).__init__()\n",
    "        self.flatten = layers.Flatten()\n",
    "        \n",
    "        self.image_block = Maxout(240, 5)\n",
    "        self.label_block = Maxout(50, 5)\n",
    "        self.combine_block = Maxout(240, 4)\n",
    "        \n",
    "        self.dense = layers.Dense(1, activation=None)\n",
    "    \n",
    "    def call(self, image, label):\n",
    "        image = self.flatten(image)\n",
    "        image = self.image_block(image)\n",
    "        label = self.label_block(label)\n",
    "        x = layers.Concatenate()([image, label])\n",
    "        x = self.combine_block(x)\n",
    "        return self.dense(x)\n",
    "    \n",
    "print(\"✅\")"
   ]
  },
  {
   "cell_type": "markdown",
   "id": "e4a2a733",
   "metadata": {},
   "source": [
    "Q. 만약 위와 같은 cGAN의 Disciminator에 (28,28,1) 크기 이미지 및 (10,) 크기 레이블이 입력될 때, 연산의 순서를 다음과 같이 나타낼 수 있습니다.\n",
    "\n",
    "이미지가 Maxout 레이어를 통과\n",
    "레이블이 Maxout 레이어를 통과\n",
    "1)과 2)결과로 나온 representation을 결합(concate) 후 Maxout 레이어를 통과\n",
    "위 3개 과정의 각 결과 차원 수는 각각 몇일까요?"
   ]
  },
  {
   "cell_type": "markdown",
   "id": "f6498819",
   "metadata": {},
   "source": [
    "240, 50, 240"
   ]
  },
  {
   "cell_type": "markdown",
   "id": "75fca5ac",
   "metadata": {},
   "source": [
    "## 6. 학습 및 테스트하기"
   ]
  },
  {
   "cell_type": "code",
   "execution_count": 123,
   "id": "39889fe8",
   "metadata": {},
   "outputs": [
    {
     "name": "stdout",
     "output_type": "stream",
     "text": [
      "✅\n"
     ]
    }
   ],
   "source": [
    "from tensorflow.keras import optimizers, losses\n",
    "\n",
    "bce = losses.BinaryCrossentropy(from_logits=True)\n",
    "\n",
    "def generator_loss(fake_output):\n",
    "    return bce(tf.ones_like(fake_output), fake_output)\n",
    "\n",
    "def discriminator_loss(real_output, fake_output):\n",
    "    return bce(tf.ones_like(real_output), real_output) + bce(tf.zeros_like(fake_output), fake_output)\n",
    "\n",
    "gene_opt = optimizers.Adam(1e-4)\n",
    "disc_opt = optimizers.Adam(1e-4)    \n",
    "\n",
    "print(\"✅\")"
   ]
  },
  {
   "cell_type": "markdown",
   "id": "b0f53996",
   "metadata": {},
   "source": [
    "GAN으로 MNIST 학습하기"
   ]
  },
  {
   "cell_type": "code",
   "execution_count": 124,
   "id": "08827ccf",
   "metadata": {},
   "outputs": [
    {
     "name": "stdout",
     "output_type": "stream",
     "text": [
      "✅\n"
     ]
    }
   ],
   "source": [
    "gan_generator = GeneratorGAN()\n",
    "gan_discriminator = DiscriminatorGAN()\n",
    "\n",
    "@tf.function()\n",
    "def gan_step(real_images):\n",
    "    noise = tf.random.normal([real_images.shape[0], 100])\n",
    "    \n",
    "    with tf.GradientTape(persistent=True) as tape:\n",
    "        # Generator를 이용해 가짜 이미지 생성\n",
    "        fake_images = gan_generator(noise)\n",
    "        # Discriminator를 이용해 진짜 및 가짜이미지를 각각 판별\n",
    "        real_out = gan_discriminator(real_images)\n",
    "        fake_out = gan_discriminator(fake_images)\n",
    "        # 각 손실(loss)을 계산\n",
    "        gene_loss = generator_loss(fake_out)\n",
    "        disc_loss = discriminator_loss(real_out, fake_out)\n",
    "    # gradient 계산\n",
    "    gene_grad = tape.gradient(gene_loss, gan_generator.trainable_variables)\n",
    "    disc_grad = tape.gradient(disc_loss, gan_discriminator.trainable_variables)\n",
    "    # 모델 학습\n",
    "    gene_opt.apply_gradients(zip(gene_grad, gan_generator.trainable_variables))\n",
    "    disc_opt.apply_gradients(zip(disc_grad, gan_discriminator.trainable_variables))\n",
    "    return gene_loss, disc_loss\n",
    "\n",
    "print(\"✅\")"
   ]
  },
  {
   "cell_type": "code",
   "execution_count": 125,
   "id": "f34978cd",
   "metadata": {},
   "outputs": [
    {
     "name": "stdout",
     "output_type": "stream",
     "text": [
      "[1/10 EPOCHS, 100 ITER] G:2.227933645248413, D:0.13370046019554138\n",
      "[1/10 EPOCHS, 200 ITER] G:2.7128851413726807, D:0.10587362945079803\n",
      "[1/10 EPOCHS, 300 ITER] G:2.2088677883148193, D:0.18013042211532593\n",
      "[1/10 EPOCHS, 400 ITER] G:2.674492835998535, D:0.1162901371717453\n",
      "[2/10 EPOCHS, 100 ITER] G:3.503481864929199, D:0.10108128190040588\n",
      "[2/10 EPOCHS, 200 ITER] G:3.1141183376312256, D:0.07447618246078491\n",
      "[2/10 EPOCHS, 300 ITER] G:3.7315053939819336, D:0.17556017637252808\n",
      "[2/10 EPOCHS, 400 ITER] G:3.56941556930542, D:0.2019624412059784\n",
      "[3/10 EPOCHS, 100 ITER] G:4.692009925842285, D:0.13104374706745148\n",
      "[3/10 EPOCHS, 200 ITER] G:3.496687173843384, D:0.09962917864322662\n",
      "[3/10 EPOCHS, 300 ITER] G:3.7447829246520996, D:0.08187902718782425\n",
      "[3/10 EPOCHS, 400 ITER] G:5.104434490203857, D:0.06483645737171173\n",
      "[4/10 EPOCHS, 100 ITER] G:2.9953866004943848, D:0.11061623692512512\n",
      "[4/10 EPOCHS, 200 ITER] G:4.57016134262085, D:0.07741333544254303\n",
      "[4/10 EPOCHS, 300 ITER] G:4.189174652099609, D:0.09897010028362274\n",
      "[4/10 EPOCHS, 400 ITER] G:5.452987194061279, D:0.047226548194885254\n",
      "[5/10 EPOCHS, 100 ITER] G:4.46197509765625, D:0.13412176072597504\n",
      "[5/10 EPOCHS, 200 ITER] G:4.095461845397949, D:0.11058730632066727\n",
      "[5/10 EPOCHS, 300 ITER] G:4.51207971572876, D:0.10536830127239227\n",
      "[5/10 EPOCHS, 400 ITER] G:4.891400337219238, D:0.1124679371714592\n",
      "[6/10 EPOCHS, 100 ITER] G:3.450967788696289, D:0.1459740698337555\n",
      "[6/10 EPOCHS, 200 ITER] G:4.710597038269043, D:0.050712648779153824\n",
      "[6/10 EPOCHS, 300 ITER] G:4.496773719787598, D:0.09788429737091064\n",
      "[6/10 EPOCHS, 400 ITER] G:2.413759231567383, D:0.1140344887971878\n",
      "[7/10 EPOCHS, 100 ITER] G:3.990537166595459, D:0.12421272695064545\n",
      "[7/10 EPOCHS, 200 ITER] G:4.653534889221191, D:0.05234277620911598\n",
      "[7/10 EPOCHS, 300 ITER] G:4.259263038635254, D:0.07005894184112549\n",
      "[7/10 EPOCHS, 400 ITER] G:3.6794731616973877, D:0.04891171306371689\n",
      "[8/10 EPOCHS, 100 ITER] G:4.2843732833862305, D:0.026851339265704155\n",
      "[8/10 EPOCHS, 200 ITER] G:4.653127670288086, D:0.07807190716266632\n",
      "[8/10 EPOCHS, 300 ITER] G:6.197268962860107, D:0.06726738810539246\n",
      "[8/10 EPOCHS, 400 ITER] G:4.077954292297363, D:0.08218367397785187\n",
      "[9/10 EPOCHS, 100 ITER] G:5.84114933013916, D:0.17139175534248352\n",
      "[9/10 EPOCHS, 200 ITER] G:3.8070597648620605, D:0.030797047540545464\n",
      "[9/10 EPOCHS, 300 ITER] G:6.38157320022583, D:0.022450923919677734\n",
      "[9/10 EPOCHS, 400 ITER] G:4.8832526206970215, D:0.026191122829914093\n",
      "[10/10 EPOCHS, 100 ITER] G:4.344208240509033, D:0.052386172115802765\n",
      "[10/10 EPOCHS, 200 ITER] G:4.707597255706787, D:0.02538817748427391\n",
      "[10/10 EPOCHS, 300 ITER] G:4.036301612854004, D:0.07769352197647095\n",
      "[10/10 EPOCHS, 400 ITER] G:3.766576051712036, D:0.08672337979078293\n"
     ]
    }
   ],
   "source": [
    "EPOCHS = 10\n",
    "for epoch in range(1, EPOCHS+1):\n",
    "    for i, images in enumerate(gan_datasets):\n",
    "        gene_loss, disc_loss = gan_step(images)\n",
    "\n",
    "        if (i+1) % 100 == 0:\n",
    "            print(f\"[{epoch}/{EPOCHS} EPOCHS, {i+1} ITER] G:{gene_loss}, D:{disc_loss}\")"
   ]
  },
  {
   "cell_type": "code",
   "execution_count": 102,
   "id": "ae9eece5",
   "metadata": {},
   "outputs": [
    {
     "data": {
      "image/png": "[encoded data removed]",
      "text/plain": [
       "<Figure size 1080x432 with 10 Axes>"
      ]
     },
     "metadata": {
      "needs_background": "light"
     },
     "output_type": "display_data"
    }
   ],
   "source": [
    "import numpy as np\n",
    "\n",
    "noise = tf.random.normal([10, 100])\n",
    "\n",
    "output = gan_generator(noise)\n",
    "output = np.squeeze(output.numpy())\n",
    "\n",
    "plt.figure(figsize=(15,6))\n",
    "for i in range(1, 11):\n",
    "    plt.subplot(2,5,i)\n",
    "    plt.imshow(output[i-1])"
   ]
  },
  {
   "cell_type": "markdown",
   "id": "52d0c0af",
   "metadata": {},
   "source": [
    "결과를 보니 아마도 10 epoch의 학습만으로는 좋은 결과를 기대할 수 없나 봅니다.\n",
    "위 구현을 그대로 500 epoch 학습한 가중치를 준비해 두었으니 한번 사용해 봅시다.\n",
    "\n",
    "아래와 같이 작업환경을 구성해 주세요."
   ]
  },
  {
   "cell_type": "markdown",
   "id": "224d0b3a",
   "metadata": {},
   "source": [
    "- mkdir -p ~/aiffel/conditional_generation/gan\n",
    "- cp ~/data/gan/GAN_500.zip ~/aiffel/conditional_generation/gan/\n",
    "- cd ~/aiffel/conditional_generation/gan && unzip GAN_500.zip"
   ]
  },
  {
   "cell_type": "code",
   "execution_count": 116,
   "id": "6402fb98",
   "metadata": {},
   "outputs": [
    {
     "data": {
      "image/png": "[encoded data removed]",
      "text/plain": [
       "<Figure size 1080x432 with 10 Axes>"
      ]
     },
     "metadata": {
      "needs_background": "light"
     },
     "output_type": "display_data"
    }
   ],
   "source": [
    "import os\n",
    "weight_path = os.getenv('HOME')+'/aiffel/conditional_generation/gan/GAN_500'\n",
    "\n",
    "noise = tf.random.normal([10, 100]) \n",
    "\n",
    "gan_generator = GeneratorGAN()\n",
    "gan_generator.load_weights(weight_path)\n",
    "\n",
    "output = gan_generator(noise)\n",
    "output = np.squeeze(output.numpy())\n",
    "\n",
    "plt.figure(figsize=(15,6))\n",
    "for i in range(1, 11):\n",
    "    plt.subplot(2,5,i)\n",
    "    plt.imshow(output[i-1])"
   ]
  },
  {
   "cell_type": "markdown",
   "id": "fb1a1bd6",
   "metadata": {},
   "source": [
    "### cGAN으로 MNIST 학습하기"
   ]
  },
  {
   "cell_type": "code",
   "execution_count": 129,
   "id": "e59b21cb",
   "metadata": {},
   "outputs": [
    {
     "name": "stdout",
     "output_type": "stream",
     "text": [
      "[1/1 EPOCHS, 99 ITER] G:6.87026309967041, D:0.002464687917381525\n",
      "[1/1 EPOCHS, 199 ITER] G:6.629192352294922, D:0.022655686363577843\n",
      "[1/1 EPOCHS, 299 ITER] G:6.820690631866455, D:0.04682057723402977\n",
      "[1/1 EPOCHS, 399 ITER] G:6.681929588317871, D:0.008210346102714539\n"
     ]
    }
   ],
   "source": [
    "#위에 있는 gan_step()을 참고해서 cgan_step을 완성해주세요.\n",
    "\n",
    "cgan_generator = GeneratorCGAN()\n",
    "cgan_discriminator = DiscriminatorCGAN()\n",
    "\n",
    "@tf.function()\n",
    "def cgan_step(real_images, labels):\n",
    "    noise = tf.random.normal([real_images.shape[0], 100])\n",
    "    \n",
    "    with tf.GradientTape(persistent=True) as tape:\n",
    "        fake_images = cgan_generator(noise, labels)\n",
    "        \n",
    "        real_out = cgan_discriminator(real_images, labels)\n",
    "        fake_out = cgan_discriminator(fake_images, labels)\n",
    "        \n",
    "        gene_loss = generator_loss(fake_out)\n",
    "        disc_loss = discriminator_loss(real_out, fake_out)\n",
    "\n",
    "    gene_grad = tape.gradient(gene_loss, cgan_generator.trainable_variables)\n",
    "    disc_grad = tape.gradient(disc_loss, cgan_discriminator.trainable_variables)\n",
    "    \n",
    "    gene_opt.apply_gradients(zip(gene_grad, cgan_generator.trainable_variables))\n",
    "    disc_opt.apply_gradients(zip(disc_grad, cgan_discriminator.trainable_variables))\n",
    "    return gene_loss, disc_loss\n",
    "\n",
    "\n",
    "EPOCHS = 1\n",
    "for epoch in range(1, EPOCHS+1):\n",
    "    for i, (images, labels) in enumerate(cgan_datasets):\n",
    "        gene_loss, disc_loss = cgan_step(images, labels)\n",
    "    \n",
    "        if (i+1) % 100 == 0:\n",
    "            print(f\"[{epoch}/{EPOCHS} EPOCHS, {i} ITER] G:{gene_loss}, D:{disc_loss}\")"
   ]
  },
  {
   "cell_type": "code",
   "execution_count": 130,
   "id": "990d9079",
   "metadata": {
    "scrolled": true
   },
   "outputs": [
    {
     "data": {
      "image/png": "[encoded data removed]",
      "text/plain": [
       "<Figure size 1080x432 with 10 Axes>"
      ]
     },
     "metadata": {
      "needs_background": "light"
     },
     "output_type": "display_data"
    }
   ],
   "source": [
    "import numpy as np\n",
    "\n",
    "noise = tf.random.normal([10, 100])\n",
    "\n",
    "output = gan_generator(noise)\n",
    "output = np.squeeze(output.numpy())\n",
    "\n",
    "plt.figure(figsize=(15,6))\n",
    "for i in range(1, 11):\n",
    "    plt.subplot(2,5,i)\n",
    "    plt.imshow(output[i-1])"
   ]
  },
  {
   "cell_type": "markdown",
   "id": "089aaa32",
   "metadata": {},
   "source": [
    "결과를 보니 아마도 10 epoch의 학습만으로는 좋은 결과를 기대할 수 없나 봅니다.\n",
    "위 구현을 그대로 500 epoch 학습한 가중치를 준비해 두었으니 한번 사용해 봅시다.\n",
    "\n",
    "아래와 같이 작업환경을 구성해 주세요."
   ]
  },
  {
   "cell_type": "markdown",
   "id": "c9f320b5",
   "metadata": {},
   "source": [
    "- mkdir -p ~/aiffel/conditional_generation/gan\n",
    "- cp ~/data/gan/GAN_500.zip ~/aiffel/conditional_generation/gan/\n",
    "- cd ~/aiffel/conditional_generation/gan && unzip GAN_500.zip"
   ]
  },
  {
   "cell_type": "code",
   "execution_count": 131,
   "id": "3bcb6d92",
   "metadata": {},
   "outputs": [
    {
     "data": {
      "image/png": "[encoded data removed]",
      "text/plain": [
       "<Figure size 1080x432 with 10 Axes>"
      ]
     },
     "metadata": {
      "needs_background": "light"
     },
     "output_type": "display_data"
    }
   ],
   "source": [
    "import os\n",
    "weight_path = os.getenv('HOME')+'/aiffel/conditional_generation/gan/GAN_500'\n",
    "\n",
    "noise = tf.random.normal([10, 100]) \n",
    "\n",
    "gan_generator = GeneratorGAN()\n",
    "gan_generator.load_weights(weight_path)\n",
    "\n",
    "output = gan_generator(noise)\n",
    "output = np.squeeze(output.numpy())\n",
    "\n",
    "plt.figure(figsize=(15,6))\n",
    "for i in range(1, 11):\n",
    "    plt.subplot(2,5,i)\n",
    "    plt.imshow(output[i-1])"
   ]
  },
  {
   "cell_type": "markdown",
   "id": "2060e5db",
   "metadata": {},
   "source": [
    "## cGAN으로 MNIST 학습하기"
   ]
  },
  {
   "cell_type": "code",
   "execution_count": 132,
   "id": "9c85d4f9",
   "metadata": {},
   "outputs": [
    {
     "name": "stdout",
     "output_type": "stream",
     "text": [
      "[1/1 EPOCHS, 99 ITER] G:5.887171745300293, D:0.004155346658080816\n",
      "[1/1 EPOCHS, 199 ITER] G:4.346054553985596, D:0.02129228040575981\n",
      "[1/1 EPOCHS, 299 ITER] G:4.191577911376953, D:0.02346394956111908\n",
      "[1/1 EPOCHS, 399 ITER] G:4.948488712310791, D:0.02865174412727356\n"
     ]
    }
   ],
   "source": [
    "#위에 있는 gan_step()을 참고해서 cgan_step을 완성해주세요.\n",
    "\n",
    "cgan_generator = GeneratorCGAN()\n",
    "cgan_discriminator = DiscriminatorCGAN()\n",
    "\n",
    "@tf.function()\n",
    "def cgan_step(real_images, labels):\n",
    "    noise = tf.random.normal([real_images.shape[0], 100])\n",
    "    \n",
    "    with tf.GradientTape(persistent=True) as tape:\n",
    "        fake_images = cgan_generator(noise, labels)\n",
    "        \n",
    "        real_out = cgan_discriminator(real_images, labels)\n",
    "        fake_out = cgan_discriminator(fake_images, labels)\n",
    "        \n",
    "        gene_loss = generator_loss(fake_out)\n",
    "        disc_loss = discriminator_loss(real_out, fake_out)\n",
    "\n",
    "    gene_grad = tape.gradient(gene_loss, cgan_generator.trainable_variables)\n",
    "    disc_grad = tape.gradient(disc_loss, cgan_discriminator.trainable_variables)\n",
    "    \n",
    "    gene_opt.apply_gradients(zip(gene_grad, cgan_generator.trainable_variables))\n",
    "    disc_opt.apply_gradients(zip(disc_grad, cgan_discriminator.trainable_variables))\n",
    "    return gene_loss, disc_loss\n",
    "\n",
    "\n",
    "EPOCHS = 1\n",
    "for epoch in range(1, EPOCHS+1):\n",
    "    for i, (images, labels) in enumerate(cgan_datasets):\n",
    "        gene_loss, disc_loss = cgan_step(images, labels)\n",
    "    \n",
    "        if (i+1) % 100 == 0:\n",
    "            print(f\"[{epoch}/{EPOCHS} EPOCHS, {i} ITER] G:{gene_loss}, D:{disc_loss}\")"
   ]
  },
  {
   "cell_type": "markdown",
   "id": "69706348",
   "metadata": {},
   "source": [
    "학습 과정에서 Generator 및 Discriminator에 레이블 정보만 추가로 입력했다는 점을 제외하면 위에서 학습한 GAN과 큰 차이는 없습니다.\n",
    "위 코드로 짧게나마 학습시켜봤는데, 충분한 학습이 되기엔 더 많은 시간을 투자해야 합니다.\n",
    "뒤에서 학습해야 할 것들이 많이 남아있으니, 시간을 아끼기 위해 위 코드로 500 epoch 학습한 가중치를 준비해 두었습니다.\n",
    "\n",
    "아래와 같이 작업환경을 구성해 주세요."
   ]
  },
  {
   "cell_type": "markdown",
   "id": "01f7332b",
   "metadata": {},
   "source": [
    "- mkdir -p ~/aiffel/conditional_generation/cgan\n",
    "- cp ~/data/cgan/CGAN_500.zip ~/aiffel/conditional_generation/cgan/\n",
    "- cd ~/aiffel/conditional_generation/cgan && unzip CGAN_500.zip"
   ]
  },
  {
   "cell_type": "code",
   "execution_count": 1,
   "id": "aeb900c3",
   "metadata": {},
   "outputs": [
    {
     "ename": "NameError",
     "evalue": "name 'os' is not defined",
     "output_type": "error",
     "traceback": [
      "\u001b[0;31m---------------------------------------------------------------------------\u001b[0m",
      "\u001b[0;31mNameError\u001b[0m                                 Traceback (most recent call last)",
      "\u001b[0;32m/tmp/ipykernel_31/2735465387.py\u001b[0m in \u001b[0;36m<module>\u001b[0;34m\u001b[0m\n\u001b[1;32m      1\u001b[0m \u001b[0mnumber\u001b[0m \u001b[0;34m=\u001b[0m \u001b[0;36m10\u001b[0m  \u001b[0;31m# TODO : 생성할 숫자를 입력해 주세요!!\u001b[0m\u001b[0;34m\u001b[0m\u001b[0;34m\u001b[0m\u001b[0m\n\u001b[1;32m      2\u001b[0m \u001b[0;34m\u001b[0m\u001b[0m\n\u001b[0;32m----> 3\u001b[0;31m \u001b[0mweight_path\u001b[0m \u001b[0;34m=\u001b[0m \u001b[0mos\u001b[0m\u001b[0;34m.\u001b[0m\u001b[0mgetenv\u001b[0m\u001b[0;34m(\u001b[0m\u001b[0;34m'HOME'\u001b[0m\u001b[0;34m)\u001b[0m\u001b[0;34m+\u001b[0m\u001b[0;34m'/aiffel/conditional_generation/cgan/CGAN_500'\u001b[0m\u001b[0;34m\u001b[0m\u001b[0;34m\u001b[0m\u001b[0m\n\u001b[0m\u001b[1;32m      4\u001b[0m \u001b[0;34m\u001b[0m\u001b[0m\n\u001b[1;32m      5\u001b[0m \u001b[0mnoise\u001b[0m \u001b[0;34m=\u001b[0m \u001b[0mtf\u001b[0m\u001b[0;34m.\u001b[0m\u001b[0mrandom\u001b[0m\u001b[0;34m.\u001b[0m\u001b[0mnormal\u001b[0m\u001b[0;34m(\u001b[0m\u001b[0;34m[\u001b[0m\u001b[0;36m10\u001b[0m\u001b[0;34m,\u001b[0m \u001b[0;36m100\u001b[0m\u001b[0;34m]\u001b[0m\u001b[0;34m)\u001b[0m\u001b[0;34m\u001b[0m\u001b[0;34m\u001b[0m\u001b[0m\n",
      "\u001b[0;31mNameError\u001b[0m: name 'os' is not defined"
     ]
    }
   ],
   "source": [
    "number = 10  # TODO : 생성할 숫자를 입력해 주세요!!\n",
    "\n",
    "weight_path = os.getenv('HOME')+'/aiffel/conditional_generation/cgan/CGAN_500'\n",
    "\n",
    "noise = tf.random.normal([10, 100])\n",
    "\n",
    "label = tf.one_hot(number, 10)\n",
    "label = tf.expand_dims(label, axis=0)\n",
    "label = tf.repeat(label, 10, axis=0)\n",
    "\n",
    "generator = GeneratorCGAN()\n",
    "generator.load_weights(weight_path)\n",
    "\n",
    "output = generator(noise, label)\n",
    "output = np.squeeze(output.numpy())\n",
    "\n",
    "plt.figure(figsize=(15,6))\n",
    "for i in range(1, 11):\n",
    "    plt.subplot(2,5,i)\n",
    "    plt.imshow(output[i-1])"
   ]
  },
  {
   "cell_type": "markdown",
   "id": "bb9f882b",
   "metadata": {},
   "source": [
    "## 7. GAN의 입력에 이미지를 넣는다면? Pix2Pix\n",
    "Pix2Pix의 Generator와 Discriminator, Loss function에 대해서 알아봅니다."
   ]
  },
  {
   "cell_type": "markdown",
   "id": "8f147bd9",
   "metadata": {},
   "source": [
    "Q. Pix2Pix 모델의 생성자(Generator)에서 사용되는 Skip connection은 왜 사용되는 것인가요?"
   ]
  },
  {
   "cell_type": "markdown",
   "id": "f24fd8b4",
   "metadata": {},
   "source": [
    "입력 이미지와 생성되는 출력 이미지 사이에서 발생하는 정보 손실을 최소화하여 생성된 이미지의 품질 향상을 기대할 수 있기 때문입니다."
   ]
  },
  {
   "cell_type": "markdown",
   "id": "7871124b",
   "metadata": {},
   "source": [
    "Q. Generator만을 사용한 이미지 변환, 가능할까요?"
   ]
  },
  {
   "cell_type": "markdown",
   "id": "e5ebe3e7",
   "metadata": {},
   "source": [
    "물론, 가능합니다. AutoEncoder 형태의 접근은 Generator만으로 이미지 변환을 진행합니다."
   ]
  },
  {
   "cell_type": "markdown",
   "id": "48366fa8",
   "metadata": {},
   "source": [
    "## 8 ~ 12. 난 스케치를 할 테니 너는 채색을 하거라\n",
    "Pix2Pix 모델을 구현하고, 학습 및 테스트를 진행합니다."
   ]
  },
  {
   "cell_type": "markdown",
   "id": "843697ae",
   "metadata": {},
   "source": [
    "## 8."
   ]
  },
  {
   "cell_type": "markdown",
   "id": "ee01321b",
   "metadata": {},
   "source": [
    "## 9."
   ]
  },
  {
   "cell_type": "markdown",
   "id": "e2bc3b2b",
   "metadata": {},
   "source": [
    "## 10."
   ]
  },
  {
   "cell_type": "markdown",
   "id": "1e1050a7",
   "metadata": {},
   "source": [
    "## 11."
   ]
  }
 ],
 "metadata": {
  "kernelspec": {
   "display_name": "Python 3 (ipykernel)",
   "language": "python",
   "name": "python3"
  },
  "language_info": {
   "codemirror_mode": {
    "name": "ipython",
    "version": 3
   },
   "file_extension": ".py",
   "mimetype": "text/x-python",
   "name": "python",
   "nbconvert_exporter": "python",
   "pygments_lexer": "ipython3",
   "version": "3.9.7"
  }
 },
 "nbformat": 4,
 "nbformat_minor": 5
}
