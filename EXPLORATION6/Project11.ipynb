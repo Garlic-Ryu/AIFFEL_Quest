{
 "cells": [
  {
   "cell_type": "markdown",
   "id": "6099d66c",
   "metadata": {},
   "source": [
    "# 11. 뉴스 요약봇 만들기"
   ]
  },
  {
   "cell_type": "markdown",
   "id": "f75f2163",
   "metadata": {},
   "source": [
    "- 학습 목표\n",
    "Extractive/Abstractive summarization 이해할 수 있습니다.\n",
    "단어장 크기를 줄이는 다양한 text normalization 적용할 수 있습니다.\n",
    "seq2seq의 성능을 Up시키는 Attention Mechanism 적용할 수 있습니다."
   ]
  },
  {
   "cell_type": "markdown",
   "id": "b87b72c4",
   "metadata": {},
   "source": [
    "## 2.텍스트 요약(Text Summarization)\n",
    "텍스트 요약 방법인 추출적 요약(Extractive Summarization)과 추상적 요약(Abstractive Summarization)에 대해서 알아봅니다."
   ]
  },
  {
   "cell_type": "markdown",
   "id": "ba4f039a",
   "metadata": {},
   "source": [
    "## 3.인공 신경망으로 텍스트 요약 훈련시키기\n",
    "seq2seq 모델에 대한 개요와 구조 그리고 요소들에 대해서 알아봅니다."
   ]
  },
  {
   "cell_type": "markdown",
   "id": "9aba9246",
   "metadata": {},
   "source": [
    "## 4.데이터 준비하기\n",
    "Kaggle에서 제공하는 아마존 리뷰 데이터셋을 다운받고, 데이터를 확인해 봅니다."
   ]
  },
  {
   "cell_type": "markdown",
   "id": "8c7f1eb0",
   "metadata": {},
   "source": [
    "## 5 ~ 7.데이터 전처리하기\n",
    "불용어 제거, 정규화, 정수인코딩 등의 데이터 전처리 과정을 코드로 구현합니다."
   ]
  },
  {
   "cell_type": "markdown",
   "id": "77d7418d",
   "metadata": {},
   "source": [
    "## 8.모델 설계하기\n",
    "인코더와 디코더, 어텐셔을 설계하고 코드로 구현합니다."
   ]
  },
  {
   "cell_type": "markdown",
   "id": "d9e5674c",
   "metadata": {},
   "source": [
    "## 9.모델 훈련하기\n",
    "EarlyStopping에 대해서 알아보고, 이를 적용하여 모델을 학습합니다.\n"
   ]
  },
  {
   "cell_type": "markdown",
   "id": "33917c3c",
   "metadata": {},
   "source": [
    "## 10.인퍼런스 모델 구현하기\n",
    "정수 인덱스 행렬로 나온 결과값을 실제 데이터로 복원하는 인퍼런스 모델을 코드로 구현합니다."
   ]
  },
  {
   "cell_type": "markdown",
   "id": "590a428e",
   "metadata": {},
   "source": [
    "## 11.모델 테스트하기\n",
    "모델을 통해 얻은 요약문과 실제 요약문을 비교해 봅니다."
   ]
  },
  {
   "cell_type": "markdown",
   "id": "cb79ffa4",
   "metadata": {},
   "source": [
    "## 12.추출적 요약 해보기\n",
    "summa 패키지를 사용하여 추출적 요약(Extractive Summarization)을 해봅니다."
   ]
  }
 ],
 "metadata": {
  "kernelspec": {
   "display_name": "Python 3 (ipykernel)",
   "language": "python",
   "name": "python3"
  },
  "language_info": {
   "codemirror_mode": {
    "name": "ipython",
    "version": 3
   },
   "file_extension": ".py",
   "mimetype": "text/x-python",
   "name": "python",
   "nbconvert_exporter": "python",
   "pygments_lexer": "ipython3",
   "version": "3.9.7"
  }
 },
 "nbformat": 4,
 "nbformat_minor": 5
}
