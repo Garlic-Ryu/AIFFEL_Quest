{
 "cells": [
  {
   "cell_type": "markdown",
   "id": "8a4fa40d",
   "metadata": {},
   "source": [
    "# 12. 뉴스기사 요약해보기"
   ]
  },
  {
   "cell_type": "code",
   "execution_count": 1,
   "id": "f885b220",
   "metadata": {},
   "outputs": [
    {
     "name": "stdout",
     "output_type": "stream",
     "text": [
      "3.6.5\n",
      "2.6.0\n",
      "1.3.3\n",
      "1.2.0\n"
     ]
    }
   ],
   "source": [
    "from importlib.metadata import version\n",
    "import nltk\n",
    "import tensorflow\n",
    "import summa\n",
    "import pandas\n",
    "\n",
    "print(nltk.__version__)\n",
    "print(tensorflow.__version__)\n",
    "print(pandas.__version__)\n",
    "print(version('summa'))"
   ]
  },
  {
   "cell_type": "code",
   "execution_count": 5,
   "id": "f6d34fd5",
   "metadata": {},
   "outputs": [
    {
     "name": "stderr",
     "output_type": "stream",
     "text": [
      "[nltk_data] Downloading package stopwords to /aiffel/nltk_data...\n",
      "[nltk_data]   Package stopwords is already up-to-date!\n"
     ]
    }
   ],
   "source": [
    "import nltk\n",
    "nltk.download('stopwords')\n",
    "\n",
    "import numpy as np\n",
    "import pandas as pd\n",
    "import os\n",
    "import re\n",
    "import matplotlib.pyplot as plt\n",
    "from nltk.corpus import stopwords\n",
    "from bs4 import BeautifulSoup \n",
    "from tensorflow.keras.preprocessing.text import Tokenizer \n",
    "from tensorflow.keras.preprocessing.sequence import pad_sequences\n",
    "import urllib.request\n",
    "import warnings\n",
    "warnings.filterwarnings(\"ignore\", category=UserWarning, module='bs4')"
   ]
  },
  {
   "cell_type": "markdown",
   "id": "ee68a67b",
   "metadata": {},
   "source": [
    "## Step 1. 데이터 수집하기"
   ]
  },
  {
   "cell_type": "markdown",
   "id": "ce63ae57",
   "metadata": {},
   "source": [
    "이 데이터는 기사의 본문에 해당되는 text와 headlines 두 가지 열로 구성되어져 있습니다.\n",
    "\n",
    "추상적 요약을 하는 경우에는 text를 본문, headlines를 이미 요약된 데이터로 삼아서 모델을 학습할 수 있어요. 추출적 요약을 하는 경우에는 오직 text열만을 사용하세요."
   ]
  },
  {
   "cell_type": "code",
   "execution_count": 6,
   "id": "df8348c9",
   "metadata": {},
   "outputs": [
    {
     "data": {
      "text/html": [
       "<div>\n",
       "<style scoped>\n",
       "    .dataframe tbody tr th:only-of-type {\n",
       "        vertical-align: middle;\n",
       "    }\n",
       "\n",
       "    .dataframe tbody tr th {\n",
       "        vertical-align: top;\n",
       "    }\n",
       "\n",
       "    .dataframe thead th {\n",
       "        text-align: right;\n",
       "    }\n",
       "</style>\n",
       "<table border=\"1\" class=\"dataframe\">\n",
       "  <thead>\n",
       "    <tr style=\"text-align: right;\">\n",
       "      <th></th>\n",
       "      <th>headlines</th>\n",
       "      <th>text</th>\n",
       "    </tr>\n",
       "  </thead>\n",
       "  <tbody>\n",
       "    <tr>\n",
       "      <th>26323</th>\n",
       "      <td>PM should see if Tharoor needs medical help: S...</td>\n",
       "      <td>Reacting to Congress leader Shashi Tharoor's \"...</td>\n",
       "    </tr>\n",
       "    <tr>\n",
       "      <th>68472</th>\n",
       "      <td>PM Modi launches Ã¢ÂÂ¹16,000-crore scheme for...</td>\n",
       "      <td>Prime Minister Narendra Modi on Monday launche...</td>\n",
       "    </tr>\n",
       "    <tr>\n",
       "      <th>70782</th>\n",
       "      <td>Health-tech startup raises Ã¢ÂÂ¹40 crore from...</td>\n",
       "      <td>Hyderabad-based health-tech startup CallHealth...</td>\n",
       "    </tr>\n",
       "    <tr>\n",
       "      <th>60704</th>\n",
       "      <td>Environment body withdraws ban on construction...</td>\n",
       "      <td>The Environment Pollution (Prevention and Cont...</td>\n",
       "    </tr>\n",
       "    <tr>\n",
       "      <th>85167</th>\n",
       "      <td>Sinha advocates 'pitamah' Advani's name for ne...</td>\n",
       "      <td>BJP leader Shatrughan Sinha called LK Advani '...</td>\n",
       "    </tr>\n",
       "    <tr>\n",
       "      <th>70821</th>\n",
       "      <td>Woman gangraped in WB, glass bottle thrust in ...</td>\n",
       "      <td>Three men allegedly gangraped a woman in West ...</td>\n",
       "    </tr>\n",
       "    <tr>\n",
       "      <th>58634</th>\n",
       "      <td>Feel like Pablo Escobar: Man who deactivated T...</td>\n",
       "      <td>Former Twitter employee Bahtiyar Duysak, who d...</td>\n",
       "    </tr>\n",
       "    <tr>\n",
       "      <th>97483</th>\n",
       "      <td>Don't act like a God: Sunil Grover to Kapil Sh...</td>\n",
       "      <td>Comedian Sunil Grover, while reacting to Kapil...</td>\n",
       "    </tr>\n",
       "    <tr>\n",
       "      <th>61488</th>\n",
       "      <td>Sandalwood trees stolen from Nobel Laureate CV...</td>\n",
       "      <td>A gang of six armed men stole two sandalwood t...</td>\n",
       "    </tr>\n",
       "    <tr>\n",
       "      <th>96511</th>\n",
       "      <td>Researchers transfer lemonade's taste through ...</td>\n",
       "      <td>Singapore-based researchers have successfully ...</td>\n",
       "    </tr>\n",
       "  </tbody>\n",
       "</table>\n",
       "</div>"
      ],
      "text/plain": [
       "                                               headlines  \\\n",
       "26323  PM should see if Tharoor needs medical help: S...   \n",
       "68472  PM Modi launches Ã¢ÂÂ¹16,000-crore scheme for...   \n",
       "70782  Health-tech startup raises Ã¢ÂÂ¹40 crore from...   \n",
       "60704  Environment body withdraws ban on construction...   \n",
       "85167  Sinha advocates 'pitamah' Advani's name for ne...   \n",
       "70821  Woman gangraped in WB, glass bottle thrust in ...   \n",
       "58634  Feel like Pablo Escobar: Man who deactivated T...   \n",
       "97483  Don't act like a God: Sunil Grover to Kapil Sh...   \n",
       "61488  Sandalwood trees stolen from Nobel Laureate CV...   \n",
       "96511  Researchers transfer lemonade's taste through ...   \n",
       "\n",
       "                                                    text  \n",
       "26323  Reacting to Congress leader Shashi Tharoor's \"...  \n",
       "68472  Prime Minister Narendra Modi on Monday launche...  \n",
       "70782  Hyderabad-based health-tech startup CallHealth...  \n",
       "60704  The Environment Pollution (Prevention and Cont...  \n",
       "85167  BJP leader Shatrughan Sinha called LK Advani '...  \n",
       "70821  Three men allegedly gangraped a woman in West ...  \n",
       "58634  Former Twitter employee Bahtiyar Duysak, who d...  \n",
       "97483  Comedian Sunil Grover, while reacting to Kapil...  \n",
       "61488  A gang of six armed men stole two sandalwood t...  \n",
       "96511  Singapore-based researchers have successfully ...  "
      ]
     },
     "execution_count": 6,
     "metadata": {},
     "output_type": "execute_result"
    }
   ],
   "source": [
    "import urllib.request\n",
    "urllib.request.urlretrieve(\"https://raw.githubusercontent.com/sunnysai12345/News_Summary/master/news_summary_more.csv\", filename=\"news_summary_more.csv\")\n",
    "data = pd.read_csv('news_summary_more.csv', encoding='iso-8859-1')\n",
    "\n",
    "data.sample(10)"
   ]
  },
  {
   "cell_type": "markdown",
   "id": "967858d7",
   "metadata": {},
   "source": [
    "## Step 2. 데이터 전처리하기 (추상적 요약)"
   ]
  },
  {
   "cell_type": "markdown",
   "id": "c1a51003",
   "metadata": {},
   "source": [
    "실습에서 사용된 전처리를 참고하여 각자 필요하다고 생각하는 전처리를 추가 사용하여 텍스트를 정규화 또는 정제해 보세요. 만약, 불용어 제거를 선택한다면 상대적으로 길이가 짧은 요약 데이터에 대해서도 불용어를 제거하는 것이 좋을지 고민해 보세요."
   ]
  },
  {
   "cell_type": "code",
   "execution_count": 7,
   "id": "43abb1aa",
   "metadata": {},
   "outputs": [
    {
     "name": "stdout",
     "output_type": "stream",
     "text": [
      "text 열에서 중복을 배제한 유일한 샘플의 수 : 98360\n",
      "headlines 열에서 중복을 배제한 유일한 샘플의 수 : 98280\n"
     ]
    }
   ],
   "source": [
    "#유일한 샘플 수 조회\n",
    "print('text 열에서 중복을 배제한 유일한 샘플의 수 :', data['text'].nunique())\n",
    "print('headlines 열에서 중복을 배제한 유일한 샘플의 수 :', data['headlines'].nunique())"
   ]
  },
  {
   "cell_type": "code",
   "execution_count": 8,
   "id": "bdc34279",
   "metadata": {},
   "outputs": [
    {
     "name": "stdout",
     "output_type": "stream",
     "text": [
      "전체 샘플수 : 98360\n"
     ]
    }
   ],
   "source": [
    "#중복 샘플을 제거\n",
    "data.drop_duplicates(subset = ['text'], inplace = True)\n",
    "print('전체 샘플수 :',(len(data)))"
   ]
  },
  {
   "cell_type": "code",
   "execution_count": 9,
   "id": "3ce5731c",
   "metadata": {},
   "outputs": [
    {
     "name": "stdout",
     "output_type": "stream",
     "text": [
      "headlines    0\n",
      "text         0\n",
      "dtype: int64\n"
     ]
    }
   ],
   "source": [
    "#Null 값 갯수 조회\n",
    "print(data.isnull().sum())"
   ]
  },
  {
   "cell_type": "code",
   "execution_count": 10,
   "id": "359dcef2",
   "metadata": {},
   "outputs": [
    {
     "name": "stdout",
     "output_type": "stream",
     "text": [
      "전체 샘플수 : 98360\n"
     ]
    }
   ],
   "source": [
    "#데이터프레임에서 Null을 제거\n",
    "data.dropna(axis = 0, inplace = True)\n",
    "print('전체 샘플수 :',(len(data)))"
   ]
  },
  {
   "cell_type": "code",
   "execution_count": 11,
   "id": "37658484",
   "metadata": {},
   "outputs": [
    {
     "name": "stdout",
     "output_type": "stream",
     "text": [
      "정규화 사전의 수:  120\n"
     ]
    }
   ],
   "source": [
    "#텍스트 정규화를 위한 사전(dictionary)\n",
    "contractions = {\"ain't\": \"is not\", \"aren't\": \"are not\",\"can't\": \"cannot\", \"'cause\": \"because\", \"could've\": \"could have\", \"couldn't\": \"could not\",\n",
    "                           \"didn't\": \"did not\",  \"doesn't\": \"does not\", \"don't\": \"do not\", \"hadn't\": \"had not\", \"hasn't\": \"has not\", \"haven't\": \"have not\",\n",
    "                           \"he'd\": \"he would\",\"he'll\": \"he will\", \"he's\": \"he is\", \"how'd\": \"how did\", \"how'd'y\": \"how do you\", \"how'll\": \"how will\", \"how's\": \"how is\",\n",
    "                           \"I'd\": \"I would\", \"I'd've\": \"I would have\", \"I'll\": \"I will\", \"I'll've\": \"I will have\",\"I'm\": \"I am\", \"I've\": \"I have\", \"i'd\": \"i would\",\n",
    "                           \"i'd've\": \"i would have\", \"i'll\": \"i will\",  \"i'll've\": \"i will have\",\"i'm\": \"i am\", \"i've\": \"i have\", \"isn't\": \"is not\", \"it'd\": \"it would\",\n",
    "                           \"it'd've\": \"it would have\", \"it'll\": \"it will\", \"it'll've\": \"it will have\",\"it's\": \"it is\", \"let's\": \"let us\", \"ma'am\": \"madam\",\n",
    "                           \"mayn't\": \"may not\", \"might've\": \"might have\",\"mightn't\": \"might not\",\"mightn't've\": \"might not have\", \"must've\": \"must have\",\n",
    "                           \"mustn't\": \"must not\", \"mustn't've\": \"must not have\", \"needn't\": \"need not\", \"needn't've\": \"need not have\",\"o'clock\": \"of the clock\",\n",
    "                           \"oughtn't\": \"ought not\", \"oughtn't've\": \"ought not have\", \"shan't\": \"shall not\", \"sha'n't\": \"shall not\", \"shan't've\": \"shall not have\",\n",
    "                           \"she'd\": \"she would\", \"she'd've\": \"she would have\", \"she'll\": \"she will\", \"she'll've\": \"she will have\", \"she's\": \"she is\",\n",
    "                           \"should've\": \"should have\", \"shouldn't\": \"should not\", \"shouldn't've\": \"should not have\", \"so've\": \"so have\",\"so's\": \"so as\",\n",
    "                           \"this's\": \"this is\",\"that'd\": \"that would\", \"that'd've\": \"that would have\", \"that's\": \"that is\", \"there'd\": \"there would\",\n",
    "                           \"there'd've\": \"there would have\", \"there's\": \"there is\", \"here's\": \"here is\",\"they'd\": \"they would\", \"they'd've\": \"they would have\",\n",
    "                           \"they'll\": \"they will\", \"they'll've\": \"they will have\", \"they're\": \"they are\", \"they've\": \"they have\", \"to've\": \"to have\",\n",
    "                           \"wasn't\": \"was not\", \"we'd\": \"we would\", \"we'd've\": \"we would have\", \"we'll\": \"we will\", \"we'll've\": \"we will have\", \"we're\": \"we are\",\n",
    "                           \"we've\": \"we have\", \"weren't\": \"were not\", \"what'll\": \"what will\", \"what'll've\": \"what will have\", \"what're\": \"what are\",\n",
    "                           \"what's\": \"what is\", \"what've\": \"what have\", \"when's\": \"when is\", \"when've\": \"when have\", \"where'd\": \"where did\", \"where's\": \"where is\",\n",
    "                           \"where've\": \"where have\", \"who'll\": \"who will\", \"who'll've\": \"who will have\", \"who's\": \"who is\", \"who've\": \"who have\",\n",
    "                           \"why's\": \"why is\", \"why've\": \"why have\", \"will've\": \"will have\", \"won't\": \"will not\", \"won't've\": \"will not have\",\n",
    "                           \"would've\": \"would have\", \"wouldn't\": \"would not\", \"wouldn't've\": \"would not have\", \"y'all\": \"you all\",\n",
    "                           \"y'all'd\": \"you all would\",\"y'all'd've\": \"you all would have\",\"y'all're\": \"you all are\",\"y'all've\": \"you all have\",\n",
    "                           \"you'd\": \"you would\", \"you'd've\": \"you would have\", \"you'll\": \"you will\", \"you'll've\": \"you will have\",\n",
    "                           \"you're\": \"you are\", \"you've\": \"you have\"}\n",
    "\n",
    "print(\"정규화 사전의 수: \",len(contractions))"
   ]
  },
  {
   "cell_type": "code",
   "execution_count": 12,
   "id": "fdf01d8a",
   "metadata": {},
   "outputs": [],
   "source": [
    "#데이터 전처리 함수\n",
    "def preprocess_sentence(sentence, remove_stopwords=True):\n",
    "    sentence = sentence.lower() # 텍스트 소문자화\n",
    "    sentence = BeautifulSoup(sentence, \"lxml\").text # <br />, <a href = ...> 등의 html 태그 제거\n",
    "    sentence = re.sub(r'\\([^)]*\\)', '', sentence) # 괄호로 닫힌 문자열 (...) 제거 Ex) my husband (and myself!) for => my husband for\n",
    "    sentence = re.sub('\"','', sentence) # 쌍따옴표 \" 제거\n",
    "    sentence = ' '.join([contractions[t] if t in contractions else t for t in sentence.split(\" \")]) # 약어 정규화\n",
    "    sentence = re.sub(r\"'s\\b\",\"\",sentence) # 소유격 제거. Ex) roland's -> roland\n",
    "    sentence = re.sub(\"[^a-zA-Z]\", \" \", sentence) # 영어 외 문자(숫자, 특수문자 등) 공백으로 변환\n",
    "    sentence = re.sub('[m]{2,}', 'mm', sentence) # m이 3개 이상이면 2개로 변경. Ex) ummmmmmm yeah -> umm yeah\n",
    "    \n",
    "    # 불용어 제거 (Text)\n",
    "    if remove_stopwords:\n",
    "        tokens = ' '.join(word for word in sentence.split() if not word in stopwords.words('english') if len(word) > 1)\n",
    "    # 불용어 미제거 (Summary)\n",
    "    else:\n",
    "        tokens = ' '.join(word for word in sentence.split() if len(word) > 1)\n",
    "    return tokens"
   ]
  },
  {
   "cell_type": "code",
   "execution_count": 13,
   "id": "72b8afe5",
   "metadata": {},
   "outputs": [
    {
     "data": {
      "text/plain": [
       "['saurav kant alumnus upgrad iiit pg program machine learning artificial intelligence sr systems engineer infosys almost years work experience program upgrad degree career support helped transition data scientist tech mahindra salary hike upgrad online power learning powered lakh careers',\n",
       " 'kunal shah credit card bill payment platform cred gave users chance win free food swiggy one year pranav kaushik delhi techie bagged reward spending cred coins users get one cred coin per rupee bill paid used avail rewards brands like ixigo bookmyshow ubereats cult fit',\n",
       " 'new zealand defeated india wickets fourth odi hamilton thursday win first match five match odi series india lost international match rohit sharma captaincy consecutive victories dating back march match witnessed india getting seventh lowest total odi cricket history',\n",
       " 'aegon life iterm insurance plan customers enjoy tax benefits premiums paid save taxes plan provides life cover age years also customers options insure critical illnesses disability accidental death benefit rider life cover age years',\n",
       " 'speaking sexual harassment allegations rajkumar hirani sonam kapoor said known hirani many years true metoo movement get derailed metoo movement always believe woman case need reserve judgment added hirani accused assistant worked sanju']"
      ]
     },
     "execution_count": 13,
     "metadata": {},
     "output_type": "execute_result"
    }
   ],
   "source": [
    "clean_text = []\n",
    "\n",
    "# 전체 Text 데이터에 대한 전처리 : 10분 이상 시간이 걸릴 수 있습니다. \n",
    "for s in data['text']:\n",
    "    clean_text.append(preprocess_sentence(s))\n",
    "\n",
    "# 전처리 후 출력\n",
    "clean_text[:5]"
   ]
  },
  {
   "cell_type": "code",
   "execution_count": 14,
   "id": "04a64fbf",
   "metadata": {},
   "outputs": [
    {
     "data": {
      "text/plain": [
       "['upgrad learner switches to career in ml al with salary hike',\n",
       " 'delhi techie wins free food from swiggy for one year on cred',\n",
       " 'new zealand end rohit sharma led india match winning streak',\n",
       " 'aegon life iterm insurance plan helps customers save tax',\n",
       " 'have known hirani for yrs what if metoo claims are not true sonam']"
      ]
     },
     "execution_count": 14,
     "metadata": {},
     "output_type": "execute_result"
    }
   ],
   "source": [
    "clean_headlines = []\n",
    "\n",
    "# 전체 Summary 데이터에 대한 전처리 : 5분 이상 시간이 걸릴 수 있습니다. \n",
    "for s in data['headlines']:\n",
    "    clean_headlines.append(preprocess_sentence(s, False))\n",
    "\n",
    "clean_headlines[:5]"
   ]
  },
  {
   "cell_type": "code",
   "execution_count": 15,
   "id": "9f2bbd5f",
   "metadata": {},
   "outputs": [],
   "source": [
    "data['text'] = clean_text\n",
    "data['headlines'] = clean_headlines\n",
    "\n",
    "# 빈 값을 Null 값으로 변환\n",
    "data.replace('', np.nan, inplace=True)"
   ]
  },
  {
   "cell_type": "code",
   "execution_count": 16,
   "id": "27e89d2d",
   "metadata": {},
   "outputs": [
    {
     "data": {
      "text/plain": [
       "headlines    0\n",
       "text         0\n",
       "dtype: int64"
      ]
     },
     "execution_count": 16,
     "metadata": {},
     "output_type": "execute_result"
    }
   ],
   "source": [
    "data.isnull().sum()"
   ]
  },
  {
   "cell_type": "code",
   "execution_count": 17,
   "id": "7f8cbe03",
   "metadata": {},
   "outputs": [
    {
     "name": "stdout",
     "output_type": "stream",
     "text": [
      "전체 샘플수 : 98360\n"
     ]
    }
   ],
   "source": [
    "data.dropna(axis=0, inplace=True)\n",
    "print('전체 샘플수 :',(len(data)))#데이터 전처리 함수"
   ]
  },
  {
   "cell_type": "code",
   "execution_count": 19,
   "id": "f9822a6d",
   "metadata": {},
   "outputs": [
    {
     "name": "stdout",
     "output_type": "stream",
     "text": [
      "텍스트의 최소 길이 : 1\n",
      "텍스트의 최대 길이 : 60\n",
      "텍스트의 평균 길이 : 35.09968483123221\n",
      "헤드라인의 최소 길이 : 1\n",
      "헤드라인의 최대 길이 : 16\n",
      "헤드라인의 평균 길이 : 9.299532330215534\n"
     ]
    },
    {
     "data": {
      "image/png": "[encoded data removed]",
      "text/plain": [
       "<Figure size 432x288 with 2 Axes>"
      ]
     },
     "metadata": {
      "needs_background": "light"
     },
     "output_type": "display_data"
    },
    {
     "data": {
      "image/png": "[encoded data removed]",
      "text/plain": [
       "<Figure size 432x288 with 1 Axes>"
      ]
     },
     "metadata": {
      "needs_background": "light"
     },
     "output_type": "display_data"
    },
    {
     "data": {
      "image/png": "[encoded data removed]",
      "text/plain": [
       "<Figure size 432x288 with 1 Axes>"
      ]
     },
     "metadata": {
      "needs_background": "light"
     },
     "output_type": "display_data"
    }
   ],
   "source": [
    "# 길이 분포 출력\n",
    "import matplotlib.pyplot as plt\n",
    "\n",
    "text_len = [len(s.split()) for s in data['text']]\n",
    "headlines_len = [len(s.split()) for s in data['headlines']]\n",
    "\n",
    "print('텍스트의 최소 길이 : {}'.format(np.min(text_len)))\n",
    "print('텍스트의 최대 길이 : {}'.format(np.max(text_len)))\n",
    "print('텍스트의 평균 길이 : {}'.format(np.mean(text_len)))\n",
    "print('헤드라인의 최소 길이 : {}'.format(np.min(headlines_len)))\n",
    "print('헤드라인의 최대 길이 : {}'.format(np.max(headlines_len)))\n",
    "print('헤드라인의 평균 길이 : {}'.format(np.mean(headlines_len)))\n",
    "\n",
    "plt.subplot(1,2,1)\n",
    "plt.boxplot(headlines_len)\n",
    "plt.title('headlines')\n",
    "plt.subplot(1,2,2)\n",
    "plt.boxplot(text_len)\n",
    "plt.title('Text')\n",
    "plt.tight_layout()\n",
    "plt.show()\n",
    "\n",
    "plt.title('headlines')\n",
    "plt.hist(headlines_len, bins = 40)\n",
    "plt.xlabel('length of samples')\n",
    "plt.ylabel('number of samples')\n",
    "plt.show()\n",
    "\n",
    "plt.title('text')\n",
    "plt.hist(text_len, bins = 40)\n",
    "plt.xlabel('length of samples')\n",
    "plt.ylabel('number of samples')\n",
    "plt.show()"
   ]
  },
  {
   "cell_type": "code",
   "execution_count": 26,
   "id": "d25a2d98",
   "metadata": {},
   "outputs": [],
   "source": [
    "text_max_len = 45\n",
    "headlines_max_len = 13"
   ]
  },
  {
   "cell_type": "code",
   "execution_count": 27,
   "id": "a2d668a7",
   "metadata": {},
   "outputs": [],
   "source": [
    "def below_threshold_len(max_len, nested_list):\n",
    "  cnt = 0\n",
    "  for s in nested_list:\n",
    "    if(len(s.split()) <= max_len):\n",
    "        cnt = cnt + 1\n",
    "  print('전체 샘플 중 길이가 %s 이하인 샘플의 비율: %s'%(max_len, (cnt / len(nested_list))))"
   ]
  },
  {
   "cell_type": "code",
   "execution_count": 28,
   "id": "69a6919b",
   "metadata": {},
   "outputs": [
    {
     "name": "stdout",
     "output_type": "stream",
     "text": [
      "전체 샘플 중 길이가 45 이하인 샘플의 비율: 0.9967771451809678\n",
      "전체 샘플 중 길이가 13 이하인 샘플의 비율: 0.9981699877999186\n"
     ]
    }
   ],
   "source": [
    "below_threshold_len(text_max_len, data['text'])\n",
    "below_threshold_len(headlines_max_len,  data['headlines'])"
   ]
  },
  {
   "cell_type": "code",
   "execution_count": 29,
   "id": "9902d63c",
   "metadata": {},
   "outputs": [
    {
     "data": {
      "text/html": [
       "<div>\n",
       "<style scoped>\n",
       "    .dataframe tbody tr th:only-of-type {\n",
       "        vertical-align: middle;\n",
       "    }\n",
       "\n",
       "    .dataframe tbody tr th {\n",
       "        vertical-align: top;\n",
       "    }\n",
       "\n",
       "    .dataframe thead th {\n",
       "        text-align: right;\n",
       "    }\n",
       "</style>\n",
       "<table border=\"1\" class=\"dataframe\">\n",
       "  <thead>\n",
       "    <tr style=\"text-align: right;\">\n",
       "      <th></th>\n",
       "      <th>headlines</th>\n",
       "      <th>text</th>\n",
       "      <th>decoder_input</th>\n",
       "      <th>decoder_target</th>\n",
       "    </tr>\n",
       "  </thead>\n",
       "  <tbody>\n",
       "    <tr>\n",
       "      <th>0</th>\n",
       "      <td>upgrad learner switches to career in ml al wit...</td>\n",
       "      <td>saurav kant alumnus upgrad iiit pg program mac...</td>\n",
       "      <td>sostoken upgrad learner switches to career in ...</td>\n",
       "      <td>upgrad learner switches to career in ml al wit...</td>\n",
       "    </tr>\n",
       "    <tr>\n",
       "      <th>1</th>\n",
       "      <td>delhi techie wins free food from swiggy for on...</td>\n",
       "      <td>kunal shah credit card bill payment platform c...</td>\n",
       "      <td>sostoken delhi techie wins free food from swig...</td>\n",
       "      <td>delhi techie wins free food from swiggy for on...</td>\n",
       "    </tr>\n",
       "    <tr>\n",
       "      <th>2</th>\n",
       "      <td>new zealand end rohit sharma led india match w...</td>\n",
       "      <td>new zealand defeated india wickets fourth odi ...</td>\n",
       "      <td>sostoken new zealand end rohit sharma led indi...</td>\n",
       "      <td>new zealand end rohit sharma led india match w...</td>\n",
       "    </tr>\n",
       "    <tr>\n",
       "      <th>3</th>\n",
       "      <td>aegon life iterm insurance plan helps customer...</td>\n",
       "      <td>aegon life iterm insurance plan customers enjo...</td>\n",
       "      <td>sostoken aegon life iterm insurance plan helps...</td>\n",
       "      <td>aegon life iterm insurance plan helps customer...</td>\n",
       "    </tr>\n",
       "    <tr>\n",
       "      <th>4</th>\n",
       "      <td>have known hirani for yrs what if metoo claims...</td>\n",
       "      <td>speaking sexual harassment allegations rajkuma...</td>\n",
       "      <td>sostoken have known hirani for yrs what if met...</td>\n",
       "      <td>have known hirani for yrs what if metoo claims...</td>\n",
       "    </tr>\n",
       "  </tbody>\n",
       "</table>\n",
       "</div>"
      ],
      "text/plain": [
       "                                           headlines  \\\n",
       "0  upgrad learner switches to career in ml al wit...   \n",
       "1  delhi techie wins free food from swiggy for on...   \n",
       "2  new zealand end rohit sharma led india match w...   \n",
       "3  aegon life iterm insurance plan helps customer...   \n",
       "4  have known hirani for yrs what if metoo claims...   \n",
       "\n",
       "                                                text  \\\n",
       "0  saurav kant alumnus upgrad iiit pg program mac...   \n",
       "1  kunal shah credit card bill payment platform c...   \n",
       "2  new zealand defeated india wickets fourth odi ...   \n",
       "3  aegon life iterm insurance plan customers enjo...   \n",
       "4  speaking sexual harassment allegations rajkuma...   \n",
       "\n",
       "                                       decoder_input  \\\n",
       "0  sostoken upgrad learner switches to career in ...   \n",
       "1  sostoken delhi techie wins free food from swig...   \n",
       "2  sostoken new zealand end rohit sharma led indi...   \n",
       "3  sostoken aegon life iterm insurance plan helps...   \n",
       "4  sostoken have known hirani for yrs what if met...   \n",
       "\n",
       "                                      decoder_target  \n",
       "0  upgrad learner switches to career in ml al wit...  \n",
       "1  delhi techie wins free food from swiggy for on...  \n",
       "2  new zealand end rohit sharma led india match w...  \n",
       "3  aegon life iterm insurance plan helps customer...  \n",
       "4  have known hirani for yrs what if metoo claims...  "
      ]
     },
     "execution_count": 29,
     "metadata": {},
     "output_type": "execute_result"
    }
   ],
   "source": [
    "#요약 데이터에는 시작 토큰과 종료 토큰을 추가한다.\n",
    "data['decoder_input'] = data['headlines'].apply(lambda x : 'sostoken '+ x)\n",
    "data['decoder_target'] = data['headlines'].apply(lambda x : x + ' eostoken')\n",
    "data.head()"
   ]
  },
  {
   "cell_type": "code",
   "execution_count": 30,
   "id": "164d1029",
   "metadata": {},
   "outputs": [],
   "source": [
    "#Numpy 타입으로 저장\n",
    "encoder_input = np.array(data['text']) # 인코더의 입력\n",
    "decoder_input = np.array(data['decoder_input']) # 디코더의 입력\n",
    "decoder_target = np.array(data['decoder_target']) # 디코더의 레이블"
   ]
  },
  {
   "cell_type": "code",
   "execution_count": 31,
   "id": "2223989e",
   "metadata": {},
   "outputs": [
    {
     "name": "stdout",
     "output_type": "stream",
     "text": [
      "[32899 36119 58937 ... 70397 65325 41412]\n"
     ]
    }
   ],
   "source": [
    "#encoder_input과 크기와 형태가 같은 순서가 섞인 정수 시퀀스 만들고, 섞기\n",
    "indices = np.arange(encoder_input.shape[0])\n",
    "np.random.shuffle(indices)\n",
    "print(indices)"
   ]
  },
  {
   "cell_type": "code",
   "execution_count": 53,
   "id": "8c2b5f59",
   "metadata": {},
   "outputs": [],
   "source": [
    "#데이터 섞기\n",
    "encoder_input = encoder_input[indices]\n",
    "decoder_input = decoder_input[indices]\n",
    "decoder_target = decoder_target[indices]"
   ]
  },
  {
   "cell_type": "code",
   "execution_count": 54,
   "id": "80ffdee1",
   "metadata": {},
   "outputs": [
    {
     "name": "stdout",
     "output_type": "stream",
     "text": [
      "테스트 데이터의 수 : 19672\n"
     ]
    }
   ],
   "source": [
    "n_of_val = int(len(encoder_input)*0.2)\n",
    "print('테스트 데이터의 수 :',n_of_val)"
   ]
  },
  {
   "cell_type": "code",
   "execution_count": 55,
   "id": "40b5b9a1",
   "metadata": {},
   "outputs": [
    {
     "name": "stdout",
     "output_type": "stream",
     "text": [
      "훈련 데이터의 개수 : 78688\n",
      "훈련 레이블의 개수 : 78688\n",
      "테스트 데이터의 개수 : 19672\n",
      "테스트 레이블의 개수 : 19672\n"
     ]
    }
   ],
   "source": [
    "encoder_input_train = encoder_input[:-n_of_val]\n",
    "decoder_input_train = decoder_input[:-n_of_val]\n",
    "decoder_target_train = decoder_target[:-n_of_val]\n",
    "\n",
    "encoder_input_test = encoder_input[-n_of_val:]\n",
    "decoder_input_test = decoder_input[-n_of_val:]\n",
    "decoder_target_test = decoder_target[-n_of_val:]\n",
    "\n",
    "print('훈련 데이터의 개수 :', len(encoder_input_train))\n",
    "print('훈련 레이블의 개수 :',len(decoder_input_train))\n",
    "print('테스트 데이터의 개수 :',len(encoder_input_test))\n",
    "print('테스트 레이블의 개수 :',len(decoder_input_test))"
   ]
  },
  {
   "cell_type": "code",
   "execution_count": 56,
   "id": "9d982588",
   "metadata": {},
   "outputs": [],
   "source": [
    "def tokenizer_threshold(v_threshold, v_tokenizer):\n",
    "    threshold = v_threshold # 8\n",
    "    total_cnt = len(v_tokenizer.word_index) # 단어의 수 (v_tokenizer.word_index : {단어 : 단어빈도수가 많은거 순})\n",
    "    rare_cnt = 0 # 등장 빈도수가 threshold보다 작은 단어의 개수를 카운트\n",
    "    total_freq = 0 # 훈련 데이터의 전체 단어 빈도수 총 합\n",
    "    rare_freq = 0 # 등장 빈도수가 threshold보다 작은 단어의 등장 빈도수의 총 합\n",
    "\n",
    "    # 단어와 빈도수의 쌍(pair)을 key와 value로 받는다.\n",
    "    for key, value in v_tokenizer.word_counts.items():\n",
    "        total_freq = total_freq + value\n",
    "\n",
    "        # 단어의 등장 빈도수가 threshold보다 작으면\n",
    "        if(value < threshold):\n",
    "            rare_cnt = rare_cnt + 1\n",
    "            rare_freq = rare_freq + value\n",
    "\n",
    "    print('단어 집합(vocabulary)의 크기 :',total_cnt)\n",
    "    print('등장 빈도가 %s번 이하인 희귀 단어의 수: %s'%(threshold - 1, rare_cnt))\n",
    "    print('단어 집합에서 희귀 단어를 제외시킬 경우의 단어 집합의 크기 %s'%(total_cnt - rare_cnt))\n",
    "    print(\"단어 집합에서 희귀 단어의 비율:\", (rare_cnt / total_cnt)*100)\n",
    "    print(\"전체 등장 빈도에서 희귀 단어 등장 빈도 비율:\", (rare_freq / total_freq)*100)"
   ]
  },
  {
   "cell_type": "code",
   "execution_count": 57,
   "id": "e2b95e22",
   "metadata": {},
   "outputs": [],
   "source": [
    "src_tokenizer = Tokenizer() # 토크나이저 정의\n",
    "src_tokenizer.fit_on_texts(encoder_input_train) # 입력된 데이터로부터 단어 집합 생성"
   ]
  },
  {
   "cell_type": "code",
   "execution_count": 58,
   "id": "2ccb0398",
   "metadata": {},
   "outputs": [
    {
     "name": "stdout",
     "output_type": "stream",
     "text": [
      "단어 집합(vocabulary)의 크기 : 69753\n",
      "등장 빈도가 7번 이하인 희귀 단어의 수: 49078\n",
      "단어 집합에서 희귀 단어를 제외시킬 경우의 단어 집합의 크기 20675\n",
      "단어 집합에서 희귀 단어의 비율: 70.35969779077602\n",
      "전체 등장 빈도에서 희귀 단어 등장 빈도 비율: 3.8663203944492213\n"
     ]
    }
   ],
   "source": [
    "tokenizer_threshold(8, src_tokenizer)"
   ]
  },
  {
   "cell_type": "code",
   "execution_count": 59,
   "id": "fc5fa0af",
   "metadata": {},
   "outputs": [],
   "source": [
    "src_vocab = 8000\n",
    "src_tokenizer = Tokenizer(num_words = src_vocab) # 단어 집합의 크기를 20,000으로 제한\n",
    "src_tokenizer.fit_on_texts(encoder_input_train) # 단어 집합 재생성."
   ]
  },
  {
   "cell_type": "code",
   "execution_count": 60,
   "id": "39f74db0",
   "metadata": {},
   "outputs": [
    {
     "name": "stdout",
     "output_type": "stream",
     "text": [
      "[[11, 133, 481, 2095, 3101, 3724, 1042, 3409, 291, 640, 6322, 78, 53, 143, 28, 5617, 2095, 1169, 208, 1047, 365, 5617, 4347, 6322, 3534, 143, 4], [566, 144, 11, 111, 40, 100, 382, 203, 351, 1653, 2614, 1731, 498, 1441, 36, 3197, 5500, 359, 6965, 311, 440, 619, 7788, 203, 120, 11, 40, 743, 248, 280, 1185, 692, 942], [315, 77, 4087, 3271, 60, 96, 10, 907, 110, 2021, 21, 245, 63, 1009, 362, 1145, 2210, 5932, 1689, 1145, 63, 6, 5200, 148, 858, 2588, 3773, 77, 4, 3271, 6, 96, 1140, 706, 1317, 21]]\n"
     ]
    }
   ],
   "source": [
    "# 텍스트 시퀀스를 정수 시퀀스로 변환\n",
    "encoder_input_train = src_tokenizer.texts_to_sequences(encoder_input_train) \n",
    "encoder_input_test = src_tokenizer.texts_to_sequences(encoder_input_test)\n",
    "\n",
    "#잘 진행되었는지 샘플 출력\n",
    "print(encoder_input_train[:3])"
   ]
  },
  {
   "cell_type": "code",
   "execution_count": 61,
   "id": "4e52c264",
   "metadata": {},
   "outputs": [],
   "source": [
    "tar_tokenizer = Tokenizer() # 토크나이저 정의\n",
    "tar_tokenizer.fit_on_texts(decoder_input_train)"
   ]
  },
  {
   "cell_type": "code",
   "execution_count": 62,
   "id": "9223526f",
   "metadata": {},
   "outputs": [
    {
     "name": "stdout",
     "output_type": "stream",
     "text": [
      "단어 집합(vocabulary)의 크기 : 30121\n",
      "등장 빈도가 5번 이하인 희귀 단어의 수: 19715\n",
      "단어 집합에서 희귀 단어를 제외시킬 경우의 단어 집합의 크기 10406\n",
      "단어 집합에서 희귀 단어의 비율: 65.45267421400351\n",
      "전체 등장 빈도에서 희귀 단어 등장 빈도 비율: 4.651423904017728\n"
     ]
    }
   ],
   "source": [
    "tokenizer_threshold(6, tar_tokenizer)"
   ]
  },
  {
   "cell_type": "code",
   "execution_count": 63,
   "id": "e83152cb",
   "metadata": {},
   "outputs": [
    {
     "name": "stdout",
     "output_type": "stream",
     "text": [
      "input\n",
      "input  [[1, 30, 1950, 2625, 46, 15, 58, 36], [1, 20, 41, 8198, 2194, 4864, 274, 360, 95, 7218], [1, 131, 35, 423, 1865, 229, 788, 5, 1303, 720], [1, 849, 13, 729, 301, 219, 21, 850, 957, 654, 739], [1, 3776, 25, 1335, 1654, 28, 1866, 1560]]\n",
      "target\n",
      "decoder  [[30, 1950, 2625, 46, 15, 58, 36, 2], [20, 41, 8198, 2194, 4864, 274, 360, 95, 7218, 2], [131, 35, 423, 1865, 229, 788, 5, 1303, 720, 2], [849, 13, 729, 301, 219, 21, 850, 957, 654, 739, 2], [3776, 25, 1335, 1654, 28, 1866, 1560, 2]]\n"
     ]
    }
   ],
   "source": [
    "tar_vocab = 10000\n",
    "tar_tokenizer = Tokenizer(num_words = tar_vocab) \n",
    "tar_tokenizer.fit_on_texts(decoder_input_train)\n",
    "tar_tokenizer.fit_on_texts(decoder_target_train)\n",
    "\n",
    "# 텍스트 시퀀스를 정수 시퀀스로 변환\n",
    "decoder_input_train = tar_tokenizer.texts_to_sequences(decoder_input_train) \n",
    "decoder_target_train = tar_tokenizer.texts_to_sequences(decoder_target_train)\n",
    "decoder_input_test = tar_tokenizer.texts_to_sequences(decoder_input_test)\n",
    "decoder_target_test = tar_tokenizer.texts_to_sequences(decoder_target_test)\n",
    "\n",
    "#잘 변환되었는지 확인\n",
    "print('input')\n",
    "print('input ',decoder_input_train[:5])\n",
    "print('target')\n",
    "print('decoder ',decoder_target_train[:5])"
   ]
  },
  {
   "cell_type": "code",
   "execution_count": 64,
   "id": "35b55a66",
   "metadata": {},
   "outputs": [
    {
     "name": "stdout",
     "output_type": "stream",
     "text": [
      "삭제할 훈련 데이터의 개수 : 1\n",
      "삭제할 테스트 데이터의 개수 : 0\n"
     ]
    }
   ],
   "source": [
    "drop_train = [index for index, sentence in enumerate(decoder_input_train) if len(sentence) == 1]\n",
    "drop_test = [index for index, sentence in enumerate(decoder_input_test) if len(sentence) == 1]\n",
    "\n",
    "print('삭제할 훈련 데이터의 개수 :',len(drop_train))\n",
    "print('삭제할 테스트 데이터의 개수 :',len(drop_test))"
   ]
  },
  {
   "cell_type": "code",
   "execution_count": 65,
   "id": "265a4b5d",
   "metadata": {},
   "outputs": [
    {
     "name": "stdout",
     "output_type": "stream",
     "text": [
      "훈련 데이터의 개수 : 78687\n",
      "훈련 레이블의 개수 : 78687\n",
      "테스트 데이터의 개수 : 19672\n",
      "테스트 레이블의 개수 : 19672\n"
     ]
    }
   ],
   "source": [
    "encoder_input_train = np.delete(encoder_input_train, drop_train, axis=0)\n",
    "decoder_input_train = np.delete(decoder_input_train, drop_train, axis=0)\n",
    "decoder_target_train = np.delete(decoder_target_train, drop_train, axis=0)\n",
    "\n",
    "encoder_input_test = np.delete(encoder_input_test, drop_test, axis=0)\n",
    "decoder_input_test = np.delete(decoder_input_test, drop_test, axis=0)\n",
    "decoder_target_test = np.delete(decoder_target_test, drop_test, axis=0)\n",
    "\n",
    "print('훈련 데이터의 개수 :', len(encoder_input_train))\n",
    "print('훈련 레이블의 개수 :',len(decoder_input_train))\n",
    "print('테스트 데이터의 개수 :',len(encoder_input_test))\n",
    "print('테스트 레이블의 개수 :',len(decoder_input_test))"
   ]
  },
  {
   "cell_type": "code",
   "execution_count": 66,
   "id": "cf6ee168",
   "metadata": {},
   "outputs": [],
   "source": [
    "encoder_input_train = pad_sequences(encoder_input_train, maxlen = text_max_len, padding='post')\n",
    "encoder_input_test = pad_sequences(encoder_input_test, maxlen = text_max_len, padding='post')\n",
    "decoder_input_train = pad_sequences(decoder_input_train, maxlen = headlines_max_len, padding='post')\n",
    "decoder_target_train = pad_sequences(decoder_target_train, maxlen = headlines_max_len, padding='post')\n",
    "decoder_input_test = pad_sequences(decoder_input_test, maxlen = headlines_max_len, padding='post')\n",
    "decoder_target_test = pad_sequences(decoder_target_test, maxlen = headlines_max_len, padding='post')"
   ]
  },
  {
   "cell_type": "markdown",
   "id": "f078d566",
   "metadata": {},
   "source": [
    "## Step 3. 어텐션 메커니즘 사용하기 (추상적 요약)"
   ]
  },
  {
   "cell_type": "markdown",
   "id": "a43d9c33",
   "metadata": {},
   "source": [
    "일반적인 seq2seq보다는 어텐션 메커니즘을 사용한 seq2seq를 사용하는 것이 더 나은 성능을 얻을 수 있어요. 실습 내용을 참고하여 어텐션 메커니즘을 사용한 seq2seq를 설계해 보세요."
   ]
  },
  {
   "cell_type": "code",
   "execution_count": 67,
   "id": "6dddd166",
   "metadata": {},
   "outputs": [],
   "source": [
    "# 인코더 설계 시작\n",
    "embedding_dim = 128\n",
    "hidden_size = 256"
   ]
  },
  {
   "cell_type": "code",
   "execution_count": 68,
   "id": "bc3e4660",
   "metadata": {},
   "outputs": [],
   "source": [
    "urllib.request.urlretrieve(\"https://raw.githubusercontent.com/thushv89/attention_keras/master/src/layers/attention.py\", filename=\"attention.py\")\n",
    "from attention import AttentionLayer"
   ]
  },
  {
   "cell_type": "code",
   "execution_count": 69,
   "id": "5a46822f",
   "metadata": {},
   "outputs": [
    {
     "name": "stdout",
     "output_type": "stream",
     "text": [
      "WARNING:tensorflow:Layer lstm_8 will not use cuDNN kernels since it doesn't meet the criteria. It will use a generic GPU kernel as fallback when running on GPU.\n",
      "WARNING:tensorflow:Layer lstm_9 will not use cuDNN kernels since it doesn't meet the criteria. It will use a generic GPU kernel as fallback when running on GPU.\n",
      "WARNING:tensorflow:Layer lstm_10 will not use cuDNN kernels since it doesn't meet the criteria. It will use a generic GPU kernel as fallback when running on GPU.\n",
      "WARNING:tensorflow:Layer lstm_11 will not use cuDNN kernels since it doesn't meet the criteria. It will use a generic GPU kernel as fallback when running on GPU.\n",
      "Model: \"model_3\"\n",
      "__________________________________________________________________________________________________\n",
      "Layer (type)                    Output Shape         Param #     Connected to                     \n",
      "==================================================================================================\n",
      "input_5 (InputLayer)            [(None, 45)]         0                                            \n",
      "__________________________________________________________________________________________________\n",
      "embedding_4 (Embedding)         (None, 45, 128)      1024000     input_5[0][0]                    \n",
      "__________________________________________________________________________________________________\n",
      "lstm_8 (LSTM)                   [(None, 45, 256), (N 394240      embedding_4[0][0]                \n",
      "__________________________________________________________________________________________________\n",
      "input_6 (InputLayer)            [(None, None)]       0                                            \n",
      "__________________________________________________________________________________________________\n",
      "lstm_9 (LSTM)                   [(None, 45, 256), (N 525312      lstm_8[0][0]                     \n",
      "__________________________________________________________________________________________________\n",
      "embedding_5 (Embedding)         (None, None, 128)    1280000     input_6[0][0]                    \n",
      "__________________________________________________________________________________________________\n",
      "lstm_10 (LSTM)                  [(None, 45, 256), (N 525312      lstm_9[0][0]                     \n",
      "__________________________________________________________________________________________________\n",
      "lstm_11 (LSTM)                  [(None, None, 256),  394240      embedding_5[0][0]                \n",
      "                                                                 lstm_10[0][1]                    \n",
      "                                                                 lstm_10[0][2]                    \n",
      "__________________________________________________________________________________________________\n",
      "dense_3 (Dense)                 (None, None, 10000)  2570000     lstm_11[0][0]                    \n",
      "==================================================================================================\n",
      "Total params: 6,713,104\n",
      "Trainable params: 6,713,104\n",
      "Non-trainable params: 0\n",
      "__________________________________________________________________________________________________\n"
     ]
    }
   ],
   "source": [
    "from tensorflow.keras.layers import Input, LSTM, Embedding, Dense, Concatenate, TimeDistributed\n",
    "from tensorflow.keras.models import Model\n",
    "from tensorflow.keras.callbacks import EarlyStopping, ModelCheckpoint\n",
    "\n",
    "\n",
    "# 인코더 설계 시작\n",
    "embedding_dim = 128\n",
    "hidden_size = 256\n",
    "\n",
    "# 인코더\n",
    "encoder_inputs = Input(shape=(text_max_len,))\n",
    "\n",
    "# 인코더의 임베딩 층\n",
    "enc_emb = Embedding(src_vocab, embedding_dim)(encoder_inputs)\n",
    "\n",
    "# 인코더의 LSTM 1\n",
    "encoder_lstm1 = LSTM(hidden_size, return_sequences=True, return_state=True ,dropout = 0.4, recurrent_dropout = 0.4)\n",
    "encoder_output1, state_h1, state_c1 = encoder_lstm1(enc_emb)\n",
    "\n",
    "# 인코더의 LSTM 2\n",
    "encoder_lstm2 = LSTM(hidden_size, return_sequences=True, return_state=True, dropout=0.4, recurrent_dropout=0.4)\n",
    "encoder_output2, state_h2, state_c2 = encoder_lstm2(encoder_output1)\n",
    "\n",
    "# 인코더의 LSTM 3\n",
    "encoder_lstm3 = LSTM(hidden_size, return_state=True, return_sequences=True, dropout=0.4, recurrent_dropout=0.4)\n",
    "encoder_outputs, state_h, state_c= encoder_lstm3(encoder_output2)\n",
    "\n",
    "# 디코더 설계\n",
    "decoder_inputs = Input(shape=(None,))\n",
    "\n",
    "# 디코더의 임베딩 층\n",
    "dec_emb_layer = Embedding(tar_vocab, embedding_dim)\n",
    "dec_emb = dec_emb_layer(decoder_inputs)\n",
    "\n",
    "# 디코더의 LSTM\n",
    "decoder_lstm = LSTM(hidden_size, return_sequences=True, return_state=True, dropout=0.4, recurrent_dropout=0.2)\n",
    "decoder_outputs, _, _ = decoder_lstm(dec_emb, initial_state=[state_h, state_c])\n",
    "\n",
    "# 디코더의 출력층\n",
    "decoder_softmax_layer = Dense(tar_vocab, activation='softmax')\n",
    "decoder_softmax_outputs = decoder_softmax_layer(decoder_outputs) \n",
    "\n",
    "# 모델 정의\n",
    "model = Model([encoder_inputs, decoder_inputs], decoder_softmax_outputs)\n",
    "model.summary()"
   ]
  },
  {
   "cell_type": "code",
   "execution_count": 70,
   "id": "4b316952",
   "metadata": {},
   "outputs": [
    {
     "name": "stdout",
     "output_type": "stream",
     "text": [
      "Model: \"model_4\"\n",
      "__________________________________________________________________________________________________\n",
      "Layer (type)                    Output Shape         Param #     Connected to                     \n",
      "==================================================================================================\n",
      "input_5 (InputLayer)            [(None, 45)]         0                                            \n",
      "__________________________________________________________________________________________________\n",
      "embedding_4 (Embedding)         (None, 45, 128)      1024000     input_5[0][0]                    \n",
      "__________________________________________________________________________________________________\n",
      "lstm_8 (LSTM)                   [(None, 45, 256), (N 394240      embedding_4[0][0]                \n",
      "__________________________________________________________________________________________________\n",
      "input_6 (InputLayer)            [(None, None)]       0                                            \n",
      "__________________________________________________________________________________________________\n",
      "lstm_9 (LSTM)                   [(None, 45, 256), (N 525312      lstm_8[0][0]                     \n",
      "__________________________________________________________________________________________________\n",
      "embedding_5 (Embedding)         (None, None, 128)    1280000     input_6[0][0]                    \n",
      "__________________________________________________________________________________________________\n",
      "lstm_10 (LSTM)                  [(None, 45, 256), (N 525312      lstm_9[0][0]                     \n",
      "__________________________________________________________________________________________________\n",
      "lstm_11 (LSTM)                  [(None, None, 256),  394240      embedding_5[0][0]                \n",
      "                                                                 lstm_10[0][1]                    \n",
      "                                                                 lstm_10[0][2]                    \n",
      "__________________________________________________________________________________________________\n",
      "attention_layer (AdditiveAttent (None, None, 256)    256         lstm_11[0][0]                    \n",
      "                                                                 lstm_10[0][0]                    \n",
      "__________________________________________________________________________________________________\n",
      "concat_layer (Concatenate)      (None, None, 512)    0           lstm_11[0][0]                    \n",
      "                                                                 attention_layer[0][0]            \n",
      "__________________________________________________________________________________________________\n",
      "dense_4 (Dense)                 (None, None, 10000)  5130000     concat_layer[0][0]               \n",
      "==================================================================================================\n",
      "Total params: 9,273,360\n",
      "Trainable params: 9,273,360\n",
      "Non-trainable params: 0\n",
      "__________________________________________________________________________________________________\n"
     ]
    }
   ],
   "source": [
    "from tensorflow.keras.layers import AdditiveAttention\n",
    "\n",
    "# 어텐션 층(어텐션 함수)\n",
    "attn_layer = AdditiveAttention(name='attention_layer')\n",
    "\n",
    "# 인코더와 디코더의 모든 time step의 hidden state를 어텐션 층에 전달하고 결과를 리턴\n",
    "attn_out = attn_layer([decoder_outputs, encoder_outputs])\n",
    "\n",
    "\n",
    "# 어텐션의 결과와 디코더의 hidden state들을 연결\n",
    "decoder_concat_input = Concatenate(axis=-1, name='concat_layer')([decoder_outputs, attn_out])\n",
    "\n",
    "# 디코더의 출력층\n",
    "decoder_softmax_layer = Dense(tar_vocab, activation='softmax')\n",
    "decoder_softmax_outputs = decoder_softmax_layer(decoder_concat_input)\n",
    "\n",
    "# 모델 정의\n",
    "model = Model([encoder_inputs, decoder_inputs], decoder_softmax_outputs)\n",
    "model.summary()"
   ]
  },
  {
   "cell_type": "code",
   "execution_count": 72,
   "id": "a09d2e0f",
   "metadata": {},
   "outputs": [
    {
     "name": "stdout",
     "output_type": "stream",
     "text": [
      "Epoch 1/20\n",
      "308/308 [==============================] - 302s 941ms/step - loss: 5.2291 - val_loss: 4.8249\n",
      "Epoch 2/20\n",
      "308/308 [==============================] - 269s 874ms/step - loss: 4.6739 - val_loss: 4.4770\n",
      "Epoch 3/20\n",
      "308/308 [==============================] - 287s 932ms/step - loss: 4.3512 - val_loss: 4.2204\n",
      "Epoch 4/20\n",
      "308/308 [==============================] - 238s 773ms/step - loss: 4.1145 - val_loss: 4.0440\n",
      "Epoch 5/20\n",
      "308/308 [==============================] - 209s 679ms/step - loss: 3.9298 - val_loss: 3.9094\n",
      "Epoch 6/20\n",
      "308/308 [==============================] - 208s 676ms/step - loss: 3.7767 - val_loss: 3.8082\n",
      "Epoch 7/20\n",
      "308/308 [==============================] - 205s 666ms/step - loss: 3.6457 - val_loss: 3.7269\n",
      "Epoch 8/20\n",
      "308/308 [==============================] - 204s 661ms/step - loss: 3.5311 - val_loss: 3.6577\n",
      "Epoch 9/20\n",
      "308/308 [==============================] - 204s 662ms/step - loss: 3.4313 - val_loss: 3.6051\n",
      "Epoch 10/20\n",
      "308/308 [==============================] - 203s 659ms/step - loss: 3.3437 - val_loss: 3.5571\n",
      "Epoch 11/20\n",
      "308/308 [==============================] - 204s 661ms/step - loss: 3.2630 - val_loss: 3.5169\n",
      "Epoch 12/20\n",
      "308/308 [==============================] - 205s 667ms/step - loss: 3.1923 - val_loss: 3.4911\n",
      "Epoch 13/20\n",
      "308/308 [==============================] - 205s 665ms/step - loss: 3.1278 - val_loss: 3.4706\n",
      "Epoch 14/20\n",
      "308/308 [==============================] - 209s 678ms/step - loss: 3.0695 - val_loss: 3.4478\n",
      "Epoch 15/20\n",
      "308/308 [==============================] - 206s 670ms/step - loss: 3.0173 - val_loss: 3.4170\n",
      "Epoch 16/20\n",
      "308/308 [==============================] - 204s 664ms/step - loss: 2.9679 - val_loss: 3.4020\n",
      "Epoch 17/20\n",
      "308/308 [==============================] - 204s 664ms/step - loss: 2.9227 - val_loss: 3.3943\n",
      "Epoch 18/20\n",
      "308/308 [==============================] - 204s 663ms/step - loss: 2.8807 - val_loss: 3.3777\n",
      "Epoch 19/20\n",
      "308/308 [==============================] - 204s 662ms/step - loss: 2.8424 - val_loss: 3.3698\n",
      "Epoch 20/20\n",
      "308/308 [==============================] - 205s 665ms/step - loss: 2.8059 - val_loss: 3.3511\n"
     ]
    }
   ],
   "source": [
    "model.compile(optimizer='rmsprop', loss='sparse_categorical_crossentropy')\n",
    "es = EarlyStopping(monitor='val_loss', patience=2, verbose=1)\n",
    "history = model.fit(x=[encoder_input_train, decoder_input_train], y=decoder_target_train, \\\n",
    "          validation_data=([encoder_input_test, decoder_input_test], decoder_target_test), \\\n",
    "          batch_size=256, callbacks=[es], epochs=20)"
   ]
  },
  {
   "cell_type": "code",
   "execution_count": 73,
   "id": "f8a24ad5",
   "metadata": {},
   "outputs": [
    {
     "data": {
      "image/png": "[encoded data removed]",
      "text/plain": [
       "<Figure size 432x288 with 1 Axes>"
      ]
     },
     "metadata": {
      "needs_background": "light"
     },
     "output_type": "display_data"
    }
   ],
   "source": [
    "#그래프 그리기\n",
    "plt.plot(history.history['loss'], label='train')\n",
    "plt.plot(history.history['val_loss'], label='test')\n",
    "plt.legend()\n",
    "plt.show()"
   ]
  },
  {
   "cell_type": "code",
   "execution_count": 74,
   "id": "bb6dcbeb",
   "metadata": {},
   "outputs": [],
   "source": [
    "#텍스트 데이터 복원을 위해 3개 사전 정의\n",
    "src_index_to_word = src_tokenizer.index_word # 원문 단어 집합에서 정수 -> 단어를 얻음\n",
    "tar_word_to_index = tar_tokenizer.word_index # 요약 단어 집합에서 단어 -> 정수를 얻음\n",
    "tar_index_to_word = tar_tokenizer.index_word # 요약 단어 집합에서 정수 -> 단어를 얻음"
   ]
  },
  {
   "cell_type": "code",
   "execution_count": 75,
   "id": "af9c345d",
   "metadata": {},
   "outputs": [],
   "source": [
    "# 인코더 설계\n",
    "encoder_model = Model(inputs=encoder_inputs, outputs=[encoder_outputs, state_h, state_c])\n",
    "\n",
    "# 이전 시점의 상태들을 저장하는 텐서\n",
    "decoder_state_input_h = Input(shape=(hidden_size,))\n",
    "decoder_state_input_c = Input(shape=(hidden_size,))\n",
    "\n",
    "dec_emb2 = dec_emb_layer(decoder_inputs)\n",
    "# 문장의 다음 단어를 예측하기 위해서 초기 상태(initial_state)를 이전 시점의 상태로 사용. 이는 뒤의 함수 decode_sequence()에 구현\n",
    "# 훈련 과정에서와 달리 LSTM의 리턴하는 은닉 상태와 셀 상태인 state_h와 state_c를 버리지 않음.\n",
    "decoder_outputs2, state_h2, state_c2 = decoder_lstm(dec_emb2, initial_state=[decoder_state_input_h, decoder_state_input_c])"
   ]
  },
  {
   "cell_type": "code",
   "execution_count": 77,
   "id": "6d1a31fd",
   "metadata": {},
   "outputs": [],
   "source": [
    "#어텐션 메커니즘을 사용하는 출력층 설계\n",
    "# 어텐션 함수\n",
    "decoder_hidden_state_input = Input(shape=(text_max_len, hidden_size))\n",
    "attn_out_inf = attn_layer([decoder_outputs2, decoder_hidden_state_input])\n",
    "decoder_inf_concat = Concatenate(axis=-1, name='concat')([decoder_outputs2, attn_out_inf])\n",
    "\n",
    "# 디코더의 출력층\n",
    "decoder_outputs2 = decoder_softmax_layer(decoder_inf_concat) \n",
    "\n",
    "# 최종 디코더 모델\n",
    "decoder_model = Model(\n",
    "    [decoder_inputs] + [decoder_hidden_state_input,decoder_state_input_h, decoder_state_input_c],\n",
    "    [decoder_outputs2] + [state_h2, state_c2])"
   ]
  },
  {
   "cell_type": "code",
   "execution_count": 78,
   "id": "21179c4d",
   "metadata": {},
   "outputs": [],
   "source": [
    "#인퍼런스 단계에서 단어 시퀀스를 완성하는 함수\n",
    "def decode_sequence(input_seq):\n",
    "    # 입력으로부터 인코더의 상태를 얻음\n",
    "    e_out, e_h, e_c = encoder_model.predict(input_seq)\n",
    "\n",
    "     # <SOS>에 해당하는 토큰 생성\n",
    "    target_seq = np.zeros((1,1))\n",
    "    target_seq[0, 0] = tar_word_to_index['sostoken']\n",
    "\n",
    "    stop_condition = False\n",
    "    decoded_sentence = ''\n",
    "    while not stop_condition: # stop_condition이 True가 될 때까지 루프 반복\n",
    "\n",
    "        output_tokens, h, c = decoder_model.predict([target_seq] + [e_out, e_h, e_c])\n",
    "        sampled_token_index = np.argmax(output_tokens[0, -1, :])\n",
    "        sampled_token = tar_index_to_word[sampled_token_index]\n",
    "\n",
    "        if (sampled_token!='eostoken'):\n",
    "            decoded_sentence += ' '+sampled_token\n",
    "\n",
    "        #  <eos>에 도달하거나 최대 길이를 넘으면 중단.\n",
    "        if (sampled_token == 'eostoken'  or len(decoded_sentence.split()) >= (headlines_max_len-1)):\n",
    "            stop_condition = True\n",
    "\n",
    "        # 길이가 1인 타겟 시퀀스를 업데이트\n",
    "        target_seq = np.zeros((1,1))\n",
    "        target_seq[0, 0] = sampled_token_index\n",
    "\n",
    "        # 상태를 업데이트 합니다.\n",
    "        e_h, e_c = h, c\n",
    "\n",
    "    return decoded_sentence"
   ]
  },
  {
   "cell_type": "markdown",
   "id": "119104be",
   "metadata": {},
   "source": [
    "### 모델 테스트"
   ]
  },
  {
   "cell_type": "code",
   "execution_count": 79,
   "id": "d8e117c3",
   "metadata": {},
   "outputs": [],
   "source": [
    "# 원문의 정수 시퀀스를 텍스트 시퀀스로 변환\n",
    "def seq2text(input_seq):\n",
    "    temp=''\n",
    "    for i in input_seq:\n",
    "        if(i!=0):\n",
    "            temp = temp + src_index_to_word[i]+' '\n",
    "    return temp\n",
    "\n",
    "# 요약문의 정수 시퀀스를 텍스트 시퀀스로 변환\n",
    "def seq2summary(input_seq):\n",
    "    temp=''\n",
    "    for i in input_seq:\n",
    "        if((i!=0 and i!=tar_word_to_index['sostoken']) and i!=tar_word_to_index['eostoken']):\n",
    "            temp = temp + tar_index_to_word[i] + ' '\n",
    "    return temp"
   ]
  },
  {
   "cell_type": "markdown",
   "id": "6873b57a",
   "metadata": {},
   "source": [
    "## Step 4. 실제 결과와 요약문 비교하기 (추상적 요약)"
   ]
  },
  {
   "cell_type": "markdown",
   "id": "b3fdc7d8",
   "metadata": {},
   "source": [
    "원래의 요약문(headlines 열)과 학습을 통해 얻은 추상적 요약의 결과를 비교해 보세요."
   ]
  },
  {
   "cell_type": "code",
   "execution_count": 80,
   "id": "a334a1ab",
   "metadata": {},
   "outputs": [
    {
     "name": "stdout",
     "output_type": "stream",
     "text": [
      "원문50 : facebook removed app launched analytics company called bolt app lock collected user data app released march later deleted social media giant saying small brief test bolt app lock primary function lock app using code fingerprint \n",
      "실제 요약 : facebook launches app that collects user data deletes later \n",
      "예측 요약 :  facebook launches app to let users share voice via app\n",
      "\n",
      "\n",
      "원문51 : delhi police busted module sold information including bank account details card details crore people police arrested accused case allegedly sold data per individual data sold fake call centres would use obtain victims one time passwords steal money \n",
      "실제 요약 : bank data of cr indians was up for sale for paise each \n",
      "예측 요약 :  delhi police arrested for selling bitcoin worth crore\n",
      "\n",
      "\n",
      "원문52 : online campaign called urging facebook users boycott social media platform day protest data privacy issues campaign planned mark zuckerberg appearance us congress april virtual demonstration aims send powerful message demand better campaign spokesperson said \n",
      "실제 요약 : online campaign urges users to boycott facebook for day \n",
      "예측 요약 :  facebook to shut down ads over misuse of its ads\n",
      "\n",
      "\n",
      "원문53 : revenue department announced cigarettes exempted additional excise duty gst regime likely lower total cigarettes according notably cigarettes put highest tax along additional cess \n",
      "실제 요약 : cigarettes exempted from additional excise duty under gst \n",
      "예측 요약 :  delhi govt to give tax to pay for\n",
      "\n",
      "\n",
      "원문54 : pakistan supreme court upheld death sentence man raped murdered seven year old girl january convict imran ali appealed death penalty handed anti terrorism court claiming trial fair incident sparked outrage protests across pakistan \n",
      "실제 요약 : pak sc upholds death sentence for man who raped yr old \n",
      "예측 요약 :  pak court acquits yr old girl raped by minor in india\n",
      "\n",
      "\n",
      "원문55 : facebook appealed fine around imposed uk data watchdog company role cambridge analytica scandal company argued uk regulators failed prove british users directly affected scandal initially reported details million uk based users exposed \n",
      "실제 요약 : facebook appeals cambridge analytica fine by uk \n",
      "예측 요약 :  facebook fined for data breach of data scandal\n",
      "\n",
      "\n",
      "원문56 : indian boxer mary kom record sixth gold medal world boxing championships tweeted duty thank coaches support official media supports year old became joint successful boxer world championships history saturday \n",
      "실제 요약 : have my duty mary kom after winning record th wc gold \n",
      "예측 요약 :  mary kom beats world champ to win world ship gold\n",
      "\n",
      "\n",
      "원문57 : private sector lender icici bank highest number employees involvement frauds total scheduled commercial banks operating india took action officials belonged icici data presented parliament showed icici followed state run banks sbi punjab national bank \n",
      "실제 요약 : icici tops list of banks staff for fraud in \n",
      "예측 요약 :  sebi imposes bank accounts of icici bank account\n",
      "\n",
      "\n",
      "원문58 : year nuclear fuel water leaked channel gujarat based atomic power station preliminary investigations found spots channel surface affected would remain shut cause traced however worker exposed radiation leaked outside plant confirmed department atomic energy \n",
      "실제 요약 : scientists find spots at gujarat nuclear leak site \n",
      "예측 요약 :  solar plant in power found in power\n",
      "\n",
      "\n",
      "원문59 : vatican turned first time years due prolonged drought affecting city state surrounding italian city rome vatican said way living rome rome also closed drinking considering water many eight hours day \n",
      "실제 요약 : vatican turns off for st time in yrs amid drought \n",
      "예측 요약 :  st century of the first ever century in years\n",
      "\n",
      "\n",
      "원문60 : former south korean lee mobile payments app toss raised million funding eight failed apps since earlier lee used work hospital arm samsung group quit job found mobile payments startup founded app offers online transfers credit scoring micro loans \n",
      "실제 요약 : ex new mobile app gets mn after failed apps \n",
      "예측 요약 :  samsung app app raises million in app\n",
      "\n",
      "\n",
      "원문61 : supreme court hear plea seeking contempt action rajasthan uttar pradesh haryana governments connection alwar lynching case victim reportedly attacked suspicion cow smuggling alleged incidents mob lynching taking place despite verdict court matter \n",
      "실제 요약 : sc to hear plea against raj up govts over alwar lynching \n",
      "예측 요약 :  sc orders probe into mob shelter homes in up\n",
      "\n",
      "\n",
      "원문62 : indian national uae reportedly sentenced years prison spying foreign nation indian identified charged sharing sensitive information movement military ships port abu dhabi worked employee gulf news reported \n",
      "실제 요약 : indian sentenced to years in jail for spying in uae \n",
      "예측 요약 :  indian origin indian origin man sentenced to death in prison\n",
      "\n",
      "\n",
      "원문63 : year old tourist chennai killed monday car came attack stone jammu kashmir incident took place rally government another woman also injured stone pelting cm mehbooba mufti seen deceased tourist father said head shame \n",
      "실제 요약 : yr old tourist killed in stone pelting violence in \n",
      "예측 요약 :  injured as car attack on amarnath attack in up\n",
      "\n",
      "\n",
      "원문64 : defending champions mumbai indians registered seventh consecutive victory kolkata knight riders indian premier league beating runs ipl sunday mumbai indians last lost kolkata knight riders ipl april mumbai indians currently placed fifth ipl points table \n",
      "실제 요약 : defending champs mi register th consecutive victory vs kkr \n",
      "예측 요약 :  mi beat kkr to win their ipl title for st time\n",
      "\n",
      "\n",
      "원문65 : future group said enter indian food delivery space setting cloud package deliver food provide facility future group ceo kishore biyani said talking cloud kitchen ready eat food customers home users get two managing end end operations added nn \n",
      "실제 요약 : future group to enter food delivery space with cloud \n",
      "예측 요약 :  food to shut down in food stores in uk\n",
      "\n",
      "\n",
      "원문66 : italian capital city rome witnessed snow first time six years monday cold winds moved across europe schools closed public transportation affected meanwhile priests st peter square vatican took part fight built \n",
      "실제 요약 : rome witnesses snow for first time in years \n",
      "예측 요약 :  first ever to get new first city in years\n",
      "\n",
      "\n",
      "원문67 : researchers mit developed body gps system named locate inside body new method location inside body using low power wireless signals team animal show system track level accuracy \n",
      "실제 요약 : mit team develops an in body gps system to implants \n",
      "예측 요약 :  mit develops device to detect cancer\n",
      "\n",
      "\n",
      "원문68 : responding criticism caste politics dhadak director said apparently open use words cinema audio visual medium thought visually achieved added said sensitive next time \n",
      "실제 요약 : should have been more open about caste politics in dhadak maker \n",
      "예측 요약 :  my film is not an actor in the world is\n",
      "\n",
      "\n",
      "원문69 : united airlines launched hour sydney flight distance kilometres third longest flight world scheduled flight time world longest flight qatar airways flight takes hours minutes followed united airlines los angeles singapore flight takes hours minutes \n",
      "실제 요약 : united new hour flight is third longest in the world \n",
      "예측 요약 :  world st flight to be world longest flight\n",
      "\n",
      "\n",
      "원문70 : justice sunday sworn chief justice madras high court making third woman appointed position appointed following justice indira banerjee supreme court born previously served acting chief justice bombay high court \n",
      "실제 요약 : vk becomes rd woman chief justice of madras hc \n",
      "예측 요약 :  justice karnan appointed as sc judge\n",
      "\n",
      "\n",
      "원문71 : enforcement directorate seized cars pnb fraud accused nirav modi money laundering probe cars include rolls porsche two mercedes benz among others ed also frozen crore worth mutual funds shares nirav modi mehul choksi groups connection crore scam \n",
      "실제 요약 : cars of nirav modi including rolls royce porsche seized \n",
      "예측 요약 :  nirav modi moves pnb fraud worth cr seized by nirav modi\n",
      "\n",
      "\n",
      "원문72 : telangana congress working president reddy released police custody tuesday evening following direction hyderabad high court reddy taken custody early tuesday allegedly called shutdown protest alleged police raids associates threatened stall chief minister chandrashekar rao meeting \n",
      "실제 요약 : telangana congress working prez released from police custody \n",
      "예측 요약 :  cong leader arrested for murder of riots in\n",
      "\n",
      "\n",
      "원문73 : many five airlines including air india awarded routes connect airports regional connectivity scheme seats flights covered hour sold first flight scheme expected start next month civil aviation secretary said \n",
      "실제 요약 : govt awards new regional routes to air india others \n"
     ]
    },
    {
     "name": "stdout",
     "output_type": "stream",
     "text": [
      "예측 요약 :  air india flight to be st time in india\n",
      "\n",
      "\n",
      "원문74 : statue dr br ambedkar haryana ambedkar park found broken hand leg monday causing members dalit community park demand action chief park committee said instances also carried past anti social elements \n",
      "실제 요약 : br ambedkar statue found damaged in haryana \n",
      "예측 요약 :  ambedkar statue found at bihar temple\n",
      "\n",
      "\n",
      "원문75 : accusing cpi government tripura state years bjp president amit shah sunday urged people state remove lal bhai government shah added bjp make tripura model state voted power notably bjp contesting assembly seats \n",
      "실제 요약 : remove lal bhai from tripura urges amit shah ahead of polls \n",
      "예측 요약 :  bjp has no one of amit shah on amit shah rally\n",
      "\n",
      "\n",
      "원문76 : north korean leader kim jong un control weather reclusive nation state media claimed said kim top mountain usually covered thick snow gave way fine weather unprecedented kim man controls nature state media added \n",
      "실제 요약 : kim jong un can control weather claims north korea \n",
      "예측 요약 :  kim jong un is not jong un\n",
      "\n",
      "\n",
      "원문77 : temporarily halted london airport activists runway attempt keep deportation flight failed asylum seekers grounded want stay silent face deliberately rushed said runway later people arrested police \n",
      "실제 요약 : protesters deportation plane on runway in uk \n",
      "예측 요약 :  mumbai airport to be held for landing on plane\n",
      "\n",
      "\n",
      "원문78 : goalkeeper diego congratulated barcelona lionel messi scored penalty la liga match sunday shot saved three five penalties one lionel messi scored th brace career help barcelona win match \n",
      "실제 요약 : keeper congratulates messi after conceding penalty \n",
      "예측 요약 :  messi scores goals in bar with his th goal\n",
      "\n",
      "\n",
      "원문79 : born punjab january jointly nobel prize medicine genetic code function protein also developed first artificial gene whose functioning demonstrated within cell passed away us aged \n",
      "실제 요약 : is the only india born medicine nobel laureate \n",
      "예측 요약 :  year old wins nobel prize for nobel\n",
      "\n",
      "\n",
      "원문80 : total army personnel including officers junior commissioned officers committed suicide since government said rajya sabha tuesday cases took place reported remaining committed till july \n",
      "실제 요약 : army personnel committed suicide since government \n",
      "예측 요약 :  bsf personnel martyred in jammu and kashmir\n",
      "\n",
      "\n",
      "원문81 : indian americans held peaceful demonstration outside white house seeking president donald trump intervention series hate crime incidents community happening indian american community result islamic anti statements come administration said \n",
      "실제 요약 : indian americans hold rally against hate crimes outside wh \n",
      "예측 요약 :  indian american american clerics in us\n",
      "\n",
      "\n",
      "원문82 : producer harvey weinstein granted bail million cash hours arrest rape sexual abuse two women friday ordered wear gps monitor new york judge weinstein charged raping woman forcing actress perform sex \n",
      "실제 요약 : weinstein granted bail for mn ordered to wear gps monitor \n",
      "예측 요약 :  weinstein accused of rape accused of raping girls\n",
      "\n",
      "\n",
      "원문83 : bjp mp subramanian swamy said raghuram rajan economist academic background subject rajan kept increasing interest rates led substantial losses small scale industries increased unemployment added swamy said former finance minister manmohan singh knew economics courage take risks \n",
      "실제 요약 : raghuram rajan is not an economist subramanian swamy \n",
      "예측 요약 :  subramanian to be paid for swamy\n",
      "\n",
      "\n",
      "원문84 : expressing death people fire mumbai mills compound prime minister narendra modi friday tweeted thoughts families hour president ram nath kovind tweeted wishing injured early recovery efforts fire fighters rescue \n",
      "실제 요약 : pm modi offers condolences to kin of mumbai fire victims \n",
      "예측 요약 :  pm modi condoles death of him in varanasi\n",
      "\n",
      "\n",
      "원문85 : bombay stock exchange asked mutual fund companies ensure individual clients submit aadhaar details january issued government law money laundering june clients aadhaar number need submit proof application \n",
      "실제 요약 : aadhaar must for mutual funds clients from january bse \n",
      "예측 요약 :  no action against india over aadhaar data breach\n",
      "\n",
      "\n",
      "원문86 : sacked delhi minister kapil mishra claimed delhi businessman facing probe crore scam funded russia trip aam aadmi party leaders sanjay singh businessman firm high security registration plates delhi vehicles contract awarded transport department cancelled aap first stint \n",
      "실제 요약 : scam accused man funded aap leaders russia trip mishra \n",
      "예측 요약 :  delhi cm kejriwal convicted of crore in delhi\n",
      "\n",
      "\n",
      "원문87 : us president donald trump appeared forget national anthem college football championship match twitter user wrote national know national anthem users tweeted stable donald trump forgot lyrics national anthem always fake \n",
      "실제 요약 : twitter slams trump after he national anthem \n",
      "예측 요약 :  trump asks fans to send his own anthem to fans\n",
      "\n",
      "\n",
      "원문88 : scotland placed th odi rankings defeated top ranked england six runs one odi sunday scotland registered highest ever odi total breaking year old record highest odi total associate side match witnessed become first england player hit three straight odi hundreds \n",
      "실제 요약 : th ranked scotland score beat no england by runs \n",
      "예측 요약 :  india has highest number of odi series in odis\n",
      "\n",
      "\n",
      "원문89 : former infosys cfo said hiring india sector years come said companies become highly levels gone also however said third fourth quarter fiscal challenging growth front \n",
      "실제 요약 : it hiring to be for years to come ex infosys cfo \n",
      "예측 요약 :  india is not easy to be pai\n",
      "\n",
      "\n",
      "원문90 : minutes taking oath th chief justice india ranjan gogoi wednesday said cases would urgent somebody going killed hanged last week justice gogoi said cases brought court wanted focus providing justice poverty population \n",
      "실제 요약 : urgent only if someone getting killed new cji gogoi \n",
      "예측 요약 :  india has no place in the term of justice kovind\n",
      "\n",
      "\n",
      "원문91 : idea cellular ceo said trai decision cut usage charge eliminate telecom technologies said government decide wants forward looking technologies added voice calls prices come year cost \n",
      "실제 요약 : cut will ensure only one technology survives idea ceo \n",
      "예측 요약 :  will not be ready to go to go to shut down infosys\n",
      "\n",
      "\n",
      "원문92 : tripura cm kumar deb announced cbi probe murders two journalists killed state last year local television journalist hacked death reporting agitation organised regional party september crime reporter killed headquarters tripura state rifles \n",
      "실제 요약 : cbi will probe murders of two journalists in tripura cm \n",
      "예측 요약 :  up cm orders probe into cm lankesh murder\n",
      "\n",
      "\n",
      "원문93 : least cows died government run cow shelter haryana district due facilities rains lack food water operations cow shelter suspended repair work carried animals shelters running district per reports \n",
      "실제 요약 : cows die at govt run shelter due to facilities \n",
      "예측 요약 :  cows die after eating cows in up in up\n",
      "\n",
      "\n",
      "원문94 : former science nasa said fear space agency cuts climate science funding considered sensitive subject since us president donald trump assumed office said outcome adding warned using term global warming social media \n",
      "실제 요약 : nasa in fear chaos since trump became prez ex employee \n",
      "예측 요약 :  nasa to make us from space for planet nasa\n",
      "\n",
      "\n",
      "원문95 : dr range advanced water come technology breaks complex water molecules fine micro making water bio leading better faster health benefits consumers latest video brand shows ho toh \n",
      "실제 요약 : technology from your drinking water \n",
      "예측 요약 :  water to make water from water\n",
      "\n",
      "\n",
      "원문96 : union minister state jitendra singh said mainstream politicians kashmir cannot go toilet without taking permission conference get permission even remain lives added earlier governor satya pal malik said go toilet without asking pakistan \n",
      "실제 요약 : leaders cannot go to toilet without asking hurriyat mos \n",
      "예측 요약 :  no one can be allowed to be stopped from dec minister\n",
      "\n",
      "\n",
      "원문97 : private sector lender axis bank reportedly reached agreement buy digital payments platform crore cash snapdeal axis bank likely announce deal week according reports also received takeover offer paytm decided go axis bank offered higher price \n",
      "실제 요약 : axis bank to buy freecharge from snapdeal for crore \n",
      "예측 요약 :  fortis may buy stake in fortis healthcare firm\n",
      "\n",
      "\n",
      "원문98 : year old school died rescued five eight kids drowning school van fell monday also van become unconscious pushing students time taken hospital dead along two students \n",
      "실제 요약 : dies saving kids after school van falls into \n"
     ]
    },
    {
     "name": "stdout",
     "output_type": "stream",
     "text": [
      "예측 요약 :  year old dies after being trapped in school in\n",
      "\n",
      "\n",
      "원문99 : us confirmed military aid cut crore pakistan us president donald trump threatened longer provide monetary assistance pakistan monday trump also accused pakistan giving us lies return lakh crore aid last years \n",
      "실제 요약 : us confirms cr aid cut to pak after trump warning \n",
      "예측 요약 :  us to cut aid to cut aid to cut aid to trump\n",
      "\n",
      "\n"
     ]
    }
   ],
   "source": [
    "for i in range(50, 100):\n",
    "    print(f\"원문{i} :\", seq2text(encoder_input_test[i]))\n",
    "    print(\"실제 요약 :\", seq2summary(decoder_input_test[i]))\n",
    "    print(\"예측 요약 :\", decode_sequence(encoder_input_test[i].reshape(1, text_max_len)))\n",
    "    print(\"\\n\")"
   ]
  },
  {
   "cell_type": "code",
   "execution_count": 81,
   "id": "ac9a816f",
   "metadata": {},
   "outputs": [
    {
     "data": {
      "text/plain": [
       "'online campaign called urging facebook users boycott social media platform day protest data privacy issues campaign planned mark zuckerberg appearance us congress april virtual demonstration aims send powerful message demand better campaign spokesperson said '"
      ]
     },
     "execution_count": 81,
     "metadata": {},
     "output_type": "execute_result"
    }
   ],
   "source": [
    "seq2text(encoder_input_test[52])"
   ]
  },
  {
   "cell_type": "code",
   "execution_count": 82,
   "id": "2e46cc3b",
   "metadata": {},
   "outputs": [
    {
     "data": {
      "text/plain": [
       "'online campaign urges users to boycott facebook for day'"
      ]
     },
     "execution_count": 82,
     "metadata": {},
     "output_type": "execute_result"
    }
   ],
   "source": [
    "str_test = seq2summary(decoder_input_test[52])[:-1]\n",
    "str_test"
   ]
  },
  {
   "cell_type": "markdown",
   "id": "ba55052f",
   "metadata": {},
   "source": [
    "## Step 5. Summa을 이용해서 추출적 요약해보기"
   ]
  },
  {
   "cell_type": "markdown",
   "id": "affbbb18",
   "metadata": {},
   "source": [
    "추상적 요약은 추출적 요약과는 달리 문장의 표현력을 다양하게 가져갈 수 있지만, 추출적 요약에 비해서 난이도가 높아요. 반대로 말하면 추출적 요약은 추상적 요약에 비해 난이도가 낮고 기존 문장에서 문장을 꺼내오는 것이므로 잘못된 요약이 나올 가능성이 낮아요.\n",
    "\n",
    "Summa의 summarize를 사용하여 추출적 요약을 해보세요."
   ]
  },
  {
   "cell_type": "code",
   "execution_count": 83,
   "id": "dd3fb58f",
   "metadata": {},
   "outputs": [
    {
     "data": {
      "text/plain": [
       "Int64Index([36568], dtype='int64')"
      ]
     },
     "execution_count": 83,
     "metadata": {},
     "output_type": "execute_result"
    }
   ],
   "source": [
    "data[data['headlines'] == str_test].index"
   ]
  },
  {
   "cell_type": "code",
   "execution_count": 84,
   "id": "3850e0d6",
   "metadata": {},
   "outputs": [],
   "source": [
    "import requests\n",
    "from summa.summarizer import summarize"
   ]
  },
  {
   "cell_type": "code",
   "execution_count": 85,
   "id": "b433c663",
   "metadata": {},
   "outputs": [],
   "source": [
    "urllib.request.urlretrieve(\"https://raw.githubusercontent.com/sunnysai12345/News_Summary/master/news_summary_more.csv\", filename=\"news_summary_more.csv\")\n",
    "summa_data = pd.read_csv('news_summary_more.csv', encoding='iso-8859-1')"
   ]
  },
  {
   "cell_type": "code",
   "execution_count": 86,
   "id": "d7d144c8",
   "metadata": {},
   "outputs": [
    {
     "name": "stdout",
     "output_type": "stream",
     "text": [
      "Summary:\n",
      "Facebook is working on a feature called 'Your Time on Facebook' which will track how much time users spend on an average on the app.\n"
     ]
    }
   ],
   "source": [
    "print('Summary:')\n",
    "print(summarize(summa_data.iloc[36928].text, words=13))"
   ]
  },
  {
   "cell_type": "code",
   "execution_count": 87,
   "id": "ef420b61",
   "metadata": {},
   "outputs": [
    {
     "name": "stdout",
     "output_type": "stream",
     "text": [
      "원문 : saurav kant alumnus upgrad iiit pg program machine learning artificial intelligence sr systems engineer infosys almost years work experience program upgrad degree career support helped transition data scientist tech mahindra salary hike upgrad online power learning powered lakh careers\n",
      "실제 요약 : upgrad learner switches to career in ml al with salary hike\n",
      "추출적 요약 : \n",
      "\n",
      "\n",
      "원문 : kunal shah credit card bill payment platform cred gave users chance win free food swiggy one year pranav kaushik delhi techie bagged reward spending cred coins users get one cred coin per rupee bill paid used avail rewards brands like ixigo bookmyshow ubereats cult fit\n",
      "실제 요약 : delhi techie wins free food from swiggy for one year on cred\n",
      "추출적 요약 : \n",
      "\n",
      "\n",
      "원문 : new zealand defeated india wickets fourth odi hamilton thursday win first match five match odi series india lost international match rohit sharma captaincy consecutive victories dating back march match witnessed india getting seventh lowest total odi cricket history\n",
      "실제 요약 : new zealand end rohit sharma led india match winning streak\n",
      "추출적 요약 : \n",
      "\n",
      "\n",
      "원문 : aegon life iterm insurance plan customers enjoy tax benefits premiums paid save taxes plan provides life cover age years also customers options insure critical illnesses disability accidental death benefit rider life cover age years\n",
      "실제 요약 : aegon life iterm insurance plan helps customers save tax\n",
      "추출적 요약 : \n",
      "\n",
      "\n",
      "원문 : speaking sexual harassment allegations rajkumar hirani sonam kapoor said known hirani many years true metoo movement get derailed metoo movement always believe woman case need reserve judgment added hirani accused assistant worked sanju\n",
      "실제 요약 : have known hirani for yrs what if metoo claims are not true sonam\n",
      "추출적 요약 : \n",
      "\n",
      "\n",
      "원문 : pakistani singer rahat fateh ali khan denied receiving notice enforcement directorate allegedly smuggling foreign currency india would better authorities would served notice first publicised reads press release issued behalf rahat statement called allegation bizarre\n",
      "실제 요약 : rahat fateh ali khan denies getting notice for smuggling currency\n",
      "추출적 요약 : \n",
      "\n",
      "\n",
      "원문 : india recorded lowest odi total new zealand getting runs overs fourth odi hamilton thursday seven india batsmen dismissed single digit scores number ten batsman yuzvendra chahal top scored india previous lowest odi total new zealand\n",
      "실제 요약 : india get all out for their lowest odi total in new zealand\n",
      "추출적 요약 : \n",
      "\n",
      "\n",
      "원문 : weeks ex cbi director alok verma told department personnel training consider retired home ministry asked join work last day fixed tenure director thursday ministry directed immediately join dg fire services post transferred removal cbi chief\n",
      "실제 요약 : govt directs alok verma to join work day before his retirement\n",
      "추출적 요약 : \n",
      "\n",
      "\n",
      "원문 : andhra pradesh cm chandrababu naidu said met us president bill clinton addressed mr clinton sir modi junior politics addressed sir times satisfy ego hope justice state added\n",
      "실제 요약 : called pm modi sir times to satisfy his ego andhra cm\n",
      "추출적 요약 : \n",
      "\n",
      "\n",
      "원문 : congress candidate shafia zubair ramgarh assembly seat rajasthan defeating bjp sukhwant singh margin votes bypoll victory congress taken total seats member assembly election ramgarh seat delayed due death sitting mla bsp candidate laxman singh\n",
      "실제 요약 : cong wins ramgarh bypoll in rajasthan takes total to seats\n",
      "추출적 요약 : \n",
      "\n",
      "\n",
      "원문 : two minor cousins uttar pradesh gorakhpur allegedly repeatedly burnt tongs forced eat human excreta family friends two boys school cousins revealed ordeal police child welfare committee brought back gorakhpur nepal fled escape torture\n",
      "실제 요약 : up cousins fed human excreta for friendship with boys\n",
      "추출적 요약 : \n",
      "\n",
      "\n",
      "원문 : isha ghosh year old member bharat scouts guides imparting physical mental training schoolchildren jharkhand several decades chaibasa based ghosh reportedly walks seven kilometres daily spends eight hours conducting physical training apart climbing yoga sessions says one something society till one last breath\n",
      "실제 요약 : yr old woman conducts physical training in khand schools\n",
      "추출적 요약 : \n",
      "\n",
      "\n",
      "원문 : urging saints seers kumbh mela quit smoking yoga guru ramdev said follow ram krishna never smoked life making take pledge quit tobacco collected chillum several sadhus said deposit chillums display museum build\n",
      "실제 요약 : ram krishna did not smoke why should we ramdev to sadhus at kumbh\n",
      "추출적 요약 : \n",
      "\n",
      "\n",
      "원문 : former stripper regional sales director pharmaceutical company sunrise lee gave doctor lap dance nightclub persuade prescribe addictive fentanyl spray company sales representative told us court said saw lee sitting doctor lap kind bouncing around lee accused bribing doctors\n",
      "실제 요약 : pharma exec gave doctor lap dance to sell medicine in us witness\n",
      "추출적 요약 : \n",
      "\n",
      "\n",
      "원문 : reliance industries chairman mukesh ambani daughter isha ambani got married last month said cried bidaai felt peer pressure everyone crying especially parents emotional everyone around would cry time added emotional affair everyone family said isha\n",
      "실제 요약 : only cried at my bidaai as felt peer pressure isha ambani\n",
      "추출적 요약 : \n",
      "\n",
      "\n",
      "원문 : louis vuitton owner lvmh makes high end beverages like mo chandon champagne hennessy cognac said stockpiling four months worth wine spirits uk preparation brexit ready worst case scenario difficulties deliveries french luxury giant said uk scheduled leave eu march\n",
      "실제 요약 : louis vuitton owner to stockpile months of wine spirits in uk\n",
      "추출적 요약 : \n",
      "\n",
      "\n",
      "원문 : filmmaker karan johar actress tabu turned showstoppers gaurav gupta opening night lakm fashion week summer resort johar wore red sequinned jacket black pants tabu walked ramp grey embellished gown fashion show began january continue till february\n",
      "실제 요약 : karan johar tabu turn showstoppers on opening night of lfw\n",
      "추출적 요약 : \n",
      "\n",
      "\n",
      "원문 : jibe congress president rahul gandhi pm narendra modi wednesday said bail go jail pm modi added bail associates facing charges know convicted one day pm claimed would waged war corruption common household\n",
      "실제 요약 : those on bail will go to jail pm modi takes jibe at rahul\n",
      "추출적 요약 : \n",
      "\n",
      "\n",
      "원문 : days threatened step post congress mlas continue crossing line karnataka chief minister hd kumaraswamy accused taking potshots asked many days tolerate stuff kumaraswamy made statements congress mla demanded siddaramaiah made cm said power ephemeral\n",
      "실제 요약 : how long can tolerate congress leaders potshots taka cm\n",
      "추출적 요약 : \n",
      "\n",
      "\n",
      "원문 : union minister dharmendra pradhan wednesday claimed illegal mining mafia odisha operates control cm naveen patnaik state congress chief niranjan patnaik added time come people odisha put full stop activities time come us ask explanation corrupt government\n",
      "실제 요약 : odisha cm patnaik controls mining mafia union minister\n",
      "추출적 요약 : \n",
      "\n",
      "\n",
      "원문 : claiming dearth ideas among opposition parties prime minister narendra modi wednesday said opposition talks modi whole day suspect even dream pm modi addressing new india youth conclave surat added opposition parties one agenda modi\n",
      "실제 요약 : think the opposition even dreams about me pm modi\n",
      "추출적 요약 : \n",
      "\n",
      "\n",
      "원문 : indian space research organisation wednesday unveiled human space flight centre bengaluru crore manned space mission gaganyaan scheduled isro said centre responsible development engineering systems crew survival space crew selection training also pursue activities sustained human space flight missions isro added\n",
      "실제 요약 : isro unveils bengaluru centre for manned space mission\n",
      "추출적 요약 : \n",
      "\n",
      "\n",
      "원문 : least people killed others injured saudi arabia week due flooding heavy rain emergency services rescued people flooded areas half tabuk heavy rains hit mainly western northwestern parts saudi arabia near border jordan\n",
      "실제 요약 : killed injured in saudi arabia floods\n",
      "추출적 요약 : \n",
      "\n",
      "\n",
      "원문 : reliance industries chairman mukesh ambani daughter isha ambani featured cover february edition vogue india dressed white shirt dress black ruffled skirt australian designer toni maticevski accessorising look misho ring cover story isha spoken work life marriage\n",
      "실제 요약 : isha ambani features on february cover of vogue magazine\n",
      "추출적 요약 : \n",
      "\n",
      "\n",
      "원문 : indian oil corporation wednesday said looking annual deal buy us crude seeks broaden oil purchasing options comes amid uncertainties iran imports us november granted six month waiver india sanctions iran restricted country monthly intake iranian oil barrels per day\n",
      "실제 요약 : indian oil looking for annual deal to buy crude from us\n",
      "추출적 요약 : \n",
      "\n",
      "\n",
      "원문 : former windies fast bowler curtly ambrose dismissed seven australian batsmen within span balls giving away one run test match january ambrose spell helped team bowl australia first innings one point ambrose ended first innings figures\n",
      "실제 요약 : pacer once took wickets for just run in balls in test\n",
      "추출적 요약 : \n",
      "\n",
      "\n",
      "원문 : london zoo offering people name cockroach exes valentine day quite require revenge another way make feel better getting back ex zoo said statement names appear zoo roach board february\n",
      "실제 요약 : uk zoo offers people to name cockroach after their ex on valentine\n",
      "추출적 요약 : \n",
      "\n",
      "\n",
      "원문 : stand captain rohit sharma become th indian cricketer play odis achieving feat taking field new zealand fourth odi hamilton thursday year old made odi debut june ireland belfast rohit scored runs first odis average\n",
      "실제 요약 : rohit sharma becomes th indian cricketer to play odis\n",
      "추출적 요약 : \n",
      "\n",
      "\n",
      "원문 : batsman shubman gill become th cricketer represent india odi cricket achieving feat new zealand fourth odi hamilton thursday year old received maiden odi cap former captain ms dhoni notably shubman named player world cup new zealand last year\n",
      "실제 요약 : year old shubman gill becomes india th odi cricketer\n",
      "추출적 요약 : \n",
      "\n",
      "\n",
      "원문 : investigators searching lost plane carrying argentine forward emiliano sala found two seat cushions french coast likely belonged aircraft investigators said launch underwater seabed search aircraft wreckage cardiff city footballer travelling france nantes wales cardiff plane disappeared english channel january\n",
      "실제 요약 : seat cushions from missing plane carrying footballer found\n",
      "추출적 요약 : \n",
      "\n",
      "\n",
      "원문 : italian third division football side lucchese head coach giancarlo favarin banned five months headbutting alessandria assistant coach gaetano mancino brawl following teams draw sunday mancino caught balance knocked ground headbutt earlier match favarin told player break opponent legs\n",
      "실제 요약 : italian coach knocks rival down with headbutt banned for months\n",
      "추출적 요약 : \n",
      "\n",
      "\n",
      "원문 : cyclists taking part national track cycling championship jaipur opted sleep floor inside stadium instead hotels expensive cycles organisers booked hotels provision cyclists keep bikes inside national gold medallist said cycles cost lakh damaged become non repairable\n",
      "실제 요약 : cyclists sleep on stadium floor instead of hotel over costly cycles\n",
      "추출적 요약 : \n",
      "\n",
      "\n",
      "원문 : silvia grecco year old brazilian mother narrates local football team palmeiras matches live year old blind autistic son nickollas stands describe details player wearing short sleeves colour football boots hair colour everything see feel tell even need curse referee grecco said recent match\n",
      "실제 요약 : brazilian mother narrates football matches to blind son from stands\n",
      "추출적 요약 : \n",
      "\n",
      "\n",
      "원문 : techcrunch report claimed india largest bank sbi secured passwordless server overnight alerted allowed anyone access phone numbers bank balances transactions millions customers mumbai based server containing two months data sbi quick sms call based system used request basic information accounts techcrunch revealed\n",
      "실제 요약 : sbi left account data of millions of users unprotected report\n",
      "추출적 요약 : \n",
      "\n",
      "\n",
      "원문 : rahul gandhi replied goa cm manohar parrikar letter accused congress president using visit ailing man political gains immense pressure pm meeting needs demonstrate loyalty attacking gandhi wrote letter parrikar clarified discuss rafale deal rahul\n",
      "실제 요약 : cm parrikar under pressure from pm after our goa meet rahul\n",
      "추출적 요약 : \n",
      "\n",
      "\n",
      "원문 : twenty seven year old mohammed mahuwala arrested indore wednesday allegedly cheating commerce giant amazon nearly lakh mahuwala member gang ordered costly gadgets amazon used get refund amount paid saying parcel empty reality devices taken parcel sold local shopkeepers said police\n",
      "실제 요약 : man arrested for cheating amazon of lakh by taking refunds\n",
      "추출적 요약 : \n",
      "\n",
      "\n",
      "원문 : agustawestland chopper scam co accused rajiv saxena extradited india uae wednesday evading enforcement directorate summons claiming suffering leukaemia moved anti money laundering court anticipatory bail december stating never summoned dubai address saxena lawyers alleged illegally extradited\n",
      "실제 요약 : agustawestland scam accused rajiv saxena extradited to india\n",
      "추출적 요약 : \n",
      "\n",
      "\n",
      "원문 : afghan president ashraf ghani said keys war pakistan islamabad quetta rawalpindi accusing country providing safe havens militants including belonging taliban ghani added key peace afghanistan comments came amid talks us taliban end year war afghanistan\n",
      "실제 요약 : pakistan holds keys to war afghanistan\n",
      "추출적 요약 : \n",
      "\n",
      "\n",
      "원문 : singapore based insurance agent jailed two years five months threatening harm clients unless paid bitcoins year old set email account signed messages lord voldemort fictional character harry potter series ye lin myint targeted people including cancelled insurance policies\n",
      "실제 요약 : insurance agent lord voldemort jailed for threatening clients\n",
      "추출적 요약 : \n",
      "\n",
      "\n",
      "원문 : gabrielle reilly year old us woman created earrings apple airpods put sale online absolutely refuse lose made earrings explained earrings took hour make debuted video twitter since garnered three million views\n",
      "실제 요약 : woman turns apple airpods into earrings to avoid losing them\n",
      "추출적 요약 : \n",
      "\n",
      "\n",
      "원문 : ex icici bank ceo chanda kochhar said utterly disappointed hurt shocked bank decision terminate kochhar said served icici years utmost honesty integrity ultimately truth prevail adding given copy independent probe report kochhar said none icici credit decisions unilateral\n",
      "실제 요약 : shocked hurt by icici decision truth will prevail kochhar\n",
      "추출적 요약 : \n",
      "\n",
      "\n",
      "원문 : swedish multinational fast fashion brand hennes mauritz ab hired christopher wylie whistleblower exposed facebook cambridge analytica data scandal wylie focus help get better insights customers products markets support work sustainable ethical artificial intelligence spokesperson said wylie former employee cambridge analytica\n",
      "실제 요약 : fashion brand hires facebook data scandal whistleblower\n",
      "추출적 요약 : \n",
      "\n",
      "\n",
      "원문 : micro blogging platform twitter testing new feature android put news top user timeline update making easier people see news stories followers discussing product manager walter gurzynski said feature comes alongside prompt saying catch happened away\n",
      "실제 요약 : twitter testing news first timeline feature on android\n",
      "추출적 요약 : \n",
      "\n",
      "\n",
      "원문 : samsung started mass producing one terabyte embedded universal flash storage technology use next generation mobile applications claims industry first eufs company added new eufs let smartphones store minute videos shot uhd format sized previous gb version samsung said\n",
      "실제 요약 : samsung builds world first tb storage chip for smartphones\n",
      "추출적 요약 : \n",
      "\n",
      "\n",
      "원문 : prime minister narendra modi wednesday said people negative mindset questioning government floating pro poor schemes added negative mindset people raising doubts schemes building toilets providing free gas connections poor said negative mentality laced vested interest still exists country\n",
      "실제 요약 : people with negative mindset quizzing pro poor schemes pm\n",
      "추출적 요약 : \n",
      "\n",
      "\n",
      "원문 : union minister anantkumar hegde took dig congress president rahul gandhi calling hybrid specimen clue religion father muslim mother christian son supposed brahmin even possible said added hybrid specimen cannot found laboratory world\n",
      "실제 요약 : rahul is hybrid specimen has no clue about religion hegde\n",
      "추출적 요약 : \n",
      "\n",
      "\n",
      "원문 : several parts us set experience record low temperatures polar vortex hit upper midwest million people expected experience freezing temperatures week temperatures throughout upper midwest expected least zero government offices schools closed several areas\n",
      "실제 요약 : extreme cold to affect million people as polar vortex hits us\n",
      "추출적 요약 : \n",
      "\n",
      "\n",
      "원문 : police wednesday registered cases persons including woman leader hindu mahasabha aligarh firing effigy mahatma gandhi air pistol incident took place house naurangabad locality city senior superintendent police said video event went viral social media added\n",
      "실제 요약 : booked for firing air shots at mahatma gandhi effigy\n",
      "추출적 요약 : \n",
      "\n",
      "\n",
      "원문 : railway police rescued woman travelling train chennai got leg stuck inside commode toilet caught inside commode hole struggled remove leg following failed attempts shouted help reports said railway police used cutter pry open commode freed leg\n",
      "실제 요약 : railway police rescues woman with leg stuck in train toilet\n",
      "추출적 요약 : \n",
      "\n",
      "\n",
      "원문 : us tuesday began returning asylum seekers mexico sending back migrant central american nation called move response illegal migration crisis faced migrant protection protocols policy us return certain migrants cross country illegally back mexico asylum requests processed\n",
      "실제 요약 : us begins sending back asylum seekers to mexico\n",
      "추출적 요약 : \n",
      "\n",
      "\n"
     ]
    }
   ],
   "source": [
    "for idx, (head, text) in enumerate(zip(data['headlines'], data['text'])):\n",
    "    if idx == 50:\n",
    "        break\n",
    "    print(\"원문 :\", text)\n",
    "    print(\"실제 요약 :\", head)\n",
    "    print(\"추출적 요약 :\", summarize(text, ratio=0.40))\n",
    "    print(\"\\n\")"
   ]
  },
  {
   "cell_type": "markdown",
   "id": "6fb8b6ad",
   "metadata": {},
   "source": [
    "## 회고"
   ]
  },
  {
   "cell_type": "markdown",
   "id": "30d91e5a",
   "metadata": {},
   "source": [
    "- 추상적 요약\n",
    "epoch를 작게 해서 그런지 문법적으로 오류가 많고 내용의 퀄리티가 좋지 않다. epoch를 크게 한 분들도 동일한 것으로 미루어 짐작했을 때 추상적 요약만 사용했을 경우의 문제점인 것 같다.\n",
    "- 추출적 요약\n",
    "텍스트 문서나 긴 글에서 정보를 추출하여 요약하는 방법이다 보니 추출적 요약에 비해서 문법적으로 완전하고 내용의 퀄리티고 괜찮았으나, 불필요한 내용들이 조금 있었다. 그냥 스크롤 한 느낌도 없지 않게 들었다."
   ]
  },
  {
   "cell_type": "markdown",
   "id": "3758f9a8",
   "metadata": {},
   "source": [
    "- 정리\n",
    "뉴스 요약을 할 때에는 두 개를 잘 섞어서 사용하면 좋으나, 한가지만 사용할 경우, 추출적 요약이 더 적합할 것 같다."
   ]
  },
  {
   "cell_type": "markdown",
   "id": "2b7ca5a8",
   "metadata": {},
   "source": [
    "- 느낀점\n",
    "뉴스 요약봇이 있다는 것이 신기했고, 자주 사용해야 겠다는 생각이 들었다. 실제로 해 보았을 때에는 제대로 되지 않았지만 뉴스 요약봇은 어떻게 저렇게 잘 하는지 궁금하다. 학습이 점점 길어진다는데 수면 시간이 걱정이 된다. 아직 모든 내용을 완전히 숙지하지 못했지만, 그래도 프로젝트 자체는 재밌었다."
   ]
  }
 ],
 "metadata": {
  "kernelspec": {
   "display_name": "Python 3 (ipykernel)",
   "language": "python",
   "name": "python3"
  },
  "language_info": {
   "codemirror_mode": {
    "name": "ipython",
    "version": 3
   },
   "file_extension": ".py",
   "mimetype": "text/x-python",
   "name": "python",
   "nbconvert_exporter": "python",
   "pygments_lexer": "ipython3",
   "version": "3.9.7"
  }
 },
 "nbformat": 4,
 "nbformat_minor": 5
}
