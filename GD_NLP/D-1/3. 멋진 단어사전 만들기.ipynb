{
 "cells": [
  {
   "cell_type": "markdown",
   "id": "ff114ada",
   "metadata": {},
   "source": [
    "# 멋진 단어사전 만들기"
   ]
  },
  {
   "cell_type": "markdown",
   "id": "c29dbe99",
   "metadata": {},
   "source": [
    "평가문항\t상세기준\n",
    "> 1. SentencePiece를 이용하여 모델을 만들기까지의 과정이 정상적으로 진행되었는가?\t코퍼스 분석, 전처리, SentencePiece 적용, 토크나이저 구현 및 동작이 빠짐없이 진행되었는가?  \n",
    "> 2. SentencePiece를 통해 만든 Tokenizer가 자연어처리 모델과 결합하여 동작하는가?\tSentencePiece 토크나이저가 적용된 Text Classifier 모델이 정상적으로 수렴하여 80% 이상의 test accuracy가 확인되었다.  \n",
    "> 3. SentencePiece의 성능을 다각도로 비교분석하였는가?\tSentencePiece 토크나이저를 활용했을 때의 성능을 다른 토크나이저 혹은 SentencePiece의 다른 옵션의 경우와 비교하여 분석을 체계적으로 진행하였다.  "
   ]
  },
  {
   "cell_type": "markdown",
   "id": "e5bb7d67",
   "metadata": {},
   "source": [
    "## 라이브러리 버전을 확인해 봅니다\n",
    "사용할 라이브러리 버전을 둘러봅시다."
   ]
  },
  {
   "cell_type": "code",
   "execution_count": 1,
   "id": "e025a7d6",
   "metadata": {},
   "outputs": [
    {
     "name": "stdout",
     "output_type": "stream",
     "text": [
      "2.6.0\n",
      "1.21.4\n",
      "3.4.3\n",
      "0.5.2\n"
     ]
    }
   ],
   "source": [
    "import tensorflow as tf\n",
    "import numpy as np\n",
    "import matplotlib as plt\n",
    "import konlpy\n",
    "\n",
    "print(tf.__version__)\n",
    "print(np.__version__)\n",
    "print(plt.__version__)\n",
    "print(konlpy.__version__)"
   ]
  },
  {
   "cell_type": "markdown",
   "id": "7cf2a149",
   "metadata": {},
   "source": [
    "## Step 1. SentencePiece 설치하기\n",
    "SentencePiece는 Google에서 제공하는 오픈소스 기반 Sentence Tokenizer/Detokenizer 로서, BPE와 unigram 2가지 subword 토크나이징 모델 중 하나를 선택해서 사용할 수 있도록 패키징한 것입니다. 아래 링크의 페이지에서 상세한 내용을 파악할 수 있습니다.\n",
    "\n",
    "- google/sentencepiece  \n",
    "\n",
    "위 페이지의 서두에서도 언급하고 있듯, SentencePiece는 딥러닝 자연어처리 모델의 앞부분에 사용할 목적으로 최적화되어 있는데, 최근 pretrained model들이 거의 대부분 SentencePiece를 tokenizer로 채용하면서 사실상 표준의 역할을 하고 있습니다.\n",
    "\n",
    "다음과 같이 설치를 진행합니다. SentencePiece는 python에서 쓰라고 만들어진 라이브러리는 아니지만 편리한 파이썬 wrapper를 아래와 같이 제공하고 있습니다.\n",
    "```\n",
    "$ pip install sentencepiece\n",
    "```"
   ]
  },
  {
   "cell_type": "markdown",
   "id": "59d3d405",
   "metadata": {},
   "source": [
    "## Step 2. SentencePiece 모델 학습\n",
    "앞서 배운 tokenize() 함수를 기억하나요? 다시 한번 상기시켜드릴게요!"
   ]
  },
  {
   "cell_type": "code",
   "execution_count": 2,
   "id": "d04360bd",
   "metadata": {},
   "outputs": [],
   "source": [
    "def tokenize(corpus):  # corpus: Tokenized Sentence's List\n",
    "    tokenizer = tf.keras.preprocessing.text.Tokenizer(filters='')\n",
    "    tokenizer.fit_on_texts(corpus)\n",
    "\n",
    "    tensor = tokenizer.texts_to_sequences(corpus)\n",
    "\n",
    "    tensor = tf.keras.preprocessing.sequence.pad_sequences(tensor, padding='post')\n",
    "\n",
    "    return tensor, tokenizer"
   ]
  },
  {
   "cell_type": "markdown",
   "id": "212b44fd",
   "metadata": {},
   "source": [
    "위와 같이 tf.keras.preprocessing.text.Tokenizer에 corpus를 주고 tokenizer.fit_on_texts(corpus)을 하면 토크나이저 내부적으로 단어사전과 토크나이저 기능을 corpus에 맞춤형으로 자동 생성해 주는 것입니다.\n",
    "\n",
    "그럼 이를 위해서 SentencePiece 모델을 학습하는 과정을 거쳐야 합니다."
   ]
  },
  {
   "cell_type": "code",
   "execution_count": null,
   "id": "3aa1d646",
   "metadata": {},
   "outputs": [],
   "source": [
    "import sentencepiece as spm\n",
    "import os\n",
    "temp_file = os.getenv('HOME')+'/aiffel/sp_tokenizer/data/korean-english-park.train.ko.temp'\n",
    "\n",
    "vocab_size = 8000\n",
    "\n",
    "with open(temp_file, 'w') as f:\n",
    "    for row in filtered_corpus:   # 이전에 나왔던 정제했던 corpus를 활용해서 진행해야 합니다.\n",
    "        f.write(str(row) + '\\n')\n",
    "\n",
    "spm.SentencePieceTrainer.Train(\n",
    "    '--input={} --model_prefix=korean_spm --vocab_size={}'.format(temp_file, vocab_size)    \n",
    ")\n",
    "#위 Train에서  --model_type = unigram이 디폴트 적용되어 있습니다. --model_type = bpe로 옵션을 주어 변경할 수 있습니다.\n",
    "\n",
    "!ls -l korean_spm*"
   ]
  },
  {
   "cell_type": "markdown",
   "id": "b6d3874d",
   "metadata": {},
   "source": [
    "위 코드를 실행하면 정상적으로 SentencePiece 모델 학습이 완료된 후 korean_spm.model 파일과 korean_spm.vocab vocabulary 파일이 생성되었음을 확인할 수 있습니다.\n",
    "\n",
    "그럼 이렇게 학습된 SentencePiece 모델을 어떻게 활용하는지 살펴보겠습니다."
   ]
  },
  {
   "cell_type": "code",
   "execution_count": null,
   "id": "4a49f363",
   "metadata": {},
   "outputs": [],
   "source": [
    "s = spm.SentencePieceProcessor()\n",
    "s.Load('korean_spm.model')\n",
    "\n",
    "# SentencePiece를 활용한 sentence -> encoding\n",
    "tokensIDs = s.EncodeAsIds('아버지가방에들어가신다.')\n",
    "print(tokensIDs)\n",
    "\n",
    "# SentencePiece를 활용한 sentence -> encoded pieces\n",
    "print(s.SampleEncodeAsPieces('아버지가방에들어가신다.',1, 0.0))\n",
    "\n",
    "# SentencePiece를 활용한 encoding -> sentence 복원\n",
    "print(s.DecodeIds(tokensIDs))"
   ]
  },
  {
   "cell_type": "markdown",
   "id": "26fa9d20",
   "metadata": {},
   "source": [
    "어떻습니까? SentencePiece의 토크나이징 실력이 괜찮은 것 같습니다."
   ]
  },
  {
   "cell_type": "markdown",
   "id": "32e4e792",
   "metadata": {},
   "source": [
    "## Step 3. Tokenizer 함수 작성\n",
    "우리는 위에서 훈련시킨 SentencePiece를 활용하여 위 함수와 유사한 기능을 하는 sp_tokenize() 함수를 정의할 겁니다. 하지만 SentencePiece가 동작하는 방식이 단순 토큰화와는 달라 완전히 동일하게는 정의하기 어렵습니다. 그러니 아래 조건을 만족하는 함수를 정의하도록 하습니다.\n",
    "> 1.매개변수로 토큰화된 문장의 list를 전달하는 대신 온전한 문장의 list 를 전달합니다.  \n",
    "> 2.생성된 vocab 파일을 읽어와 { <word> : <idx> } 형태를 가지는 word_index 사전과 { <idx> : <word>} 형태를 가지는 index_word 사전을 생성하고 함께 반환합니다.  \n",
    "> 3.리턴값인 tensor 는 앞의 함수와 동일하게 토큰화한 후 Encoding된 문장입니다. 바로 학습에 사용할 수 있게 Padding은 당연히 해야겠죠?  "
   ]
  },
  {
   "cell_type": "code",
   "execution_count": null,
   "id": "8de4be4a",
   "metadata": {},
   "outputs": [],
   "source": [
    "def sp_tokenize(s, corpus): \n",
    "\n",
    "    tensor = []\n",
    "\n",
    "    for sen in corpus:\n",
    "        tensor.append(s.EncodeAsIds(sen))\n",
    "\n",
    "    with open(\"./korean_spm.vocab\", 'r') as f:\n",
    "        vocab = f.readlines()\n",
    "\n",
    "    word_index = {}\n",
    "    index_word = {}\n",
    "\n",
    "    for idx, line in enumerate(vocab):\n",
    "        word = line.split(\"\\t\")[0]\n",
    "\n",
    "        word_index.update({word:idx})\n",
    "        index_word.update({idx:word})\n",
    "\n",
    "    tensor = tf.keras.preprocessing.sequence.pad_sequences(tensor, padding='post')\n",
    "\n",
    "    return tensor, word_index, index_word"
   ]
  },
  {
   "cell_type": "markdown",
   "id": "52ba7ee4",
   "metadata": {},
   "source": [
    "## Step 4. 네이버 영화리뷰 감정 분석 문제에 SentencePiece 적용해 보기\n",
    "네이버 영화리뷰 감정 분석 태스크가 있습니다. 한국어로 된 corpus를 다루어야 하므로 주로 KoNLPy에서 제공하는 형태소 분석기를 사용하여 텍스트를 전처리해서 RNN 모델을 분류기로 사용하게 되는데요.  \n",
    "\n",
    "만약 이 문제에서 tokenizer를 SentencePiece로 바꾸어 다시 풀어본다면 더 성능이 좋아질까요? KoNLPy에 있는 Mecab, kkma, Okt 등과 비교해보세요. (여러분들은 fasttext(https://wikidocs.net/22883)로 사전훈련된 Word Vector를 사용할 수 있지만 sentencepiece와 KoNLPy에 있는 형태소로 모델을 만드는 것보다 코드 수정이 많이 일어납니다. 기본적인 태스크를 끝나고(sentencepiece - KoNLPy 형태소 비교) 도전하시는걸 추천합니다.)  \n",
    "\n",
    "- 네이버 영화리뷰 감정 분석 코퍼스에 SentencePiece를 적용시킨 모델 학습하기\n",
    "- 학습된 모델로 sp_tokenize() 메소드 구현하기\n",
    "- 구현된 토크나이저를 적용하여 네이버 영화리뷰 감정 분석 모델을 재학습하기\n",
    "- KoNLPy 형태소 분석기를 사용한 모델과 성능 비교하기\n",
    "- SentencePiece 모델의 model_type, vocab_size 등을 변경해 가면서 성능 개선 여부 확인하기"
   ]
  },
  {
   "cell_type": "code",
   "execution_count": null,
   "id": "2f8b6f90",
   "metadata": {},
   "outputs": [],
   "source": [
    "import pandas as pd\n",
    "import urllib.request\n",
    "%matplotlib inline\n",
    "import matplotlib.pyplot as plt\n",
    "import re\n",
    "from konlpy.tag import Okt\n",
    "from tensorflow import keras\n",
    "import tensorflow as tf\n",
    "from tensorflow.keras.preprocessing.text import Tokenizer\n",
    "import numpy as np\n",
    "from tensorflow.keras.preprocessing.sequence import pad_sequences\n",
    "from collections import Counter"
   ]
  },
  {
   "cell_type": "code",
   "execution_count": 6,
   "id": "55e8a4f4",
   "metadata": {},
   "outputs": [
    {
     "name": "stdout",
     "output_type": "stream",
     "text": [
      "train 데이터 사이즈: 150000\n",
      "test 데이터 사이즈: 50000\n"
     ]
    },
    {
     "data": {
      "text/html": [
       "<div>\n",
       "<style scoped>\n",
       "    .dataframe tbody tr th:only-of-type {\n",
       "        vertical-align: middle;\n",
       "    }\n",
       "\n",
       "    .dataframe tbody tr th {\n",
       "        vertical-align: top;\n",
       "    }\n",
       "\n",
       "    .dataframe thead th {\n",
       "        text-align: right;\n",
       "    }\n",
       "</style>\n",
       "<table border=\"1\" class=\"dataframe\">\n",
       "  <thead>\n",
       "    <tr style=\"text-align: right;\">\n",
       "      <th></th>\n",
       "      <th>id</th>\n",
       "      <th>document</th>\n",
       "      <th>label</th>\n",
       "    </tr>\n",
       "  </thead>\n",
       "  <tbody>\n",
       "    <tr>\n",
       "      <th>0</th>\n",
       "      <td>9976970</td>\n",
       "      <td>아 더빙.. 진짜 짜증나네요 목소리</td>\n",
       "      <td>0</td>\n",
       "    </tr>\n",
       "    <tr>\n",
       "      <th>1</th>\n",
       "      <td>3819312</td>\n",
       "      <td>흠...포스터보고 초딩영화줄....오버연기조차 가볍지 않구나</td>\n",
       "      <td>1</td>\n",
       "    </tr>\n",
       "    <tr>\n",
       "      <th>2</th>\n",
       "      <td>10265843</td>\n",
       "      <td>너무재밓었다그래서보는것을추천한다</td>\n",
       "      <td>0</td>\n",
       "    </tr>\n",
       "    <tr>\n",
       "      <th>3</th>\n",
       "      <td>9045019</td>\n",
       "      <td>교도소 이야기구먼 ..솔직히 재미는 없다..평점 조정</td>\n",
       "      <td>0</td>\n",
       "    </tr>\n",
       "    <tr>\n",
       "      <th>4</th>\n",
       "      <td>6483659</td>\n",
       "      <td>사이몬페그의 익살스런 연기가 돋보였던 영화!스파이더맨에서 늙어보이기만 했던 커스틴 ...</td>\n",
       "      <td>1</td>\n",
       "    </tr>\n",
       "  </tbody>\n",
       "</table>\n",
       "</div>"
      ],
      "text/plain": [
       "         id                                           document  label\n",
       "0   9976970                                아 더빙.. 진짜 짜증나네요 목소리      0\n",
       "1   3819312                  흠...포스터보고 초딩영화줄....오버연기조차 가볍지 않구나      1\n",
       "2  10265843                                  너무재밓었다그래서보는것을추천한다      0\n",
       "3   9045019                      교도소 이야기구먼 ..솔직히 재미는 없다..평점 조정      0\n",
       "4   6483659  사이몬페그의 익살스런 연기가 돋보였던 영화!스파이더맨에서 늙어보이기만 했던 커스틴 ...      1"
      ]
     },
     "execution_count": 6,
     "metadata": {},
     "output_type": "execute_result"
    }
   ],
   "source": [
    "# 데이터를 읽어오기\n",
    "train_data = pd.read_table('~/aiffel/workspace/GD_NLP/D-1/ratings_train.txt')\n",
    "test_data = pd.read_table('~/aiffel/workspace/GD_NLP/D-1/ratings_test.txt')\n",
    "\n",
    "print('train 데이터 사이즈:', len(train_data))\n",
    "print('test 데이터 사이즈:', len(test_data))\n",
    "\n",
    "train_data.head()"
   ]
  },
  {
   "cell_type": "code",
   "execution_count": 7,
   "id": "f665dfa7",
   "metadata": {},
   "outputs": [
    {
     "name": "stdout",
     "output_type": "stream",
     "text": [
      "train 데이터 사이즈: 146182\n",
      "test 데이터 사이즈: 49157\n"
     ]
    }
   ],
   "source": [
    "# 중복 및 결측치 제거\n",
    "train_data.drop_duplicates(subset=['document'], inplace=True)\n",
    "train_data = train_data.dropna(how = 'any') \n",
    "test_data.drop_duplicates(subset=['document'], inplace=True)\n",
    "test_data = test_data.dropna(how = 'any') \n",
    "\n",
    "print('train 데이터 사이즈:', len(train_data))\n",
    "print('test 데이터 사이즈:', len(test_data))"
   ]
  },
  {
   "cell_type": "code",
   "execution_count": 8,
   "id": "cd7a5a85",
   "metadata": {},
   "outputs": [
    {
     "name": "stdout",
     "output_type": "stream",
     "text": [
      "Data Size: 195339\n",
      "Example:\n",
      ">> 아 더빙.. 진짜 짜증나네요 목소리\n",
      ">> 나름 심오한 뜻도 있는 듯. 그냥 학생이 선생과 놀아나는 영화는 절대 아님\n",
      ">> 단순하면서 은은한 매력의 영화\n",
      ">> 보는내내 그대로 들어맞는 예측 카리스마 없는 악역\n",
      ">> 뭐냐..시작하고 3분만에 나왔다. 리플릿 사진 보며 불안하더니만..\n"
     ]
    }
   ],
   "source": [
    "# 훈련 데이터와 시험 데이터 합치기\n",
    "data = list(train_data['document']) + list(test_data['document'])\n",
    "\n",
    "print(\"Data Size:\", len(data))\n",
    "\n",
    "print(\"Example:\")\n",
    "for sen in data[0:100][::20]: print(\">>\", sen)"
   ]
  },
  {
   "cell_type": "markdown",
   "id": "5e15ac63",
   "metadata": {},
   "source": [
    "### 데이터 정제하기"
   ]
  },
  {
   "cell_type": "code",
   "execution_count": 9,
   "id": "d4b8c78a",
   "metadata": {},
   "outputs": [
    {
     "name": "stdout",
     "output_type": "stream",
     "text": [
      "문장의 최단 길이: 1\n",
      "문장의 최장 길이: 146\n",
      "문장의 평균 길이: 35\n"
     ]
    },
    {
     "name": "stderr",
     "output_type": "stream",
     "text": [
      "/tmp/ipykernel_37/4031225536.py:16: DeprecationWarning: `np.int` is a deprecated alias for the builtin `int`. To silence this warning, use `int` by itself. Doing this will not modify any behavior and is safe. When replacing `np.int`, you may wish to use e.g. `np.int64` or `np.int32` to specify the precision. If you wish to review your current use, check the release note link for additional information.\n",
      "Deprecated in NumPy 1.20; for more details and guidance: https://numpy.org/devdocs/release/1.20.0-notes.html#deprecations\n",
      "  sentence_length = np.zeros((max_len), dtype=np.int)\n"
     ]
    },
    {
     "data": {
      "image/png": "[encoded data removed]",
      "text/plain": [
       "<Figure size 432x288 with 1 Axes>"
      ]
     },
     "metadata": {
      "needs_background": "light"
     },
     "output_type": "display_data"
    }
   ],
   "source": [
    "# 문장의 최단 길이, 최장 길이, 평균 길이를 구한 후 문장 길이분포를 막대그래프로 표현해주는 소스\n",
    "min_len = 999\n",
    "max_len = 0\n",
    "sum_len = 0\n",
    "\n",
    "for sen in data: \n",
    "    length = len(sen)\n",
    "    if min_len > length: min_len = length\n",
    "    if max_len < length: max_len = length\n",
    "    sum_len += length\n",
    "\n",
    "print(\"문장의 최단 길이:\", min_len)\n",
    "print(\"문장의 최장 길이:\", max_len)\n",
    "print(\"문장의 평균 길이:\", sum_len // len(data))\n",
    "\n",
    "sentence_length = np.zeros((max_len), dtype=np.int)\n",
    "\n",
    "for sen in data:\n",
    "    sentence_length[len(sen)-1] += 1\n",
    "\n",
    "plt.bar(range(max_len), sentence_length, width=1.0)\n",
    "plt.title(\"Sentence Length Distribution\")\n",
    "plt.show()"
   ]
  },
  {
   "cell_type": "code",
   "execution_count": 10,
   "id": "957e9988",
   "metadata": {},
   "outputs": [
    {
     "name": "stdout",
     "output_type": "stream",
     "text": [
      "아\n",
      "잼\n",
      "1\n",
      "4\n",
      "굿\n",
      "짱\n",
      "휴\n",
      ".\n",
      "음\n",
      "?\n",
      "ㅎ\n",
      "ㅋ\n",
      "즐\n",
      "♥\n",
      "굳\n",
      "네\n",
      "ㅇ\n",
      "k\n",
      "ㅠ\n",
      "쒯\n",
      "♬\n",
      "토\n",
      "O\n",
      "똥\n",
      "z\n",
      "헐\n",
      "삼\n",
      "꽝\n",
      "!\n",
      "풉\n",
      "ㅅ\n",
      "왜\n",
      "ㄴ\n",
      "쉣\n",
      "봐\n",
      "뿌\n",
      "ㅜ\n",
      "♡\n",
      "ㅁ\n",
      "0\n",
      "ㅉ\n",
      "d\n",
      "흥\n",
      "乃\n",
      "찜\n",
      "귯\n",
      "린\n",
      "시\n",
      "ㅗ\n",
      "a\n",
      "c\n",
      "흠\n",
      "웅\n",
      "ㅣ\n",
      "오\n",
      "9\n",
      "쩜\n",
      "애\n",
      "헝\n",
      "쨩\n",
      "f\n",
      "움\n",
      "ㄳ\n",
      "업\n",
      "헉\n",
      "군\n",
      "b\n",
      ";\n",
      "g\n",
      "올\n",
      "걍\n",
      "허\n",
      "-\n",
      "쀍\n",
      "로\n",
      "ㄹ\n",
      "ㅂ\n",
      "갑\n",
      "즛\n",
      "킥\n",
      "함\n",
      "진\n",
      "ㅡ\n",
      "잠\n",
      "곧\n",
      "ㅍ\n",
      "h\n",
      "·\n",
      "캬\n",
      "ㅆ\n",
      ",\n",
      "풋\n",
      "ㄱ\n",
      "파\n",
      "ㄷ\n",
      "웩\n",
      "꺅\n",
      "욜\n",
      "ㅄ\n",
      "2\n",
      "핡\n",
      "-------------------------------------\n",
      "\"스폰으로 먹고사는 방송이라 어쩔수 없다고 하지만. 이건 그냥 비현실적인 자동차만;...독일3사&슈퍼카 홍보 프로그램도 아니구.대중적인 자동차 방송으로 이루어 졌으면 합니다. 보는내내 \"\"카탈로그 책자\"\"를 \"\"동영상으로 보여주는 방송\"\" 같아서 씁쓸하네요.!\"\n",
      "\"\"\"니 짓은 생각않고, 웬 복수!\"\"의 교훈이라! 그럼 \"\"서바이벌 액션\"\"으로 홍보하면 안되지! 초반 45분은 멋지게 열더니.. 억지 반전, 하드고어로 시간끌다가, 허둥지둥 화해로 끝내버리네. 90분 러닝타임에 엔딩자막만 11분 틀어주는 해괴망측한 영화~!\"\n",
      "\"2007.02.25_ 벌교의 한 국밥집_ 점심: \"\"갸는 첫째고, 저 놈은 우리 둘째~\"\" 재문: \"\"아줌마! 미안해~ 그냥.. 아줌마! 나 그 남방 잘 어울려ㅠ_ㅠ?\"\" 대식에게 복수하려던 1주일 전_ 대식의 엄마를 먼저 만났다. 사랑의 꽃남방도..^-^o\"\n"
     ]
    }
   ],
   "source": [
    "# 길이 체크 함수로 문장 길이 확인하기\n",
    "def check_sentence_with_length(raw, length):\n",
    "    count = 0\n",
    "    \n",
    "    for sen in raw:\n",
    "        if len(sen) == length:\n",
    "            print(sen)\n",
    "            count += 1\n",
    "            if count > 100: return\n",
    "\n",
    "# 훈련 데이터 길이가 1인 문장 확인해보기            \n",
    "check_sentence_with_length(data, 1)\n",
    "print(\"-------------------------------------\")\n",
    "# 훈련 데이터 길이가 146인 문장 확인해보기            \n",
    "check_sentence_with_length(data, 146)"
   ]
  },
  {
   "cell_type": "code",
   "execution_count": 11,
   "id": "d5eb0e45",
   "metadata": {},
   "outputs": [
    {
     "name": "stdout",
     "output_type": "stream",
     "text": [
      "Outlier Index: 12\n",
      "Outlier Index: 13\n",
      "Outlier Index: 14\n",
      "Outlier Index: 15\n",
      "Outlier Index: 16\n",
      "Outlier Index: 17\n"
     ]
    }
   ],
   "source": [
    "# 길이 별로 확인이 필요해보이는 문장 확인하기\n",
    "for idx, _sum in enumerate(sentence_length):\n",
    "    # 문장 내 단어의 개수가 5000을 초과하는 인덱스를 추출\n",
    "    if _sum > 5000:\n",
    "        print(\"Outlier Index:\", idx+1)"
   ]
  },
  {
   "cell_type": "code",
   "execution_count": 12,
   "id": "9b1982ba",
   "metadata": {},
   "outputs": [
    {
     "name": "stdout",
     "output_type": "stream",
     "text": [
      "아햏햏 아햏햏 아햏햏.\n",
      "단연 최고라고 할수있지\n",
      "용가리 진짜짱짱맨이다ㅋ\n",
      "나름 괜찮은 작품입니다\n",
      "정말 실망 스러웟음..\n",
      "무술인이 왜 총을드나?\n",
      "너무너무 훈훈하네요^^\n",
      "현실은 꿈, 꿈은 현실\n",
      "답없네, 뭐하는건지..\n",
      "엔딩이 넘 슬퍼요 :(\n",
      "감동감동감동의 도가니탕\n",
      "정말 최고의 영화...\n",
      "진짜 짜증나는 영화..\n",
      "상당히 재밌게 봤습니다\n",
      "영상미가 역시 최고네요\n",
      "감독ㅡㅡ다신영화찍지마라\n",
      "이런 영화가 참 좋다.\n",
      "정말 광해와 비슷한가?\n",
      "더빙이 똥이야 ....\n",
      "잠을 청할 수 있었다.\n",
      "나오코 진짜 집중안된다\n",
      "샬라샬라 나오다즁자쥬아\n",
      "지루하다.. 지루해..\n",
      "사과해요, 나한테!!!\n",
      "소재가 굉장히 신선했다\n",
      "솔직히 산만 하기만했다\n",
      "OST가 좋은 영화!!\n",
      "기적은 이미 일어났다.\n",
      "답을 알려고 하지마라.\n",
      "평점은 믿지마셈 재밌음\n",
      "재미 드럽게 없다ㅋㅋㅋ\n",
      "자식을 그렇게 때리냐?\n",
      "감동적이였고 좋았습니다\n",
      "울컥하는 사회현실 ㅠㅠ\n",
      "등장인물들 모두 짱~~\n",
      "막장드라마가 따로없구만\n",
      "말 필요엄따~~~~진정\n",
      "꿀잼 영화 추억이다ㅜㅜ\n",
      "맞추자 ㅍ?차븟ㅇㄱ디시\n",
      "순수하고 아름답다 :)\n",
      "변태적 성욕 자기합리화\n",
      "흠....나름 갠찬네요\n",
      "걍 10점 이라길래..\n",
      "실력이 필요없는 상황.\n",
      "감동과 웃음을 한방에!\n",
      "이거야 이거 ㅋㅋㅋㅋㅋ\n",
      "성동일딸 시르다...참\n",
      "평점알바들을 위해 1점\n",
      "볼만합니다 강추!!ㅋㅋ\n",
      "이거말고 겨울왕국을봐라\n",
      "좋은니다..^.,^~~\n",
      "2.3 (10자 제한)\n",
      "아무도 안달았네..ㄷㄷ\n",
      "엉성하고 어설프고...\n",
      "그냥 보통으로 보았다.\n",
      "너무 슬픈영화..울음ㅠ\n",
      "으리는 개뿔 ㅡ,.ㅡ^\n",
      "처음 본 에로 영화..\n",
      "평점 조정을 위해...\n",
      "그냥 쓰레기지 쓰레기~\n",
      "쵝오네요 최고 대박영화\n",
      "유전무죄 무전유죄!!!\n",
      "의외의 꿀잼 이였습니다\n",
      "어차피 우승은 송민호~\n",
      "이 때부터가 쓰레기였지\n",
      "완전 찝찝한 영화...\n",
      "이상형이 바뀌었습니다.\n",
      "역시 산드라블록 누님!\n",
      "결국 엄마가 죽인거네?\n",
      "그냥 그저 별시리...\n",
      "추천할만한 경제영화였음\n",
      "제대로 알아야할 역사임\n",
      "일본판이더재미있음...\n",
      "역시 재미있군요 >ㅁ<\n",
      "아깝다 나의 1점도ㅡㅡ\n",
      "마음이 따뜻해지는 영화\n",
      "죽었다. 참 재미없다.\n",
      "최고, 정말 최고다,,\n",
      "공유 보려고 보는 영화\n",
      "재밌습니다. 꿀잼 ㅋㅋ\n",
      "조정래와 임권택의 만남\n",
      "간만에쓰레기영화보네요ㅋ\n",
      "너무재밌게 봤어요...\n",
      "의미가 뭘까...///\n",
      "이건 범죄 수준이다..\n",
      "박평식-뚜껑열린다ㅋㅋㅋ\n",
      "볼수록 재밌는 마의!!\n",
      "짱~ 오늘 티비로 봤음\n",
      "말없이 눈물이 뚝뚝..\n",
      "이렇게 유쾌할수가ㅋㅋㅋ\n",
      "완죤 지루하고 재미없네\n",
      "보다가 나가는 영화??\n",
      "에휴..........\n",
      "재미도 없구만...에효\n",
      "옥보단 3D보다 쓰레기\n",
      "반전이 꽤나 신선했다.\n",
      "허접허접허접허접허접허접\n",
      "독특한 유머. 재밌다.\n",
      "좀 식상한 스릴러영화~\n",
      "하하하핳하햐하핯하핳하하\n",
      "이영화 어디서 보나요?\n"
     ]
    }
   ],
   "source": [
    "check_sentence_with_length(data, 12)"
   ]
  },
  {
   "cell_type": "code",
   "execution_count": 13,
   "id": "e846dab5",
   "metadata": {},
   "outputs": [
    {
     "name": "stdout",
     "output_type": "stream",
     "text": [
      "Data Size: 194543\n",
      "문장의 최단 길이: 1\n",
      "문장의 최장 길이: 146\n",
      "문장의 평균 길이: 36\n"
     ]
    },
    {
     "name": "stderr",
     "output_type": "stream",
     "text": [
      "/tmp/ipykernel_37/614249671.py:19: DeprecationWarning: `np.int` is a deprecated alias for the builtin `int`. To silence this warning, use `int` by itself. Doing this will not modify any behavior and is safe. When replacing `np.int`, you may wish to use e.g. `np.int64` or `np.int32` to specify the precision. If you wish to review your current use, check the release note link for additional information.\n",
      "Deprecated in NumPy 1.20; for more details and guidance: https://numpy.org/devdocs/release/1.20.0-notes.html#deprecations\n",
      "  sentence_length = np.zeros((max_len), dtype=np.int)\n"
     ]
    },
    {
     "data": {
      "image/png": "[encoded data removed]",
      "text/plain": [
       "<Figure size 432x288 with 1 Axes>"
      ]
     },
     "metadata": {
      "needs_background": "light"
     },
     "output_type": "display_data"
    }
   ],
   "source": [
    "# 데이터에서 중복 제거하기\n",
    "min_len= 999\n",
    "max_len = 0\n",
    "sum_len = 0\n",
    "\n",
    "cleaned_corpus = list(set(data))  # set를 사용해서 중복을 제거\n",
    "print(\"Data Size:\", len(cleaned_corpus))\n",
    "\n",
    "for sen in cleaned_corpus:\n",
    "    length = len(sen)\n",
    "    if min_len > length: min_len = length\n",
    "    if max_len < length: max_len = length\n",
    "    sum_len += length\n",
    "\n",
    "print(\"문장의 최단 길이:\", min_len)\n",
    "print(\"문장의 최장 길이:\", max_len)\n",
    "print(\"문장의 평균 길이:\", sum_len // len(cleaned_corpus))\n",
    "\n",
    "sentence_length = np.zeros((max_len), dtype=np.int)\n",
    "\n",
    "for sen in cleaned_corpus:   # 중복이 제거된 코퍼스 기준\n",
    "    sentence_length[len(sen)-1] += 1\n",
    "\n",
    "plt.bar(range(max_len), sentence_length, width=1.0)\n",
    "plt.title(\"Sentence Length Distribution\")\n",
    "plt.show()"
   ]
  },
  {
   "cell_type": "code",
   "execution_count": 14,
   "id": "d10d414d",
   "metadata": {},
   "outputs": [
    {
     "name": "stderr",
     "output_type": "stream",
     "text": [
      "/tmp/ipykernel_37/533010103.py:9: DeprecationWarning: `np.int` is a deprecated alias for the builtin `int`. To silence this warning, use `int` by itself. Doing this will not modify any behavior and is safe. When replacing `np.int`, you may wish to use e.g. `np.int64` or `np.int32` to specify the precision. If you wish to review your current use, check the release note link for additional information.\n",
      "Deprecated in NumPy 1.20; for more details and guidance: https://numpy.org/devdocs/release/1.20.0-notes.html#deprecations\n",
      "  sentence_length = np.zeros((max_len), dtype=np.int)\n"
     ]
    },
    {
     "data": {
      "image/png": "[encoded data removed]",
      "text/plain": [
       "<Figure size 432x288 with 1 Axes>"
      ]
     },
     "metadata": {
      "needs_background": "light"
     },
     "output_type": "display_data"
    }
   ],
   "source": [
    "# 문장의 길이를 기준으로 데이터 필터링 수행\n",
    "max_len = 100\n",
    "min_len = 1\n",
    "\n",
    "# 길이 조건에 맞는 문장만 선택\n",
    "filtered_corpus = [s for s in cleaned_corpus if (len(s) < max_len) & (len(s) >= min_len)]\n",
    "\n",
    "# 분포도를 다시 그려보자 \n",
    "# 아래 나온 그래프는 최종 데이터 분포\n",
    "sentence_length = np.zeros((max_len), dtype=np.int)\n",
    "\n",
    "for sen in filtered_corpus:\n",
    "    sentence_length[len(sen)-1] += 1\n",
    "\n",
    "plt.bar(range(max_len), sentence_length, width=1.0)\n",
    "plt.title(\"Sentence Length Distribution\")\n",
    "plt.show()"
   ]
  },
  {
   "cell_type": "markdown",
   "id": "09685daf",
   "metadata": {},
   "source": [
    "### SentencePiece 모델 학습"
   ]
  },
  {
   "cell_type": "code",
   "execution_count": 15,
   "id": "f1032c90",
   "metadata": {},
   "outputs": [
    {
     "name": "stderr",
     "output_type": "stream",
     "text": [
      "sentencepiece_trainer.cc(177) LOG(INFO) Running command: --input=/aiffel/aiffel/sp_tokenizer/data/korean-english-park.train.ko.temp --model_prefix=naver_review_spm --vocab_size=8000\n",
      "sentencepiece_trainer.cc(77) LOG(INFO) Starts training with : \n",
      "trainer_spec {\n",
      "  input: /aiffel/aiffel/sp_tokenizer/data/korean-english-park.train.ko.temp\n",
      "  input_format: \n",
      "  model_prefix: naver_review_spm\n",
      "  model_type: UNIGRAM\n",
      "  vocab_size: 8000\n",
      "  self_test_sample_size: 0\n",
      "  character_coverage: 0.9995\n",
      "  input_sentence_size: 0\n",
      "  shuffle_input_sentence: 1\n",
      "  seed_sentencepiece_size: 1000000\n",
      "  shrinking_factor: 0.75\n",
      "  max_sentence_length: 4192\n",
      "  num_threads: 16\n",
      "  num_sub_iterations: 2\n",
      "  max_sentencepiece_length: 16\n",
      "  split_by_unicode_script: 1\n",
      "  split_by_number: 1\n",
      "  split_by_whitespace: 1\n",
      "  split_digits: 0\n",
      "  treat_whitespace_as_suffix: 0\n",
      "  allow_whitespace_only_pieces: 0\n",
      "  required_chars: \n",
      "  byte_fallback: 0\n",
      "  vocabulary_output_piece_score: 1\n",
      "  train_extremely_large_corpus: 0\n",
      "  hard_vocab_limit: 1\n",
      "  use_all_vocab: 0\n",
      "  unk_id: 0\n",
      "  bos_id: 1\n",
      "  eos_id: 2\n",
      "  pad_id: -1\n",
      "  unk_piece: <unk>\n",
      "  bos_piece: <s>\n",
      "  eos_piece: </s>\n",
      "  pad_piece: <pad>\n",
      "  unk_surface:  ⁇ \n",
      "}\n",
      "normalizer_spec {\n",
      "  name: nmt_nfkc\n",
      "  add_dummy_prefix: 1\n",
      "  remove_extra_whitespaces: 1\n",
      "  escape_whitespaces: 1\n",
      "  normalization_rule_tsv: \n",
      "}\n",
      "denormalizer_spec {}\n",
      "trainer_interface.cc(329) LOG(INFO) SentenceIterator is not specified. Using MultiFileSentenceIterator.\n",
      "trainer_interface.cc(178) LOG(INFO) Loading corpus: /aiffel/aiffel/sp_tokenizer/data/korean-english-park.train.ko.temp\n",
      "trainer_interface.cc(385) LOG(INFO) Loaded all 182722 sentences\n",
      "trainer_interface.cc(400) LOG(INFO) Adding meta_piece: <unk>\n",
      "trainer_interface.cc(400) LOG(INFO) Adding meta_piece: <s>\n",
      "trainer_interface.cc(400) LOG(INFO) Adding meta_piece: </s>\n",
      "trainer_interface.cc(405) LOG(INFO) Normalizing sentences...\n",
      "trainer_interface.cc(466) LOG(INFO) all chars count=5723670\n",
      "trainer_interface.cc(477) LOG(INFO) Done: 99.9501% characters are covered.\n",
      "trainer_interface.cc(487) LOG(INFO) Alphabet size=1730\n",
      "trainer_interface.cc(488) LOG(INFO) Final character coverage=0.9995\n",
      "trainer_interface.cc(520) LOG(INFO) Done! preprocessed 182722 sentences.\n",
      "unigram_model_trainer.cc(139) LOG(INFO) Making suffix array...\n",
      "unigram_model_trainer.cc(143) LOG(INFO) Extracting frequent sub strings...\n",
      "unigram_model_trainer.cc(194) LOG(INFO) Initialized 317243 seed sentencepieces\n",
      "trainer_interface.cc(526) LOG(INFO) Tokenizing input sentences with whitespace: 182722\n",
      "trainer_interface.cc(537) LOG(INFO) Done! 367780\n",
      "unigram_model_trainer.cc(489) LOG(INFO) Using 367780 sentences for EM training\n",
      "unigram_model_trainer.cc(505) LOG(INFO) EM sub_iter=0 size=160706 obj=15.2936 num_tokens=865530 num_tokens/piece=5.3858\n",
      "unigram_model_trainer.cc(505) LOG(INFO) EM sub_iter=1 size=148888 obj=14.2141 num_tokens=870994 num_tokens/piece=5.84999\n",
      "unigram_model_trainer.cc(505) LOG(INFO) EM sub_iter=0 size=111604 obj=14.3086 num_tokens=907605 num_tokens/piece=8.13237\n",
      "unigram_model_trainer.cc(505) LOG(INFO) EM sub_iter=1 size=111389 obj=14.2551 num_tokens=908040 num_tokens/piece=8.15197\n",
      "unigram_model_trainer.cc(505) LOG(INFO) EM sub_iter=0 size=83538 obj=14.4816 num_tokens=952983 num_tokens/piece=11.4078\n",
      "unigram_model_trainer.cc(505) LOG(INFO) EM sub_iter=1 size=83528 obj=14.4231 num_tokens=953028 num_tokens/piece=11.4097\n",
      "unigram_model_trainer.cc(505) LOG(INFO) EM sub_iter=0 size=62645 obj=14.6744 num_tokens=995933 num_tokens/piece=15.898\n",
      "unigram_model_trainer.cc(505) LOG(INFO) EM sub_iter=1 size=62644 obj=14.6159 num_tokens=995983 num_tokens/piece=15.8991\n",
      "unigram_model_trainer.cc(505) LOG(INFO) EM sub_iter=0 size=46983 obj=14.8978 num_tokens=1042073 num_tokens/piece=22.1798\n",
      "unigram_model_trainer.cc(505) LOG(INFO) EM sub_iter=1 size=46983 obj=14.8359 num_tokens=1042131 num_tokens/piece=22.181\n",
      "unigram_model_trainer.cc(505) LOG(INFO) EM sub_iter=0 size=35237 obj=15.1476 num_tokens=1089235 num_tokens/piece=30.9117\n",
      "unigram_model_trainer.cc(505) LOG(INFO) EM sub_iter=1 size=35237 obj=15.0835 num_tokens=1089265 num_tokens/piece=30.9125\n",
      "unigram_model_trainer.cc(505) LOG(INFO) EM sub_iter=0 size=26427 obj=15.4312 num_tokens=1137641 num_tokens/piece=43.0484\n",
      "unigram_model_trainer.cc(505) LOG(INFO) EM sub_iter=1 size=26427 obj=15.3615 num_tokens=1137658 num_tokens/piece=43.0491\n",
      "unigram_model_trainer.cc(505) LOG(INFO) EM sub_iter=0 size=19820 obj=15.74 num_tokens=1189333 num_tokens/piece=60.0067\n",
      "unigram_model_trainer.cc(505) LOG(INFO) EM sub_iter=1 size=19820 obj=15.6614 num_tokens=1189351 num_tokens/piece=60.0076\n",
      "unigram_model_trainer.cc(505) LOG(INFO) EM sub_iter=0 size=14865 obj=16.0751 num_tokens=1244251 num_tokens/piece=83.7034\n",
      "unigram_model_trainer.cc(505) LOG(INFO) EM sub_iter=1 size=14865 obj=15.9855 num_tokens=1244270 num_tokens/piece=83.7047\n",
      "unigram_model_trainer.cc(505) LOG(INFO) EM sub_iter=0 size=11148 obj=16.4398 num_tokens=1302540 num_tokens/piece=116.841\n",
      "unigram_model_trainer.cc(505) LOG(INFO) EM sub_iter=1 size=11148 obj=16.3394 num_tokens=1302573 num_tokens/piece=116.844\n",
      "unigram_model_trainer.cc(505) LOG(INFO) EM sub_iter=0 size=8800 obj=16.7556 num_tokens=1353552 num_tokens/piece=153.813\n",
      "unigram_model_trainer.cc(505) LOG(INFO) EM sub_iter=1 size=8800 obj=16.6536 num_tokens=1353893 num_tokens/piece=153.851\n",
      "trainer_interface.cc(615) LOG(INFO) Saving model: naver_review_spm.model\n",
      "trainer_interface.cc(626) LOG(INFO) Saving vocabs: naver_review_spm.vocab\n",
      "sentencepiece_trainer.cc(177) LOG(INFO) Running command: --input=/aiffel/aiffel/sp_tokenizer/data/korean-english-park.train.ko.temp --model_type=bpe --model_prefix=naver_review_spm_bpe --vocab_size=8000\n",
      "sentencepiece_trainer.cc(77) LOG(INFO) Starts training with : \n",
      "trainer_spec {\n",
      "  input: /aiffel/aiffel/sp_tokenizer/data/korean-english-park.train.ko.temp\n",
      "  input_format: \n",
      "  model_prefix: naver_review_spm_bpe\n",
      "  model_type: BPE\n",
      "  vocab_size: 8000\n",
      "  self_test_sample_size: 0\n",
      "  character_coverage: 0.9995\n",
      "  input_sentence_size: 0\n",
      "  shuffle_input_sentence: 1\n",
      "  seed_sentencepiece_size: 1000000\n",
      "  shrinking_factor: 0.75\n",
      "  max_sentence_length: 4192\n",
      "  num_threads: 16\n",
      "  num_sub_iterations: 2\n",
      "  max_sentencepiece_length: 16\n",
      "  split_by_unicode_script: 1\n",
      "  split_by_number: 1\n",
      "  split_by_whitespace: 1\n",
      "  split_digits: 0\n",
      "  treat_whitespace_as_suffix: 0\n",
      "  allow_whitespace_only_pieces: 0\n",
      "  required_chars: \n",
      "  byte_fallback: 0\n",
      "  vocabulary_output_piece_score: 1\n",
      "  train_extremely_large_corpus: 0\n",
      "  hard_vocab_limit: 1\n",
      "  use_all_vocab: 0\n",
      "  unk_id: 0\n",
      "  bos_id: 1\n",
      "  eos_id: 2\n",
      "  pad_id: -1\n",
      "  unk_piece: <unk>\n",
      "  bos_piece: <s>\n",
      "  eos_piece: </s>\n",
      "  pad_piece: <pad>\n",
      "  unk_surface:  ⁇ \n",
      "}\n",
      "normalizer_spec {\n",
      "  name: nmt_nfkc\n",
      "  add_dummy_prefix: 1\n",
      "  remove_extra_whitespaces: 1\n",
      "  escape_whitespaces: 1\n",
      "  normalization_rule_tsv: \n",
      "}\n",
      "denormalizer_spec {}\n",
      "trainer_interface.cc(329) LOG(INFO) SentenceIterator is not specified. Using MultiFileSentenceIterator.\n",
      "trainer_interface.cc(178) LOG(INFO) Loading corpus: /aiffel/aiffel/sp_tokenizer/data/korean-english-park.train.ko.temp\n",
      "trainer_interface.cc(385) LOG(INFO) Loaded all 182722 sentences\n",
      "trainer_interface.cc(400) LOG(INFO) Adding meta_piece: <unk>\n",
      "trainer_interface.cc(400) LOG(INFO) Adding meta_piece: <s>\n",
      "trainer_interface.cc(400) LOG(INFO) Adding meta_piece: </s>\n",
      "trainer_interface.cc(405) LOG(INFO) Normalizing sentences...\n",
      "trainer_interface.cc(466) LOG(INFO) all chars count=5723670\n",
      "trainer_interface.cc(477) LOG(INFO) Done: 99.9501% characters are covered.\n",
      "trainer_interface.cc(487) LOG(INFO) Alphabet size=1730\n",
      "trainer_interface.cc(488) LOG(INFO) Final character coverage=0.9995\n",
      "trainer_interface.cc(520) LOG(INFO) Done! preprocessed 182722 sentences.\n",
      "trainer_interface.cc(526) LOG(INFO) Tokenizing input sentences with whitespace: 182722\n",
      "trainer_interface.cc(537) LOG(INFO) Done! 367780\n",
      "bpe_model_trainer.cc(167) LOG(INFO) Updating active symbols. max_freq=83753 min_freq=89\n",
      "bpe_model_trainer.cc(258) LOG(INFO) Added: freq=12055 size=20 all=112474 active=10754 piece=▁재미\n",
      "bpe_model_trainer.cc(258) LOG(INFO) Added: freq=9441 size=40 all=116269 active=14549 piece=▁안\n",
      "bpe_model_trainer.cc(258) LOG(INFO) Added: freq=6588 size=60 all=120175 active=18455 piece=▁모\n",
      "bpe_model_trainer.cc(258) LOG(INFO) Added: freq=5446 size=80 all=124878 active=23158 piece=배우\n",
      "bpe_model_trainer.cc(258) LOG(INFO) Added: freq=4475 size=100 all=127684 active=25964 piece=▁느\n",
      "bpe_model_trainer.cc(167) LOG(INFO) Updating active symbols. max_freq=4461 min_freq=75\n",
      "bpe_model_trainer.cc(258) LOG(INFO) Added: freq=3880 size=120 all=131208 active=9874 piece=▁것\n",
      "bpe_model_trainer.cc(258) LOG(INFO) Added: freq=3413 size=140 all=133841 active=12507 piece=;;\n",
      "bpe_model_trainer.cc(258) LOG(INFO) Added: freq=3076 size=160 all=136487 active=15153 piece=▁고\n",
      "bpe_model_trainer.cc(258) LOG(INFO) Added: freq=2760 size=180 all=138737 active=17403 piece=!!!\n",
      "bpe_model_trainer.cc(258) LOG(INFO) Added: freq=2589 size=200 all=141182 active=19848 piece=▁바\n",
      "bpe_model_trainer.cc(167) LOG(INFO) Updating active symbols. max_freq=2580 min_freq=66\n",
      "bpe_model_trainer.cc(258) LOG(INFO) Added: freq=2316 size=220 all=143832 active=9591 piece=적이\n",
      "bpe_model_trainer.cc(258) LOG(INFO) Added: freq=2169 size=240 all=146335 active=12094 piece=▁잼\n",
      "bpe_model_trainer.cc(258) LOG(INFO) Added: freq=1999 size=260 all=148790 active=14549 piece=▁모르\n",
      "bpe_model_trainer.cc(258) LOG(INFO) Added: freq=1883 size=280 all=151132 active=16891 piece=▁음\n",
      "bpe_model_trainer.cc(258) LOG(INFO) Added: freq=1778 size=300 all=153530 active=19288 piece=▁동\n",
      "bpe_model_trainer.cc(167) LOG(INFO) Updating active symbols. max_freq=1777 min_freq=59\n",
      "bpe_model_trainer.cc(258) LOG(INFO) Added: freq=1662 size=320 all=156084 active=10136 piece=만에\n",
      "bpe_model_trainer.cc(258) LOG(INFO) Added: freq=1559 size=340 all=157942 active=11994 piece=진짜\n",
      "bpe_model_trainer.cc(258) LOG(INFO) Added: freq=1442 size=360 all=160390 active=14442 piece=사람\n",
      "bpe_model_trainer.cc(258) LOG(INFO) Added: freq=1403 size=380 all=162417 active=16469 piece=아서\n",
      "bpe_model_trainer.cc(258) LOG(INFO) Added: freq=1352 size=400 all=164129 active=18181 piece=▁..\n",
      "bpe_model_trainer.cc(167) LOG(INFO) Updating active symbols. max_freq=1352 min_freq=54\n",
      "bpe_model_trainer.cc(258) LOG(INFO) Added: freq=1293 size=420 all=166049 active=10108 piece=하면\n",
      "bpe_model_trainer.cc(258) LOG(INFO) Added: freq=1228 size=440 all=167817 active=11876 piece=▁원작\n",
      "bpe_model_trainer.cc(258) LOG(INFO) Added: freq=1180 size=460 all=169561 active=13620 piece=▁머\n",
      "bpe_model_trainer.cc(258) LOG(INFO) Added: freq=1120 size=480 all=171110 active=15169 piece=▁전개\n",
      "bpe_model_trainer.cc(258) LOG(INFO) Added: freq=1080 size=500 all=173125 active=17184 piece=▁추천\n",
      "bpe_model_trainer.cc(167) LOG(INFO) Updating active symbols. max_freq=1077 min_freq=50\n",
      "bpe_model_trainer.cc(258) LOG(INFO) Added: freq=1036 size=520 all=174525 active=10005 piece=▁뭔가\n",
      "bpe_model_trainer.cc(258) LOG(INFO) Added: freq=991 size=540 all=175535 active=11015 piece=▁잔잔\n",
      "bpe_model_trainer.cc(258) LOG(INFO) Added: freq=958 size=560 all=177639 active=13119 piece=하네\n",
      "bpe_model_trainer.cc(258) LOG(INFO) Added: freq=929 size=580 all=179774 active=15254 piece=▁즐\n",
      "bpe_model_trainer.cc(258) LOG(INFO) Added: freq=909 size=600 all=181456 active=16936 piece=수가\n",
      "bpe_model_trainer.cc(167) LOG(INFO) Updating active symbols. max_freq=909 min_freq=47\n",
      "bpe_model_trainer.cc(258) LOG(INFO) Added: freq=885 size=620 all=183960 active=11431 piece=▁아쉽\n",
      "bpe_model_trainer.cc(258) LOG(INFO) Added: freq=853 size=640 all=185480 active=12951 piece=해요\n",
      "bpe_model_trainer.cc(258) LOG(INFO) Added: freq=826 size=660 all=187832 active=15303 piece=▁아름다운\n",
      "bpe_model_trainer.cc(258) LOG(INFO) Added: freq=797 size=680 all=189349 active=16820 piece=리스\n",
      "bpe_model_trainer.cc(258) LOG(INFO) Added: freq=775 size=700 all=191121 active=18592 piece=싶다\n",
      "bpe_model_trainer.cc(167) LOG(INFO) Updating active symbols. max_freq=775 min_freq=43\n",
      "bpe_model_trainer.cc(258) LOG(INFO) Added: freq=752 size=720 all=193027 active=11403 piece=▁^^\n",
      "bpe_model_trainer.cc(258) LOG(INFO) Added: freq=727 size=740 all=194099 active=12475 piece=▁중간\n",
      "bpe_model_trainer.cc(258) LOG(INFO) Added: freq=710 size=760 all=195717 active=14093 piece=▁무서\n",
      "bpe_model_trainer.cc(258) LOG(INFO) Added: freq=691 size=780 all=197054 active=15430 piece=▁나도\n",
      "bpe_model_trainer.cc(258) LOG(INFO) Added: freq=678 size=800 all=198520 active=16896 piece=▁언제\n",
      "bpe_model_trainer.cc(167) LOG(INFO) Updating active symbols. max_freq=678 min_freq=41\n",
      "bpe_model_trainer.cc(258) LOG(INFO) Added: freq=662 size=820 all=200549 active=11903 piece=▁산\n",
      "bpe_model_trainer.cc(258) LOG(INFO) Added: freq=649 size=840 all=201472 active=12826 piece=▁각\n",
      "bpe_model_trainer.cc(258) LOG(INFO) Added: freq=635 size=860 all=202393 active=13747 piece=▁황\n",
      "bpe_model_trainer.cc(258) LOG(INFO) Added: freq=624 size=880 all=203944 active=15298 piece=▁보면서\n",
      "bpe_model_trainer.cc(258) LOG(INFO) Added: freq=608 size=900 all=204910 active=16264 piece=▁지루함\n",
      "bpe_model_trainer.cc(167) LOG(INFO) Updating active symbols. max_freq=607 min_freq=39\n",
      "bpe_model_trainer.cc(258) LOG(INFO) Added: freq=593 size=920 all=205977 active=11288 piece=▁답답\n",
      "bpe_model_trainer.cc(258) LOG(INFO) Added: freq=579 size=940 all=207214 active=12525 piece=▁특히\n",
      "bpe_model_trainer.cc(258) LOG(INFO) Added: freq=570 size=960 all=208748 active=14059 piece=▁엔딩\n",
      "bpe_model_trainer.cc(258) LOG(INFO) Added: freq=555 size=980 all=209911 active=15222 piece=▁얼마\n",
      "bpe_model_trainer.cc(258) LOG(INFO) Added: freq=541 size=1000 all=211761 active=17072 piece=▁극장에서\n",
      "bpe_model_trainer.cc(167) LOG(INFO) Updating active symbols. max_freq=540 min_freq=37\n",
      "bpe_model_trainer.cc(258) LOG(INFO) Added: freq=526 size=1020 all=212963 active=11776 piece=▁시청\n",
      "bpe_model_trainer.cc(258) LOG(INFO) Added: freq=512 size=1040 all=213901 active=12714 piece=있고\n",
      "bpe_model_trainer.cc(258) LOG(INFO) Added: freq=502 size=1060 all=215098 active=13911 piece=▁영화라\n",
      "bpe_model_trainer.cc(258) LOG(INFO) Added: freq=490 size=1080 all=216619 active=15432 piece=▁폭\n",
      "bpe_model_trainer.cc(258) LOG(INFO) Added: freq=478 size=1100 all=218052 active=16865 piece=▁안되는\n",
      "bpe_model_trainer.cc(167) LOG(INFO) Updating active symbols. max_freq=477 min_freq=36\n",
      "bpe_model_trainer.cc(258) LOG(INFO) Added: freq=466 size=1120 all=219254 active=12081 piece=▁감동도\n",
      "bpe_model_trainer.cc(258) LOG(INFO) Added: freq=459 size=1140 all=220211 active=13038 piece=▁있고\n",
      "bpe_model_trainer.cc(258) LOG(INFO) Added: freq=448 size=1160 all=221200 active=14027 piece=▁광\n",
      "bpe_model_trainer.cc(258) LOG(INFO) Added: freq=442 size=1180 all=222318 active=15145 piece=▁기억이\n",
      "bpe_model_trainer.cc(258) LOG(INFO) Added: freq=431 size=1200 all=223426 active=16253 piece=▁여기\n",
      "bpe_model_trainer.cc(167) LOG(INFO) Updating active symbols. max_freq=431 min_freq=34\n",
      "bpe_model_trainer.cc(258) LOG(INFO) Added: freq=423 size=1220 all=224495 active=12195 piece=린다\n",
      "bpe_model_trainer.cc(258) LOG(INFO) Added: freq=414 size=1240 all=226002 active=13701 piece=보게\n",
      "bpe_model_trainer.cc(258) LOG(INFO) Added: freq=410 size=1260 all=227116 active=14815 piece=▁영화관에서\n",
      "bpe_model_trainer.cc(258) LOG(INFO) Added: freq=402 size=1280 all=228156 active=15855 piece=전개\n",
      "bpe_model_trainer.cc(258) LOG(INFO) Added: freq=395 size=1300 all=229532 active=17231 piece=▁재미는\n",
      "bpe_model_trainer.cc(167) LOG(INFO) Updating active symbols. max_freq=394 min_freq=33\n",
      "bpe_model_trainer.cc(258) LOG(INFO) Added: freq=387 size=1320 all=230793 active=12722 piece=▁두번\n",
      "bpe_model_trainer.cc(258) LOG(INFO) Added: freq=379 size=1340 all=231586 active=13515 piece=수준\n",
      "bpe_model_trainer.cc(258) LOG(INFO) Added: freq=373 size=1360 all=232921 active=14850 piece=▁30\n",
      "bpe_model_trainer.cc(258) LOG(INFO) Added: freq=367 size=1380 all=234043 active=15972 piece=▁볼만한\n",
      "bpe_model_trainer.cc(258) LOG(INFO) Added: freq=359 size=1400 all=235232 active=17161 piece=▁봣\n",
      "bpe_model_trainer.cc(167) LOG(INFO) Updating active symbols. max_freq=359 min_freq=32\n",
      "bpe_model_trainer.cc(258) LOG(INFO) Added: freq=352 size=1420 all=236291 active=12784 piece=▁온\n",
      "bpe_model_trainer.cc(258) LOG(INFO) Added: freq=346 size=1440 all=237536 active=14029 piece=▁봐서\n",
      "bpe_model_trainer.cc(258) LOG(INFO) Added: freq=340 size=1460 all=238565 active=15058 piece=▁O\n",
      "bpe_model_trainer.cc(258) LOG(INFO) Added: freq=335 size=1480 all=240076 active=16569 piece=▁흠\n",
      "bpe_model_trainer.cc(258) LOG(INFO) Added: freq=329 size=1500 all=240758 active=17251 piece=▁압\n",
      "bpe_model_trainer.cc(167) LOG(INFO) Updating active symbols. max_freq=329 min_freq=31\n",
      "bpe_model_trainer.cc(258) LOG(INFO) Added: freq=324 size=1520 all=241705 active=12971 piece=음악\n",
      "bpe_model_trainer.cc(258) LOG(INFO) Added: freq=318 size=1540 all=242692 active=13958 piece=▁빈\n",
      "bpe_model_trainer.cc(258) LOG(INFO) Added: freq=314 size=1560 all=243809 active=15075 piece=▁같은데\n",
      "bpe_model_trainer.cc(258) LOG(INFO) Added: freq=309 size=1580 all=244656 active=15922 piece=봐서\n",
      "bpe_model_trainer.cc(258) LOG(INFO) Added: freq=306 size=1600 all=245942 active=17208 piece=▁상영\n",
      "bpe_model_trainer.cc(167) LOG(INFO) Updating active symbols. max_freq=305 min_freq=30\n",
      "bpe_model_trainer.cc(258) LOG(INFO) Added: freq=300 size=1620 all=246892 active=13189 piece=▁필\n",
      "bpe_model_trainer.cc(258) LOG(INFO) Added: freq=297 size=1640 all=247880 active=14177 piece=▁ᄃᄃ\n",
      "bpe_model_trainer.cc(258) LOG(INFO) Added: freq=292 size=1660 all=249006 active=15303 piece=▁머리\n",
      "bpe_model_trainer.cc(258) LOG(INFO) Added: freq=286 size=1680 all=250244 active=16541 piece=▁만점\n",
      "bpe_model_trainer.cc(258) LOG(INFO) Added: freq=284 size=1700 all=250935 active=17232 piece=▁한마디로\n",
      "bpe_model_trainer.cc(167) LOG(INFO) Updating active symbols. max_freq=283 min_freq=29\n",
      "bpe_model_trainer.cc(258) LOG(INFO) Added: freq=280 size=1720 all=251846 active=13453 piece=편의\n",
      "bpe_model_trainer.cc(258) LOG(INFO) Added: freq=276 size=1740 all=252987 active=14594 piece=▁참신\n",
      "bpe_model_trainer.cc(258) LOG(INFO) Added: freq=272 size=1760 all=254033 active=15640 piece=사회\n",
      "bpe_model_trainer.cc(258) LOG(INFO) Added: freq=269 size=1780 all=255170 active=16777 piece=▁영웅\n",
      "bpe_model_trainer.cc(258) LOG(INFO) Added: freq=266 size=1800 all=255889 active=17496 piece=났다\n",
      "bpe_model_trainer.cc(167) LOG(INFO) Updating active symbols. max_freq=266 min_freq=28\n",
      "bpe_model_trainer.cc(258) LOG(INFO) Added: freq=262 size=1820 all=256928 active=13775 piece=▁선택\n",
      "bpe_model_trainer.cc(258) LOG(INFO) Added: freq=259 size=1840 all=257719 active=14565 piece=▁저질\n",
      "bpe_model_trainer.cc(258) LOG(INFO) Added: freq=256 size=1860 all=258441 active=15287 piece=▁재미없어\n",
      "bpe_model_trainer.cc(258) LOG(INFO) Added: freq=252 size=1880 all=259389 active=16235 piece=▁카메\n",
      "bpe_model_trainer.cc(258) LOG(INFO) Added: freq=250 size=1900 all=260007 active=16853 piece=▁아이들이\n",
      "bpe_model_trainer.cc(167) LOG(INFO) Updating active symbols. max_freq=249 min_freq=27\n",
      "bpe_model_trainer.cc(258) LOG(INFO) Added: freq=246 size=1920 all=260526 active=13506 piece=▁진지\n",
      "bpe_model_trainer.cc(258) LOG(INFO) Added: freq=243 size=1940 all=261685 active=14665 piece=▁소중\n",
      "bpe_model_trainer.cc(258) LOG(INFO) Added: freq=240 size=1960 all=262285 active=15265 piece=▁청춘\n",
      "bpe_model_trainer.cc(258) LOG(INFO) Added: freq=236 size=1980 all=263201 active=16181 piece=▁배우가\n",
      "bpe_model_trainer.cc(258) LOG(INFO) Added: freq=232 size=2000 all=264169 active=17149 piece=나면\n",
      "bpe_model_trainer.cc(167) LOG(INFO) Updating active symbols. max_freq=232 min_freq=26\n",
      "bpe_model_trainer.cc(258) LOG(INFO) Added: freq=230 size=2020 all=265169 active=14169 piece=▁희망\n",
      "bpe_model_trainer.cc(258) LOG(INFO) Added: freq=227 size=2040 all=265895 active=14895 piece=좋고\n",
      "bpe_model_trainer.cc(258) LOG(INFO) Added: freq=225 size=2060 all=266950 active=15950 piece=▁시간낭비\n",
      "bpe_model_trainer.cc(258) LOG(INFO) Added: freq=222 size=2080 all=267839 active=16839 piece=아먹\n",
      "bpe_model_trainer.cc(258) LOG(INFO) Added: freq=219 size=2100 all=268783 active=17783 piece=▁말고\n",
      "bpe_model_trainer.cc(167) LOG(INFO) Updating active symbols. max_freq=219 min_freq=25\n",
      "bpe_model_trainer.cc(258) LOG(INFO) Added: freq=217 size=2120 all=269460 active=14110 piece=였던\n",
      "bpe_model_trainer.cc(258) LOG(INFO) Added: freq=215 size=2140 all=270597 active=15247 piece=▁감동적이고\n",
      "bpe_model_trainer.cc(258) LOG(INFO) Added: freq=212 size=2160 all=271242 active=15892 piece=▁만큼\n",
      "bpe_model_trainer.cc(258) LOG(INFO) Added: freq=209 size=2180 all=272076 active=16726 piece=번째\n",
      "bpe_model_trainer.cc(258) LOG(INFO) Added: freq=207 size=2200 all=273173 active=17823 piece=내요\n",
      "bpe_model_trainer.cc(167) LOG(INFO) Updating active symbols. max_freq=207 min_freq=25\n",
      "bpe_model_trainer.cc(258) LOG(INFO) Added: freq=205 size=2220 all=273958 active=14343 piece=▁그려\n",
      "bpe_model_trainer.cc(258) LOG(INFO) Added: freq=203 size=2240 all=274738 active=15123 piece=만의\n",
      "bpe_model_trainer.cc(258) LOG(INFO) Added: freq=201 size=2260 all=275397 active=15782 piece=▁슬프다\n",
      "bpe_model_trainer.cc(258) LOG(INFO) Added: freq=199 size=2280 all=276399 active=16784 piece=었네요\n",
      "bpe_model_trainer.cc(258) LOG(INFO) Added: freq=197 size=2300 all=277492 active=17877 piece=할듯\n",
      "bpe_model_trainer.cc(167) LOG(INFO) Updating active symbols. max_freq=197 min_freq=24\n",
      "bpe_model_trainer.cc(258) LOG(INFO) Added: freq=195 size=2320 all=277994 active=14293 piece=스는\n",
      "bpe_model_trainer.cc(258) LOG(INFO) Added: freq=194 size=2340 all=279156 active=15455 piece=▁귀신\n",
      "bpe_model_trainer.cc(258) LOG(INFO) Added: freq=193 size=2360 all=279741 active=16040 piece=보고싶\n",
      "bpe_model_trainer.cc(258) LOG(INFO) Added: freq=191 size=2380 all=280485 active=16784 piece=▁기대를\n",
      "bpe_model_trainer.cc(258) LOG(INFO) Added: freq=190 size=2400 all=281093 active=17392 piece=▁재밌었는데\n",
      "bpe_model_trainer.cc(167) LOG(INFO) Updating active symbols. max_freq=189 min_freq=23\n",
      "bpe_model_trainer.cc(258) LOG(INFO) Added: freq=188 size=2420 all=281982 active=14937 piece=지않는\n",
      "bpe_model_trainer.cc(258) LOG(INFO) Added: freq=186 size=2440 all=282904 active=15859 piece=▁시원\n",
      "bpe_model_trainer.cc(258) LOG(INFO) Added: freq=184 size=2460 all=283714 active=16669 piece=티비\n",
      "bpe_model_trainer.cc(258) LOG(INFO) Added: freq=182 size=2480 all=284604 active=17559 piece=평점이\n",
      "bpe_model_trainer.cc(258) LOG(INFO) Added: freq=181 size=2500 all=285719 active=18674 piece=▁세상에\n",
      "bpe_model_trainer.cc(167) LOG(INFO) Updating active symbols. max_freq=181 min_freq=23\n",
      "bpe_model_trainer.cc(258) LOG(INFO) Added: freq=180 size=2520 all=286344 active=14903 piece=▁같습니다\n",
      "bpe_model_trainer.cc(258) LOG(INFO) Added: freq=177 size=2540 all=286748 active=15307 piece=른다\n",
      "bpe_model_trainer.cc(258) LOG(INFO) Added: freq=176 size=2560 all=287411 active=15970 piece=▁봐야할\n",
      "bpe_model_trainer.cc(258) LOG(INFO) Added: freq=175 size=2580 all=288217 active=16776 piece=▁안하고\n",
      "bpe_model_trainer.cc(258) LOG(INFO) Added: freq=173 size=2600 all=288849 active=17408 piece=ou\n",
      "bpe_model_trainer.cc(167) LOG(INFO) Updating active symbols. max_freq=173 min_freq=22\n",
      "bpe_model_trainer.cc(258) LOG(INFO) Added: freq=172 size=2620 all=289575 active=15129 piece=제목\n",
      "bpe_model_trainer.cc(258) LOG(INFO) Added: freq=171 size=2640 all=290057 active=15611 piece=순간\n",
      "bpe_model_trainer.cc(258) LOG(INFO) Added: freq=170 size=2660 all=290630 active=16184 piece=▁하나하나\n",
      "bpe_model_trainer.cc(258) LOG(INFO) Added: freq=168 size=2680 all=291424 active=16978 piece=▁제목이\n",
      "bpe_model_trainer.cc(258) LOG(INFO) Added: freq=166 size=2700 all=292026 active=17580 piece=▁폐\n",
      "bpe_model_trainer.cc(167) LOG(INFO) Updating active symbols. max_freq=166 min_freq=22\n",
      "bpe_model_trainer.cc(258) LOG(INFO) Added: freq=165 size=2720 all=292529 active=15080 piece=▁아나\n",
      "bpe_model_trainer.cc(258) LOG(INFO) Added: freq=163 size=2740 all=293608 active=16159 piece=▁덜\n",
      "bpe_model_trainer.cc(258) LOG(INFO) Added: freq=162 size=2760 all=294381 active=16932 piece=▁소녀\n",
      "bpe_model_trainer.cc(258) LOG(INFO) Added: freq=160 size=2780 all=294964 active=17515 piece=▁녹\n",
      "bpe_model_trainer.cc(258) LOG(INFO) Added: freq=159 size=2800 all=295899 active=18450 piece=의미\n",
      "bpe_model_trainer.cc(167) LOG(INFO) Updating active symbols. max_freq=159 min_freq=21\n",
      "bpe_model_trainer.cc(258) LOG(INFO) Added: freq=158 size=2820 all=296560 active=15368 piece=▁\"\"\"\n",
      "bpe_model_trainer.cc(258) LOG(INFO) Added: freq=157 size=2840 all=297084 active=15892 piece=▁잔잔하고\n",
      "bpe_model_trainer.cc(258) LOG(INFO) Added: freq=156 size=2860 all=297808 active=16616 piece=▁진심으로\n",
      "bpe_model_trainer.cc(258) LOG(INFO) Added: freq=153 size=2880 all=298489 active=17297 piece=▁닥\n",
      "bpe_model_trainer.cc(258) LOG(INFO) Added: freq=152 size=2900 all=299092 active=17900 piece=그인\n",
      "bpe_model_trainer.cc(167) LOG(INFO) Updating active symbols. max_freq=152 min_freq=21\n",
      "bpe_model_trainer.cc(258) LOG(INFO) Added: freq=151 size=2920 all=299791 active=15629 piece=▁나은\n",
      "bpe_model_trainer.cc(258) LOG(INFO) Added: freq=150 size=2940 all=300619 active=16457 piece=▁볼게\n",
      "bpe_model_trainer.cc(258) LOG(INFO) Added: freq=149 size=2960 all=301379 active=17217 piece=▁있네요\n",
      "bpe_model_trainer.cc(258) LOG(INFO) Added: freq=147 size=2980 all=301877 active=17715 piece=와는\n",
      "bpe_model_trainer.cc(258) LOG(INFO) Added: freq=146 size=3000 all=302613 active=18451 piece=▁쉬\n",
      "bpe_model_trainer.cc(167) LOG(INFO) Updating active symbols. max_freq=146 min_freq=20\n",
      "bpe_model_trainer.cc(258) LOG(INFO) Added: freq=145 size=3020 all=303257 active=15738 piece=명의\n",
      "bpe_model_trainer.cc(258) LOG(INFO) Added: freq=144 size=3040 all=303807 active=16287 piece=▁꽝\n",
      "bpe_model_trainer.cc(258) LOG(INFO) Added: freq=143 size=3060 all=304489 active=16969 piece=걸로\n",
      "bpe_model_trainer.cc(258) LOG(INFO) Added: freq=143 size=3080 all=305284 active=17764 piece=▁의외로\n",
      "bpe_model_trainer.cc(258) LOG(INFO) Added: freq=141 size=3100 all=305680 active=18160 piece=▁앤\n",
      "bpe_model_trainer.cc(167) LOG(INFO) Updating active symbols. max_freq=141 min_freq=20\n",
      "bpe_model_trainer.cc(258) LOG(INFO) Added: freq=141 size=3120 all=306474 active=16052 piece=▁생각나\n",
      "bpe_model_trainer.cc(258) LOG(INFO) Added: freq=140 size=3140 all=307239 active=16817 piece=더라면\n",
      "bpe_model_trainer.cc(258) LOG(INFO) Added: freq=139 size=3160 all=307876 active=17454 piece=급영화\n",
      "bpe_model_trainer.cc(258) LOG(INFO) Added: freq=138 size=3180 all=308373 active=17951 piece=▁스크\n",
      "bpe_model_trainer.cc(258) LOG(INFO) Added: freq=137 size=3200 all=308797 active=18375 piece=▁특수\n",
      "bpe_model_trainer.cc(167) LOG(INFO) Updating active symbols. max_freq=137 min_freq=20\n",
      "bpe_model_trainer.cc(258) LOG(INFO) Added: freq=136 size=3220 all=309481 active=16109 piece=▁혹시\n",
      "bpe_model_trainer.cc(258) LOG(INFO) Added: freq=134 size=3240 all=310157 active=16785 piece=▁뜻\n",
      "bpe_model_trainer.cc(258) LOG(INFO) Added: freq=133 size=3260 all=310993 active=17621 piece=▁깨닫\n",
      "bpe_model_trainer.cc(258) LOG(INFO) Added: freq=132 size=3280 all=311513 active=18141 piece=던지\n",
      "bpe_model_trainer.cc(258) LOG(INFO) Added: freq=131 size=3300 all=312074 active=18702 piece=독교\n",
      "bpe_model_trainer.cc(167) LOG(INFO) Updating active symbols. max_freq=131 min_freq=19\n",
      "bpe_model_trainer.cc(258) LOG(INFO) Added: freq=130 size=3320 all=312687 active=16175 piece=노래\n",
      "bpe_model_trainer.cc(258) LOG(INFO) Added: freq=130 size=3340 all=313454 active=16942 piece=▁유치하다\n",
      "bpe_model_trainer.cc(258) LOG(INFO) Added: freq=129 size=3360 all=314273 active=17761 piece=▁음악과\n",
      "bpe_model_trainer.cc(258) LOG(INFO) Added: freq=127 size=3380 all=314885 active=18373 piece=▁아픔\n",
      "bpe_model_trainer.cc(258) LOG(INFO) Added: freq=126 size=3400 all=315573 active=19061 piece=▁새롭\n",
      "bpe_model_trainer.cc(167) LOG(INFO) Updating active symbols. max_freq=126 min_freq=19\n",
      "bpe_model_trainer.cc(258) LOG(INFO) Added: freq=125 size=3420 all=316294 active=16480 piece=내용이\n",
      "bpe_model_trainer.cc(258) LOG(INFO) Added: freq=124 size=3440 all=316662 active=16848 piece=▁오바\n",
      "bpe_model_trainer.cc(258) LOG(INFO) Added: freq=123 size=3460 all=317067 active=17253 piece=▁고마\n",
      "bpe_model_trainer.cc(258) LOG(INFO) Added: freq=122 size=3480 all=317567 active=17753 piece=버그\n",
      "bpe_model_trainer.cc(258) LOG(INFO) Added: freq=122 size=3500 all=318216 active=18402 piece=▁부족하다\n",
      "bpe_model_trainer.cc(167) LOG(INFO) Updating active symbols. max_freq=121 min_freq=19\n",
      "bpe_model_trainer.cc(258) LOG(INFO) Added: freq=121 size=3520 all=318818 active=16510 piece=▁더불어\n",
      "bpe_model_trainer.cc(258) LOG(INFO) Added: freq=120 size=3540 all=319195 active=16887 piece=셔서\n",
      "bpe_model_trainer.cc(258) LOG(INFO) Added: freq=120 size=3560 all=319869 active=17561 piece=▁시간가는줄\n",
      "bpe_model_trainer.cc(258) LOG(INFO) Added: freq=118 size=3580 all=320634 active=18326 piece=저도\n",
      "bpe_model_trainer.cc(258) LOG(INFO) Added: freq=118 size=3600 all=321084 active=18776 piece=▁다큐멘터리\n",
      "bpe_model_trainer.cc(167) LOG(INFO) Updating active symbols. max_freq=118 min_freq=18\n",
      "bpe_model_trainer.cc(258) LOG(INFO) Added: freq=117 size=3620 all=321640 active=16581 piece=년만에\n",
      "bpe_model_trainer.cc(258) LOG(INFO) Added: freq=116 size=3640 all=322475 active=17416 piece=자나\n",
      "bpe_model_trainer.cc(258) LOG(INFO) Added: freq=115 size=3660 all=322914 active=17855 piece=▁e\n",
      "bpe_model_trainer.cc(258) LOG(INFO) Added: freq=115 size=3680 all=323344 active=18285 piece=▁재밌다고\n",
      "bpe_model_trainer.cc(258) LOG(INFO) Added: freq=114 size=3700 all=323840 active=18781 piece=▁있어야\n",
      "bpe_model_trainer.cc(167) LOG(INFO) Updating active symbols. max_freq=114 min_freq=18\n",
      "bpe_model_trainer.cc(258) LOG(INFO) Added: freq=113 size=3720 all=324394 active=16734 piece=▁기대했\n",
      "bpe_model_trainer.cc(258) LOG(INFO) Added: freq=112 size=3740 all=325209 active=17549 piece=임스\n",
      "bpe_model_trainer.cc(258) LOG(INFO) Added: freq=112 size=3760 all=325719 active=18059 piece=▁생각하고\n",
      "bpe_model_trainer.cc(258) LOG(INFO) Added: freq=111 size=3780 all=326278 active=18618 piece=▁어지\n",
      "bpe_model_trainer.cc(258) LOG(INFO) Added: freq=110 size=3800 all=326733 active=19073 piece=으니까\n",
      "bpe_model_trainer.cc(167) LOG(INFO) Updating active symbols. max_freq=110 min_freq=18\n",
      "bpe_model_trainer.cc(258) LOG(INFO) Added: freq=109 size=3820 all=327110 active=16659 piece=▁아동\n",
      "bpe_model_trainer.cc(258) LOG(INFO) Added: freq=108 size=3840 all=327455 active=17004 piece=어리\n",
      "bpe_model_trainer.cc(258) LOG(INFO) Added: freq=108 size=3860 all=328192 active=17741 piece=▁장면에서\n",
      "bpe_model_trainer.cc(258) LOG(INFO) Added: freq=107 size=3880 all=329017 active=18566 piece=▁완전히\n",
      "bpe_model_trainer.cc(258) LOG(INFO) Added: freq=106 size=3900 all=329467 active=19016 piece=▁봤을\n",
      "bpe_model_trainer.cc(167) LOG(INFO) Updating active symbols. max_freq=106 min_freq=17\n",
      "bpe_model_trainer.cc(258) LOG(INFO) Added: freq=105 size=3920 all=329847 active=16837 piece=냐고\n",
      "bpe_model_trainer.cc(258) LOG(INFO) Added: freq=105 size=3940 all=330708 active=17698 piece=으로써\n",
      "bpe_model_trainer.cc(258) LOG(INFO) Added: freq=104 size=3960 all=331322 active=18312 piece=▁류승\n",
      "bpe_model_trainer.cc(258) LOG(INFO) Added: freq=103 size=3980 all=331697 active=18687 piece=만다\n",
      "bpe_model_trainer.cc(258) LOG(INFO) Added: freq=103 size=4000 all=332299 active=19289 piece=▁뿐이다\n",
      "bpe_model_trainer.cc(167) LOG(INFO) Updating active symbols. max_freq=103 min_freq=17\n",
      "bpe_model_trainer.cc(258) LOG(INFO) Added: freq=102 size=4020 all=332815 active=17130 piece=따위\n",
      "bpe_model_trainer.cc(258) LOG(INFO) Added: freq=102 size=4040 all=333390 active=17705 piece=점만점\n",
      "bpe_model_trainer.cc(258) LOG(INFO) Added: freq=102 size=4060 all=333770 active=18085 piece=▁재미있습니다\n",
      "bpe_model_trainer.cc(258) LOG(INFO) Added: freq=101 size=4080 all=334369 active=18684 piece=것같은\n",
      "bpe_model_trainer.cc(258) LOG(INFO) Added: freq=100 size=4100 all=334922 active=19237 piece=라기\n",
      "bpe_model_trainer.cc(167) LOG(INFO) Updating active symbols. max_freq=100 min_freq=17\n",
      "bpe_model_trainer.cc(258) LOG(INFO) Added: freq=100 size=4120 all=335550 active=17336 piece=장면은\n",
      "bpe_model_trainer.cc(258) LOG(INFO) Added: freq=100 size=4140 all=335751 active=17537 piece=▁크리스마스\n",
      "bpe_model_trainer.cc(258) LOG(INFO) Added: freq=99 size=4160 all=336384 active=18170 piece=▁작위\n",
      "bpe_model_trainer.cc(258) LOG(INFO) Added: freq=99 size=4180 all=336794 active=18580 piece=▁어설프고\n",
      "bpe_model_trainer.cc(258) LOG(INFO) Added: freq=98 size=4200 all=337428 active=19214 piece=▁학생\n",
      "bpe_model_trainer.cc(167) LOG(INFO) Updating active symbols. max_freq=98 min_freq=17\n",
      "bpe_model_trainer.cc(258) LOG(INFO) Added: freq=97 size=4220 all=338004 active=17417 piece=▁블록\n",
      "bpe_model_trainer.cc(258) LOG(INFO) Added: freq=97 size=4240 all=338373 active=17786 piece=▁무엇인지\n",
      "bpe_model_trainer.cc(258) LOG(INFO) Added: freq=96 size=4260 all=339010 active=18423 piece=▁높게\n",
      "bpe_model_trainer.cc(258) LOG(INFO) Added: freq=96 size=4280 all=339329 active=18742 piece=보는내내\n",
      "bpe_model_trainer.cc(258) LOG(INFO) Added: freq=95 size=4300 all=339874 active=19287 piece=인과\n",
      "bpe_model_trainer.cc(167) LOG(INFO) Updating active symbols. max_freq=95 min_freq=16\n",
      "bpe_model_trainer.cc(258) LOG(INFO) Added: freq=95 size=4320 all=340179 active=17253 piece=▁돋보이는\n",
      "bpe_model_trainer.cc(258) LOG(INFO) Added: freq=94 size=4340 all=340653 active=17727 piece=▁오빠\n",
      "bpe_model_trainer.cc(258) LOG(INFO) Added: freq=94 size=4360 all=341020 active=18094 piece=▁만들었는지\n",
      "bpe_model_trainer.cc(258) LOG(INFO) Added: freq=93 size=4380 all=341562 active=18636 piece=▁어쩜\n",
      "bpe_model_trainer.cc(258) LOG(INFO) Added: freq=92 size=4400 all=341911 active=18985 piece=▁뿌\n",
      "bpe_model_trainer.cc(167) LOG(INFO) Updating active symbols. max_freq=92 min_freq=16\n",
      "bpe_model_trainer.cc(258) LOG(INFO) Added: freq=92 size=4420 all=342662 active=17826 piece=시키는\n",
      "bpe_model_trainer.cc(258) LOG(INFO) Added: freq=91 size=4440 all=343043 active=18207 piece=번은\n",
      "bpe_model_trainer.cc(258) LOG(INFO) Added: freq=91 size=4460 all=343699 active=18863 piece=전개가\n",
      "bpe_model_trainer.cc(258) LOG(INFO) Added: freq=90 size=4480 all=343882 active=19046 piece=▁h\n",
      "bpe_model_trainer.cc(258) LOG(INFO) Added: freq=90 size=4500 all=344574 active=19738 piece=▁4.4\n",
      "bpe_model_trainer.cc(167) LOG(INFO) Updating active symbols. max_freq=90 min_freq=16\n",
      "bpe_model_trainer.cc(258) LOG(INFO) Added: freq=89 size=4520 all=344901 active=17553 piece=신분\n",
      "bpe_model_trainer.cc(258) LOG(INFO) Added: freq=89 size=4540 all=345511 active=18163 piece=▁감동받\n",
      "bpe_model_trainer.cc(258) LOG(INFO) Added: freq=88 size=4560 all=345889 active=18541 piece=조금\n",
      "bpe_model_trainer.cc(258) LOG(INFO) Added: freq=88 size=4580 all=346571 active=19223 piece=있었다\n",
      "bpe_model_trainer.cc(258) LOG(INFO) Added: freq=87 size=4600 all=346914 active=19566 piece=가에\n",
      "bpe_model_trainer.cc(167) LOG(INFO) Updating active symbols. max_freq=87 min_freq=16\n",
      "bpe_model_trainer.cc(258) LOG(INFO) Added: freq=87 size=4620 all=347448 active=17846 piece=▁짧은\n",
      "bpe_model_trainer.cc(258) LOG(INFO) Added: freq=86 size=4640 all=347713 active=18111 piece=30\n",
      "bpe_model_trainer.cc(258) LOG(INFO) Added: freq=86 size=4660 all=348449 active=18847 piece=?...\n",
      "bpe_model_trainer.cc(258) LOG(INFO) Added: freq=85 size=4680 all=348712 active=19110 piece=낸다\n",
      "bpe_model_trainer.cc(258) LOG(INFO) Added: freq=85 size=4700 all=349238 active=19636 piece=▁잤다\n",
      "bpe_model_trainer.cc(167) LOG(INFO) Updating active symbols. max_freq=85 min_freq=15\n",
      "bpe_model_trainer.cc(258) LOG(INFO) Added: freq=85 size=4720 all=349680 active=17901 piece=재미있게\n",
      "bpe_model_trainer.cc(258) LOG(INFO) Added: freq=84 size=4740 all=350274 active=18495 piece=▁게이\n",
      "bpe_model_trainer.cc(258) LOG(INFO) Added: freq=84 size=4760 all=350652 active=18873 piece=▁위해서\n",
      "bpe_model_trainer.cc(258) LOG(INFO) Added: freq=83 size=4780 all=351136 active=19357 piece=스크\n",
      "bpe_model_trainer.cc(258) LOG(INFO) Added: freq=83 size=4800 all=351758 active=19979 piece=▁결말을\n",
      "bpe_model_trainer.cc(167) LOG(INFO) Updating active symbols. max_freq=83 min_freq=15\n",
      "bpe_model_trainer.cc(258) LOG(INFO) Added: freq=82 size=4820 all=352165 active=17992 piece=신을\n",
      "bpe_model_trainer.cc(258) LOG(INFO) Added: freq=82 size=4840 all=352768 active=18595 piece=▁모든걸\n",
      "bpe_model_trainer.cc(258) LOG(INFO) Added: freq=81 size=4860 all=352968 active=18795 piece=되면\n",
      "bpe_model_trainer.cc(258) LOG(INFO) Added: freq=81 size=4880 all=353449 active=19276 piece=▁안될\n",
      "bpe_model_trainer.cc(258) LOG(INFO) Added: freq=81 size=4900 all=353890 active=19717 piece=▁부분도\n",
      "bpe_model_trainer.cc(167) LOG(INFO) Updating active symbols. max_freq=81 min_freq=15\n",
      "bpe_model_trainer.cc(258) LOG(INFO) Added: freq=80 size=4920 all=354195 active=17997 piece=▁혁\n",
      "bpe_model_trainer.cc(258) LOG(INFO) Added: freq=80 size=4940 all=354901 active=18703 piece=▁범인\n",
      "bpe_model_trainer.cc(258) LOG(INFO) Added: freq=80 size=4960 all=355193 active=18995 piece=▁없나요\n",
      "bpe_model_trainer.cc(258) LOG(INFO) Added: freq=79 size=4980 all=355439 active=19241 piece=상의\n",
      "bpe_model_trainer.cc(258) LOG(INFO) Added: freq=79 size=5000 all=356012 active=19814 piece=으로는\n",
      "bpe_model_trainer.cc(167) LOG(INFO) Updating active symbols. max_freq=79 min_freq=15\n",
      "bpe_model_trainer.cc(258) LOG(INFO) Added: freq=79 size=5020 all=356257 active=17998 piece=▁배경음악\n",
      "bpe_model_trainer.cc(258) LOG(INFO) Added: freq=78 size=5040 all=356616 active=18357 piece=리면\n",
      "bpe_model_trainer.cc(258) LOG(INFO) Added: freq=78 size=5060 all=357187 active=18928 piece=▁수면\n",
      "bpe_model_trainer.cc(258) LOG(INFO) Added: freq=78 size=5080 all=357493 active=19234 piece=▁불편한\n",
      "bpe_model_trainer.cc(258) LOG(INFO) Added: freq=77 size=5100 all=357683 active=19424 piece=드로\n",
      "bpe_model_trainer.cc(167) LOG(INFO) Updating active symbols. max_freq=77 min_freq=15\n",
      "bpe_model_trainer.cc(258) LOG(INFO) Added: freq=77 size=5120 all=358578 active=18746 piece=▁망친\n",
      "bpe_model_trainer.cc(258) LOG(INFO) Added: freq=77 size=5140 all=358994 active=19162 piece=~~^^\n",
      "bpe_model_trainer.cc(258) LOG(INFO) Added: freq=76 size=5160 all=359160 active=19328 piece=▁효\n",
      "bpe_model_trainer.cc(258) LOG(INFO) Added: freq=76 size=5180 all=359738 active=19905 piece=심으로\n",
      "bpe_model_trainer.cc(258) LOG(INFO) Added: freq=76 size=5200 all=360060 active=20227 piece=▁어색하고\n",
      "bpe_model_trainer.cc(167) LOG(INFO) Updating active symbols. max_freq=76 min_freq=15\n",
      "bpe_model_trainer.cc(258) LOG(INFO) Added: freq=75 size=5220 all=360587 active=18530 piece=▁14\n",
      "bpe_model_trainer.cc(258) LOG(INFO) Added: freq=75 size=5240 all=360933 active=18876 piece=▁아진짜\n",
      "bpe_model_trainer.cc(258) LOG(INFO) Added: freq=74 size=5260 all=361326 active=19269 piece=아누\n",
      "bpe_model_trainer.cc(258) LOG(INFO) Added: freq=74 size=5280 all=361792 active=19735 piece=▁무난\n",
      "bpe_model_trainer.cc(258) LOG(INFO) Added: freq=74 size=5300 all=362327 active=20270 piece=▁네티즌\n",
      "bpe_model_trainer.cc(167) LOG(INFO) Updating active symbols. max_freq=74 min_freq=14\n",
      "bpe_model_trainer.cc(258) LOG(INFO) Added: freq=74 size=5320 all=362422 active=18195 piece=▁감동적이네요\n",
      "bpe_model_trainer.cc(258) LOG(INFO) Added: freq=73 size=5340 all=362974 active=18747 piece=▁세번\n",
      "bpe_model_trainer.cc(258) LOG(INFO) Added: freq=73 size=5360 all=363319 active=19092 piece=▁싶었다\n",
      "bpe_model_trainer.cc(258) LOG(INFO) Added: freq=72 size=5380 all=363514 active=19287 piece=문화\n",
      "bpe_model_trainer.cc(258) LOG(INFO) Added: freq=72 size=5400 all=364128 active=19901 piece=▁쓰는\n",
      "bpe_model_trainer.cc(167) LOG(INFO) Updating active symbols. max_freq=72 min_freq=14\n",
      "bpe_model_trainer.cc(258) LOG(INFO) Added: freq=72 size=5420 all=364497 active=18565 piece=▁여러분\n",
      "bpe_model_trainer.cc(258) LOG(INFO) Added: freq=71 size=5440 all=364822 active=18890 piece=모로\n",
      "bpe_model_trainer.cc(258) LOG(INFO) Added: freq=71 size=5460 all=365321 active=19389 piece=▁형제\n",
      "bpe_model_trainer.cc(258) LOG(INFO) Added: freq=71 size=5480 all=365592 active=19660 piece=▁다행이다\n",
      "bpe_model_trainer.cc(258) LOG(INFO) Added: freq=70 size=5500 all=365923 active=19991 piece=았네\n",
      "bpe_model_trainer.cc(167) LOG(INFO) Updating active symbols. max_freq=70 min_freq=14\n",
      "bpe_model_trainer.cc(258) LOG(INFO) Added: freq=70 size=5520 all=366266 active=18607 piece=▁키스\n",
      "bpe_model_trainer.cc(258) LOG(INFO) Added: freq=70 size=5540 all=366590 active=18931 piece=▁아니었다\n",
      "bpe_model_trainer.cc(258) LOG(INFO) Added: freq=69 size=5560 all=367107 active=19448 piece=조아\n",
      "bpe_model_trainer.cc(258) LOG(INFO) Added: freq=69 size=5580 all=367521 active=19862 piece=▁허허\n",
      "bpe_model_trainer.cc(258) LOG(INFO) Added: freq=69 size=5600 all=367928 active=20269 piece=▁잼있는\n",
      "bpe_model_trainer.cc(167) LOG(INFO) Updating active symbols. max_freq=69 min_fr"
     ]
    },
    {
     "name": "stdout",
     "output_type": "stream",
     "text": [
      "-rw-r--r-- 1 root root 370628 Nov  7 06:34 naver_review_spm_bpe.model\r\n",
      "-rw-r--r-- 1 root root 115824 Nov  7 06:34 naver_review_spm_bpe.vocab\r\n",
      "-rw-r--r-- 1 root root 375092 Nov  7 06:34 naver_review_spm.model\r\n",
      "-rw-r--r-- 1 root root 144518 Nov  7 06:34 naver_review_spm.vocab\r\n"
     ]
    }
   ],
   "source": [
    "import sentencepiece as spm\n",
    "import os\n",
    "temp_file = os.getenv('HOME')+'/aiffel/sp_tokenizer/data/korean-english-park.train.ko.temp'\n",
    "\n",
    "vocab_size = 8000\n",
    "\n",
    "with open(temp_file, 'w') as f:\n",
    "    for row in filtered_corpus:   # 이전 스텝에서 정제했던 corpus를 활용\n",
    "        f.write(str(row) + '\\n')\n",
    "\n",
    "# 디폴트 --model_type = 'unigram'\n",
    "spm.SentencePieceTrainer.Train(\n",
    "    '--input={} --model_prefix=naver_review_spm --vocab_size={}'.format(temp_file, vocab_size)    \n",
    ")\n",
    "\n",
    "# --model_type = 'bpe'\n",
    "spm.SentencePieceTrainer.Train(\n",
    "    '--input={} --model_type=bpe --model_prefix=naver_review_spm_bpe --vocab_size={}'.format(temp_file, vocab_size)    \n",
    ")\n",
    "\n",
    "!ls -l naver_review_spm*"
   ]
  },
  {
   "cell_type": "markdown",
   "id": "1b28709a",
   "metadata": {},
   "source": [
    "#### Unigram"
   ]
  },
  {
   "cell_type": "code",
   "execution_count": 16,
   "id": "cdc74e51",
   "metadata": {},
   "outputs": [
    {
     "name": "stdout",
     "output_type": "stream",
     "text": [
      "[1510, 10, 425, 15, 1345, 10, 137, 17, 4]\n",
      "['▁아버지', '가', '방', '에', '들어', '가', '신', '다', '.']\n",
      "아버지가방에들어가신다.\n"
     ]
    }
   ],
   "source": [
    "# sentencepiece 모델이 잘 적용됐는지 확인해보기\n",
    "s_uni = spm.SentencePieceProcessor() \n",
    "s_uni.Load('naver_review_spm.model') # unigram 타입 model\n",
    "\n",
    "# SentencePiece를 활용한 sentence -> encoding\n",
    "tokensIDs = s_uni.EncodeAsIds('아버지가방에들어가신다.')\n",
    "print(tokensIDs)\n",
    "\n",
    "# SentencePiece를 활용한 sentence -> encoded pieces\n",
    "print(s_uni.SampleEncodeAsPieces('아버지가방에들어가신다.',1, 0.0))\n",
    "\n",
    "# SentencePiece를 활용한 encoding -> sentence 복원\n",
    "print(s_uni.DecodeIds(tokensIDs))"
   ]
  },
  {
   "cell_type": "markdown",
   "id": "93a92fdb",
   "metadata": {},
   "source": [
    "#### BPE"
   ]
  },
  {
   "cell_type": "code",
   "execution_count": 17,
   "id": "6b8f6d0f",
   "metadata": {},
   "outputs": [
    {
     "name": "stdout",
     "output_type": "stream",
     "text": [
      "[5065, 913, 6551, 6283, 1472, 6279, 6385, 6273, 6271]\n",
      "['▁아버', '지가', '방', '에', '들어', '가', '신', '다', '.']\n",
      "아버지가방에들어가신다.\n"
     ]
    }
   ],
   "source": [
    "# sentencepiece 모델이 잘 적용됐는지 확인해보기\n",
    "s_bpe = spm.SentencePieceProcessor() \n",
    "s_bpe.Load('naver_review_spm_bpe.model') # bpe 타입 model\n",
    "\n",
    "# SentencePiece를 활용한 sentence -> encoding\n",
    "tokensIDs = s_bpe.EncodeAsIds('아버지가방에들어가신다.')\n",
    "print(tokensIDs)\n",
    "\n",
    "# SentencePiece를 활용한 sentence -> encoded pieces\n",
    "print(s_bpe.SampleEncodeAsPieces('아버지가방에들어가신다.',1, 0.0))\n",
    "\n",
    "# SentencePiece를 활용한 encoding -> sentence 복원\n",
    "print(s_bpe.DecodeIds(tokensIDs))"
   ]
  },
  {
   "cell_type": "markdown",
   "id": "592086b8",
   "metadata": {},
   "source": [
    "### 학습된 모델로 sp_tokenize() 메소드 구현하기\n",
    "Unigram"
   ]
  },
  {
   "cell_type": "code",
   "execution_count": 18,
   "id": "2f44e0bc",
   "metadata": {},
   "outputs": [
    {
     "name": "stdout",
     "output_type": "stream",
     "text": [
      "[[   0    0    0    0    0    0    0    0    0    0    0    0    0    0\n",
      "     0    0    0    0    0    0    0    0    0    0    0    0    0    0\n",
      "     0    0    0    0    0    0    0    0    0    0    0    0    0    0\n",
      "     0    0    0    0    0    0    0    0    0    0    0    0    0    0\n",
      "     0    0    0    0    0    0    0    0    0    0    0    0    0    0\n",
      "     0    0    0    0    0    0    0    0    0    0    0    0    0    0\n",
      "     0    0    0    0    0    0    0    0    0    0  563 3385   14 1389\n",
      "  2226    4]\n",
      " [   0    0    0    0    0    0    0    0    0    0    0    0    0    0\n",
      "     0    0    0    0    0    0    0    0    0    0    0    0    0    0\n",
      "     0    0    0    0    0    0    0    0    0    0    0    0    0    0\n",
      "     0    0    0    0    0    0    0    0    0    0    0    0    0    0\n",
      "     0    0    0    0    0    0    0    0    0    0    0    0    0    0\n",
      "     0    0    0    0    0    0    0    0    0    0    0    0    0    0\n",
      "     0    0    0    0    0    0 1584 2280  253  589   10    3   16 7937\n",
      "   684    8]]\n"
     ]
    }
   ],
   "source": [
    "def sp_tokenize_uni(s_uni, corpus):\n",
    "\n",
    "    tensor = []\n",
    "\n",
    "    for sen in corpus:\n",
    "        tensor.append(s_uni.EncodeAsIds(sen))\n",
    "\n",
    "    with open(\"./naver_review_spm.vocab\", 'r') as f: # unigram 타입 vocab\n",
    "        vocab = f.readlines()\n",
    "\n",
    "    word_index = {}\n",
    "    index_word = {}\n",
    "\n",
    "    for idx, line in enumerate(vocab):\n",
    "        word = line.split(\"\\t\")[0]\n",
    "\n",
    "        word_index.update({idx:word})\n",
    "        index_word.update({word:idx})\n",
    "\n",
    "    tensor = tf.keras.preprocessing.sequence.pad_sequences(tensor, padding='pre', maxlen = 100)\n",
    "\n",
    "    return tensor, word_index, index_word\n",
    "\n",
    "#sp_tokenize(s, corpus) 사용예제로 확인해\n",
    "my_corpus = ['나는 밥을 먹었습니다.', '그러나 여전히 ㅠㅠ 배가 고픕니다...']\n",
    "tensor_uni, word_index_uni, index_word_uni = sp_tokenize_uni(s_uni, my_corpus)\n",
    "print(tensor_uni)"
   ]
  },
  {
   "cell_type": "code",
   "execution_count": 20,
   "id": "1ffc5e32",
   "metadata": {},
   "outputs": [
    {
     "name": "stdout",
     "output_type": "stream",
     "text": [
      "(195339, 100)\n"
     ]
    }
   ],
   "source": [
    "tensor_uni, word_index_uni, index_word_uni = sp_tokenize_uni(s_uni, data)\n",
    "print(tensor_uni.shape)"
   ]
  },
  {
   "cell_type": "markdown",
   "id": "3f6ab03a",
   "metadata": {},
   "source": [
    "BPE"
   ]
  },
  {
   "cell_type": "code",
   "execution_count": 30,
   "id": "4f0bc47f",
   "metadata": {},
   "outputs": [
    {
     "name": "stdout",
     "output_type": "stream",
     "text": [
      "[[   0    0    0    0    0    0    0    0    0    0    0    0    0    0\n",
      "     0    0    0    0    0    0    0    0    0    0    0    0    0    0\n",
      "     0    0    0    0    0    0    0    0    0    0    0    0    0    0\n",
      "     0    0    0    0    0    0    0    0    0    0    0    0    0    0\n",
      "     0    0    0    0    0    0    0    0    0    0    0    0    0    0\n",
      "     0    0    0    0    0    0    0    0    0    0    0    0    0    0\n",
      "     0    0    0    0    0    0    0    0    0    0  721 3152 6300  567\n",
      "   833 6271]\n",
      " [   0    0    0    0    0    0    0    0    0    0    0    0    0    0\n",
      "     0    0    0    0    0    0    0    0    0    0    0    0    0    0\n",
      "     0    0    0    0    0    0    0    0    0    0    0    0    0    0\n",
      "     0    0    0    0    0    0    0    0    0    0    0    0    0    0\n",
      "     0    0    0    0    0    0    0    0    0    0    0    0    0    0\n",
      "     0    0    0    0    0    0    0    0    0    0    0    0    0    0\n",
      "     0    0    0    0    0    0    0 1684 2307  320  324 6279  162 7622\n",
      "    14    7]]\n"
     ]
    }
   ],
   "source": [
    "def sp_tokenize_bpe(s_bpe, corpus):\n",
    "\n",
    "    tensor = []\n",
    "\n",
    "    for sen in corpus:\n",
    "        tensor.append(s_bpe.EncodeAsIds(sen))\n",
    "\n",
    "    with open(\"./naver_review_spm_bpe.vocab\", 'r') as f: # bpe 타입 vocab\n",
    "        vocab = f.readlines()\n",
    "\n",
    "    word_index = {}\n",
    "    index_word = {}\n",
    "\n",
    "    for idx, line in enumerate(vocab):\n",
    "        word = line.split(\"\\t\")[0]\n",
    "\n",
    "        word_index.update({idx:word})\n",
    "        index_word.update({word:idx})\n",
    "\n",
    "    tensor = tf.keras.preprocessing.sequence.pad_sequences(tensor, padding='pre', maxlen = 100)\n",
    "\n",
    "    return tensor, word_index, index_word\n",
    "\n",
    "#sp_tokenize(s, corpus) 사용예제로 확인해\n",
    "my_corpus = ['나는 밥을 먹었습니다.', '그러나 여전히 ㅠㅠ 배가 고픕니다...']\n",
    "tensor_bpe, word_index_bpe, index_word_bpe = sp_tokenize_bpe(s_bpe, my_corpus)\n",
    "print(tensor_bpe)"
   ]
  },
  {
   "cell_type": "code",
   "execution_count": 31,
   "id": "a8232f0d",
   "metadata": {},
   "outputs": [
    {
     "name": "stdout",
     "output_type": "stream",
     "text": [
      "(195339, 100)\n"
     ]
    }
   ],
   "source": [
    "tensor_bpe, word_index_bpe, index_word_bpe = sp_tokenize_bpe(s_bpe, data)\n",
    "print(tensor_bpe.shape)"
   ]
  },
  {
   "cell_type": "markdown",
   "id": "5a9b3824",
   "metadata": {},
   "source": [
    "### Unigram 타입을 적용한 토크나이저를 사용하여 감정 분석 모델을 재학습하기"
   ]
  },
  {
   "cell_type": "code",
   "execution_count": 22,
   "id": "dcb3a4f2",
   "metadata": {},
   "outputs": [
    {
     "name": "stdout",
     "output_type": "stream",
     "text": [
      "(96182, 100)\n",
      "(96182,)\n"
     ]
    }
   ],
   "source": [
    "# 데이터 분할\n",
    "X_train = tensor_uni[:146182]\n",
    "X_test = tensor_uni[146182:]\n",
    "\n",
    "y_train = np.array(list(train_data['label']))\n",
    "y_test = np.array(list(test_data['label']))\n",
    "\n",
    "# validation set 50000건 분리\n",
    "x_val = X_train[:50000]   \n",
    "y_val = y_train[:50000]\n",
    "\n",
    "# validation set을 제외한 나머지 \n",
    "partial_X_train = X_train[50000:]  \n",
    "partial_y_train = y_train[50000:]\n",
    "\n",
    "print(partial_X_train.shape)\n",
    "print(partial_y_train.shape)"
   ]
  },
  {
   "cell_type": "code",
   "execution_count": 27,
   "id": "cac1c967",
   "metadata": {},
   "outputs": [
    {
     "name": "stdout",
     "output_type": "stream",
     "text": [
      "Model: \"sequential_1\"\n",
      "_________________________________________________________________\n",
      "Layer (type)                 Output Shape              Param #   \n",
      "=================================================================\n",
      "embedding_1 (Embedding)      (None, None, 16)          128000    \n",
      "_________________________________________________________________\n",
      "lstm_1 (LSTM)                (None, 12)                1392      \n",
      "_________________________________________________________________\n",
      "dense_2 (Dense)              (None, 8)                 104       \n",
      "_________________________________________________________________\n",
      "dense_3 (Dense)              (None, 1)                 9         \n",
      "=================================================================\n",
      "Total params: 129,505\n",
      "Trainable params: 129,505\n",
      "Non-trainable params: 0\n",
      "_________________________________________________________________\n"
     ]
    }
   ],
   "source": [
    "import numpy as np\n",
    "import tensorflow as tf\n",
    "from tensorflow import keras\n",
    "\n",
    "vocab_size = 8000    \n",
    "word_vector_dim = 16\n",
    "\n",
    "model_rnn = keras.Sequential()\n",
    "model_rnn.add(keras.layers.Embedding(vocab_size, word_vector_dim, input_shape=(None,)))\n",
    "model_rnn.add(keras.layers.LSTM(12))   \n",
    "model_rnn.add(keras.layers.Dense(8, activation='relu'))\n",
    "model_rnn.add(keras.layers.Dense(1, activation='sigmoid'))  \n",
    "\n",
    "model_rnn.summary()"
   ]
  },
  {
   "cell_type": "code",
   "execution_count": 28,
   "id": "138c8df6",
   "metadata": {},
   "outputs": [
    {
     "name": "stdout",
     "output_type": "stream",
     "text": [
      "Epoch 1/20\n",
      "188/188 [==============================] - 4s 11ms/step - loss: 0.5317 - accuracy: 0.7542 - val_loss: 0.3821 - val_accuracy: 0.8400\n",
      "Epoch 2/20\n",
      "188/188 [==============================] - 2s 8ms/step - loss: 0.3453 - accuracy: 0.8552 - val_loss: 0.3482 - val_accuracy: 0.8515\n",
      "Epoch 3/20\n",
      "188/188 [==============================] - 2s 8ms/step - loss: 0.3142 - accuracy: 0.8701 - val_loss: 0.3451 - val_accuracy: 0.8524\n",
      "Epoch 4/20\n",
      "188/188 [==============================] - 2s 8ms/step - loss: 0.3005 - accuracy: 0.8756 - val_loss: 0.3449 - val_accuracy: 0.8522\n",
      "Epoch 5/20\n",
      "188/188 [==============================] - 2s 8ms/step - loss: 0.2887 - accuracy: 0.8822 - val_loss: 0.3487 - val_accuracy: 0.8518\n",
      "Epoch 6/20\n",
      "188/188 [==============================] - 2s 9ms/step - loss: 0.2764 - accuracy: 0.8882 - val_loss: 0.3523 - val_accuracy: 0.8509\n",
      "Epoch 7/20\n",
      "188/188 [==============================] - 2s 8ms/step - loss: 0.2656 - accuracy: 0.8937 - val_loss: 0.3578 - val_accuracy: 0.8494\n",
      "Epoch 8/20\n",
      "188/188 [==============================] - 2s 8ms/step - loss: 0.2553 - accuracy: 0.8987 - val_loss: 0.3641 - val_accuracy: 0.8471\n",
      "Epoch 9/20\n",
      "188/188 [==============================] - 2s 8ms/step - loss: 0.2457 - accuracy: 0.9033 - val_loss: 0.3708 - val_accuracy: 0.8462\n",
      "Epoch 10/20\n",
      "188/188 [==============================] - 2s 8ms/step - loss: 0.2347 - accuracy: 0.9089 - val_loss: 0.3905 - val_accuracy: 0.8430\n",
      "Epoch 11/20\n",
      "188/188 [==============================] - 2s 8ms/step - loss: 0.2241 - accuracy: 0.9145 - val_loss: 0.3958 - val_accuracy: 0.8428\n",
      "Epoch 12/20\n",
      "188/188 [==============================] - 2s 8ms/step - loss: 0.2143 - accuracy: 0.9187 - val_loss: 0.4134 - val_accuracy: 0.8421\n",
      "Epoch 13/20\n",
      "188/188 [==============================] - 2s 9ms/step - loss: 0.2032 - accuracy: 0.9234 - val_loss: 0.4318 - val_accuracy: 0.8391\n",
      "Epoch 14/20\n",
      "188/188 [==============================] - 2s 8ms/step - loss: 0.1948 - accuracy: 0.9270 - val_loss: 0.4373 - val_accuracy: 0.8383\n",
      "Epoch 15/20\n",
      "188/188 [==============================] - 2s 9ms/step - loss: 0.1837 - accuracy: 0.9326 - val_loss: 0.4520 - val_accuracy: 0.8371\n",
      "Epoch 16/20\n",
      "188/188 [==============================] - 2s 8ms/step - loss: 0.1751 - accuracy: 0.9356 - val_loss: 0.4752 - val_accuracy: 0.8341\n",
      "Epoch 17/20\n",
      "188/188 [==============================] - 2s 8ms/step - loss: 0.1709 - accuracy: 0.9375 - val_loss: 0.4919 - val_accuracy: 0.8332\n",
      "Epoch 18/20\n",
      "188/188 [==============================] - 2s 8ms/step - loss: 0.1610 - accuracy: 0.9420 - val_loss: 0.5213 - val_accuracy: 0.8322\n",
      "Epoch 19/20\n",
      "188/188 [==============================] - 2s 9ms/step - loss: 0.1581 - accuracy: 0.9418 - val_loss: 0.5286 - val_accuracy: 0.8294\n",
      "Epoch 20/20\n",
      "188/188 [==============================] - 2s 8ms/step - loss: 0.1482 - accuracy: 0.9470 - val_loss: 0.5804 - val_accuracy: 0.8287\n"
     ]
    }
   ],
   "source": [
    "model_rnn.compile(optimizer='adam',\n",
    "              loss='binary_crossentropy',\n",
    "              metrics=['accuracy'])\n",
    "              \n",
    "epochs = 20\n",
    "\n",
    "history_rnn = model_rnn.fit(partial_X_train,\n",
    "                    partial_y_train,\n",
    "                    epochs=epochs,\n",
    "                    batch_size=512,\n",
    "                    validation_data=(x_val, y_val),\n",
    "                    verbose=1)"
   ]
  },
  {
   "cell_type": "code",
   "execution_count": 25,
   "id": "5d7eb61e",
   "metadata": {},
   "outputs": [
    {
     "name": "stdout",
     "output_type": "stream",
     "text": [
      "1537/1537 - 4s - loss: 0.4899 - accuracy: 0.8277\n",
      "[0.4898843467235565, 0.8276949524879456]\n",
      "dict_keys(['loss', 'accuracy', 'val_loss', 'val_accuracy'])\n"
     ]
    },
    {
     "data": {
      "image/png": "[encoded data removed]",
      "text/plain": [
       "<Figure size 432x288 with 1 Axes>"
      ]
     },
     "metadata": {
      "needs_background": "light"
     },
     "output_type": "display_data"
    },
    {
     "data": {
      "image/png": "[encoded data removed]",
      "text/plain": [
       "<Figure size 432x288 with 1 Axes>"
      ]
     },
     "metadata": {
      "needs_background": "light"
     },
     "output_type": "display_data"
    }
   ],
   "source": [
    "# 평가하기\n",
    "results_rnn = model_rnn.evaluate(X_test, y_test, verbose=2)\n",
    "print(results_rnn)\n",
    "\n",
    "history_dict_rnn = history_rnn.history\n",
    "print(history_dict_rnn.keys()) # epoch에 따른 그래프를 그려볼 수 있는 항목들\n",
    "\n",
    "# train과 val의 Loss\n",
    "acc_rnn = history_dict_rnn['accuracy']\n",
    "val_acc_rnn = history_dict_rnn['val_accuracy']\n",
    "loss_rnn = history_dict_rnn['loss']\n",
    "val_loss_rnn = history_dict_rnn['val_loss']\n",
    "\n",
    "epochs_rnn = range(1, len(acc_rnn) + 1)\n",
    "\n",
    "# \"bo\"는 \"파란색 점\"\n",
    "plt.plot(epochs_rnn, loss_rnn, 'bo', label='Training loss')\n",
    "# b는 \"파란 실선\"\n",
    "plt.plot(epochs_rnn, val_loss_rnn, 'b', label='Validation loss')\n",
    "plt.title('RNN\\'s Training & validation loss')\n",
    "plt.xlabel('Epochs')\n",
    "plt.ylabel('Loss')\n",
    "plt.legend()\n",
    "\n",
    "plt.show()\n",
    "\n",
    "# train과 val의 accuracy\n",
    "plt.clf()  \n",
    "\n",
    "plt.plot(epochs_rnn, acc_rnn, 'bo', label='Training acc')\n",
    "plt.plot(epochs_rnn, val_acc_rnn, 'b', label='Validation acc')\n",
    "plt.title('RNN\\'s Training and validation accuracy')\n",
    "plt.xlabel('Epochs')\n",
    "plt.ylabel('Accuracy')\n",
    "plt.legend()\n",
    "\n",
    "plt.show()"
   ]
  },
  {
   "cell_type": "markdown",
   "id": "857280b6",
   "metadata": {},
   "source": [
    "### BPE 타입을 적용한 토크나이저를 사용하여 감정 분석 모델을 재학습하기"
   ]
  },
  {
   "cell_type": "code",
   "execution_count": 32,
   "id": "822db6d6",
   "metadata": {},
   "outputs": [
    {
     "name": "stdout",
     "output_type": "stream",
     "text": [
      "(96182, 100)\n",
      "(96182,)\n"
     ]
    }
   ],
   "source": [
    "# 데이터 분할\n",
    "X_train = tensor_bpe[:146182]\n",
    "X_test = tensor_bpe[146182:]\n",
    "\n",
    "y_train = np.array(list(train_data['label']))\n",
    "y_test = np.array(list(test_data['label']))\n",
    "\n",
    "# validation set 50000건 분리\n",
    "x_val = X_train[:50000]   \n",
    "y_val = y_train[:50000]\n",
    "\n",
    "# validation set을 제외한 나머지 \n",
    "partial_X_train = X_train[50000:]  \n",
    "partial_y_train = y_train[50000:]\n",
    "\n",
    "print(partial_X_train.shape)\n",
    "print(partial_y_train.shape)"
   ]
  },
  {
   "cell_type": "code",
   "execution_count": 33,
   "id": "8d7ce980",
   "metadata": {},
   "outputs": [
    {
     "name": "stdout",
     "output_type": "stream",
     "text": [
      "Model: \"sequential_2\"\n",
      "_________________________________________________________________\n",
      "Layer (type)                 Output Shape              Param #   \n",
      "=================================================================\n",
      "embedding_2 (Embedding)      (None, None, 16)          160000    \n",
      "_________________________________________________________________\n",
      "lstm_2 (LSTM)                (None, 12)                1392      \n",
      "_________________________________________________________________\n",
      "dense_4 (Dense)              (None, 8)                 104       \n",
      "_________________________________________________________________\n",
      "dense_5 (Dense)              (None, 1)                 9         \n",
      "=================================================================\n",
      "Total params: 161,505\n",
      "Trainable params: 161,505\n",
      "Non-trainable params: 0\n",
      "_________________________________________________________________\n"
     ]
    }
   ],
   "source": [
    "import numpy as np\n",
    "import tensorflow as tf\n",
    "from tensorflow import keras\n",
    "\n",
    "vocab_size = 10000    \n",
    "word_vector_dim = 16\n",
    "\n",
    "model_rnn = keras.Sequential()\n",
    "model_rnn.add(keras.layers.Embedding(vocab_size, word_vector_dim, input_shape=(None,)))\n",
    "model_rnn.add(keras.layers.LSTM(12))   \n",
    "model_rnn.add(keras.layers.Dense(8, activation='relu'))\n",
    "model_rnn.add(keras.layers.Dense(1, activation='sigmoid'))  \n",
    "\n",
    "model_rnn.summary()"
   ]
  },
  {
   "cell_type": "code",
   "execution_count": 34,
   "id": "3da9203a",
   "metadata": {},
   "outputs": [
    {
     "name": "stdout",
     "output_type": "stream",
     "text": [
      "Epoch 1/20\n",
      "188/188 [==============================] - 3s 11ms/step - loss: 0.5402 - accuracy: 0.7529 - val_loss: 0.3860 - val_accuracy: 0.8377\n",
      "Epoch 2/20\n",
      "188/188 [==============================] - 2s 8ms/step - loss: 0.3468 - accuracy: 0.8566 - val_loss: 0.3545 - val_accuracy: 0.8478\n",
      "Epoch 3/20\n",
      "188/188 [==============================] - 2s 9ms/step - loss: 0.3097 - accuracy: 0.8744 - val_loss: 0.3485 - val_accuracy: 0.8513\n",
      "Epoch 4/20\n",
      "188/188 [==============================] - 2s 8ms/step - loss: 0.2908 - accuracy: 0.8832 - val_loss: 0.3519 - val_accuracy: 0.8500\n",
      "Epoch 5/20\n",
      "188/188 [==============================] - 2s 9ms/step - loss: 0.2775 - accuracy: 0.8893 - val_loss: 0.3586 - val_accuracy: 0.8482\n",
      "Epoch 6/20\n",
      "188/188 [==============================] - 2s 8ms/step - loss: 0.2667 - accuracy: 0.8947 - val_loss: 0.3626 - val_accuracy: 0.8463\n",
      "Epoch 7/20\n",
      "188/188 [==============================] - 2s 8ms/step - loss: 0.2562 - accuracy: 0.8994 - val_loss: 0.3678 - val_accuracy: 0.8459\n",
      "Epoch 8/20\n",
      "188/188 [==============================] - 2s 8ms/step - loss: 0.2467 - accuracy: 0.9040 - val_loss: 0.3837 - val_accuracy: 0.8436\n",
      "Epoch 9/20\n",
      "188/188 [==============================] - 2s 9ms/step - loss: 0.2394 - accuracy: 0.9074 - val_loss: 0.3860 - val_accuracy: 0.8422\n",
      "Epoch 10/20\n",
      "188/188 [==============================] - 2s 8ms/step - loss: 0.2291 - accuracy: 0.9120 - val_loss: 0.3944 - val_accuracy: 0.8396\n",
      "Epoch 11/20\n",
      "188/188 [==============================] - 2s 8ms/step - loss: 0.2199 - accuracy: 0.9158 - val_loss: 0.4033 - val_accuracy: 0.8391\n",
      "Epoch 12/20\n",
      "188/188 [==============================] - 2s 9ms/step - loss: 0.2099 - accuracy: 0.9210 - val_loss: 0.4254 - val_accuracy: 0.8386\n",
      "Epoch 13/20\n",
      "188/188 [==============================] - 2s 8ms/step - loss: 0.2014 - accuracy: 0.9239 - val_loss: 0.4402 - val_accuracy: 0.8364\n",
      "Epoch 14/20\n",
      "188/188 [==============================] - 2s 8ms/step - loss: 0.1919 - accuracy: 0.9274 - val_loss: 0.4601 - val_accuracy: 0.8369\n",
      "Epoch 15/20\n",
      "188/188 [==============================] - 2s 8ms/step - loss: 0.1855 - accuracy: 0.9306 - val_loss: 0.4617 - val_accuracy: 0.8351\n",
      "Epoch 16/20\n",
      "188/188 [==============================] - 2s 9ms/step - loss: 0.1774 - accuracy: 0.9332 - val_loss: 0.5034 - val_accuracy: 0.8349\n",
      "Epoch 17/20\n",
      "188/188 [==============================] - 2s 8ms/step - loss: 0.1704 - accuracy: 0.9368 - val_loss: 0.5276 - val_accuracy: 0.8312\n",
      "Epoch 18/20\n",
      "188/188 [==============================] - 2s 8ms/step - loss: 0.1598 - accuracy: 0.9417 - val_loss: 0.5520 - val_accuracy: 0.8333\n",
      "Epoch 19/20\n",
      "188/188 [==============================] - 2s 8ms/step - loss: 0.1565 - accuracy: 0.9421 - val_loss: 0.5862 - val_accuracy: 0.8313\n",
      "Epoch 20/20\n",
      "188/188 [==============================] - 2s 8ms/step - loss: 0.1549 - accuracy: 0.9423 - val_loss: 0.5961 - val_accuracy: 0.8307\n"
     ]
    }
   ],
   "source": [
    "model_rnn.compile(optimizer='adam',\n",
    "              loss='binary_crossentropy',\n",
    "              metrics=['accuracy'])\n",
    "              \n",
    "epochs = 20\n",
    "\n",
    "history_rnn = model_rnn.fit(partial_X_train,\n",
    "                    partial_y_train,\n",
    "                    epochs=epochs,\n",
    "                    batch_size=512,\n",
    "                    validation_data=(x_val, y_val),\n",
    "                    verbose=1)"
   ]
  },
  {
   "cell_type": "code",
   "execution_count": 35,
   "id": "6e7703a3",
   "metadata": {},
   "outputs": [
    {
     "name": "stdout",
     "output_type": "stream",
     "text": [
      "1537/1537 - 4s - loss: 0.6108 - accuracy: 0.8269\n",
      "[0.6107655763626099, 0.8269015550613403]\n",
      "dict_keys(['loss', 'accuracy', 'val_loss', 'val_accuracy'])\n"
     ]
    },
    {
     "data": {
      "image/png": "[encoded data removed]",
      "text/plain": [
       "<Figure size 432x288 with 1 Axes>"
      ]
     },
     "metadata": {
      "needs_background": "light"
     },
     "output_type": "display_data"
    },
    {
     "data": {
      "image/png": "[encoded data removed]",
      "text/plain": [
       "<Figure size 432x288 with 1 Axes>"
      ]
     },
     "metadata": {
      "needs_background": "light"
     },
     "output_type": "display_data"
    }
   ],
   "source": [
    "# 평가하기\n",
    "results_rnn = model_rnn.evaluate(X_test, y_test, verbose=2)\n",
    "print(results_rnn)\n",
    "\n",
    "history_dict_rnn = history_rnn.history\n",
    "print(history_dict_rnn.keys()) # epoch에 따른 그래프를 그려볼 수 있는 항목들\n",
    "\n",
    "# train과 val의 Loss\n",
    "acc_rnn = history_dict_rnn['accuracy']\n",
    "val_acc_rnn = history_dict_rnn['val_accuracy']\n",
    "loss_rnn = history_dict_rnn['loss']\n",
    "val_loss_rnn = history_dict_rnn['val_loss']\n",
    "\n",
    "epochs_rnn = range(1, len(acc_rnn) + 1)\n",
    "\n",
    "# \"bo\"는 \"파란색 점\"\n",
    "plt.plot(epochs_rnn, loss_rnn, 'bo', label='Training loss')\n",
    "# b는 \"파란 실선\"\n",
    "plt.plot(epochs_rnn, val_loss_rnn, 'b', label='Validation loss')\n",
    "plt.title('RNN\\'s Training & validation loss')\n",
    "plt.xlabel('Epochs')\n",
    "plt.ylabel('Loss')\n",
    "plt.legend()\n",
    "\n",
    "plt.show()\n",
    "\n",
    "# train과 val의 accuracy\n",
    "plt.clf()  \n",
    "\n",
    "plt.plot(epochs_rnn, acc_rnn, 'bo', label='Training acc')\n",
    "plt.plot(epochs_rnn, val_acc_rnn, 'b', label='Validation acc')\n",
    "plt.title('RNN\\'s Training and validation accuracy')\n",
    "plt.xlabel('Epochs')\n",
    "plt.ylabel('Accuracy')\n",
    "plt.legend()\n",
    "\n",
    "plt.show()"
   ]
  },
  {
   "cell_type": "markdown",
   "id": "aaa77c98",
   "metadata": {},
   "source": [
    "### KoNLPy 형태소 분석기를 사용한 모델과 성능 비교하기"
   ]
  },
  {
   "cell_type": "code",
   "execution_count": 36,
   "id": "86d314bc",
   "metadata": {},
   "outputs": [],
   "source": [
    "from konlpy.tag import Mecab\n",
    "tokenizer = Mecab() # Mecab 형태소 분석기 인스턴스 생성\n",
    "# 불용어 정의\n",
    "stopwords = ['의','가','이','은','들','는','좀','잘','걍','과','도','를','으로','자','에','와','한','하다'] \n",
    "num_words = 10000\n",
    "\n",
    "def load_data(train_data, test_data, num_words=10000):\n",
    "    train_data.drop_duplicates(subset=['document'], inplace=True)     # 중복 제거\n",
    "    train_data = train_data.dropna(how = 'any')     # 결측치 제거\n",
    "    test_data.drop_duplicates(subset=['document'], inplace=True)    # 중복 제거\n",
    "    test_data = test_data.dropna(how = 'any')     # 결측치 제거\n",
    "\n",
    "    # 훈련 데이터 토큰화 및 불용어 제거\n",
    "    X_train = []\n",
    "    for sentence in train_data['document']:\n",
    "        temp_X = tokenizer.morphs(sentence) # 토큰화\n",
    "        temp_X = [word for word in temp_X if not word in stopwords] # 불용어 제거\n",
    "        X_train.append(temp_X)\n",
    "\n",
    "    # 테스트 데이터 토큰화 및 불용어 제거\n",
    "    X_test = []\n",
    "    for sentence in test_data['document']:\n",
    "        temp_X = tokenizer.morphs(sentence) # 토큰화\n",
    "        temp_X = [word for word in temp_X if not word in stopwords] # 불용어 제거\n",
    "        X_test.append(temp_X)\n",
    "\n",
    "    # 단어 목록 생성 및 빈도수 기반 상위 num_words 선택\n",
    "    words = np.concatenate(X_train).tolist()\n",
    "    counter = Counter(words)\n",
    "    counter = counter.most_common(num_words-4) # 4개의 특수 토큰을 위한 공간 확보\n",
    "    vocab = ['<PAD>', '<BOS>', '<UNK>', '<UNUSED>'] + [key for key, _ in counter]\n",
    "    # 단어-인덱스 매핑 사전 생성\n",
    "    word_to_index = {word:index for index, word in enumerate(vocab)}\n",
    "\n",
    "    # 텍스트 데이터를 인덱스 데이터로 변환하는 함수\n",
    "    def wordlist_to_indexlist(wordlist):\n",
    "        return [word_to_index[word] if word in word_to_index else word_to_index['<UNK>'] for word in wordlist]\n",
    "\n",
    "    # 훈련 데이터와 테스트 데이터를 인덱스 데이터로 변환\n",
    "    X_train = list(map(wordlist_to_indexlist, X_train))\n",
    "    X_test = list(map(wordlist_to_indexlist, X_test))\n",
    "\n",
    "    # 변환된 데이터와 레이블을 반환\n",
    "    return X_train, np.array(list(train_data['label'])), X_test, np.array(list(test_data['label'])), word_to_index\n",
    "\n",
    "# 함수 호출하여 데이터 로딩 및 전처리\n",
    "X_train, y_train, X_test, y_test, word_to_index = load_data(train_data, test_data) "
   ]
  },
  {
   "cell_type": "code",
   "execution_count": 37,
   "id": "1fb07cd3",
   "metadata": {},
   "outputs": [],
   "source": [
    "index_to_word = {index:word for word, index in word_to_index.items()}"
   ]
  },
  {
   "cell_type": "code",
   "execution_count": 38,
   "id": "5b01aee1",
   "metadata": {},
   "outputs": [],
   "source": [
    "# 문장 1개를 활용할 딕셔너리와 함께 주면, 단어 인덱스 리스트 벡터로 변환해 주는 함수\n",
    "def get_encoded_sentence(sentence, word_to_index):\n",
    "    return [word_to_index['<BOS>']]+[word_to_index[word] if word in word_to_index else word_to_index['<UNK>'] for word in sentence.split()]\n",
    "\n",
    "# 여러 개의 문장 리스트를 한꺼번에 단어 인덱스 리스트 벡터로 encode해 주는 함수\n",
    "def get_encoded_sentences(sentences, word_to_index):\n",
    "    return [get_encoded_sentence(sentence, word_to_index) for sentence in sentences]\n",
    "\n",
    "# 숫자 벡터로 encode된 문장을 원래대로 decode하는 함수\n",
    "def get_decoded_sentence(encoded_sentence, index_to_word):\n",
    "    return ' '.join(index_to_word[index] if index in index_to_word else '<UNK>' for index in encoded_sentence[1:])  #[1:]를 통해 <BOS>를 제외\n",
    "\n",
    "# 여러개의 숫자 벡터로 encode된 문장을 한꺼번에 원래대로 decode하는 함수\n",
    "def get_decoded_sentences(encoded_sentences, index_to_word):\n",
    "    return [get_decoded_sentence(encoded_sentence, index_to_word) for encoded_sentence in encoded_sentences]"
   ]
  },
  {
   "cell_type": "code",
   "execution_count": 39,
   "id": "15ab4e36",
   "metadata": {},
   "outputs": [
    {
     "name": "stdout",
     "output_type": "stream",
     "text": [
      "훈련 샘플 개수: 146182, 테스트 개수: 49157\n"
     ]
    }
   ],
   "source": [
    "print(\"훈련 샘플 개수: {}, 테스트 개수: {}\".format(len(X_train), len(X_test)))"
   ]
  },
  {
   "cell_type": "code",
   "execution_count": 40,
   "id": "1e0da4c4",
   "metadata": {},
   "outputs": [
    {
     "name": "stdout",
     "output_type": "stream",
     "text": [
      "[32, 74, 919, 4, 4, 39, 228, 20, 33, 748]\n",
      "라벨:  0\n",
      "1번째 리뷰 문장 길이:  10\n",
      "2번째 리뷰 문장 길이:  17\n"
     ]
    }
   ],
   "source": [
    "# 데이터셋 내 문장 길이 분포 파악\n",
    "print(X_train[0])  # 1번째 리뷰데이터\n",
    "print('라벨: ', y_train[0])  # 1번째 리뷰데이터의 라벨\n",
    "print('1번째 리뷰 문장 길이: ', len(X_train[0]))\n",
    "print('2번째 리뷰 문장 길이: ', len(X_train[1]))"
   ]
  },
  {
   "cell_type": "code",
   "execution_count": 41,
   "id": "4517a739",
   "metadata": {},
   "outputs": [
    {
     "name": "stdout",
     "output_type": "stream",
     "text": [
      "더 빙 . . 진짜 짜증 나 네요 목소리\n",
      "라벨:  0\n"
     ]
    }
   ],
   "source": [
    "print(get_decoded_sentence(X_train[0], index_to_word))\n",
    "print('라벨: ', y_train[0])  # 1번째 리뷰데이터의 라벨"
   ]
  },
  {
   "cell_type": "code",
   "execution_count": 42,
   "id": "ca62d874",
   "metadata": {},
   "outputs": [
    {
     "name": "stdout",
     "output_type": "stream",
     "text": [
      "문장길이 평균 :  15.96940191154864\n",
      "문장길이 최대 :  116\n",
      "문장길이 표준편차 :  12.843571191092\n",
      "pad_sequences maxlen :  41\n",
      "전체 문장의 0.9342988343341575%가 maxlen 설정값 이내에 포함됩니다. \n"
     ]
    }
   ],
   "source": [
    "# 적절한 최대 문장 길이를 지정\n",
    "total_data_text = list(X_train) + list(X_test)\n",
    "# 텍스트데이터 문장길이의 리스트를 생성\n",
    "num_tokens = [len(tokens) for tokens in total_data_text]\n",
    "num_tokens = np.array(num_tokens)\n",
    "\n",
    "print('문장길이 평균 : ', np.mean(num_tokens))\n",
    "print('문장길이 최대 : ', np.max(num_tokens))\n",
    "print('문장길이 표준편차 : ', np.std(num_tokens))\n",
    "\n",
    "# 최대 길이를 (평균 + 2*표준편차)로 설정  \n",
    "max_tokens = np.mean(num_tokens) + 2 * np.std(num_tokens)\n",
    "maxlen = int(max_tokens)\n",
    "print('pad_sequences maxlen : ', maxlen)\n",
    "print('전체 문장의 {}%가 maxlen 설정값 이내에 포함됩니다. '.format(np.sum(num_tokens < max_tokens) / len(num_tokens)))"
   ]
  },
  {
   "cell_type": "code",
   "execution_count": 43,
   "id": "cecb8c89",
   "metadata": {},
   "outputs": [
    {
     "name": "stdout",
     "output_type": "stream",
     "text": [
      "(146182, 41)\n"
     ]
    }
   ],
   "source": [
    "# 패딩 작업\n",
    "X_train = keras.preprocessing.sequence.pad_sequences(X_train,\n",
    "                                                        value=word_to_index[\"<PAD>\"],\n",
    "                                                        padding='pre', # 혹은 'pre'\n",
    "                                                        maxlen=maxlen)\n",
    "\n",
    "X_test = keras.preprocessing.sequence.pad_sequences(X_test,\n",
    "                                                       value=word_to_index[\"<PAD>\"],\n",
    "                                                       padding='pre', # 혹은 'pre'\n",
    "                                                       maxlen=maxlen)\n",
    "\n",
    "print(X_train.shape)"
   ]
  },
  {
   "cell_type": "code",
   "execution_count": 44,
   "id": "a028d53a",
   "metadata": {},
   "outputs": [
    {
     "name": "stdout",
     "output_type": "stream",
     "text": [
      "(96182, 41)\n",
      "(96182,)\n"
     ]
    }
   ],
   "source": [
    "#  validation set 구성\n",
    "X_val = X_train[:50000]   \n",
    "y_val = y_train[:50000]\n",
    "\n",
    "# validation set을 제외한 나머지\n",
    "partial_X_train = X_train[50000:]  \n",
    "partial_y_train = y_train[50000:]\n",
    "\n",
    "print(partial_X_train.shape)\n",
    "print(partial_y_train.shape)"
   ]
  },
  {
   "cell_type": "code",
   "execution_count": 45,
   "id": "1dbf37f7",
   "metadata": {},
   "outputs": [
    {
     "name": "stdout",
     "output_type": "stream",
     "text": [
      "Model: \"sequential_3\"\n",
      "_________________________________________________________________\n",
      "Layer (type)                 Output Shape              Param #   \n",
      "=================================================================\n",
      "embedding_3 (Embedding)      (None, None, 16)          160000    \n",
      "_________________________________________________________________\n",
      "lstm_3 (LSTM)                (None, 12)                1392      \n",
      "_________________________________________________________________\n",
      "dense_6 (Dense)              (None, 8)                 104       \n",
      "_________________________________________________________________\n",
      "dense_7 (Dense)              (None, 1)                 9         \n",
      "=================================================================\n",
      "Total params: 161,505\n",
      "Trainable params: 161,505\n",
      "Non-trainable params: 0\n",
      "_________________________________________________________________\n"
     ]
    }
   ],
   "source": [
    "\n",
    "import numpy as np\n",
    "import tensorflow as tf\n",
    "from tensorflow import keras\n",
    "\n",
    "vocab_size = 10000    \n",
    "word_vector_dim = 16\n",
    "\n",
    "model_rnn = keras.Sequential()\n",
    "model_rnn.add(keras.layers.Embedding(vocab_size, word_vector_dim, input_shape=(None,)))\n",
    "model_rnn.add(keras.layers.LSTM(12))   \n",
    "model_rnn.add(keras.layers.Dense(8, activation='relu'))\n",
    "model_rnn.add(keras.layers.Dense(1, activation='sigmoid'))  \n",
    "\n",
    "model_rnn.summary()"
   ]
  },
  {
   "cell_type": "code",
   "execution_count": 46,
   "id": "f8c7beb4",
   "metadata": {},
   "outputs": [
    {
     "name": "stdout",
     "output_type": "stream",
     "text": [
      "Epoch 1/20\n",
      "188/188 [==============================] - 3s 8ms/step - loss: 0.5131 - accuracy: 0.7732 - val_loss: 0.3770 - val_accuracy: 0.8377\n",
      "Epoch 2/20\n",
      "188/188 [==============================] - 1s 7ms/step - loss: 0.3492 - accuracy: 0.8530 - val_loss: 0.3516 - val_accuracy: 0.8481\n",
      "Epoch 3/20\n",
      "188/188 [==============================] - 1s 6ms/step - loss: 0.3197 - accuracy: 0.8675 - val_loss: 0.3495 - val_accuracy: 0.8486\n",
      "Epoch 4/20\n",
      "188/188 [==============================] - 1s 6ms/step - loss: 0.3053 - accuracy: 0.8738 - val_loss: 0.3526 - val_accuracy: 0.8485\n",
      "Epoch 5/20\n",
      "188/188 [==============================] - 1s 6ms/step - loss: 0.2937 - accuracy: 0.8803 - val_loss: 0.3539 - val_accuracy: 0.8473\n",
      "Epoch 6/20\n",
      "188/188 [==============================] - 1s 6ms/step - loss: 0.2838 - accuracy: 0.8852 - val_loss: 0.3624 - val_accuracy: 0.8470\n",
      "Epoch 7/20\n",
      "188/188 [==============================] - 1s 6ms/step - loss: 0.2738 - accuracy: 0.8893 - val_loss: 0.3659 - val_accuracy: 0.8457\n",
      "Epoch 8/20\n",
      "188/188 [==============================] - 1s 6ms/step - loss: 0.2623 - accuracy: 0.8953 - val_loss: 0.3688 - val_accuracy: 0.8473\n",
      "Epoch 9/20\n",
      "188/188 [==============================] - 1s 6ms/step - loss: 0.2525 - accuracy: 0.8991 - val_loss: 0.3796 - val_accuracy: 0.8466\n",
      "Epoch 10/20\n",
      "188/188 [==============================] - 1s 6ms/step - loss: 0.2409 - accuracy: 0.9043 - val_loss: 0.3897 - val_accuracy: 0.8437\n",
      "Epoch 11/20\n",
      "188/188 [==============================] - 1s 6ms/step - loss: 0.2315 - accuracy: 0.9084 - val_loss: 0.4019 - val_accuracy: 0.8438\n",
      "Epoch 12/20\n",
      "188/188 [==============================] - 1s 6ms/step - loss: 0.2207 - accuracy: 0.9132 - val_loss: 0.4023 - val_accuracy: 0.8431\n",
      "Epoch 13/20\n",
      "188/188 [==============================] - 1s 6ms/step - loss: 0.2109 - accuracy: 0.9175 - val_loss: 0.4311 - val_accuracy: 0.8427\n",
      "Epoch 14/20\n",
      "188/188 [==============================] - 1s 6ms/step - loss: 0.2026 - accuracy: 0.9207 - val_loss: 0.4531 - val_accuracy: 0.8405\n",
      "Epoch 15/20\n",
      "188/188 [==============================] - 1s 6ms/step - loss: 0.1952 - accuracy: 0.9236 - val_loss: 0.4813 - val_accuracy: 0.8397\n",
      "Epoch 16/20\n",
      "188/188 [==============================] - 1s 6ms/step - loss: 0.1863 - accuracy: 0.9269 - val_loss: 0.4966 - val_accuracy: 0.8394\n",
      "Epoch 17/20\n",
      "188/188 [==============================] - 1s 6ms/step - loss: 0.1799 - accuracy: 0.9304 - val_loss: 0.5084 - val_accuracy: 0.8370\n",
      "Epoch 18/20\n",
      "188/188 [==============================] - 1s 6ms/step - loss: 0.1725 - accuracy: 0.9331 - val_loss: 0.5668 - val_accuracy: 0.8381\n",
      "Epoch 19/20\n",
      "188/188 [==============================] - 1s 6ms/step - loss: 0.1653 - accuracy: 0.9361 - val_loss: 0.5760 - val_accuracy: 0.8377\n",
      "Epoch 20/20\n",
      "188/188 [==============================] - 1s 6ms/step - loss: 0.1601 - accuracy: 0.9376 - val_loss: 0.5919 - val_accuracy: 0.8379\n"
     ]
    }
   ],
   "source": [
    "model_rnn.compile(optimizer='adam',\n",
    "              loss='binary_crossentropy',\n",
    "              metrics=['accuracy'])\n",
    "              \n",
    "epochs = 20\n",
    "\n",
    "history_rnn = model_rnn.fit(partial_X_train,\n",
    "                    partial_y_train,\n",
    "                    epochs=epochs,\n",
    "                    batch_size=512,\n",
    "                    validation_data=(X_val, y_val),\n",
    "                    verbose=1)"
   ]
  },
  {
   "cell_type": "code",
   "execution_count": 47,
   "id": "052c7aeb",
   "metadata": {},
   "outputs": [
    {
     "name": "stdout",
     "output_type": "stream",
     "text": [
      "1537/1537 - 3s - loss: 0.5984 - accuracy: 0.8317\n",
      "[0.5984402298927307, 0.8317431807518005]\n",
      "dict_keys(['loss', 'accuracy', 'val_loss', 'val_accuracy'])\n"
     ]
    },
    {
     "data": {
      "image/png": "[encoded data removed]",
      "text/plain": [
       "<Figure size 432x288 with 1 Axes>"
      ]
     },
     "metadata": {
      "needs_background": "light"
     },
     "output_type": "display_data"
    },
    {
     "data": {
      "image/png": "[encoded data removed]",
      "text/plain": [
       "<Figure size 432x288 with 1 Axes>"
      ]
     },
     "metadata": {
      "needs_background": "light"
     },
     "output_type": "display_data"
    }
   ],
   "source": [
    "# 평가하기\n",
    "results_rnn = model_rnn.evaluate(X_test, y_test, verbose=2)\n",
    "print(results_rnn)\n",
    "\n",
    "history_dict_rnn = history_rnn.history\n",
    "print(history_dict_rnn.keys()) # epoch에 따른 그래프를 그려볼 수 있는 항목들\n",
    "\n",
    "# train과 val의 Loss\n",
    "acc_rnn = history_dict_rnn['accuracy']\n",
    "val_acc_rnn = history_dict_rnn['val_accuracy']\n",
    "loss_rnn = history_dict_rnn['loss']\n",
    "val_loss_rnn = history_dict_rnn['val_loss']\n",
    "\n",
    "epochs_rnn = range(1, len(acc_rnn) + 1)\n",
    "\n",
    "# \"bo\"는 \"파란색 점\"\n",
    "plt.plot(epochs_rnn, loss_rnn, 'bo', label='Training loss')\n",
    "# b는 \"파란 실선\"\n",
    "plt.plot(epochs_rnn, val_loss_rnn, 'b', label='Validation loss')\n",
    "plt.title('RNN\\'s Training & validation loss')\n",
    "plt.xlabel('Epochs')\n",
    "plt.ylabel('Loss')\n",
    "plt.legend()\n",
    "\n",
    "plt.show()\n",
    "\n",
    "# train과 val의 accuracy\n",
    "plt.clf()  \n",
    "\n",
    "plt.plot(epochs_rnn, acc_rnn, 'bo', label='Training acc')\n",
    "plt.plot(epochs_rnn, val_acc_rnn, 'b', label='Validation acc')\n",
    "plt.title('RNN\\'s Training and validation accuracy')\n",
    "plt.xlabel('Epochs')\n",
    "plt.ylabel('Accuracy')\n",
    "plt.legend()\n",
    "\n",
    "plt.show()"
   ]
  },
  {
   "cell_type": "markdown",
   "id": "64fe8fd2",
   "metadata": {},
   "source": [
    "## 회고\n",
    "1. 전처리 과정에서 train과 test 데이터 셋이 따로 되어 있어서 처음에는 각자 전처리를 진행하다가 인터넷을 뒤져보니 같이 진행한 것을 보고 나도 같이 진행하였다. 데이터를 list로 변환해서 합쳤고 이후에는 NaN값 제거와 중복치 제거를 수행하였다. SentencePiece 적용에서는 Unigram과 BPE 모델을 모두 학습시켜 모델 파일과 vocab 파일을 생성하였고 인코딩과 디코딩이 잘 수행되는지 확인하였다.\n",
    "2. RNN 기반으로 구성된 Unigram타입이 적용된 모델은 82.7, BPE는 82.6으로 거의 비슷한 정확성을 보여주었다. KoNLPy형태소 분석기와 함께 돌렸을 때에는 83.17이라는 비교적 높은 정확성을 보여주었다. 내가 생각하는 그 이유로는 한국어 특성 상 서브워드 보다 형태소 분석기가 더 잘 맞기 때문인 것 같다.\n",
    "3. 프로젝트 결과에 따르면, KoNLPy 형태소 분석기가 Unigram과 BPE 기반 SentencePiece 모델보다 약간 더 높은 정확도를 보여주었습니다. 위에서 말했듯이 한국어의 특성상 형태소 구조가 문장에 있어서 중요한 역할을 해서 정확도가 더 높게 나온 것 같습니다. BPE와 Unigram의 성능 차이가 미미한 것은 데이터셋 자체에서의 서브워드 패턴이 비슷하기 때문인 것 같습니다. OOV 문제는 서브워드 기반 토큰화에서 크게 문제가 되지 않았을 것으로 된 것 같다.ㄴ\n",
    "\n",
    "전처리를 시작부터 감을 못 잡으니깐 시작이 안 되었다.\n",
    "단어를 계속 보고 있으니깐 눈이 빠질 것 같다. 앞으로 설레면서도 힘들다."
   ]
  }
 ],
 "metadata": {
  "kernelspec": {
   "display_name": "Python 3 (ipykernel)",
   "language": "python",
   "name": "python3"
  },
  "language_info": {
   "codemirror_mode": {
    "name": "ipython",
    "version": 3
   },
   "file_extension": ".py",
   "mimetype": "text/x-python",
   "name": "python",
   "nbconvert_exporter": "python",
   "pygments_lexer": "ipython3",
   "version": "3.9.7"
  }
 },
 "nbformat": 4,
 "nbformat_minor": 5
}
