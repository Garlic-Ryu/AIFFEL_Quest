{
 "cells": [
  {
   "cell_type": "markdown",
   "id": "66957558",
   "metadata": {},
   "source": [
    "# Exploration4"
   ]
  },
  {
   "cell_type": "markdown",
   "id": "8702b82a",
   "metadata": {},
   "source": [
    "평가문항\t상세기준\n",
    "1. 다양한 방법으로 Text Classification 태스크를 성공적으로 구현하였다.\t3가지 이상의 모델이 성공적으로 시도됨\n",
    "2. gensim을 활용하여 자체학습된 혹은 사전학습된 임베딩 레이어를 분석하였다.\tgensim의 유사단어 찾기를 활용하여 자체학습한 임베딩과 사전학습 임베딩을 비교 분석함\n",
    "3. 한국어 Word2Vec을 활용하여 가시적인 성능향상을 달성했다.\t네이버 영화리뷰 데이터 감성분석 정확도를 85% 이상 달성함\n"
   ]
  },
  {
   "cell_type": "code",
   "execution_count": 73,
   "id": "e5921df7",
   "metadata": {
    "scrolled": true
   },
   "outputs": [
    {
     "name": "stdout",
     "output_type": "stream",
     "text": [
      "1.3.3\n",
      "0.5.2\n",
      "4.1.2\n"
     ]
    }
   ],
   "source": [
    "import pandas\n",
    "import konlpy\n",
    "import gensim\n",
    "from tensorflow import keras\n",
    "\n",
    "print(pandas.__version__)\n",
    "print(konlpy.__version__)\n",
    "print(gensim.__version__)"
   ]
  },
  {
   "cell_type": "code",
   "execution_count": 74,
   "id": "5ff5ece0",
   "metadata": {},
   "outputs": [],
   "source": [
    "import pandas as pd\n",
    "import matplotlib.pyplot as plt\n",
    "import re\n",
    "from konlpy.tag import Okt, Mecab\n",
    "from tensorflow.keras.preprocessing.text import Tokenizer\n",
    "from tensorflow.keras.preprocessing.sequence import pad_sequences\n",
    "from gensim.models import Word2Vec\n",
    "from tensorflow.keras.initializers import Constant\n",
    "from gensim.models import KeyedVectors\n",
    "from gensim.models import Word2Vec\n",
    "from gensim.models.keyedvectors import Word2VecKeyedVectors\n",
    "from tensorflow.keras.initializers import Constant"
   ]
  },
  {
   "cell_type": "markdown",
   "id": "1de861be",
   "metadata": {},
   "source": [
    "# 1) 데이터 준비와 확인"
   ]
  },
  {
   "cell_type": "code",
   "execution_count": 75,
   "id": "458d8aec",
   "metadata": {},
   "outputs": [
    {
     "data": {
      "text/html": [
       "<div>\n",
       "<style scoped>\n",
       "    .dataframe tbody tr th:only-of-type {\n",
       "        vertical-align: middle;\n",
       "    }\n",
       "\n",
       "    .dataframe tbody tr th {\n",
       "        vertical-align: top;\n",
       "    }\n",
       "\n",
       "    .dataframe thead th {\n",
       "        text-align: right;\n",
       "    }\n",
       "</style>\n",
       "<table border=\"1\" class=\"dataframe\">\n",
       "  <thead>\n",
       "    <tr style=\"text-align: right;\">\n",
       "      <th></th>\n",
       "      <th>id</th>\n",
       "      <th>document</th>\n",
       "      <th>label</th>\n",
       "    </tr>\n",
       "  </thead>\n",
       "  <tbody>\n",
       "    <tr>\n",
       "      <th>0</th>\n",
       "      <td>9976970</td>\n",
       "      <td>아 더빙.. 진짜 짜증나네요 목소리</td>\n",
       "      <td>0</td>\n",
       "    </tr>\n",
       "    <tr>\n",
       "      <th>1</th>\n",
       "      <td>3819312</td>\n",
       "      <td>흠...포스터보고 초딩영화줄....오버연기조차 가볍지 않구나</td>\n",
       "      <td>1</td>\n",
       "    </tr>\n",
       "    <tr>\n",
       "      <th>2</th>\n",
       "      <td>10265843</td>\n",
       "      <td>너무재밓었다그래서보는것을추천한다</td>\n",
       "      <td>0</td>\n",
       "    </tr>\n",
       "    <tr>\n",
       "      <th>3</th>\n",
       "      <td>9045019</td>\n",
       "      <td>교도소 이야기구먼 ..솔직히 재미는 없다..평점 조정</td>\n",
       "      <td>0</td>\n",
       "    </tr>\n",
       "    <tr>\n",
       "      <th>4</th>\n",
       "      <td>6483659</td>\n",
       "      <td>사이몬페그의 익살스런 연기가 돋보였던 영화!스파이더맨에서 늙어보이기만 했던 커스틴 ...</td>\n",
       "      <td>1</td>\n",
       "    </tr>\n",
       "  </tbody>\n",
       "</table>\n",
       "</div>"
      ],
      "text/plain": [
       "         id                                           document  label\n",
       "0   9976970                                아 더빙.. 진짜 짜증나네요 목소리      0\n",
       "1   3819312                  흠...포스터보고 초딩영화줄....오버연기조차 가볍지 않구나      1\n",
       "2  10265843                                  너무재밓었다그래서보는것을추천한다      0\n",
       "3   9045019                      교도소 이야기구먼 ..솔직히 재미는 없다..평점 조정      0\n",
       "4   6483659  사이몬페그의 익살스런 연기가 돋보였던 영화!스파이더맨에서 늙어보이기만 했던 커스틴 ...      1"
      ]
     },
     "execution_count": 75,
     "metadata": {},
     "output_type": "execute_result"
    }
   ],
   "source": [
    "train_data = pd.read_table('~/aiffel/sentiment_classification/data/ratings_train.txt')\n",
    "test_data = pd.read_table('~/aiffel/sentiment_classification/data/ratings_test.txt')\n",
    "\n",
    "train_data.head()"
   ]
  },
  {
   "cell_type": "markdown",
   "id": "8cf6958c",
   "metadata": {},
   "source": [
    "# 2) 데이터로더 구성\n",
    "실습 때 다루었던 IMDB 데이터셋은 텍스트를 가공하여 imdb.data_loader() 메서드를 호출하면 숫자 인덱스로 변환된 텍스트와 word_to_index 딕셔너리까지 친절하게 제공합니다. 그러나 이번에 다루게 될 nsmc 데이터셋은 전혀 가공되지 않은 텍스트 파일로 이루어져 있습니다. 이것을 읽어서 imdb.data_loader()와 동일하게 동작하는 자신만의 data_loader를 만들어 보는 것으로 시작합니다. data_loader 안에서는 다음을 수행해야 합니다.\n",
    "\n",
    "데이터의 중복 제거\n",
    "NaN 결측치 제거\n",
    "한국어 토크나이저로 토큰화\n",
    "불용어(Stopwords) 제거\n",
    "사전word_to_index 구성\n",
    "텍스트 스트링을 사전 인덱스 스트링으로 변환\n",
    "X_train, y_train, X_test, y_test, word_to_index 리턴"
   ]
  },
  {
   "cell_type": "code",
   "execution_count": 76,
   "id": "ae14a5df",
   "metadata": {},
   "outputs": [],
   "source": [
    "from konlpy.tag import Mecab\n",
    "import numpy as np\n",
    "from collections import Counter\n",
    "\n",
    "tokenizer = Mecab()\n",
    "stopwords = ['의','가','이','은','들','는','좀','잘','걍','과','도','를','으로','자','에','와','한','하다']\n",
    "\n",
    "def load_data(train_data, test_data, num_words=10000):\n",
    "    train_data.drop_duplicates(subset=['document'], inplace=True) #데이터 중복 제거\n",
    "    train_data = train_data.dropna(how = 'any') #결측치 제거\n",
    "    test_data.drop_duplicates(subset=['document'], inplace=True) \n",
    "    test_data = test_data.dropna(how = 'any') \n",
    "\n",
    "    X_train = []\n",
    "    for sentence in train_data['document']:\n",
    "        temp_X = tokenizer.morphs(sentence) # 한국어 토큰으로 토큰화\n",
    "        temp_X = [word for word in temp_X if not word in stopwords] # 불용어 제거\n",
    "        X_train.append(temp_X)\n",
    "\n",
    "    X_test = []\n",
    "    for sentence in test_data['document']:\n",
    "        temp_X = tokenizer.morphs(sentence) # 토큰화\n",
    "        temp_X = [word for word in temp_X if not word in stopwords] # 불용어 제거\n",
    "        X_test.append(temp_X)\n",
    "\n",
    "    words = np.concatenate(X_train).tolist() # 사전 구성\n",
    "    counter = Counter(words)\n",
    "    counter = counter.most_common(num_words-4)\n",
    "    vocab = ['<PAD>', '<BOS>', '<UNK>', '<UNUSED>'] + [key for key, _ in counter]\n",
    "    word_to_index = {word:index for index, word in enumerate(vocab)}\n",
    "\n",
    "    def wordlist_to_indexlist(wordlist): #text string을 사전 index string으로 변환\n",
    "        return [word_to_index[word] if word in word_to_index else word_to_index['<UNK>'] for word in wordlist]\n",
    "\n",
    "    X_train = list(map(wordlist_to_indexlist, X_train))\n",
    "    X_test = list(map(wordlist_to_indexlist, X_test))\n",
    "\n",
    "    return X_train, np.array(list(train_data['label'])), X_test, np.array(list(test_data['label'])), word_to_index\n",
    "\n",
    "\n",
    "    \n",
    "X_train, y_train, X_test, y_test, word_to_index = load_data(train_data, test_data)"
   ]
  },
  {
   "cell_type": "code",
   "execution_count": 77,
   "id": "07a81aeb",
   "metadata": {},
   "outputs": [],
   "source": [
    "index_to_word = {index:word for word, index in word_to_index.items()}"
   ]
  },
  {
   "cell_type": "code",
   "execution_count": 78,
   "id": "3eda1ad4",
   "metadata": {},
   "outputs": [],
   "source": [
    "# 문장 1개를 활용할 딕셔너리와 함께 주면, 단어 인덱스 리스트 벡터로 변환해 주는 함수입니다. \n",
    "# 단, 모든 문장은 <BOS>로 시작하는 것으로 합니다. \n",
    "def get_encoded_sentence(sentence, word_to_index):\n",
    "    return [word_to_index['<BOS>']]+[word_to_index[word] if word in word_to_index else word_to_index['<UNK>'] for word in sentence.split()]\n",
    "\n",
    "# 여러 개의 문장 리스트를 한꺼번에 단어 인덱스 리스트 벡터로 encode해 주는 함수입니다. \n",
    "def get_encoded_sentences(sentences, word_to_index):\n",
    "    return [get_encoded_sentence(sentence, word_to_index) for sentence in sentences]\n",
    "\n",
    "# 숫자 벡터로 encode된 문장을 원래대로 decode하는 함수입니다. \n",
    "def get_decoded_sentence(encoded_sentence, index_to_word):\n",
    "    return ' '.join(index_to_word[index] if index in index_to_word else '<UNK>' for index in encoded_sentence[1:])  #[1:]를 통해 <BOS>를 제외\n",
    "\n",
    "# 여러 개의 숫자 벡터로 encode된 문장을 한꺼번에 원래대로 decode하는 함수입니다. \n",
    "def get_decoded_sentences(encoded_sentences, index_to_word):\n",
    "    return [get_decoded_sentence(encoded_sentence, index_to_word) for encoded_sentence in encoded_sentences]"
   ]
  },
  {
   "cell_type": "markdown",
   "id": "ad68ffc8",
   "metadata": {},
   "source": [
    "# 3) 모델 구성을 위한 데이터 분석 및 가공\n",
    "데이터셋 내 문장 길이 분포\n",
    "적절한 최대 문장 길이 지정\n",
    "keras.preprocessing.sequence.pad_sequences 을 활용한 패딩 추가"
   ]
  },
  {
   "cell_type": "code",
   "execution_count": 79,
   "id": "c3514fbf",
   "metadata": {},
   "outputs": [
    {
     "name": "stdout",
     "output_type": "stream",
     "text": [
      "문장길이의 평균 :  15.96940191154864\n",
      "문장길이의 최대 :  116\n",
      "문장길이의 표준편차 :  12.843571191092\n",
      "pad_sequences maxlen :  41\n",
      "전체 문장의 0.9342988343341575%가 maxlen 설정값 이내에 포함됩니다. \n"
     ]
    }
   ],
   "source": [
    "#전체 데이터에서 각 문장별로 토큰 개수 저장\n",
    "total_data_text = list(X_train) + list(X_test)\n",
    "num_tokens = [len(tokens) for tokens in total_data_text]\n",
    "num_tokens = np.array(num_tokens)\n",
    "\n",
    "print('문장길이의 평균 : ', np.mean(num_tokens))\n",
    "print('문장길이의 최대 : ', np.max(num_tokens))\n",
    "print('문장길이의 표준편차 : ', np.std(num_tokens))\n",
    "\n",
    "max_tokens = np.mean(num_tokens) + 2 * np.std(num_tokens)\n",
    "maxlen = int(max_tokens) # 최대 길이\n",
    "print('pad_sequences maxlen : ', maxlen)\n",
    "print('전체 문장의 {}%가 maxlen 설정값 이내에 포함됩니다. '.format(np.sum(num_tokens < max_tokens) / len(num_tokens)))\n",
    "\n",
    "# pad_sequences를 사용하여 각 문장의 길이를 최대 문장 길이로 맞춘다.\n",
    "# pre형식을 사용하며, 토큰은 <PAD>로 설정\n",
    "X_train = keras.preprocessing.sequence.pad_sequences(X_train,\n",
    "                                                        value=word_to_index[\"<PAD>\"],\n",
    "                                                        padding='pre',\n",
    "                                                        maxlen=maxlen)\n",
    "\n",
    "X_test = keras.preprocessing.sequence.pad_sequences(X_test,\n",
    "                                                       value=word_to_index[\"<PAD>\"],\n",
    "                                                       padding='pre',\n",
    "                                                       maxlen=maxlen)\n"
   ]
  },
  {
   "cell_type": "markdown",
   "id": "a508eada",
   "metadata": {},
   "source": [
    "# 4) 모델 구성 및 validation set 구성\n",
    "모델은 3가지 이상 다양하게 구성하여 실험해 보세요."
   ]
  },
  {
   "cell_type": "code",
   "execution_count": 80,
   "id": "fa9242d2",
   "metadata": {},
   "outputs": [
    {
     "name": "stdout",
     "output_type": "stream",
     "text": [
      "(126182, 41)\n",
      "(126182,)\n"
     ]
    }
   ],
   "source": [
    "# 학습 데이터 중 20000개를 validation set으로 사용\n",
    "X_val = X_train[:20000]   \n",
    "y_val = y_train[:20000]\n",
    "\n",
    "partial_X_train = X_train[20000:]  \n",
    "partial_y_train = y_train[20000:]\n",
    "\n",
    "print(partial_X_train.shape)\n",
    "print(partial_y_train.shape)"
   ]
  },
  {
   "cell_type": "markdown",
   "id": "e1bb03ff",
   "metadata": {},
   "source": [
    "## 모델 구성"
   ]
  },
  {
   "cell_type": "code",
   "execution_count": 81,
   "id": "3ef029b7",
   "metadata": {},
   "outputs": [
    {
     "name": "stdout",
     "output_type": "stream",
     "text": [
      "Model: \"sequential_10\"\n",
      "_________________________________________________________________\n",
      "Layer (type)                 Output Shape              Param #   \n",
      "=================================================================\n",
      "embedding_10 (Embedding)     (None, None, 200)         2000000   \n",
      "_________________________________________________________________\n",
      "lstm_4 (LSTM)                (None, 8)                 6688      \n",
      "_________________________________________________________________\n",
      "dense_20 (Dense)             (None, 8)                 72        \n",
      "_________________________________________________________________\n",
      "dense_21 (Dense)             (None, 1)                 9         \n",
      "=================================================================\n",
      "Total params: 2,006,769\n",
      "Trainable params: 2,006,769\n",
      "Non-trainable params: 0\n",
      "_________________________________________________________________\n",
      "Model: \"sequential_11\"\n",
      "_________________________________________________________________\n",
      "Layer (type)                 Output Shape              Param #   \n",
      "=================================================================\n",
      "embedding_11 (Embedding)     (None, None, 200)         2000000   \n",
      "_________________________________________________________________\n",
      "conv1d_6 (Conv1D)            (None, None, 16)          22416     \n",
      "_________________________________________________________________\n",
      "max_pooling1d_3 (MaxPooling1 (None, None, 16)          0         \n",
      "_________________________________________________________________\n",
      "conv1d_7 (Conv1D)            (None, None, 16)          1808      \n",
      "_________________________________________________________________\n",
      "global_max_pooling1d_3 (Glob (None, 16)                0         \n",
      "_________________________________________________________________\n",
      "dense_22 (Dense)             (None, 16)                272       \n",
      "_________________________________________________________________\n",
      "dense_23 (Dense)             (None, 1)                 17        \n",
      "=================================================================\n",
      "Total params: 2,024,513\n",
      "Trainable params: 2,024,513\n",
      "Non-trainable params: 0\n",
      "_________________________________________________________________\n",
      "Model: \"sequential_12\"\n",
      "_________________________________________________________________\n",
      "Layer (type)                 Output Shape              Param #   \n",
      "=================================================================\n",
      "embedding_12 (Embedding)     (None, None, 200)         2000000   \n",
      "_________________________________________________________________\n",
      "global_average_pooling1d_3 ( (None, 200)               0         \n",
      "_________________________________________________________________\n",
      "dense_24 (Dense)             (None, 8)                 1608      \n",
      "_________________________________________________________________\n",
      "dense_25 (Dense)             (None, 1)                 9         \n",
      "=================================================================\n",
      "Total params: 2,001,617\n",
      "Trainable params: 2,001,617\n",
      "Non-trainable params: 0\n",
      "_________________________________________________________________\n"
     ]
    }
   ],
   "source": [
    "vocab_size = 10000\n",
    "word_vector_dim = 200\n",
    "\n",
    "# 1. LSTM\n",
    "lstm = keras.Sequential()\n",
    "lstm.add(keras.layers.Embedding(vocab_size, word_vector_dim, input_shape=(None,)))\n",
    "lstm.add(keras.layers.LSTM(8))\n",
    "lstm.add(keras.layers.Dense(8, activation='relu'))\n",
    "lstm.add(keras.layers.Dense(1, activation='sigmoid'))\n",
    "\n",
    "lstm.summary()\n",
    "\n",
    "# 2. 1-D CNN\n",
    "cnn = keras.Sequential()\n",
    "cnn.add(keras.layers.Embedding(vocab_size, word_vector_dim, input_shape=(None,))) \n",
    "cnn.add(keras.layers.Conv1D(16, 7, activation='relu'))\n",
    "cnn.add(keras.layers.MaxPooling1D(5))\n",
    "cnn.add(keras.layers.Conv1D(16, 7, activation='relu'))\n",
    "cnn.add(keras.layers.GlobalMaxPooling1D())\n",
    "cnn.add(keras.layers.Dense(16, activation='relu'))\n",
    "cnn.add(keras.layers.Dense(1, activation='sigmoid'))\n",
    "\n",
    "cnn.summary()\n",
    "\n",
    "# 3. One GlobalAveragePooling1D layer \n",
    "simple = keras.Sequential()\n",
    "simple.add(keras.layers.Embedding(vocab_size, word_vector_dim, input_shape=(None,)))\n",
    "simple.add(keras.layers.GlobalAveragePooling1D())\n",
    "simple.add(keras.layers.Dense(8, activation='relu'))\n",
    "simple.add(keras.layers.Dense(1, activation='sigmoid'))\n",
    "\n",
    "simple.summary()"
   ]
  },
  {
   "cell_type": "markdown",
   "id": "03510e11",
   "metadata": {},
   "source": [
    "# 5) 모델 훈련 개시"
   ]
  },
  {
   "cell_type": "code",
   "execution_count": 82,
   "id": "6e34f7eb",
   "metadata": {},
   "outputs": [
    {
     "name": "stdout",
     "output_type": "stream",
     "text": [
      "Epoch 1/5\n",
      "247/247 [==============================] - 3s 8ms/step - loss: 0.4661 - accuracy: 0.7993 - val_loss: 0.3536 - val_accuracy: 0.8496\n",
      "Epoch 2/5\n",
      "247/247 [==============================] - 2s 7ms/step - loss: 0.3263 - accuracy: 0.8642 - val_loss: 0.3370 - val_accuracy: 0.8551\n",
      "Epoch 3/5\n",
      "247/247 [==============================] - 2s 7ms/step - loss: 0.2958 - accuracy: 0.8768 - val_loss: 0.3326 - val_accuracy: 0.8579\n",
      "Epoch 4/5\n",
      "247/247 [==============================] - 2s 7ms/step - loss: 0.2733 - accuracy: 0.8870 - val_loss: 0.3448 - val_accuracy: 0.8565\n",
      "Epoch 5/5\n",
      "247/247 [==============================] - 2s 7ms/step - loss: 0.2529 - accuracy: 0.8958 - val_loss: 0.3525 - val_accuracy: 0.8551\n",
      "Epoch 1/5\n",
      "247/247 [==============================] - 3s 7ms/step - loss: 0.4274 - accuracy: 0.8004 - val_loss: 0.3368 - val_accuracy: 0.8536\n",
      "Epoch 2/5\n",
      "247/247 [==============================] - 2s 7ms/step - loss: 0.2932 - accuracy: 0.8769 - val_loss: 0.3266 - val_accuracy: 0.8587\n",
      "Epoch 3/5\n",
      "247/247 [==============================] - 2s 6ms/step - loss: 0.2241 - accuracy: 0.9127 - val_loss: 0.3453 - val_accuracy: 0.8569\n",
      "Epoch 4/5\n",
      "247/247 [==============================] - 2s 6ms/step - loss: 0.1487 - accuracy: 0.9463 - val_loss: 0.4046 - val_accuracy: 0.8516\n",
      "Epoch 5/5\n",
      "247/247 [==============================] - 2s 6ms/step - loss: 0.0914 - accuracy: 0.9697 - val_loss: 0.4727 - val_accuracy: 0.8464\n",
      "Epoch 1/5\n",
      "247/247 [==============================] - 2s 5ms/step - loss: 0.5376 - accuracy: 0.7550 - val_loss: 0.3933 - val_accuracy: 0.8333\n",
      "Epoch 2/5\n",
      "247/247 [==============================] - 1s 5ms/step - loss: 0.3630 - accuracy: 0.8466 - val_loss: 0.3565 - val_accuracy: 0.8489\n",
      "Epoch 3/5\n",
      "247/247 [==============================] - 1s 4ms/step - loss: 0.3358 - accuracy: 0.8588 - val_loss: 0.3530 - val_accuracy: 0.8487\n",
      "Epoch 4/5\n",
      "247/247 [==============================] - 1s 4ms/step - loss: 0.3234 - accuracy: 0.8646 - val_loss: 0.3557 - val_accuracy: 0.8464\n",
      "Epoch 5/5\n",
      "247/247 [==============================] - 1s 4ms/step - loss: 0.3163 - accuracy: 0.8670 - val_loss: 0.3569 - val_accuracy: 0.8486\n"
     ]
    }
   ],
   "source": [
    "epochs = 5\n",
    "\n",
    "#1. LSTM\n",
    "lstm.compile(optimizer='adam',\n",
    "              loss='binary_crossentropy',\n",
    "              metrics=['accuracy'])\n",
    "\n",
    "history_lstm = lstm.fit(partial_X_train,\n",
    "                    partial_y_train,\n",
    "                    epochs=epochs,\n",
    "                    batch_size=512,\n",
    "                    validation_data=(X_val, y_val),\n",
    "                    verbose=1)\n",
    "\n",
    "# 2. 1-D CNN\n",
    "cnn.compile(optimizer='adam',\n",
    "              loss='binary_crossentropy',\n",
    "              metrics=['accuracy'])\n",
    "\n",
    "\n",
    "history_cnn = cnn.fit(partial_X_train,\n",
    "                    partial_y_train,\n",
    "                    epochs=epochs,\n",
    "                    batch_size=512,\n",
    "                    validation_data=(X_val, y_val),\n",
    "                    verbose=1)\n",
    "\n",
    "# 3. One GlobalAveragePooling1D layer \n",
    "simple.compile(optimizer='adam',\n",
    "              loss='binary_crossentropy',\n",
    "              metrics=['accuracy'])\n",
    "\n",
    "history_simple = simple.fit(partial_X_train,\n",
    "                    partial_y_train,\n",
    "                    epochs=epochs,\n",
    "                    batch_size=512,\n",
    "                    validation_data=(X_val, y_val),\n",
    "                    verbose=1)"
   ]
  },
  {
   "cell_type": "markdown",
   "id": "d6f79ddb",
   "metadata": {},
   "source": [
    "## 모델 평가"
   ]
  },
  {
   "cell_type": "code",
   "execution_count": 83,
   "id": "41f02877",
   "metadata": {},
   "outputs": [
    {
     "name": "stdout",
     "output_type": "stream",
     "text": [
      "LSTM\n",
      "1537/1537 - 3s - loss: 0.3616 - accuracy: 0.8494\n",
      "[0.36158785223960876, 0.8493602275848389]\n",
      "1-D CNN\n",
      "1537/1537 - 3s - loss: 0.4850 - accuracy: 0.8419\n",
      "[0.4850011169910431, 0.8418943285942078]\n",
      "GlobalAveragePooling1D layer\n",
      "1537/1537 - 2s - loss: 0.3640 - accuracy: 0.8449\n"
     ]
    },
    {
     "ename": "NameError",
     "evalue": "name 'result_AV' is not defined",
     "output_type": "error",
     "traceback": [
      "\u001b[0;31m---------------------------------------------------------------------------\u001b[0m",
      "\u001b[0;31mNameError\u001b[0m                                 Traceback (most recent call last)",
      "\u001b[0;32m/tmp/ipykernel_33/299840849.py\u001b[0m in \u001b[0;36m<module>\u001b[0;34m\u001b[0m\n\u001b[1;32m     14\u001b[0m \u001b[0mprint\u001b[0m\u001b[0;34m(\u001b[0m\u001b[0;34m\"GlobalAveragePooling1D layer\"\u001b[0m\u001b[0;34m)\u001b[0m\u001b[0;34m\u001b[0m\u001b[0;34m\u001b[0m\u001b[0m\n\u001b[1;32m     15\u001b[0m \u001b[0mresult_Av\u001b[0m \u001b[0;34m=\u001b[0m \u001b[0msimple\u001b[0m\u001b[0;34m.\u001b[0m\u001b[0mevaluate\u001b[0m\u001b[0;34m(\u001b[0m\u001b[0mX_test\u001b[0m\u001b[0;34m,\u001b[0m \u001b[0my_test\u001b[0m\u001b[0;34m,\u001b[0m \u001b[0mverbose\u001b[0m\u001b[0;34m=\u001b[0m\u001b[0;36m2\u001b[0m\u001b[0;34m)\u001b[0m\u001b[0;34m\u001b[0m\u001b[0;34m\u001b[0m\u001b[0m\n\u001b[0;32m---> 16\u001b[0;31m \u001b[0mprint\u001b[0m\u001b[0;34m(\u001b[0m\u001b[0mresult_AV\u001b[0m\u001b[0;34m)\u001b[0m\u001b[0;34m\u001b[0m\u001b[0;34m\u001b[0m\u001b[0m\n\u001b[0m",
      "\u001b[0;31mNameError\u001b[0m: name 'result_AV' is not defined"
     ]
    }
   ],
   "source": [
    "# LSTM\n",
    "print(\"LSTM\")\n",
    "results_lstm = lstm.evaluate(X_test, y_test, verbose=2)\n",
    "print(results_lstm)\n",
    "\n",
    "\n",
    "# 1-D CNN\n",
    "print(\"1-D CNN\")\n",
    "cnn_result = cnn.evaluate(X_test, y_test, verbose=2)\n",
    "print(cnn_result)\n",
    "\n",
    "\n",
    "# GlobalAveragePooling1D\n",
    "print(\"GlobalAveragePooling1D layer\")\n",
    "result_Av = simple.evaluate(X_test, y_test, verbose=2)\n",
    "print(result_AV)"
   ]
  },
  {
   "cell_type": "markdown",
   "id": "7ca77e41",
   "metadata": {},
   "source": [
    "# 6) Loss, Accuracy 그래프 시각화"
   ]
  },
  {
   "cell_type": "markdown",
   "id": "226cf1af",
   "metadata": {},
   "source": [
    "## LSTM"
   ]
  },
  {
   "cell_type": "code",
   "execution_count": 84,
   "id": "e2763fe0",
   "metadata": {},
   "outputs": [
    {
     "data": {
      "image/png": "[encoded data removed]",
      "text/plain": [
       "<Figure size 432x288 with 1 Axes>"
      ]
     },
     "metadata": {
      "needs_background": "light"
     },
     "output_type": "display_data"
    },
    {
     "data": {
      "image/png": "[encoded data removed]",
      "text/plain": [
       "<Figure size 432x288 with 1 Axes>"
      ]
     },
     "metadata": {
      "needs_background": "light"
     },
     "output_type": "display_data"
    }
   ],
   "source": [
    "#history_lstm에서 데이터의 정확도와 손실 값 가져온다\n",
    "history_dict = history_lstm.history\n",
    "acc = history_dict['accuracy']\n",
    "val_acc = history_dict['val_accuracy']\n",
    "loss = history_dict['loss']\n",
    "val_loss = history_dict['val_loss']\n",
    "\n",
    "epochs = range(1, len(acc) + 1)\n",
    "\n",
    "#그래프 그리기\n",
    "plt.plot(epochs, loss, 'bo', label='Training loss')\n",
    "plt.plot(epochs, val_loss, 'b', label='Validation loss')\n",
    "plt.title('Training and validation loss')\n",
    "plt.xlabel('Epochs')\n",
    "plt.ylabel('Loss')\n",
    "plt.legend()\n",
    "\n",
    "plt.show()\n",
    "\n",
    "# 그림을 초기화\n",
    "plt.clf()\n",
    "\n",
    "plt.plot(epochs, acc, 'bo', label='Training acc')\n",
    "plt.plot(epochs, val_acc, 'b', label='Validation acc')\n",
    "plt.title('Training and validation accuracy')\n",
    "plt.xlabel('Epochs')\n",
    "plt.ylabel('Accuracy')\n",
    "plt.legend()\n",
    "\n",
    "plt.show()"
   ]
  },
  {
   "cell_type": "markdown",
   "id": "3dfc2630",
   "metadata": {},
   "source": [
    "## 1-D CNN"
   ]
  },
  {
   "cell_type": "code",
   "execution_count": 85,
   "id": "04d60f90",
   "metadata": {},
   "outputs": [
    {
     "data": {
      "image/png": "[encoded data removed]",
      "text/plain": [
       "<Figure size 432x288 with 1 Axes>"
      ]
     },
     "metadata": {
      "needs_background": "light"
     },
     "output_type": "display_data"
    },
    {
     "data": {
      "image/png": "[encoded data removed]",
      "text/plain": [
       "<Figure size 432x288 with 1 Axes>"
      ]
     },
     "metadata": {
      "needs_background": "light"
     },
     "output_type": "display_data"
    }
   ],
   "source": [
    "#history_lstm에서 데이터의 정확도와 손실 값 가져온다\n",
    "history_dict = history_cnn.history\n",
    "acc = history_dict['accuracy']\n",
    "val_acc = history_dict['val_accuracy']\n",
    "loss = history_dict['loss']\n",
    "val_loss = history_dict['val_loss']\n",
    "\n",
    "epochs = range(1, len(acc) + 1)\n",
    "\n",
    "#그래프 그리기\n",
    "plt.plot(epochs, loss, 'bo', label='Training loss')\n",
    "plt.plot(epochs, val_loss, 'b', label='Validation loss')\n",
    "plt.title('Training and validation loss')\n",
    "plt.xlabel('Epochs')\n",
    "plt.ylabel('Loss')\n",
    "plt.legend()\n",
    "\n",
    "plt.show()\n",
    "\n",
    "# 그림을 초기화\n",
    "plt.clf()\n",
    "\n",
    "plt.plot(epochs, acc, 'bo', label='Training acc')\n",
    "plt.plot(epochs, val_acc, 'b', label='Validation acc')\n",
    "plt.title('Training and validation accuracy')\n",
    "plt.xlabel('Epochs')\n",
    "plt.ylabel('Accuracy')\n",
    "plt.legend()\n",
    "\n",
    "plt.show()"
   ]
  },
  {
   "cell_type": "markdown",
   "id": "ad8c592f",
   "metadata": {},
   "source": [
    "## GlobalAveragePooling1D layer"
   ]
  },
  {
   "cell_type": "code",
   "execution_count": 86,
   "id": "c0448924",
   "metadata": {},
   "outputs": [
    {
     "data": {
      "image/png": "[encoded data removed]",
      "text/plain": [
       "<Figure size 432x288 with 1 Axes>"
      ]
     },
     "metadata": {
      "needs_background": "light"
     },
     "output_type": "display_data"
    },
    {
     "data": {
      "image/png": "[encoded data removed]",
      "text/plain": [
       "<Figure size 432x288 with 1 Axes>"
      ]
     },
     "metadata": {
      "needs_background": "light"
     },
     "output_type": "display_data"
    }
   ],
   "source": [
    "#history_lstm에서 데이터의 정확도와 손실 값 가져온다\n",
    "history_dict = history_simple.history\n",
    "acc = history_dict['accuracy']\n",
    "val_acc = history_dict['val_accuracy']\n",
    "loss = history_dict['loss']\n",
    "val_loss = history_dict['val_loss']\n",
    "\n",
    "epochs = range(1, len(acc) + 1)\n",
    "\n",
    "#그래프 그리기\n",
    "plt.plot(epochs, loss, 'bo', label='Training loss')\n",
    "plt.plot(epochs, val_loss, 'b', label='Validation loss')\n",
    "plt.title('Training and validation loss')\n",
    "plt.xlabel('Epochs')\n",
    "plt.ylabel('Loss')\n",
    "plt.legend()\n",
    "\n",
    "plt.show()\n",
    "\n",
    "# 그림을 초기화\n",
    "plt.clf()\n",
    "\n",
    "plt.plot(epochs, acc, 'bo', label='Training acc')\n",
    "plt.plot(epochs, val_acc, 'b', label='Validation acc')\n",
    "plt.title('Training and validation accuracy')\n",
    "plt.xlabel('Epochs')\n",
    "plt.ylabel('Accuracy')\n",
    "plt.legend()\n",
    "\n",
    "plt.show()"
   ]
  },
  {
   "cell_type": "markdown",
   "id": "c415d0a2",
   "metadata": {},
   "source": [
    "## 7) 학습된 Embedding 레이어 분석"
   ]
  },
  {
   "cell_type": "code",
   "execution_count": 87,
   "id": "e353bf06",
   "metadata": {
    "scrolled": true
   },
   "outputs": [],
   "source": [
    "import os\n",
    "\n",
    "# 각 모델의 Embedding 레이어에서 가중치를 가져온다\n",
    "embedding_lstm = lstm.layers[0]\n",
    "weights_lstm = embedding_lstm.get_weights()[0]\n",
    "\n",
    "embedding_cnn = cnn.layers[0]\n",
    "weights_cnn = embedding_cnn.get_weights()[0]\n",
    "\n",
    "embedding_simple = simple.layers[0]\n",
    "weights_simple = embedding_simple.get_weights()[0]\n",
    "\n",
    "# LSTM 모델의 임베딩 가중치를 텍스트 파일로 저장한다\n",
    "word2vec_file_path_lstm = os.getenv('HOME')+'/aiffel/sentiment_classification/word2vec_lstm.txt'\n",
    "with open(word2vec_file_path_lstm, 'w') as f:\n",
    "    f.write('{} {}\\n'.format(vocab_size-4, word_vector_dim))\n",
    "    vectors = lstm.get_weights()[0]\n",
    "    for i in range(4,vocab_size):\n",
    "        f.write('{} {}\\n'.format(index_to_word[i], ' '.join(map(str, list(vectors[i, :])))))\n",
    "\n",
    "# 1-D CNN 모델의 임베딩 가중치를 텍스트 파일로 저장한다\n",
    "word2vec_file_path_cnn = os.getenv('HOME')+'/aiffel/sentiment_classification/word2vec_cnn.txt'\n",
    "with open(word2vec_file_path_cnn, 'w') as f:\n",
    "    f.write('{} {}\\n'.format(vocab_size-4, word_vector_dim))\n",
    "    vectors = cnn.get_weights()[0]\n",
    "    for i in range(4,vocab_size):\n",
    "        f.write('{} {}\\n'.format(index_to_word[i], ' '.join(map(str, list(vectors[i, :])))))\n",
    "\n",
    "# GlobalAveragePooling1D 모델의 임베딩 가중치를 텍스트 파일로 저장한다\n",
    "word2vec_file_path_simple = os.getenv('HOME')+'/aiffel/sentiment_classification/word2vec_simple.txt'\n",
    "with open(word2vec_file_path_simple, 'w') as f:\n",
    "    f.write('{} {}\\n'.format(vocab_size-4, word_vector_dim))\n",
    "    vectors = simple.get_weights()[0]\n",
    "    for i in range(4,vocab_size):\n",
    "        f.write('{} {}\\n'.format(index_to_word[i], ' '.join(map(str, list(vectors[i, :])))))\n",
    "\n",
    "# 저장된 텍스트 파일을 Word2Vec 형식으로 로드한다\n",
    "word_vectors_lstm = Word2VecKeyedVectors.load_word2vec_format(word2vec_file_path_lstm, binary=False)\n",
    "word_vectors_cnn = Word2VecKeyedVectors.load_word2vec_format(word2vec_file_path_cnn, binary=False)\n",
    "word_vectors_simple = Word2VecKeyedVectors.load_word2vec_format(word2vec_file_path_simple, binary=False)"
   ]
  },
  {
   "cell_type": "markdown",
   "id": "a7e25fdd",
   "metadata": {},
   "source": [
    "## 8) 한국어 Word2Vec 임베딩 활용하여 성능 개선\n",
    "예시 코드\n",
    "from gensim.models.keyedvectors import Word2VecKeyedVectors\n",
    "word_vectors = Word2VecKeyedVectors.load(word2vec_file_path)\n",
    "vector = word_vectors.wv[‘끝’]"
   ]
  },
  {
   "cell_type": "code",
   "execution_count": 88,
   "id": "697b041d",
   "metadata": {
    "scrolled": true
   },
   "outputs": [
    {
     "data": {
      "text/plain": [
       "(100,)"
      ]
     },
     "execution_count": 88,
     "metadata": {},
     "output_type": "execute_result"
    }
   ],
   "source": [
    "from gensim.models.keyedvectors import Word2VecKeyedVectors\n",
    "word2vec_path = '/aiffel/data/word2vec_ko.model'\n",
    "word_vectors = Word2VecKeyedVectors.load(word2vec_path)\n",
    "vector = word_vectors.wv['끝']\n",
    "vector.shape"
   ]
  },
  {
   "cell_type": "code",
   "execution_count": 89,
   "id": "82867502",
   "metadata": {},
   "outputs": [
    {
     "data": {
      "text/plain": [
       "[('래퍼', 0.8425670266151428),\n",
       " ('음악가', 0.8163140416145325),\n",
       " ('성악가', 0.794296383857727),\n",
       " ('안무가', 0.7928227782249451),\n",
       " ('랩퍼', 0.7846220135688782),\n",
       " ('싱어', 0.7812144160270691),\n",
       " ('댄서', 0.773868978023529),\n",
       " ('배우', 0.7729030251502991),\n",
       " ('작곡가', 0.772457480430603),\n",
       " ('피아니스트', 0.7692234516143799)]"
      ]
     },
     "execution_count": 89,
     "metadata": {},
     "output_type": "execute_result"
    }
   ],
   "source": [
    "word_vectors.wv.similar_by_word(\"가수\")"
   ]
  },
  {
   "cell_type": "code",
   "execution_count": 90,
   "id": "356a39c7",
   "metadata": {},
   "outputs": [
    {
     "name": "stdout",
     "output_type": "stream",
     "text": [
      "Model: \"sequential_13\"\n",
      "_________________________________________________________________\n",
      "Layer (type)                 Output Shape              Param #   \n",
      "=================================================================\n",
      "embedding_13 (Embedding)     (None, 41, 100)           1000000   \n",
      "_________________________________________________________________\n",
      "lstm_5 (LSTM)                (None, 128)               117248    \n",
      "_________________________________________________________________\n",
      "dense_26 (Dense)             (None, 128)               16512     \n",
      "_________________________________________________________________\n",
      "dense_27 (Dense)             (None, 1)                 129       \n",
      "=================================================================\n",
      "Total params: 1,133,889\n",
      "Trainable params: 1,133,889\n",
      "Non-trainable params: 0\n",
      "_________________________________________________________________\n"
     ]
    }
   ],
   "source": [
    "vocab_size = 10000    # 어휘 사전의 크기입니다(10,000개의 단어)\n",
    "word_vector_dim = 100  # 워드 벡터의 차원수\n",
    "embedding_matrix = np.random.rand(vocab_size, word_vector_dim)\n",
    "\n",
    "# embedding_matrix에 Word2Vec 워드 벡터를 단어 하나씩마다 차례차례 카피한다.\n",
    "lstm = keras.Sequential()\n",
    "lstm.add(keras.layers.Embedding(vocab_size, \n",
    "                                 word_vector_dim, \n",
    "                                 embeddings_initializer=Constant(embedding_matrix),\n",
    "                                 input_length=maxlen, \n",
    "                                 trainable=True))\n",
    "lstm.add(keras.layers.LSTM(128))\n",
    "lstm.add(keras.layers.Dense(128, activation='relu'))\n",
    "lstm.add(keras.layers.Dense(1, activation='sigmoid'))\n",
    "\n",
    "lstm.summary()"
   ]
  },
  {
   "cell_type": "markdown",
   "id": "be2924e2",
   "metadata": {},
   "source": [
    "## 모델 훈련"
   ]
  },
  {
   "cell_type": "code",
   "execution_count": 91,
   "id": "c2262214",
   "metadata": {},
   "outputs": [
    {
     "name": "stdout",
     "output_type": "stream",
     "text": [
      "Epoch 1/5\n",
      "247/247 [==============================] - 4s 12ms/step - loss: 0.4855 - accuracy: 0.7510 - val_loss: 0.3670 - val_accuracy: 0.8375\n",
      "Epoch 2/5\n",
      "247/247 [==============================] - 3s 11ms/step - loss: 0.3494 - accuracy: 0.8488 - val_loss: 0.3625 - val_accuracy: 0.8392\n",
      "Epoch 3/5\n",
      "247/247 [==============================] - 3s 11ms/step - loss: 0.3210 - accuracy: 0.8627 - val_loss: 0.3419 - val_accuracy: 0.8501\n",
      "Epoch 4/5\n",
      "247/247 [==============================] - 3s 11ms/step - loss: 0.3066 - accuracy: 0.8695 - val_loss: 0.3618 - val_accuracy: 0.8461\n",
      "Epoch 5/5\n",
      "247/247 [==============================] - 3s 11ms/step - loss: 0.2879 - accuracy: 0.8788 - val_loss: 0.3372 - val_accuracy: 0.8564\n"
     ]
    }
   ],
   "source": [
    "epochs = 5\n",
    "lstm.compile(optimizer='adam',\n",
    "              loss='binary_crossentropy',\n",
    "              metrics=['accuracy'])\n",
    "\n",
    "history_lstm = lstm.fit(partial_X_train,\n",
    "                    partial_y_train,\n",
    "                    epochs=epochs,\n",
    "                    batch_size=512,\n",
    "                    validation_data=(X_val, y_val),\n",
    "                    verbose=1)\n",
    "cnn.compile(optimizer='adam',\n",
    "              loss='binary_crossentropy',\n",
    "              metrics=['accuracy'])\n"
   ]
  },
  {
   "cell_type": "markdown",
   "id": "bf2bdeb1",
   "metadata": {},
   "source": [
    "## 모델 평가"
   ]
  },
  {
   "cell_type": "code",
   "execution_count": 92,
   "id": "8131daa9",
   "metadata": {},
   "outputs": [
    {
     "name": "stdout",
     "output_type": "stream",
     "text": [
      "1537/1537 - 4s - loss: 0.3445 - accuracy: 0.8503\n",
      "[0.3445163667201996, 0.8503163456916809]\n"
     ]
    }
   ],
   "source": [
    "results = lstm.evaluate(X_test,  y_test, verbose=2)\n",
    "\n",
    "print(results)"
   ]
  },
  {
   "cell_type": "markdown",
   "id": "f1d24ba4",
   "metadata": {},
   "source": [
    "# 회고"
   ]
  },
  {
   "cell_type": "markdown",
   "id": "28d3c66c",
   "metadata": {},
   "source": [
    "이번 프로젝트는 리뷰 텍스트를 분석하여 해당 리뷰가 긍정인지 부정인지 판단하는 분류 모델을 구축하는 것입니다. 3가지 딥러닝 구조를 활용하여 모델을 구성하였으며, LSTM모델만 85퍼센트를 초과했습니다. 이 결과는 할 때 마다 조금씩 바뀌었습니다. 감정 분류 작업을 위해 다양한 전처리 및 모델링 기법을 활용하는 과정에서 많이 배웠습니다. 또한 각 모델과 전략별로 다양한 결과와 문제점을 확인하며 모델 성능 향상을 위한 다양한 방법을 시도해 볼 수 있었습니다. 시간을 더 내서 자연어 처리 부분은 더 공부해야 겠다는 생각이 들었습니다."
   ]
  }
 ],
 "metadata": {
  "kernelspec": {
   "display_name": "Python 3 (ipykernel)",
   "language": "python",
   "name": "python3"
  },
  "language_info": {
   "codemirror_mode": {
    "name": "ipython",
    "version": 3
   },
   "file_extension": ".py",
   "mimetype": "text/x-python",
   "name": "python",
   "nbconvert_exporter": "python",
   "pygments_lexer": "ipython3",
   "version": "3.9.7"
  }
 },
 "nbformat": 4,
 "nbformat_minor": 5
}
